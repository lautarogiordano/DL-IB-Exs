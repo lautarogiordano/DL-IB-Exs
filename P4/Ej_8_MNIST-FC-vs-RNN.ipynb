{
  "cells": [
    {
      "cell_type": "markdown",
      "metadata": {
        "id": "WZIxdiNm-6QT"
      },
      "source": [
        "Proponga una arquitectura basada en capas densas para clasificar los dígitos de\\\n",
        "la base de datos MNIST. Ahora implementar una arquitectura que utilice capas\\\n",
        "convolucionales y compare los resultados. Graficar la precisión sobre los datos\\\n",
        "de entrenamiento y los de prueba para cada época de ambas arquitecturas. A\\\n",
        "partir de los gráficos de exactitud y error, analizar pros y cons de las\\\n",
        "distintas redes neuronales. Explicar a qué se deben las diferencias del\\\n",
        "rendimiento entre ambas arquitecturas. A su vez, explique para qué se utiliza la\\\n",
        "capa Dropout. ¿Describa la diferencia de utilizar una red con capas densas y\\\n",
        "otra con capas convolucionales, porque es mejor usar una u otra? ¿Qué\\\n",
        "diferencia hay en la cantidad de parámetros de estas dos arquitecturas?"
      ]
    },
    {
      "cell_type": "code",
      "execution_count": 1,
      "metadata": {
        "id": "wrFuXOzd-18p"
      },
      "outputs": [],
      "source": [
        "import numpy as np\n",
        "from matplotlib import pyplot as plt\n",
        "from tensorflow import keras"
      ]
    },
    {
      "cell_type": "code",
      "execution_count": 2,
      "metadata": {
        "colab": {
          "base_uri": "https://localhost:8080/"
        },
        "id": "1vY8OX3G_SvH",
        "outputId": "2e041df7-bd92-4070-dea3-07f5f42200c3"
      },
      "outputs": [
        {
          "data": {
            "text/plain": [
              "((60000, 28, 28), (10000, 28, 28))"
            ]
          },
          "execution_count": 2,
          "metadata": {},
          "output_type": "execute_result"
        }
      ],
      "source": [
        "(x_train, y_train), (x_test, y_test) = keras.datasets.mnist.load_data()\n",
        "\n",
        "x_train = x_train.astype(float)/255\n",
        "x_test = x_test.astype(float)/255\n",
        "\n",
        "x_train.shape, x_test.shape"
      ]
    },
    {
      "cell_type": "code",
      "execution_count": 3,
      "metadata": {
        "id": "TfPJzqGKD5Ov"
      },
      "outputs": [],
      "source": [
        "def plot(hist):\n",
        "    fig, (ax1, ax2) = plt.subplots(nrows=1, ncols=2, figsize=(11,4))\n",
        "    ax1.plot(hist.history['loss'], label='CCE')\n",
        "    ax1.plot(hist.history['val_loss'], label='val_CCE')\n",
        "    ax1.set_xlabel('Epocas', fontsize=15)\n",
        "    ax1.set_ylabel('Loss', fontsize=15)\n",
        "    ax1.legend(loc='best')\n",
        "\n",
        "    ax2.plot(hist.history['sparse_categorical_accuracy'], label='acc')\n",
        "    ax2.plot(hist.history['val_sparse_categorical_accuracy'], label='val_acc')\n",
        "    ax2.set_xlabel('Epocas', fontsize=15)\n",
        "    ax2.set_ylabel('Accuracy', fontsize=15)\n",
        "    ax2.legend(loc='best')\n",
        "\n",
        "    fig.tight_layout()\n",
        "    plt.show()\n",
        "    return None"
      ]
    },
    {
      "cell_type": "markdown",
      "metadata": {
        "id": "esvxynUlAD61"
      },
      "source": [
        "Red de capas densas"
      ]
    },
    {
      "cell_type": "code",
      "execution_count": null,
      "metadata": {
        "colab": {
          "base_uri": "https://localhost:8080/"
        },
        "id": "L-Mk9mIEAHyR",
        "outputId": "c93a94f8-95d2-4d8b-a9f5-1cdb863c17a0"
      },
      "outputs": [
        {
          "name": "stdout",
          "output_type": "stream",
          "text": [
            "Model: \"model\"\n",
            "_________________________________________________________________\n",
            " Layer (type)                Output Shape              Param #   \n",
            "=================================================================\n",
            " input_1 (InputLayer)        [(None, 28, 28)]          0         \n",
            "                                                                 \n",
            " flatten (Flatten)           (None, 784)               0         \n",
            "                                                                 \n",
            " dense (Dense)               (None, 256)               200960    \n",
            "                                                                 \n",
            " dropout (Dropout)           (None, 256)               0         \n",
            "                                                                 \n",
            " dense_1 (Dense)             (None, 128)               32896     \n",
            "                                                                 \n",
            " dropout_1 (Dropout)         (None, 128)               0         \n",
            "                                                                 \n",
            " dense_2 (Dense)             (None, 10)                1290      \n",
            "                                                                 \n",
            " dense_3 (Dense)             (None, 784)               8624      \n",
            "                                                                 \n",
            "=================================================================\n",
            "Total params: 243,770\n",
            "Trainable params: 243,770\n",
            "Non-trainable params: 0\n",
            "_________________________________________________________________\n"
          ]
        }
      ],
      "source": [
        "keras.backend.clear_session()\n",
        "\n",
        "reg = keras.regularizers.L2(l2=1e-4)\n",
        "\n",
        "input = keras.layers.Input(shape=(28,28))\n",
        "flat = keras.layers.Flatten()(input)\n",
        "\n",
        "l1 = keras.layers.Dense(256, activation='relu', kernel_regularizer=reg)(flat)\n",
        "drop1 = keras.layers.Dropout(rate=.2)(l1)\n",
        "\n",
        "l2 = keras.layers.Dense(128, activation='relu', kernel_regularizer=reg)(drop1)\n",
        "drop2 = keras.layers.Dropout(rate=.2)(l2)\n",
        "\n",
        "l3 = keras.layers.Dense(10, activation='relu', kernel_regularizer=reg)(drop2)\n",
        "\n",
        "output = keras.layers.Dense(784, activation='sigmoid', kernel_regularizer=reg)(l3)\n",
        "\n",
        "model = keras.models.Model(inputs=input, outputs=output)\n",
        "\n",
        "model.summary()"
      ]
    },
    {
      "cell_type": "code",
      "execution_count": null,
      "metadata": {
        "colab": {
          "base_uri": "https://localhost:8080/"
        },
        "id": "pYxWSjXqAIPQ",
        "outputId": "bbd0dd99-af20-432c-cfe6-28fc4472b487"
      },
      "outputs": [
        {
          "name": "stdout",
          "output_type": "stream",
          "text": [
            "Epoch 1/50\n",
            "469/469 - 7s - loss: 1.2441 - sparse_categorical_accuracy: 0.7355 - val_loss: 0.3573 - val_sparse_categorical_accuracy: 0.9146 - 7s/epoch - 16ms/step\n",
            "Epoch 2/50\n",
            "469/469 - 6s - loss: 0.3635 - sparse_categorical_accuracy: 0.9130 - val_loss: 0.2686 - val_sparse_categorical_accuracy: 0.9382 - 6s/epoch - 12ms/step\n",
            "Epoch 3/50\n",
            "469/469 - 6s - loss: 0.2839 - sparse_categorical_accuracy: 0.9363 - val_loss: 0.2260 - val_sparse_categorical_accuracy: 0.9510 - 6s/epoch - 13ms/step\n",
            "Epoch 4/50\n",
            "469/469 - 6s - loss: 0.2412 - sparse_categorical_accuracy: 0.9488 - val_loss: 0.1969 - val_sparse_categorical_accuracy: 0.9607 - 6s/epoch - 13ms/step\n",
            "Epoch 5/50\n",
            "469/469 - 6s - loss: 0.2129 - sparse_categorical_accuracy: 0.9565 - val_loss: 0.1785 - val_sparse_categorical_accuracy: 0.9644 - 6s/epoch - 14ms/step\n",
            "Epoch 6/50\n",
            "469/469 - 6s - loss: 0.1901 - sparse_categorical_accuracy: 0.9631 - val_loss: 0.1629 - val_sparse_categorical_accuracy: 0.9701 - 6s/epoch - 12ms/step\n",
            "Epoch 7/50\n",
            "469/469 - 6s - loss: 0.1751 - sparse_categorical_accuracy: 0.9667 - val_loss: 0.1567 - val_sparse_categorical_accuracy: 0.9707 - 6s/epoch - 13ms/step\n",
            "Epoch 8/50\n",
            "469/469 - 7s - loss: 0.1629 - sparse_categorical_accuracy: 0.9702 - val_loss: 0.1448 - val_sparse_categorical_accuracy: 0.9732 - 7s/epoch - 15ms/step\n",
            "Epoch 9/50\n",
            "469/469 - 6s - loss: 0.1510 - sparse_categorical_accuracy: 0.9735 - val_loss: 0.1453 - val_sparse_categorical_accuracy: 0.9739 - 6s/epoch - 13ms/step\n",
            "Epoch 10/50\n",
            "469/469 - 6s - loss: 0.1422 - sparse_categorical_accuracy: 0.9762 - val_loss: 0.1369 - val_sparse_categorical_accuracy: 0.9762 - 6s/epoch - 13ms/step\n",
            "Epoch 11/50\n",
            "469/469 - 6s - loss: 0.1379 - sparse_categorical_accuracy: 0.9767 - val_loss: 0.1309 - val_sparse_categorical_accuracy: 0.9784 - 6s/epoch - 13ms/step\n",
            "Epoch 12/50\n",
            "469/469 - 6s - loss: 0.1300 - sparse_categorical_accuracy: 0.9791 - val_loss: 0.1260 - val_sparse_categorical_accuracy: 0.9797 - 6s/epoch - 12ms/step\n",
            "Epoch 13/50\n",
            "469/469 - 6s - loss: 0.1241 - sparse_categorical_accuracy: 0.9799 - val_loss: 0.1298 - val_sparse_categorical_accuracy: 0.9778 - 6s/epoch - 13ms/step\n",
            "Epoch 14/50\n",
            "469/469 - 6s - loss: 0.1194 - sparse_categorical_accuracy: 0.9812 - val_loss: 0.1247 - val_sparse_categorical_accuracy: 0.9792 - 6s/epoch - 12ms/step\n",
            "Epoch 15/50\n",
            "469/469 - 6s - loss: 0.1131 - sparse_categorical_accuracy: 0.9831 - val_loss: 0.1210 - val_sparse_categorical_accuracy: 0.9795 - 6s/epoch - 13ms/step\n",
            "Epoch 16/50\n",
            "469/469 - 6s - loss: 0.1116 - sparse_categorical_accuracy: 0.9833 - val_loss: 0.1203 - val_sparse_categorical_accuracy: 0.9803 - 6s/epoch - 13ms/step\n",
            "Epoch 17/50\n",
            "469/469 - 6s - loss: 0.1073 - sparse_categorical_accuracy: 0.9848 - val_loss: 0.1182 - val_sparse_categorical_accuracy: 0.9802 - 6s/epoch - 12ms/step\n",
            "Epoch 18/50\n",
            "469/469 - 6s - loss: 0.1036 - sparse_categorical_accuracy: 0.9855 - val_loss: 0.1304 - val_sparse_categorical_accuracy: 0.9763 - 6s/epoch - 13ms/step\n",
            "Epoch 19/50\n",
            "469/469 - 6s - loss: 0.1009 - sparse_categorical_accuracy: 0.9861 - val_loss: 0.1184 - val_sparse_categorical_accuracy: 0.9806 - 6s/epoch - 12ms/step\n",
            "Epoch 20/50\n",
            "469/469 - 6s - loss: 0.0980 - sparse_categorical_accuracy: 0.9871 - val_loss: 0.1179 - val_sparse_categorical_accuracy: 0.9812 - 6s/epoch - 13ms/step\n",
            "Epoch 21/50\n",
            "469/469 - 6s - loss: 0.0966 - sparse_categorical_accuracy: 0.9868 - val_loss: 0.1179 - val_sparse_categorical_accuracy: 0.9804 - 6s/epoch - 13ms/step\n",
            "Epoch 22/50\n",
            "469/469 - 7s - loss: 0.0951 - sparse_categorical_accuracy: 0.9869 - val_loss: 0.1153 - val_sparse_categorical_accuracy: 0.9812 - 7s/epoch - 14ms/step\n",
            "Epoch 23/50\n",
            "469/469 - 6s - loss: 0.0910 - sparse_categorical_accuracy: 0.9884 - val_loss: 0.1139 - val_sparse_categorical_accuracy: 0.9822 - 6s/epoch - 13ms/step\n",
            "Epoch 24/50\n",
            "469/469 - 6s - loss: 0.0903 - sparse_categorical_accuracy: 0.9883 - val_loss: 0.1152 - val_sparse_categorical_accuracy: 0.9818 - 6s/epoch - 13ms/step\n",
            "Epoch 25/50\n",
            "469/469 - 6s - loss: 0.0886 - sparse_categorical_accuracy: 0.9889 - val_loss: 0.1131 - val_sparse_categorical_accuracy: 0.9821 - 6s/epoch - 13ms/step\n",
            "Epoch 26/50\n",
            "469/469 - 6s - loss: 0.0871 - sparse_categorical_accuracy: 0.9891 - val_loss: 0.1154 - val_sparse_categorical_accuracy: 0.9818 - 6s/epoch - 13ms/step\n",
            "Epoch 27/50\n",
            "469/469 - 6s - loss: 0.0858 - sparse_categorical_accuracy: 0.9894 - val_loss: 0.1135 - val_sparse_categorical_accuracy: 0.9821 - 6s/epoch - 13ms/step\n",
            "Epoch 28/50\n",
            "469/469 - 6s - loss: 0.0845 - sparse_categorical_accuracy: 0.9897 - val_loss: 0.1097 - val_sparse_categorical_accuracy: 0.9841 - 6s/epoch - 12ms/step\n",
            "Epoch 29/50\n",
            "469/469 - 5s - loss: 0.0827 - sparse_categorical_accuracy: 0.9900 - val_loss: 0.1121 - val_sparse_categorical_accuracy: 0.9824 - 5s/epoch - 12ms/step\n",
            "Epoch 30/50\n",
            "469/469 - 6s - loss: 0.0808 - sparse_categorical_accuracy: 0.9907 - val_loss: 0.1111 - val_sparse_categorical_accuracy: 0.9822 - 6s/epoch - 12ms/step\n",
            "Epoch 31/50\n",
            "469/469 - 6s - loss: 0.0801 - sparse_categorical_accuracy: 0.9908 - val_loss: 0.1103 - val_sparse_categorical_accuracy: 0.9839 - 6s/epoch - 12ms/step\n",
            "Epoch 32/50\n",
            "469/469 - 6s - loss: 0.0785 - sparse_categorical_accuracy: 0.9913 - val_loss: 0.1164 - val_sparse_categorical_accuracy: 0.9814 - 6s/epoch - 13ms/step\n",
            "Epoch 33/50\n",
            "469/469 - 6s - loss: 0.0777 - sparse_categorical_accuracy: 0.9911 - val_loss: 0.1095 - val_sparse_categorical_accuracy: 0.9826 - 6s/epoch - 13ms/step\n",
            "Epoch 34/50\n",
            "469/469 - 6s - loss: 0.0775 - sparse_categorical_accuracy: 0.9909 - val_loss: 0.1037 - val_sparse_categorical_accuracy: 0.9846 - 6s/epoch - 12ms/step\n",
            "Epoch 35/50\n",
            "469/469 - 5s - loss: 0.0781 - sparse_categorical_accuracy: 0.9904 - val_loss: 0.1084 - val_sparse_categorical_accuracy: 0.9827 - 5s/epoch - 11ms/step\n",
            "Epoch 36/50\n",
            "469/469 - 5s - loss: 0.0760 - sparse_categorical_accuracy: 0.9911 - val_loss: 0.1084 - val_sparse_categorical_accuracy: 0.9841 - 5s/epoch - 11ms/step\n",
            "Epoch 37/50\n",
            "469/469 - 6s - loss: 0.0750 - sparse_categorical_accuracy: 0.9913 - val_loss: 0.1050 - val_sparse_categorical_accuracy: 0.9848 - 6s/epoch - 12ms/step\n",
            "Epoch 38/50\n",
            "469/469 - 6s - loss: 0.0732 - sparse_categorical_accuracy: 0.9919 - val_loss: 0.1089 - val_sparse_categorical_accuracy: 0.9825 - 6s/epoch - 12ms/step\n",
            "Epoch 39/50\n",
            "469/469 - 5s - loss: 0.0727 - sparse_categorical_accuracy: 0.9917 - val_loss: 0.1047 - val_sparse_categorical_accuracy: 0.9838 - 5s/epoch - 12ms/step\n",
            "Epoch 40/50\n",
            "469/469 - 5s - loss: 0.0730 - sparse_categorical_accuracy: 0.9924 - val_loss: 0.1061 - val_sparse_categorical_accuracy: 0.9823 - 5s/epoch - 12ms/step\n",
            "Epoch 41/50\n",
            "469/469 - 5s - loss: 0.0724 - sparse_categorical_accuracy: 0.9918 - val_loss: 0.1038 - val_sparse_categorical_accuracy: 0.9832 - 5s/epoch - 12ms/step\n",
            "Epoch 42/50\n",
            "469/469 - 6s - loss: 0.0701 - sparse_categorical_accuracy: 0.9929 - val_loss: 0.1100 - val_sparse_categorical_accuracy: 0.9813 - 6s/epoch - 12ms/step\n",
            "Epoch 43/50\n",
            "469/469 - 6s - loss: 0.0715 - sparse_categorical_accuracy: 0.9924 - val_loss: 0.1066 - val_sparse_categorical_accuracy: 0.9827 - 6s/epoch - 13ms/step\n",
            "Epoch 44/50\n",
            "469/469 - 6s - loss: 0.0707 - sparse_categorical_accuracy: 0.9920 - val_loss: 0.1101 - val_sparse_categorical_accuracy: 0.9822 - 6s/epoch - 13ms/step\n",
            "Epoch 45/50\n",
            "469/469 - 6s - loss: 0.0702 - sparse_categorical_accuracy: 0.9920 - val_loss: 0.1000 - val_sparse_categorical_accuracy: 0.9848 - 6s/epoch - 12ms/step\n",
            "Epoch 46/50\n",
            "469/469 - 6s - loss: 0.0690 - sparse_categorical_accuracy: 0.9927 - val_loss: 0.1068 - val_sparse_categorical_accuracy: 0.9832 - 6s/epoch - 12ms/step\n",
            "Epoch 47/50\n",
            "469/469 - 6s - loss: 0.0702 - sparse_categorical_accuracy: 0.9919 - val_loss: 0.1053 - val_sparse_categorical_accuracy: 0.9830 - 6s/epoch - 12ms/step\n",
            "Epoch 48/50\n",
            "469/469 - 6s - loss: 0.0680 - sparse_categorical_accuracy: 0.9929 - val_loss: 0.1055 - val_sparse_categorical_accuracy: 0.9837 - 6s/epoch - 12ms/step\n",
            "Epoch 49/50\n",
            "469/469 - 6s - loss: 0.0688 - sparse_categorical_accuracy: 0.9929 - val_loss: 0.1037 - val_sparse_categorical_accuracy: 0.9830 - 6s/epoch - 12ms/step\n",
            "Epoch 50/50\n",
            "469/469 - 6s - loss: 0.0660 - sparse_categorical_accuracy: 0.9932 - val_loss: 0.1074 - val_sparse_categorical_accuracy: 0.9824 - 6s/epoch - 12ms/step\n"
          ]
        }
      ],
      "source": [
        "opt = keras.optimizers.Adam(learning_rate=.0005)\n",
        "\n",
        "model.compile(optimizer=opt, loss='sparse_categorical_crossentropy',\n",
        "              metrics=['sparse_categorical_accuracy'])\n",
        "\n",
        "hist = model.fit(x_train, y_train, validation_data=(x_test, y_test), \n",
        "                 epochs=50, batch_size=128, verbose=2)\n"
      ]
    },
    {
      "cell_type": "code",
      "execution_count": null,
      "metadata": {
        "colab": {
          "base_uri": "https://localhost:8080/",
          "height": 297
        },
        "id": "fL5E8HMPCWU4",
        "outputId": "52d80f30-ac39-46aa-9f88-fc1d7f78784e"
      },
      "outputs": [
        {
          "data": {
            "image/png": "[encoded data removed]",
            "text/plain": [
              "<Figure size 792x288 with 2 Axes>"
            ]
          },
          "metadata": {
            "needs_background": "light"
          },
          "output_type": "display_data"
        }
      ],
      "source": [
        "plot(hist)"
      ]
    },
    {
      "cell_type": "markdown",
      "metadata": {
        "id": "5lLGxxDHEMGg"
      },
      "source": [
        "Red convolucional"
      ]
    },
    {
      "cell_type": "code",
      "execution_count": 23,
      "metadata": {
        "colab": {
          "base_uri": "https://localhost:8080/"
        },
        "id": "_rguoBoXEOYH",
        "outputId": "b1bd34ee-ebc9-4e1f-c4c4-375252e07535"
      },
      "outputs": [
        {
          "name": "stdout",
          "output_type": "stream",
          "text": [
            "Model: \"model\"\n",
            "_________________________________________________________________\n",
            " Layer (type)                Output Shape              Param #   \n",
            "=================================================================\n",
            " input_1 (InputLayer)        [(None, 28, 28, 1)]       0         \n",
            "                                                                 \n",
            " conv2d (Conv2D)             (None, 28, 28, 32)        832       \n",
            "                                                                 \n",
            " max_pooling2d (MaxPooling2D  (None, 14, 14, 32)       0         \n",
            " )                                                               \n",
            "                                                                 \n",
            " dropout (Dropout)           (None, 14, 14, 32)        0         \n",
            "                                                                 \n",
            " conv2d_1 (Conv2D)           (None, 14, 14, 32)        9248      \n",
            "                                                                 \n",
            " max_pooling2d_1 (MaxPooling  (None, 7, 7, 32)         0         \n",
            " 2D)                                                             \n",
            "                                                                 \n",
            " dropout_1 (Dropout)         (None, 7, 7, 32)          0         \n",
            "                                                                 \n",
            " conv2d_2 (Conv2D)           (None, 7, 7, 64)          8256      \n",
            "                                                                 \n",
            " max_pooling2d_2 (MaxPooling  (None, 3, 3, 64)         0         \n",
            " 2D)                                                             \n",
            "                                                                 \n",
            " dropout_2 (Dropout)         (None, 3, 3, 64)          0         \n",
            "                                                                 \n",
            " flatten (Flatten)           (None, 576)               0         \n",
            "                                                                 \n",
            " dense (Dense)               (None, 50)                28850     \n",
            "                                                                 \n",
            " dropout_3 (Dropout)         (None, 50)                0         \n",
            "                                                                 \n",
            " dense_1 (Dense)             (None, 10)                510       \n",
            "                                                                 \n",
            "=================================================================\n",
            "Total params: 47,696\n",
            "Trainable params: 47,696\n",
            "Non-trainable params: 0\n",
            "_________________________________________________________________\n"
          ]
        }
      ],
      "source": [
        "keras.backend.clear_session()\n",
        "\n",
        "reg = keras.regularizers.L2(l2=1e-4)\n",
        "drop_r = 0.1\n",
        "\n",
        "input = keras.layers.Input(shape=(28,28,1))\n",
        "\n",
        "l1 = keras.layers.Conv2D(32, 5, activation='relu', padding='same')(input)\n",
        "pool1 = keras.layers.MaxPooling2D()(l1)\n",
        "drop1 = keras.layers.Dropout(rate=drop_r)(pool1)\n",
        "\n",
        "l2 = keras.layers.Conv2D(32, 3, activation='relu', padding='same')(drop1)\n",
        "pool2 = keras.layers.MaxPooling2D()(l2)\n",
        "drop2 = keras.layers.Dropout(rate=drop_r)(pool2)\n",
        "\n",
        "l3 = keras.layers.Conv2D(64, 2, activation='relu', padding='same')(drop2)\n",
        "pool3 = keras.layers.MaxPooling2D()(l3)\n",
        "drop3 = keras.layers.Dropout(rate=drop_r)(pool3)\n",
        "\n",
        "flat = keras.layers.Flatten()(drop3)\n",
        "\n",
        "l4 = keras.layers.Dense(50, activation='relu', kernel_regularizer=reg)(flat)\n",
        "drop4 = keras.layers.Dropout(rate=drop_r)(l4)\n",
        "\n",
        "output = keras.layers.Dense(10, activation='sigmoid', kernel_regularizer=reg)(drop4)\n",
        "\n",
        "model = keras.models.Model(inputs=input, outputs=output)\n",
        "\n",
        "model.summary()"
      ]
    },
    {
      "cell_type": "code",
      "execution_count": 24,
      "metadata": {
        "colab": {
          "base_uri": "https://localhost:8080/"
        },
        "id": "-ZvC5D4mERpB",
        "outputId": "06eff7e9-ab74-406a-f414-9b4ac27bc975"
      },
      "outputs": [
        {
          "name": "stdout",
          "output_type": "stream",
          "text": [
            "Epoch 1/15\n",
            "235/235 [==============================] - 72s 302ms/step - loss: 0.5569 - sparse_categorical_accuracy: 0.8206 - val_loss: 0.0988 - val_sparse_categorical_accuracy: 0.9730\n",
            "Epoch 2/15\n",
            "235/235 [==============================] - 70s 300ms/step - loss: 0.1369 - sparse_categorical_accuracy: 0.9605 - val_loss: 0.0696 - val_sparse_categorical_accuracy: 0.9812\n",
            "Epoch 3/15\n",
            "235/235 [==============================] - 71s 301ms/step - loss: 0.0988 - sparse_categorical_accuracy: 0.9727 - val_loss: 0.0510 - val_sparse_categorical_accuracy: 0.9861\n",
            "Epoch 4/15\n",
            "235/235 [==============================] - 70s 299ms/step - loss: 0.0817 - sparse_categorical_accuracy: 0.9779 - val_loss: 0.0434 - val_sparse_categorical_accuracy: 0.9901\n",
            "Epoch 5/15\n",
            "235/235 [==============================] - 70s 299ms/step - loss: 0.0747 - sparse_categorical_accuracy: 0.9803 - val_loss: 0.0420 - val_sparse_categorical_accuracy: 0.9902\n",
            "Epoch 6/15\n",
            "235/235 [==============================] - 70s 298ms/step - loss: 0.0662 - sparse_categorical_accuracy: 0.9826 - val_loss: 0.0370 - val_sparse_categorical_accuracy: 0.9909\n",
            "Epoch 7/15\n",
            "235/235 [==============================] - 70s 296ms/step - loss: 0.0605 - sparse_categorical_accuracy: 0.9842 - val_loss: 0.0387 - val_sparse_categorical_accuracy: 0.9903\n",
            "Epoch 8/15\n",
            "235/235 [==============================] - 70s 298ms/step - loss: 0.0556 - sparse_categorical_accuracy: 0.9854 - val_loss: 0.0361 - val_sparse_categorical_accuracy: 0.9920\n",
            "Epoch 9/15\n",
            "235/235 [==============================] - 70s 296ms/step - loss: 0.0526 - sparse_categorical_accuracy: 0.9868 - val_loss: 0.0383 - val_sparse_categorical_accuracy: 0.9903\n",
            "Epoch 10/15\n",
            "235/235 [==============================] - 70s 300ms/step - loss: 0.0500 - sparse_categorical_accuracy: 0.9874 - val_loss: 0.0326 - val_sparse_categorical_accuracy: 0.9923\n",
            "Epoch 11/15\n",
            "235/235 [==============================] - 71s 303ms/step - loss: 0.0472 - sparse_categorical_accuracy: 0.9887 - val_loss: 0.0337 - val_sparse_categorical_accuracy: 0.9926\n",
            "Epoch 12/15\n",
            "235/235 [==============================] - 71s 300ms/step - loss: 0.0470 - sparse_categorical_accuracy: 0.9886 - val_loss: 0.0322 - val_sparse_categorical_accuracy: 0.9918\n",
            "Epoch 13/15\n",
            "235/235 [==============================] - 71s 303ms/step - loss: 0.0432 - sparse_categorical_accuracy: 0.9899 - val_loss: 0.0321 - val_sparse_categorical_accuracy: 0.9922\n",
            "Epoch 14/15\n",
            "235/235 [==============================] - 72s 305ms/step - loss: 0.0419 - sparse_categorical_accuracy: 0.9897 - val_loss: 0.0309 - val_sparse_categorical_accuracy: 0.9927\n",
            "Epoch 15/15\n",
            "235/235 [==============================] - 72s 307ms/step - loss: 0.0403 - sparse_categorical_accuracy: 0.9903 - val_loss: 0.0322 - val_sparse_categorical_accuracy: 0.9930\n"
          ]
        }
      ],
      "source": [
        "opt = keras.optimizers.Adam(learning_rate=.001)\n",
        "\n",
        "model.compile(optimizer=opt, loss='sparse_categorical_crossentropy',\n",
        "              metrics=['sparse_categorical_accuracy'])\n",
        "\n",
        "hist = model.fit(x_train, y_train, validation_data=(x_test, y_test), \n",
        "                 epochs=15, batch_size=256, verbose=1)\n"
      ]
    },
    {
      "cell_type": "code",
      "execution_count": 25,
      "metadata": {
        "colab": {
          "base_uri": "https://localhost:8080/",
          "height": 297
        },
        "id": "JNdw9SgQN0g-",
        "outputId": "d5aef19a-7600-423b-aeca-828b801046a2"
      },
      "outputs": [
        {
          "data": {
            "image/png": "[encoded data removed]",
            "text/plain": [
              "<Figure size 792x288 with 2 Axes>"
            ]
          },
          "metadata": {
            "needs_background": "light"
          },
          "output_type": "display_data"
        }
      ],
      "source": [
        "plot(hist)"
      ]
    },
    {
      "cell_type": "code",
      "execution_count": 26,
      "metadata": {
        "colab": {
          "base_uri": "https://localhost:8080/"
        },
        "id": "GhtOTyfQQwQ5",
        "outputId": "da8e72b8-a2ca-4fe6-f084-526577558f7b"
      },
      "outputs": [
        {
          "data": {
            "text/plain": [
              "(array([7, 2, 1, 0, 4, 1, 4, 9, 5, 9]),\n",
              " array([7, 2, 1, 0, 4, 1, 4, 9, 5, 9], dtype=uint8))"
            ]
          },
          "execution_count": 26,
          "metadata": {},
          "output_type": "execute_result"
        }
      ],
      "source": [
        "np.argmax(model.predict(x_test[0:10]), axis=1), y_test[0:10]"
      ]
    }
  ],
  "metadata": {
    "colab": {
      "provenance": []
    },
    "kernelspec": {
      "display_name": "Python 3.8.8 ('base')",
      "language": "python",
      "name": "python3"
    },
    "language_info": {
      "name": "python",
      "version": "3.8.8"
    },
    "vscode": {
      "interpreter": {
        "hash": "3159170d9fcce935f4a2f5b40d38978387b4f643b035d22b78e982df0db07ec7"
      }
    }
  },
  "nbformat": 4,
  "nbformat_minor": 0
}
