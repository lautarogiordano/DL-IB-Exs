{
  "nbformat": 4,
  "nbformat_minor": 0,
  "metadata": {
    "colab": {
      "provenance": []
    },
    "kernelspec": {
      "name": "python3",
      "display_name": "Python 3"
    },
    "language_info": {
      "name": "python"
    }
  },
  "cells": [
    {
      "cell_type": "markdown",
      "source": [
        "A partir de la base de datos de MNIST implementar un autoencoder que permita\\\n",
        "eliminar el ruido en las imágenes de dígitos manuscritos. Preprocesar los datos\\\n",
        "para que la imagen 𝐼 ∈ [0, 1]. Agregar un ruido con una distribución Gaussiana\\\n",
        "de media 0 y std=0.5 y utilizar la función clip para fijar los valores nuevamente\\\n",
        "entre [0,1]."
      ],
      "metadata": {
        "id": "hfUIj2XdDuHC"
      }
    },
    {
      "cell_type": "code",
      "execution_count": 2,
      "metadata": {
        "id": "hfVT0DJ09Ps1"
      },
      "outputs": [],
      "source": [
        "import numpy as np\n",
        "from matplotlib import pyplot as plt\n",
        "from tensorflow import keras"
      ]
    },
    {
      "cell_type": "code",
      "source": [
        "(x_train, y_train), (x_test, y_test) = keras.datasets.mnist.load_data()\n",
        "x_train.shape, x_test.shape"
      ],
      "metadata": {
        "colab": {
          "base_uri": "https://localhost:8080/"
        },
        "id": "R6eAL8Mz9lHU",
        "outputId": "0812edb8-5cc9-43a5-ee9a-16bc50c889de"
      },
      "execution_count": 130,
      "outputs": [
        {
          "output_type": "execute_result",
          "data": {
            "text/plain": [
              "((60000, 28, 28), (10000, 28, 28))"
            ]
          },
          "metadata": {},
          "execution_count": 130
        }
      ]
    },
    {
      "cell_type": "code",
      "source": [
        "def preprocess(X, noise=False):\n",
        "    X /= 255.\n",
        "\n",
        "    if noise:\n",
        "        noise = np.random.normal(0, .5, size=X.shape)\n",
        "        return np.clip(X+noise, 0, 1)\n",
        "    else:\n",
        "        return X\n"
      ],
      "metadata": {
        "id": "h58m7pw2-Dym"
      },
      "execution_count": 129,
      "outputs": []
    },
    {
      "cell_type": "code",
      "source": [
        "x_train_n = preprocess(x_train.astype(float), noise=True)\n",
        "x_test_n = preprocess(x_test.astype(float), noise=True)\n",
        "x_train = preprocess(x_train.astype(float))\n",
        "x_test = preprocess(x_test.astype(float))"
      ],
      "metadata": {
        "id": "NQnw1yE3-1gX"
      },
      "execution_count": 131,
      "outputs": []
    },
    {
      "cell_type": "code",
      "source": [
        "idx = 512\n",
        "fig, (ax1, ax2) = plt.subplots(nrows=1, ncols=2, figsize=(12,5))\n",
        "ax1.imshow(x_train[idx])\n",
        "ax2.imshow(x_train_n[idx])"
      ],
      "metadata": {
        "colab": {
          "base_uri": "https://localhost:8080/",
          "height": 338
        },
        "id": "Pmt6-_MrCPYs",
        "outputId": "75e68582-0f67-48f6-ecfa-6c8493cb1718"
      },
      "execution_count": 132,
      "outputs": [
        {
          "output_type": "execute_result",
          "data": {
            "text/plain": [
              "<matplotlib.image.AxesImage at 0x7f7325f67c10>"
            ]
          },
          "metadata": {},
          "execution_count": 132
        },
        {
          "output_type": "display_data",
          "data": {
            "text/plain": [
              "<Figure size 864x360 with 2 Axes>"
            ],
            "image/png": "[encoded data removed]"
          },
          "metadata": {
            "needs_background": "light"
          }
        }
      ]
    },
    {
      "cell_type": "markdown",
      "source": [
        "Autoencoder"
      ],
      "metadata": {
        "id": "WG-tQ9r6ERb1"
      }
    },
    {
      "cell_type": "code",
      "source": [
        "keras.backend.clear_session()\n",
        "\n",
        "reg = keras.regularizers.L2(l2=1e-5)\n",
        "\n",
        "input = keras.layers.Input(shape=(28,28))\n",
        "flat = keras.layers.Flatten()(input)\n",
        "\n",
        "l1 = keras.layers.Dense(512, activation='relu', kernel_regularizer=reg)(flat)\n",
        "l2 = keras.layers.Dense(256, activation='relu', kernel_regularizer=reg)(l1)\n",
        "l3 = keras.layers.Dense(128, activation='relu', kernel_regularizer=reg)(l2)\n",
        "l4 = keras.layers.Dense(256, activation='relu', kernel_regularizer=reg)(l3)\n",
        "l5 = keras.layers.Dense(512, activation='relu', kernel_regularizer=reg)(l4)\n",
        "\n",
        "l6 = keras.layers.Dense(784, activation='sigmoid', kernel_regularizer=reg)(l5)\n",
        "output = keras.layers.Reshape(target_shape=(28,28))(l6)\n",
        "\n",
        "model = keras.models.Model(inputs=input, outputs=output)\n",
        "\n",
        "model.summary()"
      ],
      "metadata": {
        "colab": {
          "base_uri": "https://localhost:8080/"
        },
        "id": "6fB-KLZdEVTq",
        "outputId": "83887503-2604-4a6f-bac4-9196268031cc"
      },
      "execution_count": 133,
      "outputs": [
        {
          "output_type": "stream",
          "name": "stdout",
          "text": [
            "Model: \"model\"\n",
            "_________________________________________________________________\n",
            " Layer (type)                Output Shape              Param #   \n",
            "=================================================================\n",
            " input_1 (InputLayer)        [(None, 28, 28)]          0         \n",
            "                                                                 \n",
            " flatten (Flatten)           (None, 784)               0         \n",
            "                                                                 \n",
            " dense (Dense)               (None, 512)               401920    \n",
            "                                                                 \n",
            " dense_1 (Dense)             (None, 256)               131328    \n",
            "                                                                 \n",
            " dense_2 (Dense)             (None, 128)               32896     \n",
            "                                                                 \n",
            " dense_3 (Dense)             (None, 256)               33024     \n",
            "                                                                 \n",
            " dense_4 (Dense)             (None, 512)               131584    \n",
            "                                                                 \n",
            " dense_5 (Dense)             (None, 784)               402192    \n",
            "                                                                 \n",
            " reshape (Reshape)           (None, 28, 28)            0         \n",
            "                                                                 \n",
            "=================================================================\n",
            "Total params: 1,132,944\n",
            "Trainable params: 1,132,944\n",
            "Non-trainable params: 0\n",
            "_________________________________________________________________\n"
          ]
        }
      ]
    },
    {
      "cell_type": "code",
      "source": [
        "opt = keras.optimizers.Adam(learning_rate=.0005)\n",
        "\n",
        "model.compile(optimizer=opt, loss='binary_crossentropy', metrics=['mse'])\n",
        "\n",
        "hist = model.fit(x_train_n, x_train, validation_data=(x_test_n, x_test), \n",
        "                 epochs=15, batch_size=200, verbose=1)\n"
      ],
      "metadata": {
        "colab": {
          "base_uri": "https://localhost:8080/"
        },
        "id": "lmjdpytYF0GX",
        "outputId": "86de0a0c-d135-46aa-81c0-866094266d0b"
      },
      "execution_count": 134,
      "outputs": [
        {
          "output_type": "stream",
          "name": "stdout",
          "text": [
            "Epoch 1/15\n",
            "300/300 [==============================] - 15s 47ms/step - loss: 0.2479 - mse: 0.0565 - val_loss: 0.1826 - val_mse: 0.0355\n",
            "Epoch 2/15\n",
            "300/300 [==============================] - 14s 47ms/step - loss: 0.1686 - mse: 0.0307 - val_loss: 0.1570 - val_mse: 0.0270\n",
            "Epoch 3/15\n",
            "300/300 [==============================] - 14s 47ms/step - loss: 0.1518 - mse: 0.0253 - val_loss: 0.1457 - val_mse: 0.0234\n",
            "Epoch 4/15\n",
            "300/300 [==============================] - 14s 46ms/step - loss: 0.1433 - mse: 0.0226 - val_loss: 0.1394 - val_mse: 0.0214\n",
            "Epoch 5/15\n",
            "300/300 [==============================] - 14s 46ms/step - loss: 0.1378 - mse: 0.0209 - val_loss: 0.1355 - val_mse: 0.0202\n",
            "Epoch 6/15\n",
            "300/300 [==============================] - 14s 47ms/step - loss: 0.1338 - mse: 0.0197 - val_loss: 0.1320 - val_mse: 0.0191\n",
            "Epoch 7/15\n",
            "300/300 [==============================] - 14s 47ms/step - loss: 0.1308 - mse: 0.0187 - val_loss: 0.1308 - val_mse: 0.0188\n",
            "Epoch 8/15\n",
            "300/300 [==============================] - 14s 46ms/step - loss: 0.1283 - mse: 0.0180 - val_loss: 0.1278 - val_mse: 0.0178\n",
            "Epoch 9/15\n",
            "300/300 [==============================] - 14s 47ms/step - loss: 0.1262 - mse: 0.0173 - val_loss: 0.1262 - val_mse: 0.0174\n",
            "Epoch 10/15\n",
            "300/300 [==============================] - 14s 47ms/step - loss: 0.1247 - mse: 0.0169 - val_loss: 0.1249 - val_mse: 0.0170\n",
            "Epoch 11/15\n",
            "300/300 [==============================] - 14s 46ms/step - loss: 0.1234 - mse: 0.0165 - val_loss: 0.1239 - val_mse: 0.0167\n",
            "Epoch 12/15\n",
            "300/300 [==============================] - 14s 47ms/step - loss: 0.1221 - mse: 0.0161 - val_loss: 0.1230 - val_mse: 0.0164\n",
            "Epoch 13/15\n",
            "300/300 [==============================] - 14s 47ms/step - loss: 0.1211 - mse: 0.0157 - val_loss: 0.1226 - val_mse: 0.0163\n",
            "Epoch 14/15\n",
            "300/300 [==============================] - 14s 47ms/step - loss: 0.1203 - mse: 0.0155 - val_loss: 0.1218 - val_mse: 0.0160\n",
            "Epoch 15/15\n",
            "300/300 [==============================] - 14s 47ms/step - loss: 0.1193 - mse: 0.0152 - val_loss: 0.1211 - val_mse: 0.0158\n"
          ]
        }
      ]
    },
    {
      "cell_type": "code",
      "source": [
        "plt.plot(hist.history['loss'])"
      ],
      "metadata": {
        "colab": {
          "base_uri": "https://localhost:8080/",
          "height": 283
        },
        "id": "l-qfBYe_ID9J",
        "outputId": "be66fcf1-93f2-4159-a75f-d1aa9ce76fe4"
      },
      "execution_count": 135,
      "outputs": [
        {
          "output_type": "execute_result",
          "data": {
            "text/plain": [
              "[<matplotlib.lines.Line2D at 0x7f73229998d0>]"
            ]
          },
          "metadata": {},
          "execution_count": 135
        },
        {
          "output_type": "display_data",
          "data": {
            "text/plain": [
              "<Figure size 432x288 with 1 Axes>"
            ],
            "image/png": "[encoded data removed]"
          },
          "metadata": {
            "needs_background": "light"
          }
        }
      ]
    },
    {
      "cell_type": "code",
      "source": [
        "idx = 5003\n",
        "fig, (ax1, ax2) = plt.subplots(nrows=1, ncols=2, figsize=(12,5))\n",
        "ax1.imshow(x_test_n[idx], cmap='gray')\n",
        "ax2.imshow(model.predict(x_test_n[idx:idx+1])[0], cmap='gray')"
      ],
      "metadata": {
        "colab": {
          "base_uri": "https://localhost:8080/",
          "height": 338
        },
        "id": "p8KwTwJ6IMIW",
        "outputId": "ccd874ae-7bbd-4f22-d331-499eaf04bede"
      },
      "execution_count": 141,
      "outputs": [
        {
          "output_type": "execute_result",
          "data": {
            "text/plain": [
              "<matplotlib.image.AxesImage at 0x7f7323f4c690>"
            ]
          },
          "metadata": {},
          "execution_count": 141
        },
        {
          "output_type": "display_data",
          "data": {
            "text/plain": [
              "<Figure size 864x360 with 2 Axes>"
            ],
            "image/png": "[encoded data removed]"
          },
          "metadata": {
            "needs_background": "light"
          }
        }
      ]
    }
  ]
}