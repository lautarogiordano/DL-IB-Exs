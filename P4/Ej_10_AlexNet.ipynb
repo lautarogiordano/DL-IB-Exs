{
  "cells": [
    {
      "cell_type": "code",
      "execution_count": 13,
      "metadata": {
        "id": "D7yOEwRMsoTV"
      },
      "outputs": [],
      "source": [
        "import numpy as np\n",
        "import tensorflow as tf\n",
        "from tensorflow import keras\n",
        "from keras import layers\n",
        "from matplotlib import pyplot as plt\n",
        "import gc"
      ]
    },
    {
      "cell_type": "code",
      "execution_count": 2,
      "metadata": {
        "colab": {
          "base_uri": "https://localhost:8080/"
        },
        "id": "zbLYy437rNBz",
        "outputId": "1e08ac8f-6136-456e-b5a0-c0fad1786035"
      },
      "outputs": [
        {
          "name": "stdout",
          "output_type": "stream",
          "text": [
            "Downloading data from https://www.cs.toronto.edu/~kriz/cifar-10-python.tar.gz\n",
            "170500096/170498071 [==============================] - 2s 0us/step\n",
            "170508288/170498071 [==============================] - 2s 0us/step\n"
          ]
        }
      ],
      "source": [
        "(x_train, y_train), (x_test, y_test) = keras.datasets.cifar10.load_data()\n",
        "\n",
        "assert x_train.shape == (50000, 32, 32, 3)\n",
        "assert x_test.shape == (10000, 32, 32, 3)\n",
        "assert y_train.shape == (50000, 1)\n",
        "assert y_test.shape == (10000, 1)"
      ]
    },
    {
      "cell_type": "code",
      "execution_count": 3,
      "metadata": {
        "id": "yIUjVYV3vNN5"
      },
      "outputs": [],
      "source": [
        "#Aumentacion de datos\n",
        "data_augmentation = keras.Sequential(\n",
        "    [\n",
        "        layers.RandomFlip(\"horizontal\"),\n",
        "        layers.RandomRotation(factor=(-0.2, 0.2)),\n",
        "        #layers.RandomZoom(.1),\n",
        "        layers.RandomTranslation(height_factor=(-0.2, 0.2), \n",
        "                                 width_factor=(-0.2, 0.2)),\n",
        "    ]\n",
        ")\n",
        "\n",
        "# Create a tf.data pipeline of augmented images (and their labels)\n",
        "train_dataset = tf.data.Dataset.from_tensor_slices((x_train, y_train))\n",
        "train_dataset = train_dataset.batch(32).map(lambda x, y: (data_augmentation(x), y))\n"
      ]
    },
    {
      "cell_type": "code",
      "execution_count": 4,
      "metadata": {
        "colab": {
          "base_uri": "https://localhost:8080/",
          "height": 284
        },
        "id": "7CIUfFILZYjN",
        "outputId": "bffd3177-aed1-4de7-efc5-6ea8b3d3bb20"
      },
      "outputs": [
        {
          "data": {
            "text/plain": [
              "<matplotlib.image.AxesImage at 0x7fa9d03e7610>"
            ]
          },
          "execution_count": 4,
          "metadata": {},
          "output_type": "execute_result"
        },
        {
          "data": {
            "image/png": "[encoded data removed]",
            "text/plain": [
              "<Figure size 432x288 with 1 Axes>"
            ]
          },
          "metadata": {
            "needs_background": "light"
          },
          "output_type": "display_data"
        }
      ],
      "source": [
        "plt.imshow(data_augmentation(x_train[60]).numpy().astype('uint8'))"
      ]
    },
    {
      "cell_type": "code",
      "execution_count": 5,
      "metadata": {
        "id": "wLtUzyXwaPDt"
      },
      "outputs": [],
      "source": [
        "def plot(hist):\n",
        "    fig, (ax1, ax2) = plt.subplots(nrows=1, ncols=2, figsize=(11,4))\n",
        "    ax1.plot(hist.history['loss'], label='CCE')\n",
        "    ax1.plot(hist.history['val_loss'], label='val_CCE')\n",
        "    ax1.set_xlabel('Epocas', fontsize=15)\n",
        "    ax1.set_ylabel('Loss', fontsize=15)\n",
        "    ax1.legend(loc='best')\n",
        "\n",
        "    ax2.plot(hist.history['sparse_categorical_accuracy'], label='acc')\n",
        "    ax2.plot(hist.history['val_sparse_categorical_accuracy'], label='val_acc')\n",
        "    ax2.set_xlabel('Epocas', fontsize=15)\n",
        "    ax2.set_ylabel('Accuracy', fontsize=15)\n",
        "    ax2.legend(loc='best')\n",
        "\n",
        "    fig.tight_layout()\n",
        "    plt.show()\n",
        "    return None"
      ]
    },
    {
      "cell_type": "markdown",
      "metadata": {
        "id": "JZj8uajIuNAS"
      },
      "source": [
        "Red tipo AlexNet"
      ]
    },
    {
      "cell_type": "code",
      "execution_count": 11,
      "metadata": {
        "colab": {
          "base_uri": "https://localhost:8080/"
        },
        "id": "B8SjAKc2uPgA",
        "outputId": "1d826e87-430f-4e52-aac1-1a06dcbec8a4"
      },
      "outputs": [
        {
          "name": "stdout",
          "output_type": "stream",
          "text": [
            "Model: \"AlexNet\"\n",
            "_________________________________________________________________\n",
            " Layer (type)                Output Shape              Param #   \n",
            "=================================================================\n",
            " rescaling (Rescaling)       (None, 32, 32, 3)         0         \n",
            "                                                                 \n",
            " conv2d (Conv2D)             (None, 32, 32, 128)       9728      \n",
            "                                                                 \n",
            " max_pooling2d (MaxPooling2D  (None, 30, 30, 128)      0         \n",
            " )                                                               \n",
            "                                                                 \n",
            " conv2d_1 (Conv2D)           (None, 30, 30, 128)       147584    \n",
            "                                                                 \n",
            " batch_normalization (BatchN  (None, 30, 30, 128)      512       \n",
            " ormalization)                                                   \n",
            "                                                                 \n",
            " max_pooling2d_1 (MaxPooling  (None, 14, 14, 128)      0         \n",
            " 2D)                                                             \n",
            "                                                                 \n",
            " conv2d_2 (Conv2D)           (None, 7, 7, 352)         405856    \n",
            "                                                                 \n",
            " batch_normalization_1 (Batc  (None, 7, 7, 352)        1408      \n",
            " hNormalization)                                                 \n",
            "                                                                 \n",
            " conv2d_3 (Conv2D)           (None, 7, 7, 352)         1115488   \n",
            "                                                                 \n",
            " batch_normalization_2 (Batc  (None, 7, 7, 352)        1408      \n",
            " hNormalization)                                                 \n",
            "                                                                 \n",
            " conv2d_4 (Conv2D)           (None, 7, 7, 256)         811264    \n",
            "                                                                 \n",
            " batch_normalization_3 (Batc  (None, 7, 7, 256)        1024      \n",
            " hNormalization)                                                 \n",
            "                                                                 \n",
            " max_pooling2d_2 (MaxPooling  (None, 5, 5, 256)        0         \n",
            " 2D)                                                             \n",
            "                                                                 \n",
            " flatten (Flatten)           (None, 6400)              0         \n",
            "                                                                 \n",
            " dropout (Dropout)           (None, 6400)              0         \n",
            "                                                                 \n",
            " dense (Dense)               (None, 2048)              13109248  \n",
            "                                                                 \n",
            " dropout_1 (Dropout)         (None, 2048)              0         \n",
            "                                                                 \n",
            " dense_1 (Dense)             (None, 2048)              4196352   \n",
            "                                                                 \n",
            " dropout_2 (Dropout)         (None, 2048)              0         \n",
            "                                                                 \n",
            " dense_2 (Dense)             (None, 10)                20490     \n",
            "                                                                 \n",
            "=================================================================\n",
            "Total params: 19,820,362\n",
            "Trainable params: 19,818,186\n",
            "Non-trainable params: 2,176\n",
            "_________________________________________________________________\n"
          ]
        }
      ],
      "source": [
        "keras.backend.clear_session()\n",
        "\n",
        "reg = keras.regularizers.L2(l2=1e-3)\n",
        "drop_r = 0.4\n",
        "\n",
        "model = keras.models.Sequential(name='AlexNet')\n",
        "\n",
        "#Capas convolucionales\n",
        "\n",
        "model.add(keras.layers.Input(shape=(32,32,3)))\n",
        "model.add(keras.layers.Rescaling(1.0 / 255))\n",
        "\n",
        "model.add(keras.layers.Conv2D(128, 5, strides=1, activation='relu', padding='same'))\n",
        "model.add(keras.layers.MaxPooling2D(pool_size=3, strides=1))\n",
        "\n",
        "model.add(keras.layers.Conv2D(128, 3, strides=1, activation='relu', padding='same'))\n",
        "model.add(keras.layers.BatchNormalization())\n",
        "model.add(keras.layers.MaxPooling2D(pool_size=3, strides=2))\n",
        "\n",
        "model.add(keras.layers.Conv2D(352, 3, strides=2, activation='relu', padding='same'))\n",
        "model.add(keras.layers.BatchNormalization())\n",
        "model.add(keras.layers.Conv2D(352, 3, strides=1, activation='relu', padding='same'))\n",
        "model.add(keras.layers.BatchNormalization())\n",
        "model.add(keras.layers.Conv2D(256, 3, strides=1, activation='relu', padding='same'))\n",
        "model.add(keras.layers.BatchNormalization())\n",
        "model.add(keras.layers.MaxPooling2D(pool_size=3, strides=1))\n",
        "model.add(keras.layers.Flatten())\n",
        "model.add(keras.layers.Dropout(rate=drop_r))\n",
        "\n",
        "\n",
        "#Capas densas\n",
        "\n",
        "model.add(keras.layers.Dense(2048, activation='relu', kernel_regularizer=reg))\n",
        "model.add(keras.layers.Dropout(rate=drop_r))\n",
        "model.add(keras.layers.Dense(2048, activation='relu', kernel_regularizer=reg))\n",
        "model.add(keras.layers.Dropout(rate=drop_r))\n",
        "model.add(keras.layers.Dense(10, activation='softmax', kernel_regularizer=reg))\n",
        "\n",
        "model.summary()"
      ]
    },
    {
      "cell_type": "code",
      "execution_count": 15,
      "metadata": {
        "id": "S_nYYzq6jJLH"
      },
      "outputs": [],
      "source": [
        "class ClearMemory(tf.keras.callbacks.Callback):\n",
        "    def on_epoch_end(self, epoch, logs=None):\n",
        "        gc.collect()\n",
        "        tf.keras.backend.clear_session()\n",
        "\n",
        "def scheduler(epoch, lr):\n",
        "  if epoch==10 or epoch == 25 or epoch == 50 or epoch == 75:\n",
        "    return lr/3\n",
        "  else:\n",
        "    return lr\n",
        "\n",
        "\n",
        "callbacks_list=[\n",
        "    keras.callbacks.LearningRateScheduler(\n",
        "    scheduler, verbose=0\n",
        "    ),\n",
        "    ClearMemory()\n",
        "]"
      ]
    },
    {
      "cell_type": "code",
      "execution_count": 16,
      "metadata": {
        "colab": {
          "base_uri": "https://localhost:8080/"
        },
        "id": "Ef7QDczeaKPD",
        "outputId": "030febb4-0ad8-4603-cae7-c1aa94f1b6d8"
      },
      "outputs": [
        {
          "name": "stdout",
          "output_type": "stream",
          "text": [
            "Epoch 1/100\n",
            "1563/1563 [==============================] - 66s 34ms/step - loss: 5.7625 - sparse_categorical_accuracy: 0.2575 - val_loss: 3.9798 - val_sparse_categorical_accuracy: 0.3121 - lr: 3.0000e-04\n",
            "Epoch 2/100\n",
            "1563/1563 [==============================] - 55s 35ms/step - loss: 3.0649 - sparse_categorical_accuracy: 0.3553 - val_loss: 2.3761 - val_sparse_categorical_accuracy: 0.4083 - lr: 3.0000e-04\n",
            "Epoch 3/100\n",
            "1563/1563 [==============================] - 53s 34ms/step - loss: 2.0762 - sparse_categorical_accuracy: 0.4236 - val_loss: 1.9775 - val_sparse_categorical_accuracy: 0.4054 - lr: 3.0000e-04\n",
            "Epoch 4/100\n",
            "1563/1563 [==============================] - 54s 34ms/step - loss: 1.7703 - sparse_categorical_accuracy: 0.4695 - val_loss: 1.8111 - val_sparse_categorical_accuracy: 0.4430 - lr: 3.0000e-04\n",
            "Epoch 5/100\n",
            "1563/1563 [==============================] - 53s 34ms/step - loss: 1.6386 - sparse_categorical_accuracy: 0.5030 - val_loss: 1.8033 - val_sparse_categorical_accuracy: 0.4283 - lr: 3.0000e-04\n",
            "Epoch 6/100\n",
            "1563/1563 [==============================] - 52s 33ms/step - loss: 1.5363 - sparse_categorical_accuracy: 0.5382 - val_loss: 1.4659 - val_sparse_categorical_accuracy: 0.5711 - lr: 3.0000e-04\n",
            "Epoch 7/100\n",
            "1563/1563 [==============================] - 53s 34ms/step - loss: 1.4574 - sparse_categorical_accuracy: 0.5672 - val_loss: 1.4129 - val_sparse_categorical_accuracy: 0.5781 - lr: 3.0000e-04\n",
            "Epoch 8/100\n",
            "1563/1563 [==============================] - 53s 34ms/step - loss: 1.3965 - sparse_categorical_accuracy: 0.5942 - val_loss: 1.5721 - val_sparse_categorical_accuracy: 0.5543 - lr: 3.0000e-04\n",
            "Epoch 9/100\n",
            "1563/1563 [==============================] - 53s 34ms/step - loss: 1.3468 - sparse_categorical_accuracy: 0.6140 - val_loss: 1.5936 - val_sparse_categorical_accuracy: 0.5189 - lr: 3.0000e-04\n",
            "Epoch 10/100\n",
            "1563/1563 [==============================] - 52s 33ms/step - loss: 1.3154 - sparse_categorical_accuracy: 0.6292 - val_loss: 1.3586 - val_sparse_categorical_accuracy: 0.6295 - lr: 3.0000e-04\n",
            "Epoch 11/100\n",
            "1563/1563 [==============================] - 53s 33ms/step - loss: 1.1557 - sparse_categorical_accuracy: 0.6759 - val_loss: 1.0952 - val_sparse_categorical_accuracy: 0.6911 - lr: 1.0000e-04\n",
            "Epoch 12/100\n",
            "1563/1563 [==============================] - 53s 34ms/step - loss: 1.0756 - sparse_categorical_accuracy: 0.6924 - val_loss: 1.0446 - val_sparse_categorical_accuracy: 0.6988 - lr: 1.0000e-04\n",
            "Epoch 13/100\n",
            "1563/1563 [==============================] - 53s 34ms/step - loss: 1.0202 - sparse_categorical_accuracy: 0.7055 - val_loss: 1.0424 - val_sparse_categorical_accuracy: 0.7026 - lr: 1.0000e-04\n",
            "Epoch 14/100\n",
            "1563/1563 [==============================] - 53s 34ms/step - loss: 0.9875 - sparse_categorical_accuracy: 0.7146 - val_loss: 0.9968 - val_sparse_categorical_accuracy: 0.7139 - lr: 1.0000e-04\n",
            "Epoch 15/100\n",
            "1563/1563 [==============================] - 53s 34ms/step - loss: 0.9635 - sparse_categorical_accuracy: 0.7203 - val_loss: 0.9888 - val_sparse_categorical_accuracy: 0.7125 - lr: 1.0000e-04\n",
            "Epoch 16/100\n",
            "1563/1563 [==============================] - 53s 34ms/step - loss: 0.9415 - sparse_categorical_accuracy: 0.7256 - val_loss: 0.9537 - val_sparse_categorical_accuracy: 0.7250 - lr: 1.0000e-04\n",
            "Epoch 17/100\n",
            "1563/1563 [==============================] - 54s 34ms/step - loss: 0.9218 - sparse_categorical_accuracy: 0.7302 - val_loss: 1.0123 - val_sparse_categorical_accuracy: 0.7059 - lr: 1.0000e-04\n",
            "Epoch 18/100\n",
            "1563/1563 [==============================] - 54s 34ms/step - loss: 0.9027 - sparse_categorical_accuracy: 0.7332 - val_loss: 0.8703 - val_sparse_categorical_accuracy: 0.7430 - lr: 1.0000e-04\n",
            "Epoch 19/100\n",
            "1563/1563 [==============================] - 54s 35ms/step - loss: 0.8830 - sparse_categorical_accuracy: 0.7408 - val_loss: 0.9117 - val_sparse_categorical_accuracy: 0.7372 - lr: 1.0000e-04\n",
            "Epoch 20/100\n",
            "1563/1563 [==============================] - 54s 34ms/step - loss: 0.8780 - sparse_categorical_accuracy: 0.7413 - val_loss: 0.9029 - val_sparse_categorical_accuracy: 0.7373 - lr: 1.0000e-04\n",
            "Epoch 21/100\n",
            "1563/1563 [==============================] - 55s 35ms/step - loss: 0.8630 - sparse_categorical_accuracy: 0.7484 - val_loss: 0.9915 - val_sparse_categorical_accuracy: 0.7163 - lr: 1.0000e-04\n",
            "Epoch 22/100\n",
            "1563/1563 [==============================] - 54s 34ms/step - loss: 0.8485 - sparse_categorical_accuracy: 0.7489 - val_loss: 0.9143 - val_sparse_categorical_accuracy: 0.7349 - lr: 1.0000e-04\n",
            "Epoch 23/100\n",
            "1563/1563 [==============================] - 54s 34ms/step - loss: 0.8327 - sparse_categorical_accuracy: 0.7550 - val_loss: 0.9574 - val_sparse_categorical_accuracy: 0.7192 - lr: 1.0000e-04\n",
            "Epoch 24/100\n",
            "1563/1563 [==============================] - 54s 34ms/step - loss: 0.8263 - sparse_categorical_accuracy: 0.7574 - val_loss: 0.9814 - val_sparse_categorical_accuracy: 0.7244 - lr: 1.0000e-04\n",
            "Epoch 25/100\n",
            "1563/1563 [==============================] - 52s 33ms/step - loss: 0.8143 - sparse_categorical_accuracy: 0.7613 - val_loss: 0.8076 - val_sparse_categorical_accuracy: 0.7663 - lr: 1.0000e-04\n",
            "Epoch 26/100\n",
            "1563/1563 [==============================] - 54s 34ms/step - loss: 0.7624 - sparse_categorical_accuracy: 0.7787 - val_loss: 0.7684 - val_sparse_categorical_accuracy: 0.7800 - lr: 3.3333e-05\n",
            "Epoch 27/100\n",
            "1563/1563 [==============================] - 55s 35ms/step - loss: 0.7422 - sparse_categorical_accuracy: 0.7825 - val_loss: 0.7334 - val_sparse_categorical_accuracy: 0.7894 - lr: 3.3333e-05\n",
            "Epoch 28/100\n",
            "1563/1563 [==============================] - 52s 33ms/step - loss: 0.7252 - sparse_categorical_accuracy: 0.7857 - val_loss: 0.7591 - val_sparse_categorical_accuracy: 0.7807 - lr: 3.3333e-05\n",
            "Epoch 29/100\n",
            "1563/1563 [==============================] - 54s 34ms/step - loss: 0.7193 - sparse_categorical_accuracy: 0.7860 - val_loss: 0.7371 - val_sparse_categorical_accuracy: 0.7857 - lr: 3.3333e-05\n",
            "Epoch 30/100\n",
            "1563/1563 [==============================] - 52s 33ms/step - loss: 0.7061 - sparse_categorical_accuracy: 0.7910 - val_loss: 0.7474 - val_sparse_categorical_accuracy: 0.7824 - lr: 3.3333e-05\n",
            "Epoch 31/100\n",
            "1563/1563 [==============================] - 54s 34ms/step - loss: 0.6965 - sparse_categorical_accuracy: 0.7910 - val_loss: 0.7583 - val_sparse_categorical_accuracy: 0.7823 - lr: 3.3333e-05\n",
            "Epoch 32/100\n",
            "1563/1563 [==============================] - 54s 34ms/step - loss: 0.6803 - sparse_categorical_accuracy: 0.7970 - val_loss: 0.7446 - val_sparse_categorical_accuracy: 0.7856 - lr: 3.3333e-05\n",
            "Epoch 33/100\n",
            "1563/1563 [==============================] - 52s 33ms/step - loss: 0.6796 - sparse_categorical_accuracy: 0.7971 - val_loss: 0.7736 - val_sparse_categorical_accuracy: 0.7774 - lr: 3.3333e-05\n",
            "Epoch 34/100\n",
            "1563/1563 [==============================] - 52s 33ms/step - loss: 0.6711 - sparse_categorical_accuracy: 0.7993 - val_loss: 0.7405 - val_sparse_categorical_accuracy: 0.7827 - lr: 3.3333e-05\n",
            "Epoch 35/100\n",
            "1563/1563 [==============================] - 51s 33ms/step - loss: 0.6651 - sparse_categorical_accuracy: 0.7990 - val_loss: 0.7054 - val_sparse_categorical_accuracy: 0.7924 - lr: 3.3333e-05\n",
            "Epoch 36/100\n",
            "1563/1563 [==============================] - 53s 34ms/step - loss: 0.6637 - sparse_categorical_accuracy: 0.8000 - val_loss: 0.7706 - val_sparse_categorical_accuracy: 0.7736 - lr: 3.3333e-05\n",
            "Epoch 37/100\n",
            "1563/1563 [==============================] - 53s 34ms/step - loss: 0.6560 - sparse_categorical_accuracy: 0.8019 - val_loss: 0.7556 - val_sparse_categorical_accuracy: 0.7790 - lr: 3.3333e-05\n",
            "Epoch 38/100\n",
            "1563/1563 [==============================] - 51s 33ms/step - loss: 0.6446 - sparse_categorical_accuracy: 0.8053 - val_loss: 0.7082 - val_sparse_categorical_accuracy: 0.7929 - lr: 3.3333e-05\n",
            "Epoch 39/100\n",
            "1563/1563 [==============================] - 53s 34ms/step - loss: 0.6444 - sparse_categorical_accuracy: 0.8069 - val_loss: 0.6984 - val_sparse_categorical_accuracy: 0.7930 - lr: 3.3333e-05\n",
            "Epoch 40/100\n",
            "1563/1563 [==============================] - 54s 34ms/step - loss: 0.6333 - sparse_categorical_accuracy: 0.8102 - val_loss: 0.6916 - val_sparse_categorical_accuracy: 0.7953 - lr: 3.3333e-05\n",
            "Epoch 41/100\n",
            "1563/1563 [==============================] - 53s 34ms/step - loss: 0.6344 - sparse_categorical_accuracy: 0.8084 - val_loss: 0.7083 - val_sparse_categorical_accuracy: 0.7932 - lr: 3.3333e-05\n",
            "Epoch 42/100\n",
            "1563/1563 [==============================] - 53s 34ms/step - loss: 0.6339 - sparse_categorical_accuracy: 0.8078 - val_loss: 0.7029 - val_sparse_categorical_accuracy: 0.7976 - lr: 3.3333e-05\n",
            "Epoch 43/100\n",
            "1563/1563 [==============================] - 51s 33ms/step - loss: 0.6251 - sparse_categorical_accuracy: 0.8089 - val_loss: 0.7720 - val_sparse_categorical_accuracy: 0.7791 - lr: 3.3333e-05\n",
            "Epoch 44/100\n",
            "1563/1563 [==============================] - 52s 33ms/step - loss: 0.6238 - sparse_categorical_accuracy: 0.8111 - val_loss: 0.7139 - val_sparse_categorical_accuracy: 0.7886 - lr: 3.3333e-05\n",
            "Epoch 45/100\n",
            "1563/1563 [==============================] - 51s 32ms/step - loss: 0.6174 - sparse_categorical_accuracy: 0.8118 - val_loss: 0.7036 - val_sparse_categorical_accuracy: 0.7951 - lr: 3.3333e-05\n",
            "Epoch 46/100\n",
            "1563/1563 [==============================] - 53s 34ms/step - loss: 0.6183 - sparse_categorical_accuracy: 0.8127 - val_loss: 0.7042 - val_sparse_categorical_accuracy: 0.7930 - lr: 3.3333e-05\n",
            "Epoch 47/100\n",
            "1563/1563 [==============================] - 53s 34ms/step - loss: 0.6098 - sparse_categorical_accuracy: 0.8163 - val_loss: 0.7120 - val_sparse_categorical_accuracy: 0.7979 - lr: 3.3333e-05\n",
            "Epoch 48/100\n",
            "1563/1563 [==============================] - 53s 34ms/step - loss: 0.6049 - sparse_categorical_accuracy: 0.8173 - val_loss: 0.6971 - val_sparse_categorical_accuracy: 0.7951 - lr: 3.3333e-05\n",
            "Epoch 49/100\n",
            "1563/1563 [==============================] - 51s 33ms/step - loss: 0.6026 - sparse_categorical_accuracy: 0.8162 - val_loss: 0.6803 - val_sparse_categorical_accuracy: 0.8009 - lr: 3.3333e-05\n",
            "Epoch 50/100\n",
            "1563/1563 [==============================] - 54s 35ms/step - loss: 0.5983 - sparse_categorical_accuracy: 0.8173 - val_loss: 0.7051 - val_sparse_categorical_accuracy: 0.7961 - lr: 3.3333e-05\n",
            "Epoch 51/100\n",
            "1563/1563 [==============================] - 54s 34ms/step - loss: 0.5810 - sparse_categorical_accuracy: 0.8251 - val_loss: 0.6709 - val_sparse_categorical_accuracy: 0.8049 - lr: 1.1111e-05\n",
            "Epoch 52/100\n",
            "1563/1563 [==============================] - 52s 33ms/step - loss: 0.5680 - sparse_categorical_accuracy: 0.8274 - val_loss: 0.6763 - val_sparse_categorical_accuracy: 0.8022 - lr: 1.1111e-05\n",
            "Epoch 53/100\n",
            "1563/1563 [==============================] - 54s 35ms/step - loss: 0.5702 - sparse_categorical_accuracy: 0.8259 - val_loss: 0.6739 - val_sparse_categorical_accuracy: 0.8058 - lr: 1.1111e-05\n",
            "Epoch 54/100\n",
            "1563/1563 [==============================] - 54s 35ms/step - loss: 0.5661 - sparse_categorical_accuracy: 0.8268 - val_loss: 0.6794 - val_sparse_categorical_accuracy: 0.8017 - lr: 1.1111e-05\n",
            "Epoch 55/100\n",
            "1563/1563 [==============================] - 51s 32ms/step - loss: 0.5672 - sparse_categorical_accuracy: 0.8265 - val_loss: 0.6719 - val_sparse_categorical_accuracy: 0.8022 - lr: 1.1111e-05\n",
            "Epoch 56/100\n",
            "1563/1563 [==============================] - 54s 34ms/step - loss: 0.5609 - sparse_categorical_accuracy: 0.8299 - val_loss: 0.6819 - val_sparse_categorical_accuracy: 0.8032 - lr: 1.1111e-05\n",
            "Epoch 57/100\n",
            "1563/1563 [==============================] - 54s 34ms/step - loss: 0.5554 - sparse_categorical_accuracy: 0.8321 - val_loss: 0.6637 - val_sparse_categorical_accuracy: 0.8066 - lr: 1.1111e-05\n",
            "Epoch 58/100\n",
            "1563/1563 [==============================] - 53s 34ms/step - loss: 0.5589 - sparse_categorical_accuracy: 0.8299 - val_loss: 0.6789 - val_sparse_categorical_accuracy: 0.8003 - lr: 1.1111e-05\n",
            "Epoch 59/100\n",
            "1563/1563 [==============================] - 53s 34ms/step - loss: 0.5552 - sparse_categorical_accuracy: 0.8323 - val_loss: 0.6683 - val_sparse_categorical_accuracy: 0.8015 - lr: 1.1111e-05\n",
            "Epoch 60/100\n",
            "1563/1563 [==============================] - 53s 34ms/step - loss: 0.5494 - sparse_categorical_accuracy: 0.8324 - val_loss: 0.6726 - val_sparse_categorical_accuracy: 0.8012 - lr: 1.1111e-05\n",
            "Epoch 61/100\n",
            "1563/1563 [==============================] - 53s 34ms/step - loss: 0.5509 - sparse_categorical_accuracy: 0.8311 - val_loss: 0.6668 - val_sparse_categorical_accuracy: 0.8018 - lr: 1.1111e-05\n",
            "Epoch 62/100\n",
            "1563/1563 [==============================] - 54s 34ms/step - loss: 0.5448 - sparse_categorical_accuracy: 0.8330 - val_loss: 0.6549 - val_sparse_categorical_accuracy: 0.8076 - lr: 1.1111e-05\n",
            "Epoch 63/100\n",
            "1563/1563 [==============================] - 51s 32ms/step - loss: 0.5496 - sparse_categorical_accuracy: 0.8321 - val_loss: 0.6445 - val_sparse_categorical_accuracy: 0.8106 - lr: 1.1111e-05\n",
            "Epoch 64/100\n",
            "1563/1563 [==============================] - 54s 34ms/step - loss: 0.5457 - sparse_categorical_accuracy: 0.8344 - val_loss: 0.6641 - val_sparse_categorical_accuracy: 0.8035 - lr: 1.1111e-05\n",
            "Epoch 65/100\n",
            "1563/1563 [==============================] - 54s 34ms/step - loss: 0.5434 - sparse_categorical_accuracy: 0.8334 - val_loss: 0.6661 - val_sparse_categorical_accuracy: 0.8048 - lr: 1.1111e-05\n",
            "Epoch 66/100\n",
            "1563/1563 [==============================] - 53s 34ms/step - loss: 0.5426 - sparse_categorical_accuracy: 0.8343 - val_loss: 0.6781 - val_sparse_categorical_accuracy: 0.7996 - lr: 1.1111e-05\n",
            "Epoch 67/100\n",
            "1563/1563 [==============================] - 52s 33ms/step - loss: 0.5352 - sparse_categorical_accuracy: 0.8360 - val_loss: 0.6566 - val_sparse_categorical_accuracy: 0.8082 - lr: 1.1111e-05\n",
            "Epoch 68/100\n",
            "1563/1563 [==============================] - 54s 34ms/step - loss: 0.5365 - sparse_categorical_accuracy: 0.8354 - val_loss: 0.6598 - val_sparse_categorical_accuracy: 0.8059 - lr: 1.1111e-05\n",
            "Epoch 69/100\n",
            "1563/1563 [==============================] - 55s 35ms/step - loss: 0.5301 - sparse_categorical_accuracy: 0.8376 - val_loss: 0.6553 - val_sparse_categorical_accuracy: 0.8091 - lr: 1.1111e-05\n",
            "Epoch 70/100\n",
            "1563/1563 [==============================] - 50s 32ms/step - loss: 0.5338 - sparse_categorical_accuracy: 0.8363 - val_loss: 0.6635 - val_sparse_categorical_accuracy: 0.8062 - lr: 1.1111e-05\n",
            "Epoch 71/100\n",
            "1563/1563 [==============================] - 54s 35ms/step - loss: 0.5297 - sparse_categorical_accuracy: 0.8390 - val_loss: 0.6551 - val_sparse_categorical_accuracy: 0.8072 - lr: 1.1111e-05\n",
            "Epoch 72/100\n",
            "1563/1563 [==============================] - 54s 35ms/step - loss: 0.5275 - sparse_categorical_accuracy: 0.8381 - val_loss: 0.6562 - val_sparse_categorical_accuracy: 0.8050 - lr: 1.1111e-05\n",
            "Epoch 73/100\n",
            "1563/1563 [==============================] - 51s 32ms/step - loss: 0.5316 - sparse_categorical_accuracy: 0.8369 - val_loss: 0.6466 - val_sparse_categorical_accuracy: 0.8110 - lr: 1.1111e-05\n",
            "Epoch 74/100\n",
            "1563/1563 [==============================] - 54s 34ms/step - loss: 0.5273 - sparse_categorical_accuracy: 0.8365 - val_loss: 0.6550 - val_sparse_categorical_accuracy: 0.8049 - lr: 1.1111e-05\n",
            "Epoch 75/100\n",
            "1563/1563 [==============================] - 54s 35ms/step - loss: 0.5237 - sparse_categorical_accuracy: 0.8414 - val_loss: 0.6582 - val_sparse_categorical_accuracy: 0.8057 - lr: 1.1111e-05\n",
            "Epoch 76/100\n",
            "1563/1563 [==============================] - 54s 35ms/step - loss: 0.5203 - sparse_categorical_accuracy: 0.8410 - val_loss: 0.6476 - val_sparse_categorical_accuracy: 0.8092 - lr: 3.7037e-06\n",
            "Epoch 77/100\n",
            "1563/1563 [==============================] - 56s 35ms/step - loss: 0.5120 - sparse_categorical_accuracy: 0.8422 - val_loss: 0.6484 - val_sparse_categorical_accuracy: 0.8089 - lr: 3.7037e-06\n",
            "Epoch 78/100\n",
            "1563/1563 [==============================] - 51s 32ms/step - loss: 0.5133 - sparse_categorical_accuracy: 0.8413 - val_loss: 0.6459 - val_sparse_categorical_accuracy: 0.8103 - lr: 3.7037e-06\n",
            "Epoch 79/100\n",
            "1563/1563 [==============================] - 54s 35ms/step - loss: 0.5179 - sparse_categorical_accuracy: 0.8397 - val_loss: 0.6497 - val_sparse_categorical_accuracy: 0.8075 - lr: 3.7037e-06\n",
            "Epoch 80/100\n",
            "1563/1563 [==============================] - 54s 35ms/step - loss: 0.5099 - sparse_categorical_accuracy: 0.8446 - val_loss: 0.6493 - val_sparse_categorical_accuracy: 0.8095 - lr: 3.7037e-06\n",
            "Epoch 81/100\n",
            "1563/1563 [==============================] - 54s 35ms/step - loss: 0.5135 - sparse_categorical_accuracy: 0.8423 - val_loss: 0.6445 - val_sparse_categorical_accuracy: 0.8098 - lr: 3.7037e-06\n",
            "Epoch 82/100\n",
            "1563/1563 [==============================] - 55s 35ms/step - loss: 0.5164 - sparse_categorical_accuracy: 0.8406 - val_loss: 0.6463 - val_sparse_categorical_accuracy: 0.8106 - lr: 3.7037e-06\n",
            "Epoch 83/100\n",
            "1563/1563 [==============================] - 55s 35ms/step - loss: 0.5042 - sparse_categorical_accuracy: 0.8456 - val_loss: 0.6452 - val_sparse_categorical_accuracy: 0.8102 - lr: 3.7037e-06\n",
            "Epoch 84/100\n",
            "1563/1563 [==============================] - 56s 36ms/step - loss: 0.5077 - sparse_categorical_accuracy: 0.8443 - val_loss: 0.6424 - val_sparse_categorical_accuracy: 0.8113 - lr: 3.7037e-06\n",
            "Epoch 85/100\n",
            "1563/1563 [==============================] - 55s 35ms/step - loss: 0.5085 - sparse_categorical_accuracy: 0.8413 - val_loss: 0.6478 - val_sparse_categorical_accuracy: 0.8097 - lr: 3.7037e-06\n",
            "Epoch 86/100\n",
            "1563/1563 [==============================] - 53s 33ms/step - loss: 0.5087 - sparse_categorical_accuracy: 0.8420 - val_loss: 0.6555 - val_sparse_categorical_accuracy: 0.8094 - lr: 3.7037e-06\n",
            "Epoch 87/100\n",
            "1563/1563 [==============================] - 51s 33ms/step - loss: 0.5072 - sparse_categorical_accuracy: 0.8451 - val_loss: 0.6510 - val_sparse_categorical_accuracy: 0.8105 - lr: 3.7037e-06\n",
            "Epoch 88/100\n",
            "1563/1563 [==============================] - 53s 34ms/step - loss: 0.5087 - sparse_categorical_accuracy: 0.8441 - val_loss: 0.6404 - val_sparse_categorical_accuracy: 0.8118 - lr: 3.7037e-06\n",
            "Epoch 89/100\n",
            "1563/1563 [==============================] - 55s 35ms/step - loss: 0.5081 - sparse_categorical_accuracy: 0.8435 - val_loss: 0.6438 - val_sparse_categorical_accuracy: 0.8104 - lr: 3.7037e-06\n",
            "Epoch 90/100\n",
            "1563/1563 [==============================] - 56s 36ms/step - loss: 0.5013 - sparse_categorical_accuracy: 0.8459 - val_loss: 0.6580 - val_sparse_categorical_accuracy: 0.8080 - lr: 3.7037e-06\n",
            "Epoch 91/100\n",
            "1563/1563 [==============================] - 56s 36ms/step - loss: 0.4986 - sparse_categorical_accuracy: 0.8465 - val_loss: 0.6392 - val_sparse_categorical_accuracy: 0.8128 - lr: 3.7037e-06\n",
            "Epoch 92/100\n",
            "1563/1563 [==============================] - 55s 35ms/step - loss: 0.5066 - sparse_categorical_accuracy: 0.8435 - val_loss: 0.6511 - val_sparse_categorical_accuracy: 0.8098 - lr: 3.7037e-06\n",
            "Epoch 93/100\n",
            "1563/1563 [==============================] - 56s 36ms/step - loss: 0.4980 - sparse_categorical_accuracy: 0.8489 - val_loss: 0.6520 - val_sparse_categorical_accuracy: 0.8087 - lr: 3.7037e-06\n",
            "Epoch 94/100\n",
            "1563/1563 [==============================] - 52s 33ms/step - loss: 0.4972 - sparse_categorical_accuracy: 0.8477 - val_loss: 0.6504 - val_sparse_categorical_accuracy: 0.8098 - lr: 3.7037e-06\n",
            "Epoch 95/100\n",
            "1563/1563 [==============================] - 55s 35ms/step - loss: 0.5039 - sparse_categorical_accuracy: 0.8454 - val_loss: 0.6511 - val_sparse_categorical_accuracy: 0.8095 - lr: 3.7037e-06\n",
            "Epoch 96/100\n",
            "1563/1563 [==============================] - 52s 33ms/step - loss: 0.4981 - sparse_categorical_accuracy: 0.8471 - val_loss: 0.6428 - val_sparse_categorical_accuracy: 0.8110 - lr: 3.7037e-06\n",
            "Epoch 97/100\n",
            "1563/1563 [==============================] - 58s 37ms/step - loss: 0.4993 - sparse_categorical_accuracy: 0.8468 - val_loss: 0.6437 - val_sparse_categorical_accuracy: 0.8115 - lr: 3.7037e-06\n",
            "Epoch 98/100\n",
            "1563/1563 [==============================] - 55s 35ms/step - loss: 0.5009 - sparse_categorical_accuracy: 0.8459 - val_loss: 0.6500 - val_sparse_categorical_accuracy: 0.8098 - lr: 3.7037e-06\n",
            "Epoch 99/100\n",
            "1563/1563 [==============================] - 52s 33ms/step - loss: 0.4988 - sparse_categorical_accuracy: 0.8454 - val_loss: 0.6426 - val_sparse_categorical_accuracy: 0.8101 - lr: 3.7037e-06\n",
            "Epoch 100/100\n",
            "1563/1563 [==============================] - 56s 36ms/step - loss: 0.4919 - sparse_categorical_accuracy: 0.8481 - val_loss: 0.6462 - val_sparse_categorical_accuracy: 0.8090 - lr: 3.7037e-06\n"
          ]
        }
      ],
      "source": [
        "opt = keras.optimizers.Adam(learning_rate=.0003)\n",
        "\n",
        "\n",
        "model.compile(optimizer=opt, loss='sparse_categorical_crossentropy',\n",
        "              metrics=['sparse_categorical_accuracy'])\n",
        "\n",
        "hist = model.fit(train_dataset, validation_data=(x_test, y_test), \n",
        "                 callbacks=callbacks_list, epochs=100, verbose=1)"
      ]
    },
    {
      "cell_type": "code",
      "execution_count": 17,
      "metadata": {
        "id": "QOKhcGD3EYXI"
      },
      "outputs": [],
      "source": [
        "model.save('AlexNet.h5')"
      ]
    },
    {
      "cell_type": "code",
      "execution_count": 18,
      "metadata": {
        "colab": {
          "base_uri": "https://localhost:8080/",
          "height": 297
        },
        "id": "N31Cn-zacFW1",
        "outputId": "daec3d68-3956-4dce-81f5-396d6cbc00c3"
      },
      "outputs": [
        {
          "data": {
            "image/png": "[encoded data removed]",
            "text/plain": [
              "<Figure size 792x288 with 2 Axes>"
            ]
          },
          "metadata": {
            "needs_background": "light"
          },
          "output_type": "display_data"
        }
      ],
      "source": [
        "plot(hist)"
      ]
    }
  ],
  "metadata": {
    "accelerator": "GPU",
    "colab": {
      "collapsed_sections": [],
      "provenance": []
    },
    "kernelspec": {
      "display_name": "Python 3.9.12 ('base')",
      "language": "python",
      "name": "python3"
    },
    "language_info": {
      "name": "python",
      "version": "3.9.12"
    },
    "vscode": {
      "interpreter": {
        "hash": "b045fddb768a69d708aeb44bac4815a8765073d6505277d1278f194b80f63e22"
      }
    }
  },
  "nbformat": 4,
  "nbformat_minor": 0
}
