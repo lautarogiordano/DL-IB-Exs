{
  "nbformat": 4,
  "nbformat_minor": 0,
  "metadata": {
    "colab": {
      "provenance": []
    },
    "kernelspec": {
      "name": "python3",
      "display_name": "Python 3"
    },
    "language_info": {
      "name": "python"
    }
  },
  "cells": [
    {
      "cell_type": "markdown",
      "source": [
        "Utilizando el código del problema anterior analice que pasa cuando se utiliza\\\n",
        "una capa densa con la información de los pixels permutada espacialmente y que\\\n",
        "pasa si en lugar de capa densa se usa una convolucional donde en las capas\\\n",
        "convolucional se asume un prior de forma espacial. Compare los resultados del\\\n",
        "problema anterior (densa y conv. para las curvas training y testing) con los\\\n",
        "resultados obtenidos haciendo la permutaciones espaciales de los pixeles. "
      ],
      "metadata": {
        "id": "1Yn1yxiuTyNn"
      }
    },
    {
      "cell_type": "code",
      "execution_count": null,
      "metadata": {
        "id": "kITRBfaYTwOv"
      },
      "outputs": [],
      "source": [
        "import numpy as np\n",
        "from matplotlib import pyplot as plt\n",
        "from tensorflow import keras"
      ]
    },
    {
      "cell_type": "code",
      "source": [
        "(x_train, y_train), (x_test, y_test) = keras.datasets.mnist.load_data()\n",
        "\n",
        "x_train = x_train.astype(float)/255\n",
        "x_test = x_test.astype(float)/255\n",
        "\n",
        "x_train.shape, x_test.shape"
      ],
      "metadata": {
        "colab": {
          "base_uri": "https://localhost:8080/"
        },
        "id": "hG4k0YCwUH-3",
        "outputId": "a97afff2-4269-4743-bf46-79dc6dff6138"
      },
      "execution_count": null,
      "outputs": [
        {
          "output_type": "stream",
          "name": "stdout",
          "text": [
            "Downloading data from https://storage.googleapis.com/tensorflow/tf-keras-datasets/mnist.npz\n",
            "11493376/11490434 [==============================] - 0s 0us/step\n",
            "11501568/11490434 [==============================] - 0s 0us/step\n"
          ]
        },
        {
          "output_type": "execute_result",
          "data": {
            "text/plain": [
              "((60000, 28, 28), (10000, 28, 28))"
            ]
          },
          "metadata": {},
          "execution_count": 2
        }
      ]
    },
    {
      "cell_type": "markdown",
      "source": [
        "Permuto espacialmente los datos"
      ],
      "metadata": {
        "id": "oB0wQXSyUfzJ"
      }
    },
    {
      "cell_type": "code",
      "source": [
        "permutation = np.random.permutation(28*28)\n",
        "\n",
        "x_train_perm = x_train.reshape(x_train.shape[0], -1)\n",
        "x_train_perm = x_train_perm[:,permutation]\n",
        "x_train_perm = x_train_perm.reshape(x_train.shape)\n",
        "x_test_perm = x_test.reshape(x_test.shape[0], -1)\n",
        "x_test_perm = x_test_perm[:,permutation]\n",
        "x_test_perm = x_test_perm.reshape(x_test.shape)\n",
        "\n",
        "x_test_perm.shape"
      ],
      "metadata": {
        "colab": {
          "base_uri": "https://localhost:8080/"
        },
        "id": "6Ys43pGAUeLN",
        "outputId": "9062ede6-a389-4e3e-a32b-9915c7b4f370"
      },
      "execution_count": null,
      "outputs": [
        {
          "output_type": "execute_result",
          "data": {
            "text/plain": [
              "(10000, 28, 28)"
            ]
          },
          "metadata": {},
          "execution_count": 3
        }
      ]
    },
    {
      "cell_type": "code",
      "source": [
        "idx = 512\n",
        "fig, (ax1, ax2) = plt.subplots(nrows=1, ncols=2, figsize=(12,5))\n",
        "ax1.imshow(x_train[idx])\n",
        "ax2.imshow(x_train_perm[idx]);"
      ],
      "metadata": {
        "colab": {
          "base_uri": "https://localhost:8080/",
          "height": 320
        },
        "id": "PZiJxFx8U5r_",
        "outputId": "076d68db-6603-4c63-ef15-c28606dcc2d3"
      },
      "execution_count": null,
      "outputs": [
        {
          "output_type": "display_data",
          "data": {
            "text/plain": [
              "<Figure size 864x360 with 2 Axes>"
            ],
            "image/png": "[encoded data removed]"
          },
          "metadata": {
            "needs_background": "light"
          }
        }
      ]
    },
    {
      "cell_type": "code",
      "source": [
        "def plot(hist):\n",
        "    fig, (ax1, ax2) = plt.subplots(nrows=1, ncols=2, figsize=(11,4))\n",
        "    ax1.plot(hist.history['loss'], label='CCE')\n",
        "    ax1.plot(hist.history['val_loss'], label='val_CCE')\n",
        "    ax1.set_xlabel('Epocas', fontsize=15)\n",
        "    ax1.set_ylabel('Loss', fontsize=15)\n",
        "    ax1.legend(loc='best')\n",
        "\n",
        "    ax2.plot(hist.history['sparse_categorical_accuracy'], label='acc')\n",
        "    ax2.plot(hist.history['val_sparse_categorical_accuracy'], label='val_acc')\n",
        "    ax2.set_xlabel('Epocas', fontsize=15)\n",
        "    ax2.set_ylabel('Accuracy', fontsize=15)\n",
        "    ax2.legend(loc='best')\n",
        "\n",
        "    fig.tight_layout()\n",
        "    plt.show()\n",
        "    return None"
      ],
      "metadata": {
        "id": "DSH-FNSJVOuN"
      },
      "execution_count": null,
      "outputs": []
    },
    {
      "cell_type": "markdown",
      "source": [
        "Primero la red densa. Mi hipotesis es que no va a cambiar nada"
      ],
      "metadata": {
        "id": "8or-a67kVD5w"
      }
    },
    {
      "cell_type": "code",
      "source": [
        "keras.backend.clear_session()\n",
        "\n",
        "reg = keras.regularizers.L2(l2=1e-4)\n",
        "\n",
        "input = keras.layers.Input(shape=(28,28))\n",
        "flat = keras.layers.Flatten()(input)\n",
        "\n",
        "l1 = keras.layers.Dense(256, activation='relu', kernel_regularizer=reg)(flat)\n",
        "drop1 = keras.layers.Dropout(rate=.2)(l1)\n",
        "\n",
        "l2 = keras.layers.Dense(128, activation='relu', kernel_regularizer=reg)(drop1)\n",
        "drop2 = keras.layers.Dropout(rate=.2)(l2)\n",
        "\n",
        "l3 = keras.layers.Dense(10, activation='relu', kernel_regularizer=reg)(drop2)\n",
        "\n",
        "output = keras.layers.Dense(784, activation='sigmoid', kernel_regularizer=reg)(l3)\n",
        "\n",
        "model = keras.models.Model(inputs=input, outputs=output)\n",
        "\n",
        "model.summary()"
      ],
      "metadata": {
        "colab": {
          "base_uri": "https://localhost:8080/"
        },
        "id": "K2AAHL2BVMN0",
        "outputId": "5fe46cd2-8db0-4099-d71f-f7d8e4e310a1"
      },
      "execution_count": null,
      "outputs": [
        {
          "output_type": "stream",
          "name": "stdout",
          "text": [
            "Model: \"model\"\n",
            "_________________________________________________________________\n",
            " Layer (type)                Output Shape              Param #   \n",
            "=================================================================\n",
            " input_1 (InputLayer)        [(None, 28, 28)]          0         \n",
            "                                                                 \n",
            " flatten (Flatten)           (None, 784)               0         \n",
            "                                                                 \n",
            " dense (Dense)               (None, 256)               200960    \n",
            "                                                                 \n",
            " dropout (Dropout)           (None, 256)               0         \n",
            "                                                                 \n",
            " dense_1 (Dense)             (None, 128)               32896     \n",
            "                                                                 \n",
            " dropout_1 (Dropout)         (None, 128)               0         \n",
            "                                                                 \n",
            " dense_2 (Dense)             (None, 10)                1290      \n",
            "                                                                 \n",
            " dense_3 (Dense)             (None, 784)               8624      \n",
            "                                                                 \n",
            "=================================================================\n",
            "Total params: 243,770\n",
            "Trainable params: 243,770\n",
            "Non-trainable params: 0\n",
            "_________________________________________________________________\n"
          ]
        }
      ]
    },
    {
      "cell_type": "code",
      "source": [
        "opt = keras.optimizers.Adam(learning_rate=.005)\n",
        "\n",
        "model.compile(optimizer=opt, loss='sparse_categorical_crossentropy',\n",
        "              metrics=['sparse_categorical_accuracy'])\n",
        "\n",
        "hist = model.fit(x_train_perm, y_train, validation_data=(x_test_perm, y_test), \n",
        "                 epochs=10, batch_size=128, verbose=2)"
      ],
      "metadata": {
        "colab": {
          "base_uri": "https://localhost:8080/"
        },
        "id": "MSMqyQMGVTCL",
        "outputId": "670da363-73d2-475a-f73d-52bd6a168b0a"
      },
      "execution_count": null,
      "outputs": [
        {
          "output_type": "stream",
          "name": "stdout",
          "text": [
            "Epoch 1/10\n",
            "469/469 - 5s - loss: 0.5395 - sparse_categorical_accuracy: 0.8707 - val_loss: 0.2583 - val_sparse_categorical_accuracy: 0.9510 - 5s/epoch - 10ms/step\n",
            "Epoch 2/10\n",
            "469/469 - 4s - loss: 0.2873 - sparse_categorical_accuracy: 0.9462 - val_loss: 0.2451 - val_sparse_categorical_accuracy: 0.9598 - 4s/epoch - 8ms/step\n",
            "Epoch 3/10\n",
            "469/469 - 4s - loss: 0.2724 - sparse_categorical_accuracy: 0.9539 - val_loss: 0.2326 - val_sparse_categorical_accuracy: 0.9670 - 4s/epoch - 9ms/step\n",
            "Epoch 4/10\n",
            "469/469 - 4s - loss: 0.2618 - sparse_categorical_accuracy: 0.9584 - val_loss: 0.2266 - val_sparse_categorical_accuracy: 0.9688 - 4s/epoch - 8ms/step\n",
            "Epoch 5/10\n",
            "469/469 - 4s - loss: 0.2627 - sparse_categorical_accuracy: 0.9578 - val_loss: 0.2151 - val_sparse_categorical_accuracy: 0.9726 - 4s/epoch - 8ms/step\n",
            "Epoch 6/10\n",
            "469/469 - 4s - loss: 0.2561 - sparse_categorical_accuracy: 0.9590 - val_loss: 0.2290 - val_sparse_categorical_accuracy: 0.9690 - 4s/epoch - 8ms/step\n",
            "Epoch 7/10\n",
            "469/469 - 4s - loss: 0.2602 - sparse_categorical_accuracy: 0.9596 - val_loss: 0.2265 - val_sparse_categorical_accuracy: 0.9691 - 4s/epoch - 8ms/step\n",
            "Epoch 8/10\n",
            "469/469 - 4s - loss: 0.2540 - sparse_categorical_accuracy: 0.9609 - val_loss: 0.2374 - val_sparse_categorical_accuracy: 0.9648 - 4s/epoch - 9ms/step\n",
            "Epoch 9/10\n",
            "469/469 - 5s - loss: 0.2538 - sparse_categorical_accuracy: 0.9607 - val_loss: 0.2338 - val_sparse_categorical_accuracy: 0.9689 - 5s/epoch - 10ms/step\n",
            "Epoch 10/10\n",
            "469/469 - 5s - loss: 0.2487 - sparse_categorical_accuracy: 0.9615 - val_loss: 0.2140 - val_sparse_categorical_accuracy: 0.9733 - 5s/epoch - 10ms/step\n"
          ]
        }
      ]
    },
    {
      "cell_type": "code",
      "source": [
        "plot(hist)"
      ],
      "metadata": {
        "colab": {
          "base_uri": "https://localhost:8080/",
          "height": 297
        },
        "id": "Ww-jRXUPVkuo",
        "outputId": "d50c570a-2cd7-46f2-b6b5-918fa9469be2"
      },
      "execution_count": null,
      "outputs": [
        {
          "output_type": "display_data",
          "data": {
            "text/plain": [
              "<Figure size 792x288 with 2 Axes>"
            ],
            "image/png": "[encoded data removed]"
          },
          "metadata": {
            "needs_background": "light"
          }
        }
      ]
    },
    {
      "cell_type": "markdown",
      "source": [
        "Ahora la red convolucional. Aca si es importante la info espacial (creo)"
      ],
      "metadata": {
        "id": "vBY3ZmXGVltE"
      }
    },
    {
      "cell_type": "code",
      "source": [
        "keras.backend.clear_session()\n",
        "\n",
        "reg = keras.regularizers.L2(l2=1e-4)\n",
        "drop_r = 0.1\n",
        "\n",
        "input = keras.layers.Input(shape=(28,28,1))\n",
        "\n",
        "l1 = keras.layers.Conv2D(32, 5, activation='relu', padding='same')(input)\n",
        "pool1 = keras.layers.MaxPooling2D()(l1)\n",
        "drop1 = keras.layers.Dropout(rate=drop_r)(pool1)\n",
        "\n",
        "l2 = keras.layers.Conv2D(32, 3, activation='relu', padding='same')(drop1)\n",
        "pool2 = keras.layers.MaxPooling2D()(l2)\n",
        "drop2 = keras.layers.Dropout(rate=drop_r)(pool2)\n",
        "\n",
        "l3 = keras.layers.Conv2D(64, 2, activation='relu', padding='same')(drop2)\n",
        "pool3 = keras.layers.MaxPooling2D()(l3)\n",
        "drop3 = keras.layers.Dropout(rate=drop_r)(pool3)\n",
        "\n",
        "flat = keras.layers.Flatten()(drop3)\n",
        "\n",
        "#le voy a sacar la capa densa para no hacer trampa\n",
        "#l4 = keras.layers.Dense(50, activation='relu', kernel_regularizer=reg)(flat)\n",
        "#drop4 = keras.layers.Dropout(rate=drop_r)(l4)\n",
        "\n",
        "output = keras.layers.Dense(10, activation='sigmoid', kernel_regularizer=reg)(flat)\n",
        "\n",
        "model = keras.models.Model(inputs=input, outputs=output)\n",
        "\n",
        "model.summary()"
      ],
      "metadata": {
        "colab": {
          "base_uri": "https://localhost:8080/"
        },
        "id": "29Df0X1mVlRx",
        "outputId": "36247e68-97ba-4598-d853-818d1ef540ab"
      },
      "execution_count": null,
      "outputs": [
        {
          "output_type": "stream",
          "name": "stdout",
          "text": [
            "Model: \"model\"\n",
            "_________________________________________________________________\n",
            " Layer (type)                Output Shape              Param #   \n",
            "=================================================================\n",
            " input_1 (InputLayer)        [(None, 28, 28, 1)]       0         \n",
            "                                                                 \n",
            " conv2d (Conv2D)             (None, 28, 28, 32)        832       \n",
            "                                                                 \n",
            " max_pooling2d (MaxPooling2D  (None, 14, 14, 32)       0         \n",
            " )                                                               \n",
            "                                                                 \n",
            " dropout (Dropout)           (None, 14, 14, 32)        0         \n",
            "                                                                 \n",
            " conv2d_1 (Conv2D)           (None, 14, 14, 32)        9248      \n",
            "                                                                 \n",
            " max_pooling2d_1 (MaxPooling  (None, 7, 7, 32)         0         \n",
            " 2D)                                                             \n",
            "                                                                 \n",
            " dropout_1 (Dropout)         (None, 7, 7, 32)          0         \n",
            "                                                                 \n",
            " conv2d_2 (Conv2D)           (None, 7, 7, 64)          8256      \n",
            "                                                                 \n",
            " max_pooling2d_2 (MaxPooling  (None, 3, 3, 64)         0         \n",
            " 2D)                                                             \n",
            "                                                                 \n",
            " dropout_2 (Dropout)         (None, 3, 3, 64)          0         \n",
            "                                                                 \n",
            " flatten (Flatten)           (None, 576)               0         \n",
            "                                                                 \n",
            " dense (Dense)               (None, 10)                5770      \n",
            "                                                                 \n",
            "=================================================================\n",
            "Total params: 24,106\n",
            "Trainable params: 24,106\n",
            "Non-trainable params: 0\n",
            "_________________________________________________________________\n"
          ]
        }
      ]
    },
    {
      "cell_type": "code",
      "source": [
        "opt = keras.optimizers.Adam(learning_rate=.001)\n",
        "\n",
        "model.compile(optimizer=opt, loss='sparse_categorical_crossentropy',\n",
        "              metrics=['sparse_categorical_accuracy'])\n",
        "\n",
        "hist = model.fit(x_train_perm, y_train, validation_data=(x_test_perm, y_test), \n",
        "                 epochs=15, batch_size=256, verbose=1)"
      ],
      "metadata": {
        "colab": {
          "base_uri": "https://localhost:8080/"
        },
        "id": "DAvSK0JXV4tC",
        "outputId": "31a503a2-ce2d-4897-aba2-1a2fcff4ec51"
      },
      "execution_count": null,
      "outputs": [
        {
          "output_type": "stream",
          "name": "stdout",
          "text": [
            "Epoch 1/15\n",
            "235/235 [==============================] - 65s 276ms/step - loss: 1.2626 - sparse_categorical_accuracy: 0.5871 - val_loss: 0.5215 - val_sparse_categorical_accuracy: 0.8408\n",
            "Epoch 2/15\n",
            "235/235 [==============================] - 65s 276ms/step - loss: 0.5241 - sparse_categorical_accuracy: 0.8361 - val_loss: 0.3422 - val_sparse_categorical_accuracy: 0.8968\n",
            "Epoch 3/15\n",
            "235/235 [==============================] - 65s 275ms/step - loss: 0.3921 - sparse_categorical_accuracy: 0.8802 - val_loss: 0.2721 - val_sparse_categorical_accuracy: 0.9190\n",
            "Epoch 4/15\n",
            "235/235 [==============================] - 64s 273ms/step - loss: 0.3307 - sparse_categorical_accuracy: 0.9000 - val_loss: 0.2358 - val_sparse_categorical_accuracy: 0.9294\n",
            "Epoch 5/15\n",
            "235/235 [==============================] - 64s 274ms/step - loss: 0.2901 - sparse_categorical_accuracy: 0.9121 - val_loss: 0.2105 - val_sparse_categorical_accuracy: 0.9348\n",
            "Epoch 6/15\n",
            "235/235 [==============================] - 64s 273ms/step - loss: 0.2603 - sparse_categorical_accuracy: 0.9221 - val_loss: 0.1956 - val_sparse_categorical_accuracy: 0.9396\n",
            "Epoch 7/15\n",
            "235/235 [==============================] - 64s 273ms/step - loss: 0.2381 - sparse_categorical_accuracy: 0.9281 - val_loss: 0.1789 - val_sparse_categorical_accuracy: 0.9462\n",
            "Epoch 8/15\n",
            "235/235 [==============================] - 64s 273ms/step - loss: 0.2250 - sparse_categorical_accuracy: 0.9323 - val_loss: 0.1712 - val_sparse_categorical_accuracy: 0.9466\n",
            "Epoch 9/15\n",
            "235/235 [==============================] - 64s 272ms/step - loss: 0.2110 - sparse_categorical_accuracy: 0.9363 - val_loss: 0.1576 - val_sparse_categorical_accuracy: 0.9519\n",
            "Epoch 10/15\n",
            "235/235 [==============================] - 64s 273ms/step - loss: 0.2007 - sparse_categorical_accuracy: 0.9396 - val_loss: 0.1526 - val_sparse_categorical_accuracy: 0.9550\n",
            "Epoch 11/15\n",
            "235/235 [==============================] - 64s 272ms/step - loss: 0.1880 - sparse_categorical_accuracy: 0.9431 - val_loss: 0.1493 - val_sparse_categorical_accuracy: 0.9553\n",
            "Epoch 12/15\n",
            "235/235 [==============================] - 64s 272ms/step - loss: 0.1790 - sparse_categorical_accuracy: 0.9454 - val_loss: 0.1414 - val_sparse_categorical_accuracy: 0.9571\n",
            "Epoch 13/15\n",
            "235/235 [==============================] - 64s 273ms/step - loss: 0.1732 - sparse_categorical_accuracy: 0.9476 - val_loss: 0.1349 - val_sparse_categorical_accuracy: 0.9603\n",
            "Epoch 14/15\n",
            "235/235 [==============================] - 64s 273ms/step - loss: 0.1637 - sparse_categorical_accuracy: 0.9503 - val_loss: 0.1341 - val_sparse_categorical_accuracy: 0.9599\n",
            "Epoch 15/15\n",
            "235/235 [==============================] - 67s 285ms/step - loss: 0.1589 - sparse_categorical_accuracy: 0.9520 - val_loss: 0.1312 - val_sparse_categorical_accuracy: 0.9614\n"
          ]
        }
      ]
    },
    {
      "cell_type": "code",
      "source": [
        "plot(hist)"
      ],
      "metadata": {
        "colab": {
          "base_uri": "https://localhost:8080/",
          "height": 297
        },
        "id": "5WNJ087paCgL",
        "outputId": "08f5fad6-4517-408f-d428-060eb43e3bb9"
      },
      "execution_count": null,
      "outputs": [
        {
          "output_type": "display_data",
          "data": {
            "text/plain": [
              "<Figure size 792x288 with 2 Axes>"
            ],
            "image/png": "[encoded data removed]"
          },
          "metadata": {
            "needs_background": "light"
          }
        }
      ]
    },
    {
      "cell_type": "markdown",
      "source": [
        "Bueno, baja un 3~4% la precision, me esperaba mas"
      ],
      "metadata": {
        "id": "1Slhtd-4aPB5"
      }
    }
  ]
}