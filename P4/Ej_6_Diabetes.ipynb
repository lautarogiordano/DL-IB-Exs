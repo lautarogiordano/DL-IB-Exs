{
 "cells": [
  {
   "cell_type": "code",
   "execution_count": 18,
   "metadata": {},
   "outputs": [],
   "source": [
    "import numpy as np\n",
    "import pandas as pd\n",
    "from tensorflow import keras\n",
    "from matplotlib import pyplot as plt\n",
    "from sklearn.model_selection import train_test_split\n",
    "\n",
    "%matplotlib inline"
   ]
  },
  {
   "cell_type": "code",
   "execution_count": 21,
   "metadata": {},
   "outputs": [
    {
     "data": {
      "text/html": [
       "<div>\n",
       "<style scoped>\n",
       "    .dataframe tbody tr th:only-of-type {\n",
       "        vertical-align: middle;\n",
       "    }\n",
       "\n",
       "    .dataframe tbody tr th {\n",
       "        vertical-align: top;\n",
       "    }\n",
       "\n",
       "    .dataframe thead th {\n",
       "        text-align: right;\n",
       "    }\n",
       "</style>\n",
       "<table border=\"1\" class=\"dataframe\">\n",
       "  <thead>\n",
       "    <tr style=\"text-align: right;\">\n",
       "      <th></th>\n",
       "      <th>6</th>\n",
       "      <th>148</th>\n",
       "      <th>72</th>\n",
       "      <th>35</th>\n",
       "      <th>0</th>\n",
       "      <th>33.6</th>\n",
       "      <th>0.627</th>\n",
       "      <th>50</th>\n",
       "      <th>1</th>\n",
       "    </tr>\n",
       "  </thead>\n",
       "  <tbody>\n",
       "    <tr>\n",
       "      <th>0</th>\n",
       "      <td>1</td>\n",
       "      <td>85</td>\n",
       "      <td>66</td>\n",
       "      <td>29</td>\n",
       "      <td>0</td>\n",
       "      <td>26.6</td>\n",
       "      <td>0.351</td>\n",
       "      <td>31</td>\n",
       "      <td>0</td>\n",
       "    </tr>\n",
       "    <tr>\n",
       "      <th>1</th>\n",
       "      <td>8</td>\n",
       "      <td>183</td>\n",
       "      <td>64</td>\n",
       "      <td>0</td>\n",
       "      <td>0</td>\n",
       "      <td>23.3</td>\n",
       "      <td>0.672</td>\n",
       "      <td>32</td>\n",
       "      <td>1</td>\n",
       "    </tr>\n",
       "    <tr>\n",
       "      <th>2</th>\n",
       "      <td>1</td>\n",
       "      <td>89</td>\n",
       "      <td>66</td>\n",
       "      <td>23</td>\n",
       "      <td>94</td>\n",
       "      <td>28.1</td>\n",
       "      <td>0.167</td>\n",
       "      <td>21</td>\n",
       "      <td>0</td>\n",
       "    </tr>\n",
       "    <tr>\n",
       "      <th>3</th>\n",
       "      <td>0</td>\n",
       "      <td>137</td>\n",
       "      <td>40</td>\n",
       "      <td>35</td>\n",
       "      <td>168</td>\n",
       "      <td>43.1</td>\n",
       "      <td>2.288</td>\n",
       "      <td>33</td>\n",
       "      <td>1</td>\n",
       "    </tr>\n",
       "    <tr>\n",
       "      <th>4</th>\n",
       "      <td>5</td>\n",
       "      <td>116</td>\n",
       "      <td>74</td>\n",
       "      <td>0</td>\n",
       "      <td>0</td>\n",
       "      <td>25.6</td>\n",
       "      <td>0.201</td>\n",
       "      <td>30</td>\n",
       "      <td>0</td>\n",
       "    </tr>\n",
       "  </tbody>\n",
       "</table>\n",
       "</div>"
      ],
      "text/plain": [
       "   6  148  72  35    0  33.6  0.627  50  1\n",
       "0  1   85  66  29    0  26.6  0.351  31  0\n",
       "1  8  183  64   0    0  23.3  0.672  32  1\n",
       "2  1   89  66  23   94  28.1  0.167  21  0\n",
       "3  0  137  40  35  168  43.1  2.288  33  1\n",
       "4  5  116  74   0    0  25.6  0.201  30  0"
      ]
     },
     "execution_count": 21,
     "metadata": {},
     "output_type": "execute_result"
    }
   ],
   "source": [
    "df = pd.read_csv('pima-indians-diabetes.csv')\n",
    "df.head()"
   ]
  },
  {
   "cell_type": "code",
   "execution_count": 30,
   "metadata": {},
   "outputs": [
    {
     "data": {
      "text/plain": [
       "((613, 8), (613,))"
      ]
     },
     "execution_count": 30,
     "metadata": {},
     "output_type": "execute_result"
    }
   ],
   "source": [
    "train, test = train_test_split(df, test_size=0.2)\n",
    "\n",
    "train = pd.DataFrame.to_numpy(train)\n",
    "test = pd.DataFrame.to_numpy(test)\n",
    "\n",
    "xtrain = train[:,:-1]\n",
    "ytrain = train[:,-1]\n",
    "\n",
    "xtest = test[:,:-1]\n",
    "ytest = test[:,-1]\n",
    "\n",
    "xtrain.shape, ytrain.shape"
   ]
  },
  {
   "cell_type": "code",
   "execution_count": 178,
   "metadata": {},
   "outputs": [],
   "source": [
    "def run_model(xtrain, ytrain, opt, val_data=(None, None), reg=None, epochs=10, mode='val'):\n",
    "\n",
    "    keras.backend.clear_session()\n",
    "\n",
    "    input = keras.layers.Input(shape=(8,))\n",
    "\n",
    "    l1 = keras.layers.Dense(10, activation='relu', use_bias=True,\n",
    "                            kernel_regularizer=reg)(input)\n",
    "\n",
    "    l2 = keras.layers.Dense(10, activation='relu', use_bias=True,\n",
    "                            kernel_regularizer=reg)(l1)\n",
    "\n",
    "    output = keras.layers.Dense(1, activation='linear', use_bias=True)(l2)\n",
    "\n",
    "    model = keras.Model(inputs=input, outputs=output)\n",
    "\n",
    "    model.compile(optimizer=opt, loss=keras.losses.BinaryCrossentropy(from_logits=True), \n",
    "                  metrics=[keras.metrics.BinaryAccuracy(name='acc')])\n",
    "\n",
    "    hist = model.fit(xtrain, ytrain, validation_data=val_data, epochs=epochs, \n",
    "                     batch_size=50, verbose=0)\n",
    "\n",
    "    if mode=='val':\n",
    "        return hist\n",
    "    if mode=='test':\n",
    "        return hist, model"
   ]
  },
  {
   "cell_type": "code",
   "execution_count": 115,
   "metadata": {},
   "outputs": [
    {
     "name": "stdout",
     "output_type": "stream",
     "text": [
      "lr: 0.006838\t reg: 0.024198\t train_acc: 0.712831\t train_std: 0.031683\t val_acc: 0.706557\t val_std: 0.041278\t (1/10) \n",
      "lr: 0.067483\t reg: 0.013246\t train_acc: 0.665173\t train_std: 0.012790\t val_acc: 0.667213\t val_std: 0.016878\t (2/10) \n",
      "lr: 0.000209\t reg: 0.021410\t train_acc: 0.668432\t train_std: 0.026939\t val_acc: 0.654098\t val_std: 0.015025\t (3/10) \n",
      "lr: 0.031780\t reg: 0.047056\t train_acc: 0.663951\t train_std: 0.011376\t val_acc: 0.662295\t val_std: 0.008031\t (4/10) \n",
      "lr: 0.043342\t reg: 0.016552\t train_acc: 0.675764\t train_std: 0.018371\t val_acc: 0.678689\t val_std: 0.027627\t (5/10) \n",
      "lr: 0.000157\t reg: 0.002078\t train_acc: 0.644807\t train_std: 0.057050\t val_acc: 0.640984\t val_std: 0.050101\t (6/10) \n",
      "lr: 0.000396\t reg: 0.002114\t train_acc: 0.680652\t train_std: 0.018143\t val_acc: 0.668852\t val_std: 0.023529\t (7/10) \n",
      "lr: 0.000802\t reg: 0.043501\t train_acc: 0.710387\t train_std: 0.017301\t val_acc: 0.695082\t val_std: 0.025607\t (8/10) \n",
      "lr: 0.003735\t reg: 0.003298\t train_acc: 0.711609\t train_std: 0.010975\t val_acc: 0.722951\t val_std: 0.018977\t (9/10) \n",
      "lr: 0.012588\t reg: 0.079626\t train_acc: 0.702240\t train_std: 0.014309\t val_acc: 0.686885\t val_std: 0.026636\t (10/10) \n"
     ]
    }
   ],
   "source": [
    "#Loop de validacion y k-folding\n",
    "epochs = 20\n",
    "itmax = 10\n",
    "k_fold = 5\n",
    "m = xtrain.shape[0]\n",
    "batch = int(m/k_fold)\n",
    "\n",
    "for it in range(itmax):\n",
    "    lambda_ = 10**np.random.uniform(-3, -1)\n",
    "    lr = 10**np.random.uniform(-4, -1)\n",
    "    acc = np.zeros((5,), dtype=float)\n",
    "    val_acc = np.copy(acc)\n",
    "\n",
    "    reg = keras.regularizers.L2(lambda_)\n",
    "    opt = keras.optimizers.Adam(lr)\n",
    "    \n",
    "    #Loop con mi k-folding criollo\n",
    "    for k in range(k_fold):\n",
    "        idx = np.ones((m,))\n",
    "        idx[k*batch:(k+1)*batch] = 0\n",
    "\n",
    "        xfold = xtrain[idx==1]\n",
    "        yfold = ytrain[idx==1]\n",
    "        xval = xtrain[idx==0]\n",
    "        yval = ytrain[idx==0]\n",
    "        \n",
    "        hist = run_model(xfold, yfold, opt, (xval, yval), reg, epochs)\n",
    "        acc[k] = hist.history['acc'][-1]\n",
    "        val_acc[k] = hist.history['val_acc'][-1]\n",
    "    \n",
    "    mu = np.mean(acc)\n",
    "    std = np.std(acc)\n",
    "    mu_val = np.mean(val_acc)\n",
    "    std_val = np.std(val_acc)\n",
    "\n",
    "    print('lr: {:.6f}\\t reg: {:.6f}\\t train_acc: {:.6f}\\t train_std: {:.6f}\\t val_acc: {:.6f}\\t val_std: {:.6f}\\t ({}/{}) '.format(lr, \n",
    "           lambda_, mu, std, mu_val, std_val, it+1, itmax))"
   ]
  },
  {
   "cell_type": "code",
   "execution_count": 179,
   "metadata": {},
   "outputs": [],
   "source": [
    "#Ahora hago kfold con los hiperparametros buenos\n",
    "#y corro 200 epocas\n",
    "\n",
    "reg = keras.regularizers.L2(.003)\n",
    "opt = keras.optimizers.Adam(.0035)\n",
    "epochs=500\n",
    "\n",
    "acc = np.zeros((epochs, 5), dtype=float)\n",
    "val_acc = np.copy(acc)\n",
    "#Loop con mi k-folding criollo\n",
    "for k in range(k_fold):\n",
    "    idx = np.ones((m,))\n",
    "    idx[k*batch:(k+1)*batch] = 0\n",
    "\n",
    "    xfold = xtrain[idx==1]\n",
    "    yfold = ytrain[idx==1]\n",
    "    xval = xtrain[idx==0]\n",
    "    yval = ytrain[idx==0]\n",
    "        \n",
    "    hist = run_model(xfold, yfold, opt, (xval, yval), reg, epochs)\n",
    "    acc[:, k] = hist.history['acc']\n",
    "    val_acc[:, k] = hist.history['val_acc']\n",
    "\n",
    "mu = np.mean(acc, axis=1)\n",
    "std = np.std(acc, axis=1)\n",
    "mu_val = np.mean(val_acc, axis=1)\n",
    "std_val = np.std(val_acc, axis=1)"
   ]
  },
  {
   "cell_type": "code",
   "execution_count": 180,
   "metadata": {},
   "outputs": [
    {
     "data": {
      "image/png": "[encoded data removed]",
      "text/plain": [
       "<Figure size 432x288 with 1 Axes>"
      ]
     },
     "metadata": {
      "needs_background": "light"
     },
     "output_type": "display_data"
    }
   ],
   "source": [
    "fig, ax1 = plt.subplots(nrows=1, ncols=1, figsize=(6,4))\n",
    "ax1.plot(mu, '-', label='train')\n",
    "ax1.fill_between(np.arange(epochs), mu - std, mu + std, alpha=0.5)\n",
    "ax1.grid()\n",
    "\n",
    "ax1.plot(mu_val, '-', label='val')\n",
    "ax1.fill_between(np.arange(epochs), mu_val - std_val, mu_val + std_val, alpha=0.5)\n",
    "ax1.legend(loc='best')\n",
    "\n",
    "fig.tight_layout()\n",
    "plt.show()"
   ]
  },
  {
   "cell_type": "code",
   "execution_count": 181,
   "metadata": {},
   "outputs": [],
   "source": [
    "hist, model = run_model(xtrain, ytrain, opt, (xtest, ytest), reg, epochs=500, mode='test')"
   ]
  },
  {
   "cell_type": "code",
   "execution_count": 182,
   "metadata": {},
   "outputs": [
    {
     "name": "stdout",
     "output_type": "stream",
     "text": [
      "5/5 [==============================] - 0s 7ms/step\n"
     ]
    },
    {
     "data": {
      "text/plain": [
       "0.7467533"
      ]
     },
     "execution_count": 182,
     "metadata": {},
     "output_type": "execute_result"
    }
   ],
   "source": [
    "preds = model.predict(xtest)\n",
    "keras.metrics.BinaryAccuracy()(ytest, preds).numpy()"
   ]
  },
  {
   "cell_type": "code",
   "execution_count": 192,
   "metadata": {},
   "outputs": [
    {
     "ename": "IndexError",
     "evalue": "index 8 is out of bounds for axis 1 with size 8",
     "output_type": "error",
     "traceback": [
      "\u001b[1;31m---------------------------------------------------------------------------\u001b[0m",
      "\u001b[1;31mIndexError\u001b[0m                                Traceback (most recent call last)",
      "\u001b[1;32mc:\\Users\\Lautaro\\Desktop\\Lautaro\\asd\\2021\\Doctorado\\Materias\\Deep Learning (2020)\\Practicas\\Mias\\P3\\Ej_6.ipynb Celda 10\u001b[0m in \u001b[0;36m<cell line: 2>\u001b[1;34m()\u001b[0m\n\u001b[0;32m      <a href='vscode-notebook-cell:/c%3A/Users/Lautaro/Desktop/Lautaro/asd/2021/Doctorado/Materias/Deep%20Learning%20%282020%29/Practicas/Mias/P3/Ej_6.ipynb#X20sZmlsZQ%3D%3D?line=0'>1</a>\u001b[0m idx \u001b[39m=\u001b[39m \u001b[39m8\u001b[39m\n\u001b[1;32m----> <a href='vscode-notebook-cell:/c%3A/Users/Lautaro/Desktop/Lautaro/asd/2021/Doctorado/Materias/Deep%20Learning%20%282020%29/Practicas/Mias/P3/Ej_6.ipynb#X20sZmlsZQ%3D%3D?line=1'>2</a>\u001b[0m plt\u001b[39m.\u001b[39mscatter(xtrain[:,idx], ytrain)\n",
      "\u001b[1;31mIndexError\u001b[0m: index 8 is out of bounds for axis 1 with size 8"
     ]
    }
   ],
   "source": [
    "idx = 8\n",
    "plt.scatter(xtrain[:,idx], ytrain)"
   ]
  }
 ],
 "metadata": {
  "kernelspec": {
   "display_name": "Python 3.9.12 ('base')",
   "language": "python",
   "name": "python3"
  },
  "language_info": {
   "codemirror_mode": {
    "name": "ipython",
    "version": 3
   },
   "file_extension": ".py",
   "mimetype": "text/x-python",
   "name": "python",
   "nbconvert_exporter": "python",
   "pygments_lexer": "ipython3",
   "version": "3.9.12"
  },
  "orig_nbformat": 4,
  "vscode": {
   "interpreter": {
    "hash": "b045fddb768a69d708aeb44bac4815a8765073d6505277d1278f194b80f63e22"
   }
  }
 },
 "nbformat": 4,
 "nbformat_minor": 2
}
