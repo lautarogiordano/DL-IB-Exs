{
 "cells": [
  {
   "cell_type": "code",
   "execution_count": 2,
   "metadata": {},
   "outputs": [],
   "source": [
    "import numpy as np\n",
    "import pandas as pd\n",
    "from tensorflow import keras\n",
    "from matplotlib import pyplot as plt\n",
    "import wandb\n",
    "from wandb.keras import WandbCallback\n",
    "\n",
    "%matplotlib inline"
   ]
  },
  {
   "cell_type": "markdown",
   "metadata": {},
   "source": [
    "Voy a probar usar wandb"
   ]
  },
  {
   "cell_type": "code",
   "execution_count": 10,
   "metadata": {},
   "outputs": [
    {
     "data": {
      "text/html": [
       "Finishing last run (ID:3ohafwx7) before initializing another..."
      ],
      "text/plain": [
       "<IPython.core.display.HTML object>"
      ]
     },
     "metadata": {},
     "output_type": "display_data"
    },
    {
     "data": {
      "text/html": [
       "Waiting for W&B process to finish... <strong style=\"color:green\">(success).</strong>"
      ],
      "text/plain": [
       "<IPython.core.display.HTML object>"
      ]
     },
     "metadata": {},
     "output_type": "display_data"
    },
    {
     "data": {
      "application/vnd.jupyter.widget-view+json": {
       "model_id": "6e8ed563cea44572bd33c7f9c4fa63b7",
       "version_major": 2,
       "version_minor": 0
      },
      "text/plain": [
       "VBox(children=(Label(value='0.888 MB of 0.888 MB uploaded (0.008 MB deduped)\\r'), FloatProgress(value=1.0, max…"
      ]
     },
     "metadata": {},
     "output_type": "display_data"
    },
    {
     "data": {
      "text/html": [
       "<style>\n",
       "    table.wandb td:nth-child(1) { padding: 0 10px; text-align: left ; width: auto;} td:nth-child(2) {text-align: left ; width: 100%}\n",
       "    .wandb-row { display: flex; flex-direction: row; flex-wrap: wrap; justify-content: flex-start; width: 100% }\n",
       "    .wandb-col { display: flex; flex-direction: column; flex-basis: 100%; flex: 1; padding: 10px; }\n",
       "    </style>\n",
       "<div class=\"wandb-row\"><div class=\"wandb-col\"><h3>Run history:</h3><br/><table class=\"wandb\"><tr><td>epoch</td><td>▁▂▃▃▄▅▆▆▇█</td></tr><tr><td>loss</td><td>█▆▄▂▁▁▁▁▁▁</td></tr><tr><td>mse</td><td>█▆▄▁▁▁▁▁▁▁</td></tr><tr><td>val_loss</td><td>█▇▃▁▁▁▁▁▁▁</td></tr><tr><td>val_mse</td><td>█▇▂▁▁▁▁▁▁▁</td></tr></table><br/></div><div class=\"wandb-col\"><h3>Run summary:</h3><br/><table class=\"wandb\"><tr><td>GFLOPs</td><td>0.0</td></tr><tr><td>best_epoch</td><td>9</td></tr><tr><td>best_val_loss</td><td>0.00417</td></tr><tr><td>epoch</td><td>9</td></tr><tr><td>loss</td><td>0.00438</td></tr><tr><td>mse</td><td>0.00042</td></tr><tr><td>val_loss</td><td>0.00417</td></tr><tr><td>val_mse</td><td>0.00038</td></tr></table><br/></div></div>"
      ],
      "text/plain": [
       "<IPython.core.display.HTML object>"
      ]
     },
     "metadata": {},
     "output_type": "display_data"
    },
    {
     "data": {
      "text/html": [
       "Synced <strong style=\"color:#cdcd00\">lr=0.001, lambda=0.001, epochs=10</strong>: <a href=\"https://wandb.ai/carp/Wandb%20testing/runs/3ohafwx7\" target=\"_blank\">https://wandb.ai/carp/Wandb%20testing/runs/3ohafwx7</a><br/>Synced 6 W&B file(s), 0 media file(s), 31 artifact file(s) and 1 other file(s)"
      ],
      "text/plain": [
       "<IPython.core.display.HTML object>"
      ]
     },
     "metadata": {},
     "output_type": "display_data"
    },
    {
     "data": {
      "text/html": [
       "Find logs at: <code>.\\wandb\\run-20221001_154512-3ohafwx7\\logs</code>"
      ],
      "text/plain": [
       "<IPython.core.display.HTML object>"
      ]
     },
     "metadata": {},
     "output_type": "display_data"
    },
    {
     "data": {
      "text/html": [
       "Successfully finished last run (ID:3ohafwx7). Initializing new run:<br/>"
      ],
      "text/plain": [
       "<IPython.core.display.HTML object>"
      ]
     },
     "metadata": {},
     "output_type": "display_data"
    },
    {
     "data": {
      "application/vnd.jupyter.widget-view+json": {
       "model_id": "c19a560e919c484c836c112c35ee9f5e",
       "version_major": 2,
       "version_minor": 0
      },
      "text/plain": [
       "VBox(children=(Label(value='Waiting for wandb.init()...\\r'), FloatProgress(value=0.03336806297302246, max=1.0)…"
      ]
     },
     "metadata": {},
     "output_type": "display_data"
    },
    {
     "data": {
      "text/html": [
       "Tracking run with wandb version 0.13.3"
      ],
      "text/plain": [
       "<IPython.core.display.HTML object>"
      ]
     },
     "metadata": {},
     "output_type": "display_data"
    },
    {
     "data": {
      "text/html": [
       "Run data is saved locally in <code>c:\\Users\\Lautaro\\Desktop\\Lautaro\\asd\\2021\\Doctorado\\Materias\\Deep Learning (2020)\\Practicas\\Mias\\P4\\wandb\\run-20221001_155320-3i3pdmch</code>"
      ],
      "text/plain": [
       "<IPython.core.display.HTML object>"
      ]
     },
     "metadata": {},
     "output_type": "display_data"
    },
    {
     "data": {
      "text/html": [
       "Syncing run <strong><a href=\"https://wandb.ai/carp/Wandb%20testing/runs/3i3pdmch\" target=\"_blank\">lr=0.001, lambda=0.001, epochs=20</a></strong> to <a href=\"https://wandb.ai/carp/Wandb%20testing\" target=\"_blank\">Weights & Biases</a> (<a href=\"https://wandb.me/run\" target=\"_blank\">docs</a>)<br/>"
      ],
      "text/plain": [
       "<IPython.core.display.HTML object>"
      ]
     },
     "metadata": {},
     "output_type": "display_data"
    },
    {
     "data": {
      "text/html": [
       "<button onClick=\"this.nextSibling.style.display='block';this.style.display='none';\">Display W&B run</button><iframe src=\"https://wandb.ai/carp/Wandb%20testing/runs/3i3pdmch?jupyter=true\" style=\"border:none;width:100%;height:420px;display:none;\"></iframe>"
      ],
      "text/plain": [
       "<wandb.sdk.wandb_run.Run at 0x18683e67700>"
      ]
     },
     "execution_count": 10,
     "metadata": {},
     "output_type": "execute_result"
    }
   ],
   "source": [
    "lr = 1e-3\n",
    "lbd = 1e-3\n",
    "ep = 20\n",
    "\n",
    "conf_dict = {\"lr\":lr,\n",
    "             \"lbd\":lbd,\n",
    "             \"epochs\":ep,\n",
    "}\n",
    "\n",
    "wandb.init(project='Wandb testing', config=conf_dict, \n",
    "           name=f'lr={lr}, lambda={lbd}, epochs={ep}')"
   ]
  },
  {
   "cell_type": "code",
   "execution_count": 11,
   "metadata": {},
   "outputs": [
    {
     "name": "stdout",
     "output_type": "stream",
     "text": [
      "(15000,)\n"
     ]
    }
   ],
   "source": [
    "index = 85000\n",
    "data = np.random.rand((100000))\n",
    "\n",
    "Xtrain = data[:index]\n",
    "ytrain = 4*Xtrain*(1-Xtrain)\n",
    "\n",
    "Xtest = data[index:]\n",
    "ytest = 4*Xtest*(1-Xtest)\n",
    "\n",
    "print(Xtest.shape)"
   ]
  },
  {
   "cell_type": "code",
   "execution_count": 12,
   "metadata": {},
   "outputs": [
    {
     "name": "stdout",
     "output_type": "stream",
     "text": [
      "Model: \"model\"\n",
      "__________________________________________________________________________________________________\n",
      " Layer (type)                   Output Shape         Param #     Connected to                     \n",
      "==================================================================================================\n",
      " input_1 (InputLayer)           [(None, 1)]          0           []                               \n",
      "                                                                                                  \n",
      " dense (Dense)                  (None, 5)            10          ['input_1[0][0]']                \n",
      "                                                                                                  \n",
      " concatenate (Concatenate)      (None, 6)            0           ['dense[0][0]',                  \n",
      "                                                                  'input_1[0][0]']                \n",
      "                                                                                                  \n",
      " dense_1 (Dense)                (None, 1)            7           ['concatenate[0][0]']            \n",
      "                                                                                                  \n",
      "==================================================================================================\n",
      "Total params: 17\n",
      "Trainable params: 17\n",
      "Non-trainable params: 0\n",
      "__________________________________________________________________________________________________\n"
     ]
    }
   ],
   "source": [
    "keras.backend.clear_session()\n",
    "\n",
    "opt = keras.optimizers.Adam(learning_rate=lr)\n",
    "reg = keras.regularizers.L2(lbd)\n",
    "\n",
    "input = keras.layers.Input(shape=(1,))\n",
    "\n",
    "l1 = keras.layers.Dense(5, activation='tanh', use_bias=True,\n",
    "                        kernel_regularizer=reg)(input)\n",
    "\n",
    "l2 = keras.layers.concatenate([l1, input])\n",
    "\n",
    "output = keras.layers.Dense(1, activation='linear', use_bias=True)(l2)\n",
    "\n",
    "model = keras.Model(inputs=input, outputs=output)\n",
    "\n",
    "model.summary()"
   ]
  },
  {
   "cell_type": "code",
   "execution_count": 13,
   "metadata": {},
   "outputs": [
    {
     "name": "stdout",
     "output_type": "stream",
     "text": [
      "Epoch 1/20\n",
      "INFO:tensorflow:Assets written to: c:\\Users\\Lautaro\\Desktop\\Lautaro\\asd\\2021\\Doctorado\\Materias\\Deep Learning (2020)\\Practicas\\Mias\\P4\\wandb\\run-20221001_155320-3i3pdmch\\files\\model-best\\assets\n"
     ]
    },
    {
     "name": "stderr",
     "output_type": "stream",
     "text": [
      "\u001b[34m\u001b[1mwandb\u001b[0m: Adding directory to artifact (c:\\Users\\Lautaro\\Desktop\\Lautaro\\asd\\2021\\Doctorado\\Materias\\Deep Learning (2020)\\Practicas\\Mias\\P4\\wandb\\run-20221001_155320-3i3pdmch\\files\\model-best)... Done. 0.1s\n"
     ]
    },
    {
     "name": "stdout",
     "output_type": "stream",
     "text": [
      "1700/1700 - 6s - loss: 0.0964 - mse: 0.0941 - val_loss: 0.0776 - val_mse: 0.0741 - 6s/epoch - 4ms/step\n",
      "Epoch 2/20\n",
      "INFO:tensorflow:Assets written to: c:\\Users\\Lautaro\\Desktop\\Lautaro\\asd\\2021\\Doctorado\\Materias\\Deep Learning (2020)\\Practicas\\Mias\\P4\\wandb\\run-20221001_155320-3i3pdmch\\files\\model-best\\assets\n"
     ]
    },
    {
     "name": "stderr",
     "output_type": "stream",
     "text": [
      "\u001b[34m\u001b[1mwandb\u001b[0m: Adding directory to artifact (c:\\Users\\Lautaro\\Desktop\\Lautaro\\asd\\2021\\Doctorado\\Materias\\Deep Learning (2020)\\Practicas\\Mias\\P4\\wandb\\run-20221001_155320-3i3pdmch\\files\\model-best)... Done. 0.1s\n"
     ]
    },
    {
     "name": "stdout",
     "output_type": "stream",
     "text": [
      "1700/1700 - 6s - loss: 0.0581 - mse: 0.0507 - val_loss: 0.0331 - val_mse: 0.0204 - 6s/epoch - 4ms/step\n",
      "Epoch 3/20\n",
      "INFO:tensorflow:Assets written to: c:\\Users\\Lautaro\\Desktop\\Lautaro\\asd\\2021\\Doctorado\\Materias\\Deep Learning (2020)\\Practicas\\Mias\\P4\\wandb\\run-20221001_155320-3i3pdmch\\files\\model-best\\assets\n"
     ]
    },
    {
     "name": "stderr",
     "output_type": "stream",
     "text": [
      "\u001b[34m\u001b[1mwandb\u001b[0m: Adding directory to artifact (c:\\Users\\Lautaro\\Desktop\\Lautaro\\asd\\2021\\Doctorado\\Materias\\Deep Learning (2020)\\Practicas\\Mias\\P4\\wandb\\run-20221001_155320-3i3pdmch\\files\\model-best)... Done. 0.1s\n"
     ]
    },
    {
     "name": "stdout",
     "output_type": "stream",
     "text": [
      "1700/1700 - 5s - loss: 0.0219 - mse: 0.0074 - val_loss: 0.0166 - val_mse: 0.0028 - 5s/epoch - 3ms/step\n",
      "Epoch 4/20\n",
      "INFO:tensorflow:Assets written to: c:\\Users\\Lautaro\\Desktop\\Lautaro\\asd\\2021\\Doctorado\\Materias\\Deep Learning (2020)\\Practicas\\Mias\\P4\\wandb\\run-20221001_155320-3i3pdmch\\files\\model-best\\assets\n"
     ]
    },
    {
     "name": "stderr",
     "output_type": "stream",
     "text": [
      "\u001b[34m\u001b[1mwandb\u001b[0m: Adding directory to artifact (c:\\Users\\Lautaro\\Desktop\\Lautaro\\asd\\2021\\Doctorado\\Materias\\Deep Learning (2020)\\Practicas\\Mias\\P4\\wandb\\run-20221001_155320-3i3pdmch\\files\\model-best)... Done. 0.3s\n"
     ]
    },
    {
     "name": "stdout",
     "output_type": "stream",
     "text": [
      "1700/1700 - 5s - loss: 0.0139 - mse: 0.0020 - val_loss: 0.0117 - val_mse: 0.0014 - 5s/epoch - 3ms/step\n",
      "Epoch 5/20\n",
      "INFO:tensorflow:Assets written to: c:\\Users\\Lautaro\\Desktop\\Lautaro\\asd\\2021\\Doctorado\\Materias\\Deep Learning (2020)\\Practicas\\Mias\\P4\\wandb\\run-20221001_155320-3i3pdmch\\files\\model-best\\assets\n"
     ]
    },
    {
     "name": "stderr",
     "output_type": "stream",
     "text": [
      "\u001b[34m\u001b[1mwandb\u001b[0m: Adding directory to artifact (c:\\Users\\Lautaro\\Desktop\\Lautaro\\asd\\2021\\Doctorado\\Materias\\Deep Learning (2020)\\Practicas\\Mias\\P4\\wandb\\run-20221001_155320-3i3pdmch\\files\\model-best)... Done. 0.2s\n"
     ]
    },
    {
     "name": "stdout",
     "output_type": "stream",
     "text": [
      "1700/1700 - 6s - loss: 0.0103 - mse: 0.0011 - val_loss: 0.0091 - val_mse: 9.2207e-04 - 6s/epoch - 3ms/step\n",
      "Epoch 6/20\n",
      "INFO:tensorflow:Assets written to: c:\\Users\\Lautaro\\Desktop\\Lautaro\\asd\\2021\\Doctorado\\Materias\\Deep Learning (2020)\\Practicas\\Mias\\P4\\wandb\\run-20221001_155320-3i3pdmch\\files\\model-best\\assets\n"
     ]
    },
    {
     "name": "stderr",
     "output_type": "stream",
     "text": [
      "\u001b[34m\u001b[1mwandb\u001b[0m: Adding directory to artifact (c:\\Users\\Lautaro\\Desktop\\Lautaro\\asd\\2021\\Doctorado\\Materias\\Deep Learning (2020)\\Practicas\\Mias\\P4\\wandb\\run-20221001_155320-3i3pdmch\\files\\model-best)... Done. 0.2s\n"
     ]
    },
    {
     "name": "stdout",
     "output_type": "stream",
     "text": [
      "1700/1700 - 7s - loss: 0.0082 - mse: 8.0110e-04 - val_loss: 0.0075 - val_mse: 6.9193e-04 - 7s/epoch - 4ms/step\n",
      "Epoch 7/20\n",
      "INFO:tensorflow:Assets written to: c:\\Users\\Lautaro\\Desktop\\Lautaro\\asd\\2021\\Doctorado\\Materias\\Deep Learning (2020)\\Practicas\\Mias\\P4\\wandb\\run-20221001_155320-3i3pdmch\\files\\model-best\\assets\n"
     ]
    },
    {
     "name": "stderr",
     "output_type": "stream",
     "text": [
      "\u001b[34m\u001b[1mwandb\u001b[0m: Adding directory to artifact (c:\\Users\\Lautaro\\Desktop\\Lautaro\\asd\\2021\\Doctorado\\Materias\\Deep Learning (2020)\\Practicas\\Mias\\P4\\wandb\\run-20221001_155320-3i3pdmch\\files\\model-best)... Done. 0.6s\n"
     ]
    },
    {
     "name": "stdout",
     "output_type": "stream",
     "text": [
      "1700/1700 - 8s - loss: 0.0068 - mse: 6.1972e-04 - val_loss: 0.0063 - val_mse: 5.6168e-04 - 8s/epoch - 5ms/step\n",
      "Epoch 8/20\n",
      "INFO:tensorflow:Assets written to: c:\\Users\\Lautaro\\Desktop\\Lautaro\\asd\\2021\\Doctorado\\Materias\\Deep Learning (2020)\\Practicas\\Mias\\P4\\wandb\\run-20221001_155320-3i3pdmch\\files\\model-best\\assets\n"
     ]
    },
    {
     "name": "stderr",
     "output_type": "stream",
     "text": [
      "\u001b[34m\u001b[1mwandb\u001b[0m: Adding directory to artifact (c:\\Users\\Lautaro\\Desktop\\Lautaro\\asd\\2021\\Doctorado\\Materias\\Deep Learning (2020)\\Practicas\\Mias\\P4\\wandb\\run-20221001_155320-3i3pdmch\\files\\model-best)... Done. 0.1s\n"
     ]
    },
    {
     "name": "stdout",
     "output_type": "stream",
     "text": [
      "1700/1700 - 6s - loss: 0.0058 - mse: 5.1732e-04 - val_loss: 0.0054 - val_mse: 4.8943e-04 - 6s/epoch - 4ms/step\n",
      "Epoch 9/20\n",
      "INFO:tensorflow:Assets written to: c:\\Users\\Lautaro\\Desktop\\Lautaro\\asd\\2021\\Doctorado\\Materias\\Deep Learning (2020)\\Practicas\\Mias\\P4\\wandb\\run-20221001_155320-3i3pdmch\\files\\model-best\\assets\n"
     ]
    },
    {
     "name": "stderr",
     "output_type": "stream",
     "text": [
      "\u001b[34m\u001b[1mwandb\u001b[0m: Adding directory to artifact (c:\\Users\\Lautaro\\Desktop\\Lautaro\\asd\\2021\\Doctorado\\Materias\\Deep Learning (2020)\\Practicas\\Mias\\P4\\wandb\\run-20221001_155320-3i3pdmch\\files\\model-best)... Done. 0.1s\n"
     ]
    },
    {
     "name": "stdout",
     "output_type": "stream",
     "text": [
      "1700/1700 - 6s - loss: 0.0051 - mse: 4.4842e-04 - val_loss: 0.0047 - val_mse: 4.1079e-04 - 6s/epoch - 3ms/step\n",
      "Epoch 10/20\n",
      "INFO:tensorflow:Assets written to: c:\\Users\\Lautaro\\Desktop\\Lautaro\\asd\\2021\\Doctorado\\Materias\\Deep Learning (2020)\\Practicas\\Mias\\P4\\wandb\\run-20221001_155320-3i3pdmch\\files\\model-best\\assets\n"
     ]
    },
    {
     "name": "stderr",
     "output_type": "stream",
     "text": [
      "\u001b[34m\u001b[1mwandb\u001b[0m: Adding directory to artifact (c:\\Users\\Lautaro\\Desktop\\Lautaro\\asd\\2021\\Doctorado\\Materias\\Deep Learning (2020)\\Practicas\\Mias\\P4\\wandb\\run-20221001_155320-3i3pdmch\\files\\model-best)... Done. 0.1s\n"
     ]
    },
    {
     "name": "stdout",
     "output_type": "stream",
     "text": [
      "1700/1700 - 6s - loss: 0.0045 - mse: 3.9638e-04 - val_loss: 0.0042 - val_mse: 3.7070e-04 - 6s/epoch - 4ms/step\n",
      "Epoch 11/20\n",
      "INFO:tensorflow:Assets written to: c:\\Users\\Lautaro\\Desktop\\Lautaro\\asd\\2021\\Doctorado\\Materias\\Deep Learning (2020)\\Practicas\\Mias\\P4\\wandb\\run-20221001_155320-3i3pdmch\\files\\model-best\\assets\n"
     ]
    },
    {
     "name": "stderr",
     "output_type": "stream",
     "text": [
      "\u001b[34m\u001b[1mwandb\u001b[0m: Adding directory to artifact (c:\\Users\\Lautaro\\Desktop\\Lautaro\\asd\\2021\\Doctorado\\Materias\\Deep Learning (2020)\\Practicas\\Mias\\P4\\wandb\\run-20221001_155320-3i3pdmch\\files\\model-best)... Done. 0.2s\n"
     ]
    },
    {
     "name": "stdout",
     "output_type": "stream",
     "text": [
      "1700/1700 - 6s - loss: 0.0040 - mse: 3.4622e-04 - val_loss: 0.0038 - val_mse: 3.6669e-04 - 6s/epoch - 4ms/step\n",
      "Epoch 12/20\n",
      "INFO:tensorflow:Assets written to: c:\\Users\\Lautaro\\Desktop\\Lautaro\\asd\\2021\\Doctorado\\Materias\\Deep Learning (2020)\\Practicas\\Mias\\P4\\wandb\\run-20221001_155320-3i3pdmch\\files\\model-best\\assets\n"
     ]
    },
    {
     "name": "stderr",
     "output_type": "stream",
     "text": [
      "\u001b[34m\u001b[1mwandb\u001b[0m: Adding directory to artifact (c:\\Users\\Lautaro\\Desktop\\Lautaro\\asd\\2021\\Doctorado\\Materias\\Deep Learning (2020)\\Practicas\\Mias\\P4\\wandb\\run-20221001_155320-3i3pdmch\\files\\model-best)... Done. 0.1s\n"
     ]
    },
    {
     "name": "stdout",
     "output_type": "stream",
     "text": [
      "1700/1700 - 6s - loss: 0.0036 - mse: 3.0306e-04 - val_loss: 0.0035 - val_mse: 2.9487e-04 - 6s/epoch - 3ms/step\n",
      "Epoch 13/20\n",
      "INFO:tensorflow:Assets written to: c:\\Users\\Lautaro\\Desktop\\Lautaro\\asd\\2021\\Doctorado\\Materias\\Deep Learning (2020)\\Practicas\\Mias\\P4\\wandb\\run-20221001_155320-3i3pdmch\\files\\model-best\\assets\n"
     ]
    },
    {
     "name": "stderr",
     "output_type": "stream",
     "text": [
      "\u001b[34m\u001b[1mwandb\u001b[0m: Adding directory to artifact (c:\\Users\\Lautaro\\Desktop\\Lautaro\\asd\\2021\\Doctorado\\Materias\\Deep Learning (2020)\\Practicas\\Mias\\P4\\wandb\\run-20221001_155320-3i3pdmch\\files\\model-best)... Done. 0.1s\n"
     ]
    },
    {
     "name": "stdout",
     "output_type": "stream",
     "text": [
      "1700/1700 - 7s - loss: 0.0034 - mse: 2.6698e-04 - val_loss: 0.0033 - val_mse: 2.7368e-04 - 7s/epoch - 4ms/step\n",
      "Epoch 14/20\n",
      "INFO:tensorflow:Assets written to: c:\\Users\\Lautaro\\Desktop\\Lautaro\\asd\\2021\\Doctorado\\Materias\\Deep Learning (2020)\\Practicas\\Mias\\P4\\wandb\\run-20221001_155320-3i3pdmch\\files\\model-best\\assets\n"
     ]
    },
    {
     "name": "stderr",
     "output_type": "stream",
     "text": [
      "\u001b[34m\u001b[1mwandb\u001b[0m: Adding directory to artifact (c:\\Users\\Lautaro\\Desktop\\Lautaro\\asd\\2021\\Doctorado\\Materias\\Deep Learning (2020)\\Practicas\\Mias\\P4\\wandb\\run-20221001_155320-3i3pdmch\\files\\model-best)... Done. 0.1s\n"
     ]
    },
    {
     "name": "stdout",
     "output_type": "stream",
     "text": [
      "1700/1700 - 6s - loss: 0.0032 - mse: 2.4241e-04 - val_loss: 0.0031 - val_mse: 2.2471e-04 - 6s/epoch - 4ms/step\n",
      "Epoch 15/20\n",
      "INFO:tensorflow:Assets written to: c:\\Users\\Lautaro\\Desktop\\Lautaro\\asd\\2021\\Doctorado\\Materias\\Deep Learning (2020)\\Practicas\\Mias\\P4\\wandb\\run-20221001_155320-3i3pdmch\\files\\model-best\\assets\n"
     ]
    },
    {
     "name": "stderr",
     "output_type": "stream",
     "text": [
      "\u001b[34m\u001b[1mwandb\u001b[0m: Adding directory to artifact (c:\\Users\\Lautaro\\Desktop\\Lautaro\\asd\\2021\\Doctorado\\Materias\\Deep Learning (2020)\\Practicas\\Mias\\P4\\wandb\\run-20221001_155320-3i3pdmch\\files\\model-best)... Done. 0.1s\n"
     ]
    },
    {
     "name": "stdout",
     "output_type": "stream",
     "text": [
      "1700/1700 - 7s - loss: 0.0030 - mse: 2.2248e-04 - val_loss: 0.0029 - val_mse: 2.0994e-04 - 7s/epoch - 4ms/step\n",
      "Epoch 16/20\n",
      "INFO:tensorflow:Assets written to: c:\\Users\\Lautaro\\Desktop\\Lautaro\\asd\\2021\\Doctorado\\Materias\\Deep Learning (2020)\\Practicas\\Mias\\P4\\wandb\\run-20221001_155320-3i3pdmch\\files\\model-best\\assets\n"
     ]
    },
    {
     "name": "stderr",
     "output_type": "stream",
     "text": [
      "\u001b[34m\u001b[1mwandb\u001b[0m: Adding directory to artifact (c:\\Users\\Lautaro\\Desktop\\Lautaro\\asd\\2021\\Doctorado\\Materias\\Deep Learning (2020)\\Practicas\\Mias\\P4\\wandb\\run-20221001_155320-3i3pdmch\\files\\model-best)... Done. 0.1s\n"
     ]
    },
    {
     "name": "stdout",
     "output_type": "stream",
     "text": [
      "1700/1700 - 6s - loss: 0.0029 - mse: 2.0555e-04 - val_loss: 0.0028 - val_mse: 1.8946e-04 - 6s/epoch - 4ms/step\n",
      "Epoch 17/20\n",
      "INFO:tensorflow:Assets written to: c:\\Users\\Lautaro\\Desktop\\Lautaro\\asd\\2021\\Doctorado\\Materias\\Deep Learning (2020)\\Practicas\\Mias\\P4\\wandb\\run-20221001_155320-3i3pdmch\\files\\model-best\\assets\n"
     ]
    },
    {
     "name": "stderr",
     "output_type": "stream",
     "text": [
      "\u001b[34m\u001b[1mwandb\u001b[0m: Adding directory to artifact (c:\\Users\\Lautaro\\Desktop\\Lautaro\\asd\\2021\\Doctorado\\Materias\\Deep Learning (2020)\\Practicas\\Mias\\P4\\wandb\\run-20221001_155320-3i3pdmch\\files\\model-best)... Done. 0.2s\n"
     ]
    },
    {
     "name": "stdout",
     "output_type": "stream",
     "text": [
      "1700/1700 - 7s - loss: 0.0028 - mse: 1.9096e-04 - val_loss: 0.0027 - val_mse: 1.9275e-04 - 7s/epoch - 4ms/step\n",
      "Epoch 18/20\n",
      "INFO:tensorflow:Assets written to: c:\\Users\\Lautaro\\Desktop\\Lautaro\\asd\\2021\\Doctorado\\Materias\\Deep Learning (2020)\\Practicas\\Mias\\P4\\wandb\\run-20221001_155320-3i3pdmch\\files\\model-best\\assets\n"
     ]
    },
    {
     "name": "stderr",
     "output_type": "stream",
     "text": [
      "\u001b[34m\u001b[1mwandb\u001b[0m: Adding directory to artifact (c:\\Users\\Lautaro\\Desktop\\Lautaro\\asd\\2021\\Doctorado\\Materias\\Deep Learning (2020)\\Practicas\\Mias\\P4\\wandb\\run-20221001_155320-3i3pdmch\\files\\model-best)... Done. 0.1s\n"
     ]
    },
    {
     "name": "stdout",
     "output_type": "stream",
     "text": [
      "1700/1700 - 6s - loss: 0.0027 - mse: 1.7943e-04 - val_loss: 0.0026 - val_mse: 1.7152e-04 - 6s/epoch - 4ms/step\n",
      "Epoch 19/20\n",
      "INFO:tensorflow:Assets written to: c:\\Users\\Lautaro\\Desktop\\Lautaro\\asd\\2021\\Doctorado\\Materias\\Deep Learning (2020)\\Practicas\\Mias\\P4\\wandb\\run-20221001_155320-3i3pdmch\\files\\model-best\\assets\n"
     ]
    },
    {
     "name": "stderr",
     "output_type": "stream",
     "text": [
      "\u001b[34m\u001b[1mwandb\u001b[0m: Adding directory to artifact (c:\\Users\\Lautaro\\Desktop\\Lautaro\\asd\\2021\\Doctorado\\Materias\\Deep Learning (2020)\\Practicas\\Mias\\P4\\wandb\\run-20221001_155320-3i3pdmch\\files\\model-best)... Done. 0.1s\n"
     ]
    },
    {
     "name": "stdout",
     "output_type": "stream",
     "text": [
      "1700/1700 - 7s - loss: 0.0026 - mse: 1.6912e-04 - val_loss: 0.0025 - val_mse: 1.5874e-04 - 7s/epoch - 4ms/step\n",
      "Epoch 20/20\n",
      "INFO:tensorflow:Assets written to: c:\\Users\\Lautaro\\Desktop\\Lautaro\\asd\\2021\\Doctorado\\Materias\\Deep Learning (2020)\\Practicas\\Mias\\P4\\wandb\\run-20221001_155320-3i3pdmch\\files\\model-best\\assets\n"
     ]
    },
    {
     "name": "stderr",
     "output_type": "stream",
     "text": [
      "\u001b[34m\u001b[1mwandb\u001b[0m: Adding directory to artifact (c:\\Users\\Lautaro\\Desktop\\Lautaro\\asd\\2021\\Doctorado\\Materias\\Deep Learning (2020)\\Practicas\\Mias\\P4\\wandb\\run-20221001_155320-3i3pdmch\\files\\model-best)... Done. 0.2s\n"
     ]
    },
    {
     "name": "stdout",
     "output_type": "stream",
     "text": [
      "1700/1700 - 9s - loss: 0.0025 - mse: 1.5944e-04 - val_loss: 0.0025 - val_mse: 1.5562e-04 - 9s/epoch - 5ms/step\n"
     ]
    }
   ],
   "source": [
    "model.compile(optimizer=opt, loss='mse', \n",
    "              metrics=['mse'])\n",
    "\n",
    "hist = model.fit(Xtrain, ytrain, validation_data=(Xtest, ytest), epochs=ep, \n",
    "                  batch_size=50, callbacks=[WandbCallback()], verbose=2)"
   ]
  },
  {
   "cell_type": "code",
   "execution_count": 14,
   "metadata": {},
   "outputs": [
    {
     "data": {
      "text/plain": [
       "<matplotlib.legend.Legend at 0x18686938f40>"
      ]
     },
     "execution_count": 14,
     "metadata": {},
     "output_type": "execute_result"
    },
    {
     "data": {
      "image/png": "[encoded data removed]",
      "text/plain": [
       "<Figure size 432x360 with 1 Axes>"
      ]
     },
     "metadata": {
      "needs_background": "light"
     },
     "output_type": "display_data"
    }
   ],
   "source": [
    "fig, ax1 = plt.subplots(nrows=1, ncols=1, figsize=(6,5))\n",
    "ax1.plot(hist.history['loss'], label='BCE')\n",
    "ax1.plot(hist.history['val_loss'], label='val_BCE')\n",
    "ax1.set_xlabel('Epocas', fontsize=15)\n",
    "ax1.set_ylabel('Loss', fontsize=15)\n",
    "ax1.legend(loc='best')"
   ]
  },
  {
   "cell_type": "code",
   "execution_count": 16,
   "metadata": {},
   "outputs": [
    {
     "data": {
      "text/plain": [
       "numpy.float32"
      ]
     },
     "execution_count": 16,
     "metadata": {},
     "output_type": "execute_result"
    }
   ],
   "source": [
    "type(model.predict([0.5], verbose=0)[0,0])"
   ]
  },
  {
   "cell_type": "code",
   "execution_count": 41,
   "metadata": {},
   "outputs": [],
   "source": [
    "seed = .2\n",
    "\n",
    "x = []\n",
    "xpred = []\n",
    "x.append(seed)\n",
    "xpred.append(seed)\n",
    "\n",
    "\n",
    "for t in range(20):\n",
    "    y = 4*x[t]*(1-x[t])\n",
    "    x.append(y)\n",
    "    y = model.predict([xpred[t]], verbose=0)[0,0].astype(float)\n",
    "    xpred.append(y)\n"
   ]
  },
  {
   "cell_type": "code",
   "execution_count": 42,
   "metadata": {},
   "outputs": [
    {
     "data": {
      "text/plain": [
       "<matplotlib.legend.Legend at 0x1b432e0b2b0>"
      ]
     },
     "execution_count": 42,
     "metadata": {},
     "output_type": "execute_result"
    },
    {
     "data": {
      "image/png": "[encoded data removed]",
      "text/plain": [
       "<Figure size 432x360 with 1 Axes>"
      ]
     },
     "metadata": {
      "needs_background": "light"
     },
     "output_type": "display_data"
    }
   ],
   "source": [
    "fig, ax1 = plt.subplots(nrows=1, ncols=1, figsize=(6,5))\n",
    "\n",
    "ax1.plot(x, label='x')\n",
    "ax1.plot(xpred, label='xpred')\n",
    "ax1.set_xlabel('Iteraciones', fontsize=15)\n",
    "ax1.set_ylabel('Serie', fontsize=15)\n",
    "ax1.legend(loc='best')"
   ]
  }
 ],
 "metadata": {
  "kernelspec": {
   "display_name": "Python 3.9.12 ('base')",
   "language": "python",
   "name": "python3"
  },
  "language_info": {
   "codemirror_mode": {
    "name": "ipython",
    "version": 3
   },
   "file_extension": ".py",
   "mimetype": "text/x-python",
   "name": "python",
   "nbconvert_exporter": "python",
   "pygments_lexer": "ipython3",
   "version": "3.9.12"
  },
  "orig_nbformat": 4,
  "vscode": {
   "interpreter": {
    "hash": "b045fddb768a69d708aeb44bac4815a8765073d6505277d1278f194b80f63e22"
   }
  }
 },
 "nbformat": 4,
 "nbformat_minor": 2
}
