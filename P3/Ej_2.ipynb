{
 "cells": [
  {
   "cell_type": "markdown",
   "metadata": {},
   "source": [
    "Implementar los problemas 3, 4 y 6 de la práctica 2 utilizando Keras."
   ]
  },
  {
   "cell_type": "code",
   "execution_count": 1,
   "metadata": {},
   "outputs": [],
   "source": [
    "import numpy as np\n",
    "import pandas as pd\n",
    "import tensorflow as tf\n",
    "from matplotlib import pyplot as plt\n",
    "from keras.datasets import cifar10\n",
    "\n",
    "%matplotlib inline"
   ]
  },
  {
   "cell_type": "code",
   "execution_count": 2,
   "metadata": {},
   "outputs": [
    {
     "name": "stdout",
     "output_type": "stream",
     "text": [
      "Num GPUs Available:  0\n"
     ]
    }
   ],
   "source": [
    "print(\"Num GPUs Available: \", len(tf.config.list_physical_devices('GPU')))"
   ]
  },
  {
   "cell_type": "code",
   "execution_count": 2,
   "metadata": {},
   "outputs": [
    {
     "name": "stdout",
     "output_type": "stream",
     "text": [
      "Train: X=(50000, 32, 32, 3), y=(50000,)\n",
      "Test: X=(10000, 32, 32, 3), y=(10000,)\n"
     ]
    }
   ],
   "source": [
    "(Xtrain, ytrain), (Xtest, ytest) = cifar10.load_data()\n",
    "\n",
    "ytrain = ytrain[:,0]\n",
    "ytest = ytest[:,0]\n",
    "\n",
    "Xtrain = Xtrain.astype(float)\n",
    "Xtest = Xtest.astype(float)\n",
    "\n",
    "m = Xtrain.shape[0]\n",
    "n = Xtrain[0].size\n",
    "\n",
    "mu = np.mean(Xtrain, axis=0)\n",
    "std = np.std(Xtrain, axis=0)\n",
    "\n",
    "Xtrain -= mu\n",
    "Xtrain /= std\n",
    "Xtest -= mu\n",
    "Xtest /= std\n",
    "\n",
    "#Xtrain = np.reshape(Xtrain, (m, n))\n",
    "#Xtest = np.reshape(Xtest, (Xtest.shape[0],))\n",
    "\n",
    "# summarize loaded dataset\n",
    "print('Train: X=%s, y=%s' % (Xtrain.shape, ytrain.shape))\n",
    "print('Test: X=%s, y=%s' % (Xtest.shape, ytest.shape))"
   ]
  },
  {
   "cell_type": "code",
   "execution_count": 3,
   "metadata": {},
   "outputs": [
    {
     "data": {
      "text/plain": [
       "(50000, 10)"
      ]
     },
     "execution_count": 3,
     "metadata": {},
     "output_type": "execute_result"
    }
   ],
   "source": [
    "#Los paso a categorical para que quede bien definida la loss y la metrica\n",
    "ytrain = tf.keras.utils.to_categorical(ytrain, 10)\n",
    "ytest = tf.keras.utils.to_categorical(ytest, 10)\n",
    "ytrain.shape"
   ]
  },
  {
   "cell_type": "markdown",
   "metadata": {},
   "source": [
    "Ej. 3"
   ]
  },
  {
   "cell_type": "code",
   "execution_count": 13,
   "metadata": {},
   "outputs": [],
   "source": [
    "def scheduler(epoch, lr):\n",
    "  if epoch == 10 or epoch==25:\n",
    "    return lr/5\n",
    "  else:\n",
    "    return lr\n",
    "\n",
    "\n",
    "callbacks_list=[\n",
    "    tf.keras.callbacks.LearningRateScheduler(\n",
    "    scheduler, verbose=0\n",
    "    )\n",
    "]"
   ]
  },
  {
   "cell_type": "code",
   "execution_count": 14,
   "metadata": {},
   "outputs": [
    {
     "name": "stdout",
     "output_type": "stream",
     "text": [
      "Model: \"model_4\"\n",
      "_________________________________________________________________\n",
      " Layer (type)                Output Shape              Param #   \n",
      "=================================================================\n",
      " input_5 (InputLayer)        [(None, 32, 32, 3)]       0         \n",
      "                                                                 \n",
      " flatten_4 (Flatten)         (None, 3072)              0         \n",
      "                                                                 \n",
      " dense_8 (Dense)             (None, 100)               307300    \n",
      "                                                                 \n",
      " dense_9 (Dense)             (None, 10)                1010      \n",
      "                                                                 \n",
      "=================================================================\n",
      "Total params: 308,310\n",
      "Trainable params: 308,310\n",
      "Non-trainable params: 0\n",
      "_________________________________________________________________\n"
     ]
    }
   ],
   "source": [
    "opt = tf.keras.optimizers.Adam(learning_rate=.005)\n",
    "\n",
    "input = tf.keras.layers.Input(shape=(32,32,3))\n",
    "flat = tf.keras.layers.Flatten()(input)\n",
    "l1 = tf.keras.layers.Dense(100, activation='relu', use_bias=True, kernel_regularizer=tf.keras.regularizers.L2(5e-3))(flat)\n",
    "output = tf.keras.layers.Dense(10, activation='linear', use_bias=True, kernel_regularizer=tf.keras.regularizers.L2(5e-3))(l1)\n",
    "\n",
    "model = tf.keras.Model(inputs=input, outputs=output)\n",
    "\n",
    "model.summary()"
   ]
  },
  {
   "cell_type": "code",
   "execution_count": 16,
   "metadata": {},
   "outputs": [
    {
     "name": "stdout",
     "output_type": "stream",
     "text": [
      "Epoch 1/50\n",
      "391/391 - 3s - loss: 1.8887 - accuracy: 0.1821 - val_loss: 0.3950 - val_accuracy: 0.2654 - lr: 0.0050 - 3s/epoch - 8ms/step\n",
      "Epoch 2/50\n",
      "391/391 - 3s - loss: 0.2726 - accuracy: 0.2485 - val_loss: 0.1633 - val_accuracy: 0.3111 - lr: 0.0050 - 3s/epoch - 6ms/step\n",
      "Epoch 3/50\n",
      "391/391 - 3s - loss: 0.1410 - accuracy: 0.3156 - val_loss: 0.1245 - val_accuracy: 0.3111 - lr: 0.0050 - 3s/epoch - 7ms/step\n",
      "Epoch 4/50\n",
      "391/391 - 3s - loss: 0.1135 - accuracy: 0.3518 - val_loss: 0.1034 - val_accuracy: 0.3816 - lr: 0.0050 - 3s/epoch - 7ms/step\n",
      "Epoch 5/50\n",
      "391/391 - 3s - loss: 0.0984 - accuracy: 0.3813 - val_loss: 0.0939 - val_accuracy: 0.3845 - lr: 0.0050 - 3s/epoch - 6ms/step\n",
      "Epoch 6/50\n",
      "391/391 - 3s - loss: 0.0907 - accuracy: 0.3957 - val_loss: 0.0870 - val_accuracy: 0.4124 - lr: 0.0050 - 3s/epoch - 7ms/step\n",
      "Epoch 7/50\n",
      "391/391 - 3s - loss: 0.0861 - accuracy: 0.3987 - val_loss: 0.0843 - val_accuracy: 0.4088 - lr: 0.0050 - 3s/epoch - 7ms/step\n",
      "Epoch 8/50\n",
      "391/391 - 3s - loss: 0.0838 - accuracy: 0.4001 - val_loss: 0.0823 - val_accuracy: 0.4083 - lr: 0.0050 - 3s/epoch - 7ms/step\n",
      "Epoch 9/50\n",
      "391/391 - 3s - loss: 0.0826 - accuracy: 0.3950 - val_loss: 0.0828 - val_accuracy: 0.3783 - lr: 0.0050 - 3s/epoch - 7ms/step\n",
      "Epoch 10/50\n",
      "391/391 - 3s - loss: 0.0823 - accuracy: 0.3891 - val_loss: 0.0821 - val_accuracy: 0.3917 - lr: 0.0050 - 3s/epoch - 8ms/step\n",
      "Epoch 11/50\n",
      "391/391 - 3s - loss: 0.0790 - accuracy: 0.4237 - val_loss: 0.0784 - val_accuracy: 0.4333 - lr: 1.0000e-03 - 3s/epoch - 7ms/step\n",
      "Epoch 12/50\n",
      "391/391 - 3s - loss: 0.0786 - accuracy: 0.4279 - val_loss: 0.0783 - val_accuracy: 0.4325 - lr: 1.0000e-03 - 3s/epoch - 7ms/step\n",
      "Epoch 13/50\n",
      "391/391 - 3s - loss: 0.0788 - accuracy: 0.4256 - val_loss: 0.0786 - val_accuracy: 0.4302 - lr: 1.0000e-03 - 3s/epoch - 9ms/step\n",
      "Epoch 14/50\n",
      "391/391 - 3s - loss: 0.0791 - accuracy: 0.4219 - val_loss: 0.0790 - val_accuracy: 0.4263 - lr: 1.0000e-03 - 3s/epoch - 6ms/step\n",
      "Epoch 15/50\n",
      "391/391 - 3s - loss: 0.0795 - accuracy: 0.4170 - val_loss: 0.0796 - val_accuracy: 0.4111 - lr: 1.0000e-03 - 3s/epoch - 7ms/step\n",
      "Epoch 16/50\n",
      "391/391 - 3s - loss: 0.0800 - accuracy: 0.4115 - val_loss: 0.0792 - val_accuracy: 0.4207 - lr: 1.0000e-03 - 3s/epoch - 7ms/step\n",
      "Epoch 17/50\n",
      "391/391 - 3s - loss: 0.0802 - accuracy: 0.4074 - val_loss: 0.0798 - val_accuracy: 0.4175 - lr: 1.0000e-03 - 3s/epoch - 7ms/step\n",
      "Epoch 18/50\n",
      "391/391 - 2s - loss: 0.0806 - accuracy: 0.4029 - val_loss: 0.0808 - val_accuracy: 0.3909 - lr: 1.0000e-03 - 2s/epoch - 6ms/step\n",
      "Epoch 19/50\n",
      "391/391 - 3s - loss: 0.0808 - accuracy: 0.3974 - val_loss: 0.0807 - val_accuracy: 0.3898 - lr: 1.0000e-03 - 3s/epoch - 8ms/step\n",
      "Epoch 20/50\n",
      "391/391 - 4s - loss: 0.0811 - accuracy: 0.3917 - val_loss: 0.0805 - val_accuracy: 0.3905 - lr: 1.0000e-03 - 4s/epoch - 10ms/step\n",
      "Epoch 21/50\n",
      "391/391 - 5s - loss: 0.0814 - accuracy: 0.3848 - val_loss: 0.0810 - val_accuracy: 0.3773 - lr: 1.0000e-03 - 5s/epoch - 13ms/step\n",
      "Epoch 22/50\n",
      "391/391 - 3s - loss: 0.0815 - accuracy: 0.3812 - val_loss: 0.0808 - val_accuracy: 0.3870 - lr: 1.0000e-03 - 3s/epoch - 8ms/step\n",
      "Epoch 23/50\n",
      "391/391 - 3s - loss: 0.0817 - accuracy: 0.3791 - val_loss: 0.0809 - val_accuracy: 0.3877 - lr: 1.0000e-03 - 3s/epoch - 8ms/step\n",
      "Epoch 24/50\n",
      "391/391 - 3s - loss: 0.0817 - accuracy: 0.3766 - val_loss: 0.0814 - val_accuracy: 0.3812 - lr: 1.0000e-03 - 3s/epoch - 8ms/step\n",
      "Epoch 25/50\n",
      "391/391 - 3s - loss: 0.0817 - accuracy: 0.3740 - val_loss: 0.0823 - val_accuracy: 0.3640 - lr: 1.0000e-03 - 3s/epoch - 9ms/step\n",
      "Epoch 26/50\n",
      "391/391 - 3s - loss: 0.0788 - accuracy: 0.4064 - val_loss: 0.0780 - val_accuracy: 0.4173 - lr: 2.0000e-04 - 3s/epoch - 7ms/step\n",
      "Epoch 27/50\n",
      "391/391 - 3s - loss: 0.0782 - accuracy: 0.4168 - val_loss: 0.0777 - val_accuracy: 0.4268 - lr: 2.0000e-04 - 3s/epoch - 8ms/step\n",
      "Epoch 28/50\n",
      "391/391 - 4s - loss: 0.0781 - accuracy: 0.4186 - val_loss: 0.0780 - val_accuracy: 0.4257 - lr: 2.0000e-04 - 4s/epoch - 9ms/step\n",
      "Epoch 29/50\n",
      "391/391 - 3s - loss: 0.0780 - accuracy: 0.4221 - val_loss: 0.0777 - val_accuracy: 0.4325 - lr: 2.0000e-04 - 3s/epoch - 9ms/step\n",
      "Epoch 30/50\n",
      "391/391 - 3s - loss: 0.0779 - accuracy: 0.4248 - val_loss: 0.0779 - val_accuracy: 0.4139 - lr: 2.0000e-04 - 3s/epoch - 7ms/step\n",
      "Epoch 31/50\n",
      "391/391 - 2s - loss: 0.0779 - accuracy: 0.4238 - val_loss: 0.0779 - val_accuracy: 0.4227 - lr: 2.0000e-04 - 2s/epoch - 6ms/step\n",
      "Epoch 32/50\n",
      "391/391 - 2s - loss: 0.0779 - accuracy: 0.4240 - val_loss: 0.0776 - val_accuracy: 0.4318 - lr: 2.0000e-04 - 2s/epoch - 6ms/step\n",
      "Epoch 33/50\n",
      "391/391 - 3s - loss: 0.0778 - accuracy: 0.4256 - val_loss: 0.0780 - val_accuracy: 0.4204 - lr: 2.0000e-04 - 3s/epoch - 6ms/step\n",
      "Epoch 34/50\n",
      "391/391 - 3s - loss: 0.0777 - accuracy: 0.4279 - val_loss: 0.0776 - val_accuracy: 0.4262 - lr: 2.0000e-04 - 3s/epoch - 7ms/step\n",
      "Epoch 35/50\n",
      "391/391 - 2s - loss: 0.0778 - accuracy: 0.4270 - val_loss: 0.0775 - val_accuracy: 0.4327 - lr: 2.0000e-04 - 2s/epoch - 6ms/step\n",
      "Epoch 36/50\n",
      "391/391 - 2s - loss: 0.0777 - accuracy: 0.4271 - val_loss: 0.0774 - val_accuracy: 0.4314 - lr: 2.0000e-04 - 2s/epoch - 6ms/step\n",
      "Epoch 37/50\n",
      "391/391 - 2s - loss: 0.0777 - accuracy: 0.4294 - val_loss: 0.0774 - val_accuracy: 0.4301 - lr: 2.0000e-04 - 2s/epoch - 6ms/step\n",
      "Epoch 38/50\n",
      "391/391 - 2s - loss: 0.0778 - accuracy: 0.4270 - val_loss: 0.0774 - val_accuracy: 0.4302 - lr: 2.0000e-04 - 2s/epoch - 6ms/step\n",
      "Epoch 39/50\n",
      "391/391 - 3s - loss: 0.0777 - accuracy: 0.4290 - val_loss: 0.0780 - val_accuracy: 0.4186 - lr: 2.0000e-04 - 3s/epoch - 7ms/step\n",
      "Epoch 40/50\n",
      "391/391 - 3s - loss: 0.0777 - accuracy: 0.4266 - val_loss: 0.0774 - val_accuracy: 0.4281 - lr: 2.0000e-04 - 3s/epoch - 8ms/step\n",
      "Epoch 41/50\n",
      "391/391 - 3s - loss: 0.0777 - accuracy: 0.4280 - val_loss: 0.0774 - val_accuracy: 0.4287 - lr: 2.0000e-04 - 3s/epoch - 8ms/step\n",
      "Epoch 42/50\n",
      "391/391 - 3s - loss: 0.0776 - accuracy: 0.4293 - val_loss: 0.0777 - val_accuracy: 0.4362 - lr: 2.0000e-04 - 3s/epoch - 7ms/step\n",
      "Epoch 43/50\n",
      "391/391 - 3s - loss: 0.0777 - accuracy: 0.4285 - val_loss: 0.0774 - val_accuracy: 0.4356 - lr: 2.0000e-04 - 3s/epoch - 7ms/step\n",
      "Epoch 44/50\n",
      "391/391 - 3s - loss: 0.0776 - accuracy: 0.4282 - val_loss: 0.0777 - val_accuracy: 0.4260 - lr: 2.0000e-04 - 3s/epoch - 7ms/step\n",
      "Epoch 45/50\n",
      "391/391 - 3s - loss: 0.0776 - accuracy: 0.4275 - val_loss: 0.0777 - val_accuracy: 0.4233 - lr: 2.0000e-04 - 3s/epoch - 7ms/step\n",
      "Epoch 46/50\n",
      "391/391 - 3s - loss: 0.0776 - accuracy: 0.4292 - val_loss: 0.0774 - val_accuracy: 0.4303 - lr: 2.0000e-04 - 3s/epoch - 7ms/step\n",
      "Epoch 47/50\n",
      "391/391 - 3s - loss: 0.0776 - accuracy: 0.4279 - val_loss: 0.0776 - val_accuracy: 0.4330 - lr: 2.0000e-04 - 3s/epoch - 7ms/step\n",
      "Epoch 48/50\n",
      "391/391 - 3s - loss: 0.0777 - accuracy: 0.4271 - val_loss: 0.0775 - val_accuracy: 0.4292 - lr: 2.0000e-04 - 3s/epoch - 7ms/step\n",
      "Epoch 49/50\n",
      "391/391 - 3s - loss: 0.0776 - accuracy: 0.4296 - val_loss: 0.0776 - val_accuracy: 0.4252 - lr: 2.0000e-04 - 3s/epoch - 7ms/step\n",
      "Epoch 50/50\n",
      "391/391 - 3s - loss: 0.0776 - accuracy: 0.4288 - val_loss: 0.0775 - val_accuracy: 0.4291 - lr: 2.0000e-04 - 3s/epoch - 7ms/step\n"
     ]
    }
   ],
   "source": [
    "model.compile(optimizer=opt, loss='mse', metrics=['accuracy'])\n",
    "hist3 = model.fit(Xtrain, ytrain, validation_data=(Xtest, ytest), epochs=50, \n",
    "                  callbacks=callbacks_list, batch_size=128, verbose=2)"
   ]
  },
  {
   "cell_type": "markdown",
   "metadata": {},
   "source": [
    "Ej. 4"
   ]
  },
  {
   "cell_type": "code",
   "execution_count": 9,
   "metadata": {},
   "outputs": [
    {
     "name": "stdout",
     "output_type": "stream",
     "text": [
      "Model: \"model_3\"\n",
      "_________________________________________________________________\n",
      " Layer (type)                Output Shape              Param #   \n",
      "=================================================================\n",
      " input_4 (InputLayer)        [(None, 32, 32, 3)]       0         \n",
      "                                                                 \n",
      " flatten_3 (Flatten)         (None, 3072)              0         \n",
      "                                                                 \n",
      " dense_6 (Dense)             (None, 100)               307300    \n",
      "                                                                 \n",
      " dense_7 (Dense)             (None, 10)                1010      \n",
      "                                                                 \n",
      "=================================================================\n",
      "Total params: 308,310\n",
      "Trainable params: 308,310\n",
      "Non-trainable params: 0\n",
      "_________________________________________________________________\n"
     ]
    }
   ],
   "source": [
    "opt2 = tf.keras.optimizers.Adam(learning_rate=.001)\n",
    "\n",
    "input = tf.keras.layers.Input(shape=(32,32,3))\n",
    "flat = tf.keras.layers.Flatten()(input)\n",
    "l1 = tf.keras.layers.Dense(100, activation='sigmoid', use_bias=True, kernel_regularizer=tf.keras.regularizers.L2(1e-3))(flat)\n",
    "output = tf.keras.layers.Dense(10, activation='linear', use_bias=True, kernel_regularizer=tf.keras.regularizers.L2(1e-3))(l1)\n",
    "\n",
    "model2 = tf.keras.Model(inputs=input, outputs=output)\n",
    "\n",
    "model2.summary()"
   ]
  },
  {
   "cell_type": "code",
   "execution_count": 10,
   "metadata": {},
   "outputs": [
    {
     "name": "stdout",
     "output_type": "stream",
     "text": [
      "Epoch 1/50\n",
      "391/391 - 6s - loss: 1.9506 - accuracy: 0.3809 - val_loss: 1.8275 - val_accuracy: 0.4130 - 6s/epoch - 15ms/step\n",
      "Epoch 2/50\n",
      "391/391 - 5s - loss: 1.7920 - accuracy: 0.4226 - val_loss: 1.7998 - val_accuracy: 0.4115 - 5s/epoch - 12ms/step\n",
      "Epoch 3/50\n",
      "391/391 - 5s - loss: 1.7542 - accuracy: 0.4310 - val_loss: 1.7556 - val_accuracy: 0.4338 - 5s/epoch - 12ms/step\n",
      "Epoch 4/50\n",
      "391/391 - 5s - loss: 1.7379 - accuracy: 0.4411 - val_loss: 1.7650 - val_accuracy: 0.4218 - 5s/epoch - 12ms/step\n",
      "Epoch 5/50\n",
      "391/391 - 5s - loss: 1.7289 - accuracy: 0.4407 - val_loss: 1.7541 - val_accuracy: 0.4346 - 5s/epoch - 12ms/step\n",
      "Epoch 6/50\n",
      "391/391 - 5s - loss: 1.7172 - accuracy: 0.4485 - val_loss: 1.7447 - val_accuracy: 0.4371 - 5s/epoch - 12ms/step\n",
      "Epoch 7/50\n",
      "391/391 - 5s - loss: 1.7121 - accuracy: 0.4500 - val_loss: 1.7490 - val_accuracy: 0.4289 - 5s/epoch - 13ms/step\n",
      "Epoch 8/50\n",
      "391/391 - 5s - loss: 1.7043 - accuracy: 0.4532 - val_loss: 1.7353 - val_accuracy: 0.4407 - 5s/epoch - 14ms/step\n",
      "Epoch 9/50\n",
      "391/391 - 5s - loss: 1.6948 - accuracy: 0.4584 - val_loss: 1.7287 - val_accuracy: 0.4434 - 5s/epoch - 12ms/step\n",
      "Epoch 10/50\n",
      "391/391 - 5s - loss: 1.6863 - accuracy: 0.4605 - val_loss: 1.7342 - val_accuracy: 0.4356 - 5s/epoch - 13ms/step\n",
      "Epoch 11/50\n",
      "391/391 - 5s - loss: 1.6805 - accuracy: 0.4620 - val_loss: 1.7364 - val_accuracy: 0.4424 - 5s/epoch - 13ms/step\n",
      "Epoch 12/50\n",
      "391/391 - 5s - loss: 1.6747 - accuracy: 0.4657 - val_loss: 1.7221 - val_accuracy: 0.4468 - 5s/epoch - 13ms/step\n",
      "Epoch 13/50\n",
      "391/391 - 5s - loss: 1.6661 - accuracy: 0.4691 - val_loss: 1.7046 - val_accuracy: 0.4626 - 5s/epoch - 13ms/step\n",
      "Epoch 14/50\n",
      "391/391 - 5s - loss: 1.6559 - accuracy: 0.4750 - val_loss: 1.7226 - val_accuracy: 0.4496 - 5s/epoch - 13ms/step\n",
      "Epoch 15/50\n",
      "391/391 - 5s - loss: 1.6519 - accuracy: 0.4746 - val_loss: 1.7267 - val_accuracy: 0.4481 - 5s/epoch - 14ms/step\n",
      "Epoch 16/50\n",
      "391/391 - 5s - loss: 1.6465 - accuracy: 0.4769 - val_loss: 1.7103 - val_accuracy: 0.4517 - 5s/epoch - 14ms/step\n",
      "Epoch 17/50\n",
      "391/391 - 5s - loss: 1.6403 - accuracy: 0.4829 - val_loss: 1.7159 - val_accuracy: 0.4452 - 5s/epoch - 13ms/step\n",
      "Epoch 18/50\n",
      "391/391 - 5s - loss: 1.6351 - accuracy: 0.4838 - val_loss: 1.6900 - val_accuracy: 0.4545 - 5s/epoch - 13ms/step\n",
      "Epoch 19/50\n",
      "391/391 - 5s - loss: 1.6318 - accuracy: 0.4855 - val_loss: 1.6911 - val_accuracy: 0.4610 - 5s/epoch - 13ms/step\n",
      "Epoch 20/50\n",
      "391/391 - 5s - loss: 1.6255 - accuracy: 0.4879 - val_loss: 1.7005 - val_accuracy: 0.4594 - 5s/epoch - 13ms/step\n",
      "Epoch 21/50\n",
      "391/391 - 5s - loss: 1.6219 - accuracy: 0.4892 - val_loss: 1.6752 - val_accuracy: 0.4675 - 5s/epoch - 13ms/step\n",
      "Epoch 22/50\n",
      "391/391 - 6s - loss: 1.6155 - accuracy: 0.4917 - val_loss: 1.6958 - val_accuracy: 0.4600 - 6s/epoch - 14ms/step\n",
      "Epoch 23/50\n",
      "391/391 - 5s - loss: 1.6143 - accuracy: 0.4914 - val_loss: 1.6852 - val_accuracy: 0.4567 - 5s/epoch - 13ms/step\n",
      "Epoch 24/50\n",
      "391/391 - 5s - loss: 1.6074 - accuracy: 0.4950 - val_loss: 1.6876 - val_accuracy: 0.4647 - 5s/epoch - 12ms/step\n",
      "Epoch 25/50\n",
      "391/391 - 6s - loss: 1.6041 - accuracy: 0.5004 - val_loss: 1.6855 - val_accuracy: 0.4667 - 6s/epoch - 15ms/step\n",
      "Epoch 26/50\n",
      "391/391 - 5s - loss: 1.6075 - accuracy: 0.4968 - val_loss: 1.6703 - val_accuracy: 0.4690 - 5s/epoch - 13ms/step\n",
      "Epoch 27/50\n",
      "391/391 - 5s - loss: 1.6020 - accuracy: 0.4970 - val_loss: 1.6680 - val_accuracy: 0.4756 - 5s/epoch - 13ms/step\n",
      "Epoch 28/50\n",
      "391/391 - 5s - loss: 1.5954 - accuracy: 0.5023 - val_loss: 1.6607 - val_accuracy: 0.4743 - 5s/epoch - 13ms/step\n",
      "Epoch 29/50\n",
      "391/391 - 5s - loss: 1.5907 - accuracy: 0.5013 - val_loss: 1.6810 - val_accuracy: 0.4700 - 5s/epoch - 13ms/step\n",
      "Epoch 30/50\n",
      "391/391 - 5s - loss: 1.5894 - accuracy: 0.5032 - val_loss: 1.6573 - val_accuracy: 0.4733 - 5s/epoch - 13ms/step\n",
      "Epoch 31/50\n",
      "391/391 - 5s - loss: 1.5853 - accuracy: 0.5064 - val_loss: 1.6587 - val_accuracy: 0.4773 - 5s/epoch - 13ms/step\n",
      "Epoch 32/50\n",
      "391/391 - 5s - loss: 1.5872 - accuracy: 0.5032 - val_loss: 1.6506 - val_accuracy: 0.4803 - 5s/epoch - 14ms/step\n",
      "Epoch 33/50\n",
      "391/391 - 5s - loss: 1.5823 - accuracy: 0.5045 - val_loss: 1.6584 - val_accuracy: 0.4763 - 5s/epoch - 13ms/step\n",
      "Epoch 34/50\n",
      "391/391 - 5s - loss: 1.5815 - accuracy: 0.5068 - val_loss: 1.6571 - val_accuracy: 0.4780 - 5s/epoch - 14ms/step\n",
      "Epoch 35/50\n",
      "391/391 - 5s - loss: 1.5776 - accuracy: 0.5110 - val_loss: 1.6445 - val_accuracy: 0.4813 - 5s/epoch - 13ms/step\n",
      "Epoch 36/50\n",
      "391/391 - 5s - loss: 1.5782 - accuracy: 0.5091 - val_loss: 1.6535 - val_accuracy: 0.4811 - 5s/epoch - 14ms/step\n",
      "Epoch 37/50\n",
      "391/391 - 5s - loss: 1.5799 - accuracy: 0.5074 - val_loss: 1.6517 - val_accuracy: 0.4794 - 5s/epoch - 14ms/step\n",
      "Epoch 38/50\n",
      "391/391 - 6s - loss: 1.5718 - accuracy: 0.5138 - val_loss: 1.6506 - val_accuracy: 0.4831 - 6s/epoch - 14ms/step\n",
      "Epoch 39/50\n",
      "391/391 - 5s - loss: 1.5791 - accuracy: 0.5085 - val_loss: 1.6539 - val_accuracy: 0.4843 - 5s/epoch - 13ms/step\n",
      "Epoch 40/50\n",
      "391/391 - 5s - loss: 1.5730 - accuracy: 0.5128 - val_loss: 1.6792 - val_accuracy: 0.4638 - 5s/epoch - 13ms/step\n",
      "Epoch 41/50\n",
      "391/391 - 5s - loss: 1.5715 - accuracy: 0.5134 - val_loss: 1.6452 - val_accuracy: 0.4867 - 5s/epoch - 13ms/step\n",
      "Epoch 42/50\n",
      "391/391 - 5s - loss: 1.5681 - accuracy: 0.5140 - val_loss: 1.6405 - val_accuracy: 0.4893 - 5s/epoch - 14ms/step\n",
      "Epoch 43/50\n",
      "391/391 - 5s - loss: 1.5669 - accuracy: 0.5153 - val_loss: 1.6402 - val_accuracy: 0.4862 - 5s/epoch - 13ms/step\n",
      "Epoch 44/50\n",
      "391/391 - 5s - loss: 1.5661 - accuracy: 0.5149 - val_loss: 1.6514 - val_accuracy: 0.4796 - 5s/epoch - 14ms/step\n",
      "Epoch 45/50\n",
      "391/391 - 5s - loss: 1.5624 - accuracy: 0.5169 - val_loss: 1.6552 - val_accuracy: 0.4754 - 5s/epoch - 14ms/step\n",
      "Epoch 46/50\n",
      "391/391 - 5s - loss: 1.5584 - accuracy: 0.5202 - val_loss: 1.6282 - val_accuracy: 0.4833 - 5s/epoch - 13ms/step\n",
      "Epoch 47/50\n",
      "391/391 - 5s - loss: 1.5604 - accuracy: 0.5201 - val_loss: 1.6324 - val_accuracy: 0.4951 - 5s/epoch - 14ms/step\n",
      "Epoch 48/50\n",
      "391/391 - 5s - loss: 1.5518 - accuracy: 0.5229 - val_loss: 1.6308 - val_accuracy: 0.4912 - 5s/epoch - 14ms/step\n",
      "Epoch 49/50\n",
      "391/391 - 5s - loss: 1.5587 - accuracy: 0.5200 - val_loss: 1.6414 - val_accuracy: 0.4804 - 5s/epoch - 14ms/step\n",
      "Epoch 50/50\n",
      "391/391 - 5s - loss: 1.5573 - accuracy: 0.5215 - val_loss: 1.6580 - val_accuracy: 0.4768 - 5s/epoch - 14ms/step\n"
     ]
    }
   ],
   "source": [
    "model2.compile(optimizer=opt2, loss=tf.keras.losses.CategoricalCrossentropy(from_logits=True), metrics=['accuracy'])\n",
    "hist4 = model2.fit(Xtrain, ytrain, validation_data=(Xtest, ytest), epochs=50, batch_size=128, verbose=2)"
   ]
  },
  {
   "cell_type": "code",
   "execution_count": 17,
   "metadata": {},
   "outputs": [
    {
     "data": {
      "image/png": "[encoded data removed]",
      "text/plain": [
       "<Figure size 576x432 with 1 Axes>"
      ]
     },
     "metadata": {
      "needs_background": "light"
     },
     "output_type": "display_data"
    }
   ],
   "source": [
    "plt.figure(figsize=(8, 6))\n",
    "plt.plot(hist3.history['loss'], label='MSE')\n",
    "plt.plot(hist3.history['val_loss'], label='val_MSE')\n",
    "plt.plot(hist4.history['loss'], label='CCE')\n",
    "plt.plot(hist4.history['val_loss'], label='val_CCE')\n",
    "plt.xlabel('Epocas', fontsize=15)\n",
    "plt.ylabel('Loss', fontsize=15)\n",
    "plt.legend(loc='best')\n",
    "plt.tight_layout()\n",
    "plt.show()"
   ]
  },
  {
   "cell_type": "code",
   "execution_count": 18,
   "metadata": {},
   "outputs": [
    {
     "data": {
      "image/png": "[encoded data removed]",
      "text/plain": [
       "<Figure size 576x432 with 1 Axes>"
      ]
     },
     "metadata": {
      "needs_background": "light"
     },
     "output_type": "display_data"
    }
   ],
   "source": [
    "plt.figure(figsize=(8, 6))\n",
    "plt.plot(hist3.history['accuracy'], label='MSE')\n",
    "plt.plot(hist3.history['val_accuracy'], label='val_MSE')\n",
    "plt.plot(hist4.history['accuracy'], label='CCE')\n",
    "plt.plot(hist4.history['val_accuracy'], label='val_CCE')\n",
    "plt.xlabel('Epocas', fontsize=15)\n",
    "plt.ylabel('accuracy', fontsize=15)\n",
    "plt.legend(loc='best')\n",
    "plt.tight_layout()\n",
    "plt.show()"
   ]
  },
  {
   "cell_type": "markdown",
   "metadata": {},
   "source": [
    "Ej. 6"
   ]
  }
 ],
 "metadata": {
  "kernelspec": {
   "display_name": "Python 3.8.8 ('base')",
   "language": "python",
   "name": "python3"
  },
  "language_info": {
   "codemirror_mode": {
    "name": "ipython",
    "version": 3
   },
   "file_extension": ".py",
   "mimetype": "text/x-python",
   "name": "python",
   "nbconvert_exporter": "python",
   "pygments_lexer": "ipython3",
   "version": "3.8.8"
  },
  "orig_nbformat": 4,
  "vscode": {
   "interpreter": {
    "hash": "3159170d9fcce935f4a2f5b40d38978387b4f643b035d22b78e982df0db07ec7"
   }
  }
 },
 "nbformat": 4,
 "nbformat_minor": 2
}
