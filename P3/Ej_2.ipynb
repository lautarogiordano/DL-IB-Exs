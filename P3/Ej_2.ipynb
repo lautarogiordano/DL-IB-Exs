{
 "cells": [
  {
   "cell_type": "markdown",
   "metadata": {},
   "source": [
    "Implementar los problemas 3, 4 y 6 de la práctica 2 utilizando Keras."
   ]
  },
  {
   "cell_type": "code",
   "execution_count": 1,
   "metadata": {},
   "outputs": [],
   "source": [
    "import numpy as np\n",
    "import pandas as pd\n",
    "import tensorflow as tf\n",
    "from matplotlib import pyplot as plt\n",
    "from keras.datasets import cifar10\n",
    "\n",
    "%matplotlib inline"
   ]
  },
  {
   "cell_type": "code",
   "execution_count": 12,
   "metadata": {},
   "outputs": [
    {
     "ename": "KeyboardInterrupt",
     "evalue": "",
     "output_type": "error",
     "traceback": [
      "\u001b[1;31m---------------------------------------------------------------------------\u001b[0m",
      "\u001b[1;31mKeyboardInterrupt\u001b[0m                         Traceback (most recent call last)",
      "\u001b[1;32mc:\\Users\\Lautaro\\Desktop\\Lautaro\\asd\\2021\\Doctorado\\Materias\\Deep Learning (2020)\\Practicas\\Mias\\P3\\Ej_2.ipynb Celda 3\u001b[0m in \u001b[0;36m<cell line: 22>\u001b[1;34m()\u001b[0m\n\u001b[0;32m     <a href='vscode-notebook-cell:/c%3A/Users/Lautaro/Desktop/Lautaro/asd/2021/Doctorado/Materias/Deep%20Learning%20%282020%29/Practicas/Mias/P3/Ej_2.ipynb#W2sZmlsZQ%3D%3D?line=18'>19</a>\u001b[0m Xtest \u001b[39m-\u001b[39m\u001b[39m=\u001b[39m mu\n\u001b[0;32m     <a href='vscode-notebook-cell:/c%3A/Users/Lautaro/Desktop/Lautaro/asd/2021/Doctorado/Materias/Deep%20Learning%20%282020%29/Practicas/Mias/P3/Ej_2.ipynb#W2sZmlsZQ%3D%3D?line=19'>20</a>\u001b[0m Xtest \u001b[39m/\u001b[39m\u001b[39m=\u001b[39m std\n\u001b[1;32m---> <a href='vscode-notebook-cell:/c%3A/Users/Lautaro/Desktop/Lautaro/asd/2021/Doctorado/Materias/Deep%20Learning%20%282020%29/Practicas/Mias/P3/Ej_2.ipynb#W2sZmlsZQ%3D%3D?line=21'>22</a>\u001b[0m Xtrain \u001b[39m=\u001b[39m np\u001b[39m.\u001b[39;49mreshape(Xtrain, (m, n))\n\u001b[0;32m     <a href='vscode-notebook-cell:/c%3A/Users/Lautaro/Desktop/Lautaro/asd/2021/Doctorado/Materias/Deep%20Learning%20%282020%29/Practicas/Mias/P3/Ej_2.ipynb#W2sZmlsZQ%3D%3D?line=22'>23</a>\u001b[0m Xtest \u001b[39m=\u001b[39m np\u001b[39m.\u001b[39mreshape(Xtest, (Xtest\u001b[39m.\u001b[39mshape[\u001b[39m0\u001b[39m],))\n\u001b[0;32m     <a href='vscode-notebook-cell:/c%3A/Users/Lautaro/Desktop/Lautaro/asd/2021/Doctorado/Materias/Deep%20Learning%20%282020%29/Practicas/Mias/P3/Ej_2.ipynb#W2sZmlsZQ%3D%3D?line=24'>25</a>\u001b[0m \u001b[39m# summarize loaded dataset\u001b[39;00m\n",
      "File \u001b[1;32m<__array_function__ internals>:5\u001b[0m, in \u001b[0;36mreshape\u001b[1;34m(*args, **kwargs)\u001b[0m\n",
      "File \u001b[1;32mc:\\Users\\Lautaro\\anaconda3\\lib\\site-packages\\numpy\\core\\fromnumeric.py:298\u001b[0m, in \u001b[0;36mreshape\u001b[1;34m(a, newshape, order)\u001b[0m\n\u001b[0;32m    198\u001b[0m \u001b[39m@array_function_dispatch\u001b[39m(_reshape_dispatcher)\n\u001b[0;32m    199\u001b[0m \u001b[39mdef\u001b[39;00m \u001b[39mreshape\u001b[39m(a, newshape, order\u001b[39m=\u001b[39m\u001b[39m'\u001b[39m\u001b[39mC\u001b[39m\u001b[39m'\u001b[39m):\n\u001b[0;32m    200\u001b[0m     \u001b[39m\"\"\"\u001b[39;00m\n\u001b[0;32m    201\u001b[0m \u001b[39m    Gives a new shape to an array without changing its data.\u001b[39;00m\n\u001b[0;32m    202\u001b[0m \n\u001b[1;32m   (...)\u001b[0m\n\u001b[0;32m    296\u001b[0m \u001b[39m           [5, 6]])\u001b[39;00m\n\u001b[0;32m    297\u001b[0m \u001b[39m    \"\"\"\u001b[39;00m\n\u001b[1;32m--> 298\u001b[0m     \u001b[39mreturn\u001b[39;00m _wrapfunc(a, \u001b[39m'\u001b[39;49m\u001b[39mreshape\u001b[39;49m\u001b[39m'\u001b[39;49m, newshape, order\u001b[39m=\u001b[39;49morder)\n",
      "File \u001b[1;32mc:\\Users\\Lautaro\\anaconda3\\lib\\site-packages\\numpy\\core\\fromnumeric.py:57\u001b[0m, in \u001b[0;36m_wrapfunc\u001b[1;34m(obj, method, *args, **kwds)\u001b[0m\n\u001b[0;32m     54\u001b[0m     \u001b[39mreturn\u001b[39;00m _wrapit(obj, method, \u001b[39m*\u001b[39margs, \u001b[39m*\u001b[39m\u001b[39m*\u001b[39mkwds)\n\u001b[0;32m     56\u001b[0m \u001b[39mtry\u001b[39;00m:\n\u001b[1;32m---> 57\u001b[0m     \u001b[39mreturn\u001b[39;00m bound(\u001b[39m*\u001b[39margs, \u001b[39m*\u001b[39m\u001b[39m*\u001b[39mkwds)\n\u001b[0;32m     58\u001b[0m \u001b[39mexcept\u001b[39;00m \u001b[39mTypeError\u001b[39;00m:\n\u001b[0;32m     59\u001b[0m     \u001b[39m# A TypeError occurs if the object does have such a method in its\u001b[39;00m\n\u001b[0;32m     60\u001b[0m     \u001b[39m# class, but its signature is not identical to that of NumPy's. This\u001b[39;00m\n\u001b[1;32m   (...)\u001b[0m\n\u001b[0;32m     64\u001b[0m     \u001b[39m# Call _wrapit from within the except clause to ensure a potential\u001b[39;00m\n\u001b[0;32m     65\u001b[0m     \u001b[39m# exception has a traceback chain.\u001b[39;00m\n\u001b[0;32m     66\u001b[0m     \u001b[39mreturn\u001b[39;00m _wrapit(obj, method, \u001b[39m*\u001b[39margs, \u001b[39m*\u001b[39m\u001b[39m*\u001b[39mkwds)\n",
      "\u001b[1;31mKeyboardInterrupt\u001b[0m: "
     ]
    },
    {
     "ename": "",
     "evalue": "",
     "output_type": "error",
     "traceback": [
      "\u001b[1;31mNo se pudo interrumpir el Kernel. \n",
      "\u001b[1;31mNo se puede iniciar Kernel 'base (Python 3.9.12)' porque se agotó el tiempo de espera de la conexión. \n",
      "\u001b[1;31mVea el [registro] de Jupyter (command:jupyter.viewOutput) para obtener más detalles."
     ]
    }
   ],
   "source": [
    "(Xtrain, ytrain), (Xtest, ytest) = cifar10.load_data()\n",
    "\n",
    "ytrain = ytrain[:,0]\n",
    "ytest = ytest[:,0]\n",
    "\n",
    "Xtrain = Xtrain.astype(float)\n",
    "Xtest = Xtest.astype(float)\n",
    "\n",
    "m = Xtrain.shape[0]\n",
    "n = Xtrain[0].size\n",
    "\n",
    "mu = np.mean(Xtrain, axis=0)\n",
    "std = np.std(Xtrain, axis=0)\n",
    "\n",
    "Xtrain -= mu\n",
    "Xtrain /= std\n",
    "Xtest -= mu\n",
    "Xtest /= std\n",
    "\n",
    "Xtrain = np.reshape(Xtrain, (m, n))\n",
    "Xtest = np.reshape(Xtest, (Xtest.shape[0],))\n",
    "\n",
    "# summarize loaded dataset\n",
    "print('Train: X=%s, y=%s' % (Xtrain.shape, ytrain.shape))\n",
    "print('Test: X=%s, y=%s' % (Xtest.shape, ytest.shape))"
   ]
  },
  {
   "cell_type": "code",
   "execution_count": 6,
   "metadata": {},
   "outputs": [],
   "source": [
    "def accuracy(ytrue, ypred):\n",
    "    ypred_idx = np.argmax(ypred, axis=1)\n",
    "\n",
    "    return np.mean(ypred_idx==ytrue)"
   ]
  },
  {
   "cell_type": "code",
   "execution_count": null,
   "metadata": {},
   "outputs": [],
   "source": [
    "model = tf.keras.models.Model()\n",
    "opt = tf.keras.optimizers.SGD(learning_rate=.003)\n",
    "input = tf.keras.layers.Dense(1, input_shape=(n,), activation='linear', use_bias=True)\n",
    "model.summary()"
   ]
  }
 ],
 "metadata": {
  "kernelspec": {
   "display_name": "Python 3.9.12 ('base')",
   "language": "python",
   "name": "python3"
  },
  "language_info": {
   "codemirror_mode": {
    "name": "ipython",
    "version": 3
   },
   "file_extension": ".py",
   "mimetype": "text/x-python",
   "name": "python",
   "nbconvert_exporter": "python",
   "pygments_lexer": "ipython3",
   "version": "3.9.12"
  },
  "orig_nbformat": 4,
  "vscode": {
   "interpreter": {
    "hash": "b045fddb768a69d708aeb44bac4815a8765073d6505277d1278f194b80f63e22"
   }
  }
 },
 "nbformat": 4,
 "nbformat_minor": 2
}
