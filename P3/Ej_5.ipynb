{
 "cells": [
  {
   "cell_type": "code",
   "execution_count": 1,
   "metadata": {},
   "outputs": [],
   "source": [
    "import numpy as np\n",
    "import pandas as pd\n",
    "from tensorflow import keras\n",
    "from matplotlib import pyplot as plt\n",
    "\n",
    "%matplotlib inline"
   ]
  },
  {
   "cell_type": "code",
   "execution_count": 2,
   "metadata": {},
   "outputs": [
    {
     "name": "stdout",
     "output_type": "stream",
     "text": [
      "(15000,)\n"
     ]
    }
   ],
   "source": [
    "index = 85000\n",
    "data = np.random.rand((100000))\n",
    "\n",
    "Xtrain = data[:index]\n",
    "ytrain = 4*Xtrain*(1-Xtrain)\n",
    "\n",
    "Xtest = data[index:]\n",
    "ytest = 4*Xtest*(1-Xtest)\n",
    "\n",
    "print(Xtest.shape)"
   ]
  },
  {
   "cell_type": "code",
   "execution_count": 26,
   "metadata": {},
   "outputs": [
    {
     "name": "stdout",
     "output_type": "stream",
     "text": [
      "Model: \"model\"\n",
      "__________________________________________________________________________________________________\n",
      " Layer (type)                   Output Shape         Param #     Connected to                     \n",
      "==================================================================================================\n",
      " input_1 (InputLayer)           [(None, 1)]          0           []                               \n",
      "                                                                                                  \n",
      " dense (Dense)                  (None, 5)            10          ['input_1[0][0]']                \n",
      "                                                                                                  \n",
      " concatenate (Concatenate)      (None, 6)            0           ['dense[0][0]',                  \n",
      "                                                                  'input_1[0][0]']                \n",
      "                                                                                                  \n",
      " dense_1 (Dense)                (None, 1)            7           ['concatenate[0][0]']            \n",
      "                                                                                                  \n",
      "==================================================================================================\n",
      "Total params: 17\n",
      "Trainable params: 17\n",
      "Non-trainable params: 0\n",
      "__________________________________________________________________________________________________\n"
     ]
    }
   ],
   "source": [
    "keras.backend.clear_session()\n",
    "\n",
    "opt = keras.optimizers.Adam(learning_rate=.001)\n",
    "reg = keras.regularizers.L2(.001)\n",
    "\n",
    "input = keras.layers.Input(shape=(1,))\n",
    "\n",
    "l1 = keras.layers.Dense(5, activation='tanh', use_bias=True,\n",
    "                        kernel_regularizer=reg)(input)\n",
    "\n",
    "l2 = keras.layers.concatenate([l1, input])\n",
    "\n",
    "output = keras.layers.Dense(1, activation='linear', use_bias=True)(l2)\n",
    "\n",
    "model = keras.Model(inputs=input, outputs=output)\n",
    "\n",
    "model.summary()"
   ]
  },
  {
   "cell_type": "code",
   "execution_count": 27,
   "metadata": {},
   "outputs": [
    {
     "name": "stdout",
     "output_type": "stream",
     "text": [
      "Epoch 1/50\n",
      "1700/1700 - 5s - loss: 0.1002 - mse: 0.0990 - val_loss: 0.0812 - val_mse: 0.0800 - 5s/epoch - 3ms/step\n",
      "Epoch 2/50\n",
      "1700/1700 - 4s - loss: 0.0683 - mse: 0.0663 - val_loss: 0.0480 - val_mse: 0.0446 - 4s/epoch - 3ms/step\n",
      "Epoch 3/50\n",
      "1700/1700 - 5s - loss: 0.0254 - mse: 0.0197 - val_loss: 0.0117 - val_mse: 0.0042 - 5s/epoch - 3ms/step\n",
      "Epoch 4/50\n",
      "1700/1700 - 4s - loss: 0.0097 - mse: 0.0021 - val_loss: 0.0086 - val_mse: 0.0014 - 4s/epoch - 3ms/step\n",
      "Epoch 5/50\n",
      "1700/1700 - 4s - loss: 0.0079 - mse: 0.0012 - val_loss: 0.0072 - val_mse: 9.8305e-04 - 4s/epoch - 2ms/step\n",
      "Epoch 6/50\n",
      "1700/1700 - 4s - loss: 0.0066 - mse: 8.7772e-04 - val_loss: 0.0061 - val_mse: 7.6816e-04 - 4s/epoch - 2ms/step\n",
      "Epoch 7/50\n",
      "1700/1700 - 3s - loss: 0.0057 - mse: 6.8009e-04 - val_loss: 0.0053 - val_mse: 5.7900e-04 - 3s/epoch - 2ms/step\n",
      "Epoch 8/50\n",
      "1700/1700 - 3s - loss: 0.0050 - mse: 5.5006e-04 - val_loss: 0.0047 - val_mse: 5.1007e-04 - 3s/epoch - 2ms/step\n",
      "Epoch 9/50\n",
      "1700/1700 - 3s - loss: 0.0045 - mse: 4.5957e-04 - val_loss: 0.0043 - val_mse: 4.2093e-04 - 3s/epoch - 2ms/step\n",
      "Epoch 10/50\n",
      "1700/1700 - 4s - loss: 0.0041 - mse: 3.9466e-04 - val_loss: 0.0039 - val_mse: 3.4969e-04 - 4s/epoch - 2ms/step\n",
      "Epoch 11/50\n",
      "1700/1700 - 4s - loss: 0.0038 - mse: 3.4284e-04 - val_loss: 0.0037 - val_mse: 3.0758e-04 - 4s/epoch - 2ms/step\n",
      "Epoch 12/50\n",
      "1700/1700 - 4s - loss: 0.0036 - mse: 3.0876e-04 - val_loss: 0.0035 - val_mse: 3.1618e-04 - 4s/epoch - 3ms/step\n",
      "Epoch 13/50\n",
      "1700/1700 - 4s - loss: 0.0034 - mse: 2.7634e-04 - val_loss: 0.0033 - val_mse: 2.5852e-04 - 4s/epoch - 3ms/step\n",
      "Epoch 14/50\n",
      "1700/1700 - 4s - loss: 0.0032 - mse: 2.5237e-04 - val_loss: 0.0031 - val_mse: 2.3245e-04 - 4s/epoch - 2ms/step\n",
      "Epoch 15/50\n",
      "1700/1700 - 3s - loss: 0.0030 - mse: 2.3170e-04 - val_loss: 0.0030 - val_mse: 2.1184e-04 - 3s/epoch - 2ms/step\n",
      "Epoch 16/50\n",
      "1700/1700 - 4s - loss: 0.0029 - mse: 2.1403e-04 - val_loss: 0.0029 - val_mse: 2.4904e-04 - 4s/epoch - 2ms/step\n",
      "Epoch 17/50\n",
      "1700/1700 - 4s - loss: 0.0028 - mse: 1.9913e-04 - val_loss: 0.0028 - val_mse: 1.8836e-04 - 4s/epoch - 2ms/step\n",
      "Epoch 18/50\n",
      "1700/1700 - 4s - loss: 0.0027 - mse: 1.8553e-04 - val_loss: 0.0027 - val_mse: 1.8709e-04 - 4s/epoch - 2ms/step\n",
      "Epoch 19/50\n",
      "1700/1700 - 3s - loss: 0.0026 - mse: 1.7539e-04 - val_loss: 0.0026 - val_mse: 2.2354e-04 - 3s/epoch - 2ms/step\n",
      "Epoch 20/50\n",
      "1700/1700 - 3s - loss: 0.0025 - mse: 1.6517e-04 - val_loss: 0.0025 - val_mse: 1.6586e-04 - 3s/epoch - 2ms/step\n",
      "Epoch 21/50\n",
      "1700/1700 - 4s - loss: 0.0025 - mse: 1.5725e-04 - val_loss: 0.0024 - val_mse: 1.3814e-04 - 4s/epoch - 2ms/step\n",
      "Epoch 22/50\n",
      "1700/1700 - 4s - loss: 0.0024 - mse: 1.4821e-04 - val_loss: 0.0024 - val_mse: 1.3807e-04 - 4s/epoch - 2ms/step\n",
      "Epoch 23/50\n",
      "1700/1700 - 4s - loss: 0.0023 - mse: 1.3999e-04 - val_loss: 0.0023 - val_mse: 1.2786e-04 - 4s/epoch - 2ms/step\n",
      "Epoch 24/50\n",
      "1700/1700 - 3s - loss: 0.0023 - mse: 1.3445e-04 - val_loss: 0.0023 - val_mse: 1.2453e-04 - 3s/epoch - 2ms/step\n",
      "Epoch 25/50\n",
      "1700/1700 - 3s - loss: 0.0022 - mse: 1.2989e-04 - val_loss: 0.0022 - val_mse: 1.2263e-04 - 3s/epoch - 2ms/step\n",
      "Epoch 26/50\n",
      "1700/1700 - 3s - loss: 0.0022 - mse: 1.2223e-04 - val_loss: 0.0022 - val_mse: 1.1700e-04 - 3s/epoch - 2ms/step\n",
      "Epoch 27/50\n",
      "1700/1700 - 3s - loss: 0.0021 - mse: 1.1968e-04 - val_loss: 0.0021 - val_mse: 1.0517e-04 - 3s/epoch - 2ms/step\n",
      "Epoch 28/50\n",
      "1700/1700 - 3s - loss: 0.0021 - mse: 1.1297e-04 - val_loss: 0.0021 - val_mse: 1.1479e-04 - 3s/epoch - 2ms/step\n",
      "Epoch 29/50\n",
      "1700/1700 - 3s - loss: 0.0021 - mse: 1.0926e-04 - val_loss: 0.0020 - val_mse: 1.0037e-04 - 3s/epoch - 2ms/step\n",
      "Epoch 30/50\n",
      "1700/1700 - 3s - loss: 0.0020 - mse: 1.0656e-04 - val_loss: 0.0020 - val_mse: 9.4396e-05 - 3s/epoch - 2ms/step\n",
      "Epoch 31/50\n",
      "1700/1700 - 3s - loss: 0.0020 - mse: 1.0333e-04 - val_loss: 0.0020 - val_mse: 9.3826e-05 - 3s/epoch - 2ms/step\n",
      "Epoch 32/50\n",
      "1700/1700 - 3s - loss: 0.0020 - mse: 1.0023e-04 - val_loss: 0.0020 - val_mse: 1.0702e-04 - 3s/epoch - 2ms/step\n",
      "Epoch 33/50\n",
      "1700/1700 - 3s - loss: 0.0019 - mse: 9.5940e-05 - val_loss: 0.0019 - val_mse: 9.4887e-05 - 3s/epoch - 2ms/step\n",
      "Epoch 34/50\n",
      "1700/1700 - 4s - loss: 0.0019 - mse: 9.5598e-05 - val_loss: 0.0019 - val_mse: 9.4069e-05 - 4s/epoch - 2ms/step\n",
      "Epoch 35/50\n",
      "1700/1700 - 3s - loss: 0.0019 - mse: 9.0805e-05 - val_loss: 0.0019 - val_mse: 8.0935e-05 - 3s/epoch - 2ms/step\n",
      "Epoch 36/50\n",
      "1700/1700 - 3s - loss: 0.0018 - mse: 8.8421e-05 - val_loss: 0.0018 - val_mse: 7.9827e-05 - 3s/epoch - 2ms/step\n",
      "Epoch 37/50\n",
      "1700/1700 - 3s - loss: 0.0018 - mse: 8.6374e-05 - val_loss: 0.0018 - val_mse: 8.3389e-05 - 3s/epoch - 2ms/step\n",
      "Epoch 38/50\n",
      "1700/1700 - 3s - loss: 0.0018 - mse: 8.4188e-05 - val_loss: 0.0018 - val_mse: 7.9623e-05 - 3s/epoch - 2ms/step\n",
      "Epoch 39/50\n",
      "1700/1700 - 3s - loss: 0.0018 - mse: 8.3616e-05 - val_loss: 0.0018 - val_mse: 1.1112e-04 - 3s/epoch - 2ms/step\n",
      "Epoch 40/50\n",
      "1700/1700 - 3s - loss: 0.0018 - mse: 8.1329e-05 - val_loss: 0.0017 - val_mse: 7.7525e-05 - 3s/epoch - 2ms/step\n",
      "Epoch 41/50\n",
      "1700/1700 - 3s - loss: 0.0017 - mse: 7.9138e-05 - val_loss: 0.0017 - val_mse: 9.2179e-05 - 3s/epoch - 2ms/step\n",
      "Epoch 42/50\n",
      "1700/1700 - 3s - loss: 0.0017 - mse: 7.7019e-05 - val_loss: 0.0017 - val_mse: 8.7127e-05 - 3s/epoch - 2ms/step\n",
      "Epoch 43/50\n",
      "1700/1700 - 3s - loss: 0.0017 - mse: 7.5763e-05 - val_loss: 0.0017 - val_mse: 6.6992e-05 - 3s/epoch - 2ms/step\n",
      "Epoch 44/50\n",
      "1700/1700 - 3s - loss: 0.0017 - mse: 7.4615e-05 - val_loss: 0.0017 - val_mse: 7.0213e-05 - 3s/epoch - 2ms/step\n",
      "Epoch 45/50\n",
      "1700/1700 - 4s - loss: 0.0017 - mse: 7.2740e-05 - val_loss: 0.0016 - val_mse: 6.4719e-05 - 4s/epoch - 2ms/step\n",
      "Epoch 46/50\n",
      "1700/1700 - 4s - loss: 0.0016 - mse: 7.1596e-05 - val_loss: 0.0016 - val_mse: 6.6794e-05 - 4s/epoch - 2ms/step\n",
      "Epoch 47/50\n",
      "1700/1700 - 3s - loss: 0.0016 - mse: 7.0994e-05 - val_loss: 0.0016 - val_mse: 9.8227e-05 - 3s/epoch - 2ms/step\n",
      "Epoch 48/50\n",
      "1700/1700 - 4s - loss: 0.0016 - mse: 6.9194e-05 - val_loss: 0.0016 - val_mse: 6.5885e-05 - 4s/epoch - 2ms/step\n",
      "Epoch 49/50\n",
      "1700/1700 - 4s - loss: 0.0016 - mse: 6.8753e-05 - val_loss: 0.0016 - val_mse: 8.9964e-05 - 4s/epoch - 2ms/step\n",
      "Epoch 50/50\n",
      "1700/1700 - 4s - loss: 0.0016 - mse: 6.6334e-05 - val_loss: 0.0016 - val_mse: 7.9749e-05 - 4s/epoch - 2ms/step\n"
     ]
    }
   ],
   "source": [
    "model.compile(optimizer=opt, loss='mse', \n",
    "              metrics=['mse'])\n",
    "\n",
    "hist = model.fit(Xtrain, ytrain, validation_data=(Xtest, ytest), epochs=50, \n",
    "                  batch_size=50, verbose=2)"
   ]
  },
  {
   "cell_type": "code",
   "execution_count": 28,
   "metadata": {},
   "outputs": [
    {
     "data": {
      "text/plain": [
       "<matplotlib.legend.Legend at 0x1b45a019310>"
      ]
     },
     "execution_count": 28,
     "metadata": {},
     "output_type": "execute_result"
    },
    {
     "data": {
      "image/png": "[encoded data removed]",
      "text/plain": [
       "<Figure size 432x360 with 1 Axes>"
      ]
     },
     "metadata": {
      "needs_background": "light"
     },
     "output_type": "display_data"
    }
   ],
   "source": [
    "fig, ax1 = plt.subplots(nrows=1, ncols=1, figsize=(6,5))\n",
    "ax1.plot(hist.history['loss'], label='BCE')\n",
    "ax1.plot(hist.history['val_loss'], label='val_BCE')\n",
    "ax1.set_xlabel('Epocas', fontsize=15)\n",
    "ax1.set_ylabel('Loss', fontsize=15)\n",
    "ax1.legend(loc='best')"
   ]
  },
  {
   "cell_type": "code",
   "execution_count": 16,
   "metadata": {},
   "outputs": [
    {
     "data": {
      "text/plain": [
       "numpy.float32"
      ]
     },
     "execution_count": 16,
     "metadata": {},
     "output_type": "execute_result"
    }
   ],
   "source": [
    "type(model.predict([0.5], verbose=0)[0,0])"
   ]
  },
  {
   "cell_type": "code",
   "execution_count": 41,
   "metadata": {},
   "outputs": [],
   "source": [
    "seed = .2\n",
    "\n",
    "x = []\n",
    "xpred = []\n",
    "x.append(seed)\n",
    "xpred.append(seed)\n",
    "\n",
    "\n",
    "for t in range(20):\n",
    "    y = 4*x[t]*(1-x[t])\n",
    "    x.append(y)\n",
    "    y = model.predict([xpred[t]], verbose=0)[0,0].astype(float)\n",
    "    xpred.append(y)\n"
   ]
  },
  {
   "cell_type": "code",
   "execution_count": 42,
   "metadata": {},
   "outputs": [
    {
     "data": {
      "text/plain": [
       "<matplotlib.legend.Legend at 0x1b432e0b2b0>"
      ]
     },
     "execution_count": 42,
     "metadata": {},
     "output_type": "execute_result"
    },
    {
     "data": {
      "image/png": "[encoded data removed]",
      "text/plain": [
       "<Figure size 432x360 with 1 Axes>"
      ]
     },
     "metadata": {
      "needs_background": "light"
     },
     "output_type": "display_data"
    }
   ],
   "source": [
    "fig, ax1 = plt.subplots(nrows=1, ncols=1, figsize=(6,5))\n",
    "\n",
    "ax1.plot(x, label='x')\n",
    "ax1.plot(xpred, label='xpred')\n",
    "ax1.set_xlabel('Iteraciones', fontsize=15)\n",
    "ax1.set_ylabel('Serie', fontsize=15)\n",
    "ax1.legend(loc='best')"
   ]
  }
 ],
 "metadata": {
  "kernelspec": {
   "display_name": "Python 3.9.12 ('base')",
   "language": "python",
   "name": "python3"
  },
  "language_info": {
   "codemirror_mode": {
    "name": "ipython",
    "version": 3
   },
   "file_extension": ".py",
   "mimetype": "text/x-python",
   "name": "python",
   "nbconvert_exporter": "python",
   "pygments_lexer": "ipython3",
   "version": "3.9.12"
  },
  "orig_nbformat": 4,
  "vscode": {
   "interpreter": {
    "hash": "b045fddb768a69d708aeb44bac4815a8765073d6505277d1278f194b80f63e22"
   }
  }
 },
 "nbformat": 4,
 "nbformat_minor": 2
}
