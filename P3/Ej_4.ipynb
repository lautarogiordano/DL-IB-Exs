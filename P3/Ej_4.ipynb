{
  "cells": [
    {
      "cell_type": "markdown",
      "metadata": {
        "id": "c1ocz__8UVqZ"
      },
      "source": [
        "Resolver el problema anterior utilizando Embeddings y recordar hacer un\\\n",
        "padding. Luego, armar una nueva arquitectura utilizando capas convoluciones\\\n",
        "1D en lugar de capas densas. Comparar la precisión entre ambos problemas y\\\n",
        "el mejor resultado obtenido del punto anterior."
      ]
    },
    {
      "cell_type": "code",
      "execution_count": null,
      "metadata": {
        "id": "QcKO6psLUDhc"
      },
      "outputs": [],
      "source": [
        "import numpy as np\n",
        "import pandas as pd\n",
        "from tensorflow import keras\n",
        "from matplotlib import pyplot as plt\n",
        "\n",
        "%matplotlib inline"
      ]
    },
    {
      "cell_type": "code",
      "execution_count": null,
      "metadata": {
        "colab": {
          "base_uri": "https://localhost:8080/"
        },
        "id": "SfYbZx_fUmrq",
        "outputId": "6ebcd48d-5e15-4c71-b542-b83733bf3532"
      },
      "outputs": [
        {
          "name": "stdout",
          "output_type": "stream",
          "text": [
            "Downloading data from https://storage.googleapis.com/tensorflow/tf-keras-datasets/imdb.npz\n",
            "17465344/17464789 [==============================] - 0s 0us/step\n",
            "17473536/17464789 [==============================] - 0s 0us/step\n",
            "Downloading data from https://storage.googleapis.com/tensorflow/tf-keras-datasets/imdb_word_index.json\n",
            "1646592/1641221 [==============================] - 0s 0us/step\n",
            "1654784/1641221 [==============================] - 0s 0us/step\n"
          ]
        }
      ],
      "source": [
        "(x_train, y_train), (x_test, y_test) = keras.datasets.imdb.load_data(num_words=10000)\n",
        "\n",
        "word_index = keras.datasets.imdb.get_word_index()"
      ]
    },
    {
      "cell_type": "code",
      "execution_count": null,
      "metadata": {
        "colab": {
          "base_uri": "https://localhost:8080/"
        },
        "id": "9ZUNHS44U5Ne",
        "outputId": "8e7cc927-a81c-4437-dc05-6d4b5d380ee9"
      },
      "outputs": [
        {
          "name": "stdout",
          "output_type": "stream",
          "text": [
            "2494 2315\n"
          ]
        }
      ],
      "source": [
        "#Busquemos la review mas larga en todos los datos\n",
        "print(len(max(x_train, key=len)), len(max(x_test, key=len)))"
      ]
    },
    {
      "cell_type": "code",
      "execution_count": null,
      "metadata": {
        "id": "YPc8nsCBV2Ry"
      },
      "outputs": [],
      "source": [
        "def preprocess(X):\n",
        "    m = X.shape[0]\n",
        "    \n",
        "    data = np.zeros((m, 2500), dtype=float)\n",
        "\n",
        "    for i in range(m):\n",
        "        y = np.asarray(X[i])\n",
        "        data[i,:len(y)] += y\n",
        "\n",
        "    return data"
      ]
    },
    {
      "cell_type": "code",
      "execution_count": null,
      "metadata": {
        "colab": {
          "base_uri": "https://localhost:8080/"
        },
        "id": "Cgu3IHwAWjoL",
        "outputId": "8eb2b90d-2451-43d9-8d94-d251162c4e04"
      },
      "outputs": [
        {
          "name": "stdout",
          "output_type": "stream",
          "text": [
            "(25000, 2500) (25000, 2500)\n"
          ]
        }
      ],
      "source": [
        "Xtrain = preprocess(x_train)\n",
        "Xtest = preprocess(x_test)\n",
        "\n",
        "print(Xtrain.shape, Xtest.shape)"
      ]
    },
    {
      "cell_type": "code",
      "execution_count": null,
      "metadata": {
        "id": "qcOPkjqlcrOZ"
      },
      "outputs": [],
      "source": [
        "def plot(hist):\n",
        "    fig, (ax1, ax2) = plt.subplots(nrows=1, ncols=2, figsize=(12,5))\n",
        "    ax1.plot(hist.history['loss'], label='BCE')\n",
        "    ax1.plot(hist.history['val_loss'], label='val_BCE')\n",
        "    ax1.set_xlabel('Epocas', fontsize=15)\n",
        "    ax1.set_ylabel('Loss', fontsize=15)\n",
        "    ax1.legend(loc='best')\n",
        "\n",
        "    ax2.plot(hist.history['binary_accuracy'], label='BCE')\n",
        "    ax2.plot(hist.history['val_binary_accuracy'], label='val_BCE')\n",
        "    ax2.set_xlabel('Epocas', fontsize=15)\n",
        "    ax2.set_ylabel('Accuracy', fontsize=15)\n",
        "    ax2.legend(loc='best')\n",
        "\n",
        "    fig.tight_layout()\n",
        "    plt.show()\n",
        "    return None"
      ]
    },
    {
      "cell_type": "markdown",
      "metadata": {
        "id": "uu_jJpf4cWwH"
      },
      "source": [
        "Ya tenemos nuestros datos. Para el primer punto solo hay que agregar una capa\\\n",
        "de embedding a las arquitecturas del problema anterior."
      ]
    },
    {
      "cell_type": "code",
      "execution_count": null,
      "metadata": {
        "colab": {
          "base_uri": "https://localhost:8080/"
        },
        "id": "JcXZ31xLYDWZ",
        "outputId": "73449ac7-306f-49c7-c627-e92ac0e57ff7"
      },
      "outputs": [
        {
          "name": "stdout",
          "output_type": "stream",
          "text": [
            "Model: \"model\"\n",
            "_________________________________________________________________\n",
            " Layer (type)                Output Shape              Param #   \n",
            "=================================================================\n",
            " input_1 (InputLayer)        [(None, 2500)]            0         \n",
            "                                                                 \n",
            " embedding (Embedding)       (None, 2500, 75)          750000    \n",
            "                                                                 \n",
            " flatten (Flatten)           (None, 187500)            0         \n",
            "                                                                 \n",
            " dense (Dense)               (None, 25)                4687525   \n",
            "                                                                 \n",
            " dropout (Dropout)           (None, 25)                0         \n",
            "                                                                 \n",
            " dense_1 (Dense)             (None, 25)                650       \n",
            "                                                                 \n",
            " dropout_1 (Dropout)         (None, 25)                0         \n",
            "                                                                 \n",
            " dense_2 (Dense)             (None, 1)                 26        \n",
            "                                                                 \n",
            "=================================================================\n",
            "Total params: 5,438,201\n",
            "Trainable params: 5,438,201\n",
            "Non-trainable params: 0\n",
            "_________________________________________________________________\n"
          ]
        }
      ],
      "source": [
        "keras.backend.clear_session()\n",
        "\n",
        "opt = keras.optimizers.Adam(learning_rate=.001)\n",
        "reg = keras.regularizers.L2(0.02)\n",
        "\n",
        "input = keras.layers.Input(shape=(2500,))\n",
        "\n",
        "embed = keras.layers.Embedding(10000, 75, input_length=2500)(input)\n",
        "\n",
        "flat = keras.layers.Flatten()(embed)\n",
        "\n",
        "l1 = keras.layers.Dense(25, activation='relu', use_bias=True, \n",
        "                        kernel_regularizer=reg)(flat)\n",
        "drop1 = keras.layers.Dropout(rate=0.3)(l1)\n",
        "\n",
        "l2 = keras.layers.Dense(25, activation='relu', use_bias=True, \n",
        "                        kernel_regularizer=reg)(drop1)\n",
        "drop2 = keras.layers.Dropout(rate=0.3)(l2)\n",
        "\n",
        "#l3 = keras.layers.Dense(10, activation='relu', use_bias=True, \n",
        "#                        kernel_regularizer=reg)(drop2)\n",
        "#drop3 = keras.layers.Dropout(rate=0)(l3)\n",
        "\n",
        "output = keras.layers.Dense(1, activation='sigmoid', use_bias=True)(drop2)\n",
        "\n",
        "model = keras.Model(inputs=input, outputs=output)\n",
        "\n",
        "model.summary()"
      ]
    },
    {
      "cell_type": "code",
      "execution_count": null,
      "metadata": {
        "colab": {
          "base_uri": "https://localhost:8080/"
        },
        "id": "AOACKDq8cxpq",
        "outputId": "6bec7eb1-78f7-4f87-9efa-f543c306e82b"
      },
      "outputs": [
        {
          "name": "stdout",
          "output_type": "stream",
          "text": [
            "Epoch 1/15\n",
            "500/500 - 71s - loss: 0.8593 - binary_accuracy: 0.5534 - val_loss: 0.6599 - val_binary_accuracy: 0.6576 - 71s/epoch - 142ms/step\n",
            "Epoch 2/15\n",
            "500/500 - 75s - loss: 0.6135 - binary_accuracy: 0.7650 - val_loss: 0.5615 - val_binary_accuracy: 0.8140 - 75s/epoch - 149ms/step\n",
            "Epoch 3/15\n",
            "500/500 - 77s - loss: 0.5348 - binary_accuracy: 0.8226 - val_loss: 0.5346 - val_binary_accuracy: 0.8142 - 77s/epoch - 153ms/step\n",
            "Epoch 4/15\n",
            "500/500 - 69s - loss: 0.5098 - binary_accuracy: 0.8466 - val_loss: 0.5594 - val_binary_accuracy: 0.8376 - 69s/epoch - 138ms/step\n",
            "Epoch 5/15\n",
            "500/500 - 73s - loss: 0.4841 - binary_accuracy: 0.8738 - val_loss: 0.5861 - val_binary_accuracy: 0.8390 - 73s/epoch - 146ms/step\n",
            "Epoch 6/15\n",
            "500/500 - 70s - loss: 0.4808 - binary_accuracy: 0.8894 - val_loss: 0.6316 - val_binary_accuracy: 0.8507 - 70s/epoch - 139ms/step\n",
            "Epoch 7/15\n",
            "500/500 - 72s - loss: 0.4603 - binary_accuracy: 0.9094 - val_loss: 0.6107 - val_binary_accuracy: 0.8454 - 72s/epoch - 143ms/step\n",
            "Epoch 8/15\n",
            "500/500 - 71s - loss: 0.4459 - binary_accuracy: 0.9237 - val_loss: 0.7376 - val_binary_accuracy: 0.8406 - 71s/epoch - 143ms/step\n",
            "Epoch 9/15\n",
            "500/500 - 70s - loss: 0.4590 - binary_accuracy: 0.9340 - val_loss: 0.6977 - val_binary_accuracy: 0.8371 - 70s/epoch - 139ms/step\n",
            "Epoch 10/15\n",
            "500/500 - 75s - loss: 0.4187 - binary_accuracy: 0.9445 - val_loss: 0.7714 - val_binary_accuracy: 0.8369 - 75s/epoch - 150ms/step\n",
            "Epoch 11/15\n",
            "500/500 - 71s - loss: 0.4169 - binary_accuracy: 0.9496 - val_loss: 0.7724 - val_binary_accuracy: 0.8461 - 71s/epoch - 142ms/step\n",
            "Epoch 12/15\n",
            "500/500 - 77s - loss: 0.3992 - binary_accuracy: 0.9571 - val_loss: 0.8001 - val_binary_accuracy: 0.8414 - 77s/epoch - 155ms/step\n",
            "Epoch 13/15\n",
            "500/500 - 71s - loss: 0.4046 - binary_accuracy: 0.9582 - val_loss: 0.7871 - val_binary_accuracy: 0.8485 - 71s/epoch - 142ms/step\n",
            "Epoch 14/15\n",
            "500/500 - 73s - loss: 0.4143 - binary_accuracy: 0.9626 - val_loss: 0.7751 - val_binary_accuracy: 0.8387 - 73s/epoch - 145ms/step\n",
            "Epoch 15/15\n",
            "500/500 - 79s - loss: 0.4434 - binary_accuracy: 0.9648 - val_loss: 0.8969 - val_binary_accuracy: 0.8492 - 79s/epoch - 159ms/step\n"
          ]
        }
      ],
      "source": [
        "model.compile(optimizer=opt, \n",
        "              loss=keras.losses.BinaryCrossentropy(from_logits=False), \n",
        "              metrics=[keras.metrics.BinaryAccuracy(threshold=.8)]\n",
        "              )\n",
        "\n",
        "hist = model.fit(Xtrain, y_train, validation_data=(Xtest, y_test), epochs=15, \n",
        "                   batch_size=50, verbose=2)\n",
        "\n",
        "keras.backend.clear_session()"
      ]
    },
    {
      "cell_type": "code",
      "execution_count": null,
      "metadata": {
        "colab": {
          "base_uri": "https://localhost:8080/",
          "height": 369
        },
        "id": "4gvoTTqNgcoZ",
        "outputId": "0640ae2d-2715-4899-ac72-a758c3056075"
      },
      "outputs": [
        {
          "data": {
            "image/png": "[encoded data removed]",
            "text/plain": [
              "<Figure size 864x360 with 2 Axes>"
            ]
          },
          "metadata": {
            "needs_background": "light"
          },
          "output_type": "display_data"
        }
      ],
      "source": [
        "plot(hist)"
      ]
    },
    {
      "cell_type": "code",
      "execution_count": null,
      "metadata": {
        "colab": {
          "base_uri": "https://localhost:8080/"
        },
        "id": "k9QxfcBJm5Xm",
        "outputId": "4b6f9a67-aa96-45af-8b09-535083678cbc"
      },
      "outputs": [
        {
          "data": {
            "text/plain": [
              "array([[0.00578609],\n",
              "       [0.99569106],\n",
              "       [0.99080235],\n",
              "       [0.0359014 ],\n",
              "       [0.931407  ],\n",
              "       [0.08247241],\n",
              "       [0.9067985 ],\n",
              "       [0.00580797],\n",
              "       [0.99194056],\n",
              "       [0.9440868 ]], dtype=float32)"
            ]
          },
          "execution_count": 13,
          "metadata": {},
          "output_type": "execute_result"
        }
      ],
      "source": [
        "model.predict(Xtest[0:10])"
      ]
    },
    {
      "cell_type": "markdown",
      "metadata": {
        "id": "hWGez4eGWhRn"
      },
      "source": [
        "Ahora la red convolucional"
      ]
    },
    {
      "cell_type": "code",
      "execution_count": null,
      "metadata": {
        "colab": {
          "base_uri": "https://localhost:8080/"
        },
        "id": "6sHM-JriWjul",
        "outputId": "a776bc5c-74a6-4b16-eb31-768f38a55d7e"
      },
      "outputs": [
        {
          "name": "stdout",
          "output_type": "stream",
          "text": [
            "Model: \"model\"\n",
            "_________________________________________________________________\n",
            " Layer (type)                Output Shape              Param #   \n",
            "=================================================================\n",
            " input_1 (InputLayer)        [(None, 2500)]            0         \n",
            "                                                                 \n",
            " embedding (Embedding)       (None, 2500, 50)          500000    \n",
            "                                                                 \n",
            " conv1d (Conv1D)             (None, 2498, 64)          9664      \n",
            "                                                                 \n",
            " conv1d_1 (Conv1D)           (None, 2496, 32)          6176      \n",
            "                                                                 \n",
            " flatten (Flatten)           (None, 79872)             0         \n",
            "                                                                 \n",
            " dense (Dense)               (None, 1)                 79873     \n",
            "                                                                 \n",
            "=================================================================\n",
            "Total params: 595,713\n",
            "Trainable params: 595,713\n",
            "Non-trainable params: 0\n",
            "_________________________________________________________________\n"
          ]
        }
      ],
      "source": [
        "keras.backend.clear_session()\n",
        "\n",
        "opt = keras.optimizers.Adam(learning_rate=.001)\n",
        "reg = keras.regularizers.L2(0.008)\n",
        "\n",
        "input = keras.layers.Input(shape=(2500,))\n",
        "\n",
        "embed = keras.layers.Embedding(10000, 50, input_length=2500, \n",
        "                               embeddings_regularizer=reg)(input)\n",
        "\n",
        "l1 = keras.layers.Conv1D(filters=64, kernel_size=3, \n",
        "                         kernel_regularizer=reg)(embed)\n",
        "\n",
        "l2 = keras.layers.Conv1D(filters=32, kernel_size=3, kernel_regularizer=reg)(l1)\n",
        "\n",
        "flat = keras.layers.Flatten()(l2)\n",
        "\n",
        "output = keras.layers.Dense(1, activation='sigmoid', \n",
        "                            kernel_regularizer=reg)(flat)\n",
        "\n",
        "\n",
        "model = keras.Model(inputs=input, outputs=output)\n",
        "\n",
        "model.summary()"
      ]
    },
    {
      "cell_type": "code",
      "execution_count": null,
      "metadata": {
        "colab": {
          "base_uri": "https://localhost:8080/",
          "height": 783
        },
        "id": "F-t7iPuLfgaM",
        "outputId": "55f9a529-edfe-4f88-a426-1154026c01a8"
      },
      "outputs": [
        {
          "name": "stdout",
          "output_type": "stream",
          "text": [
            "Epoch 1/15\n",
            "500/500 [==============================] - 224s 446ms/step - loss: 0.9162 - binary_accuracy: 0.6016 - val_loss: 0.6070 - val_binary_accuracy: 0.7043\n",
            "Epoch 2/15\n",
            "500/500 [==============================] - 220s 441ms/step - loss: 0.5671 - binary_accuracy: 0.7531 - val_loss: 0.5553 - val_binary_accuracy: 0.7100\n",
            "Epoch 3/15\n",
            "500/500 [==============================] - 229s 457ms/step - loss: 0.5262 - binary_accuracy: 0.7782 - val_loss: 0.5384 - val_binary_accuracy: 0.8067\n",
            "Epoch 4/15\n",
            "500/500 [==============================] - 253s 507ms/step - loss: 0.5135 - binary_accuracy: 0.7882 - val_loss: 0.5181 - val_binary_accuracy: 0.7344\n",
            "Epoch 5/15\n",
            "500/500 [==============================] - 234s 469ms/step - loss: 0.5039 - binary_accuracy: 0.7947 - val_loss: 0.5154 - val_binary_accuracy: 0.7539\n",
            "Epoch 6/15\n",
            "500/500 [==============================] - 221s 441ms/step - loss: 0.4962 - binary_accuracy: 0.7980 - val_loss: 0.5318 - val_binary_accuracy: 0.8392\n",
            "Epoch 7/15\n",
            "500/500 [==============================] - 221s 442ms/step - loss: 0.4926 - binary_accuracy: 0.8020 - val_loss: 0.5196 - val_binary_accuracy: 0.7397\n",
            "Epoch 8/15\n",
            "500/500 [==============================] - 221s 442ms/step - loss: 0.4920 - binary_accuracy: 0.8023 - val_loss: 0.5365 - val_binary_accuracy: 0.8176\n",
            "Epoch 9/15\n",
            "500/500 [==============================] - 220s 440ms/step - loss: 0.4883 - binary_accuracy: 0.8051 - val_loss: 0.5113 - val_binary_accuracy: 0.7749\n",
            "Epoch 10/15\n",
            "500/500 [==============================] - 220s 440ms/step - loss: 0.4852 - binary_accuracy: 0.8070 - val_loss: 0.5094 - val_binary_accuracy: 0.7853\n",
            "Epoch 11/15\n",
            " 29/500 [>.............................] - ETA: 2:44 - loss: 0.4535 - binary_accuracy: 0.8228"
          ]
        },
        {
          "ename": "KeyboardInterrupt",
          "evalue": "ignored",
          "output_type": "error",
          "traceback": [
            "\u001b[0;31m---------------------------------------------------------------------------\u001b[0m",
            "\u001b[0;31mKeyboardInterrupt\u001b[0m                         Traceback (most recent call last)",
            "\u001b[0;32m<ipython-input-22-de08f5f16191>\u001b[0m in \u001b[0;36m<module>\u001b[0;34m\u001b[0m\n\u001b[1;32m      5\u001b[0m \u001b[0;34m\u001b[0m\u001b[0m\n\u001b[1;32m      6\u001b[0m hist = model.fit(Xtrain, y_train, validation_data=(Xtest, y_test), epochs=15, \n\u001b[0;32m----> 7\u001b[0;31m                    batch_size=50, verbose=1)\n\u001b[0m\u001b[1;32m      8\u001b[0m \u001b[0;34m\u001b[0m\u001b[0m\n\u001b[1;32m      9\u001b[0m \u001b[0mkeras\u001b[0m\u001b[0;34m.\u001b[0m\u001b[0mbackend\u001b[0m\u001b[0;34m.\u001b[0m\u001b[0mclear_session\u001b[0m\u001b[0;34m(\u001b[0m\u001b[0;34m)\u001b[0m\u001b[0;34m\u001b[0m\u001b[0;34m\u001b[0m\u001b[0m\n",
            "\u001b[0;32m/usr/local/lib/python3.7/dist-packages/keras/utils/traceback_utils.py\u001b[0m in \u001b[0;36merror_handler\u001b[0;34m(*args, **kwargs)\u001b[0m\n\u001b[1;32m     62\u001b[0m     \u001b[0mfiltered_tb\u001b[0m \u001b[0;34m=\u001b[0m \u001b[0;32mNone\u001b[0m\u001b[0;34m\u001b[0m\u001b[0;34m\u001b[0m\u001b[0m\n\u001b[1;32m     63\u001b[0m     \u001b[0;32mtry\u001b[0m\u001b[0;34m:\u001b[0m\u001b[0;34m\u001b[0m\u001b[0;34m\u001b[0m\u001b[0m\n\u001b[0;32m---> 64\u001b[0;31m       \u001b[0;32mreturn\u001b[0m \u001b[0mfn\u001b[0m\u001b[0;34m(\u001b[0m\u001b[0;34m*\u001b[0m\u001b[0margs\u001b[0m\u001b[0;34m,\u001b[0m \u001b[0;34m**\u001b[0m\u001b[0mkwargs\u001b[0m\u001b[0;34m)\u001b[0m\u001b[0;34m\u001b[0m\u001b[0;34m\u001b[0m\u001b[0m\n\u001b[0m\u001b[1;32m     65\u001b[0m     \u001b[0;32mexcept\u001b[0m \u001b[0mException\u001b[0m \u001b[0;32mas\u001b[0m \u001b[0me\u001b[0m\u001b[0;34m:\u001b[0m  \u001b[0;31m# pylint: disable=broad-except\u001b[0m\u001b[0;34m\u001b[0m\u001b[0;34m\u001b[0m\u001b[0m\n\u001b[1;32m     66\u001b[0m       \u001b[0mfiltered_tb\u001b[0m \u001b[0;34m=\u001b[0m \u001b[0m_process_traceback_frames\u001b[0m\u001b[0;34m(\u001b[0m\u001b[0me\u001b[0m\u001b[0;34m.\u001b[0m\u001b[0m__traceback__\u001b[0m\u001b[0;34m)\u001b[0m\u001b[0;34m\u001b[0m\u001b[0;34m\u001b[0m\u001b[0m\n",
            "\u001b[0;32m/usr/local/lib/python3.7/dist-packages/keras/engine/training.py\u001b[0m in \u001b[0;36mfit\u001b[0;34m(self, x, y, batch_size, epochs, verbose, callbacks, validation_split, validation_data, shuffle, class_weight, sample_weight, initial_epoch, steps_per_epoch, validation_steps, validation_batch_size, validation_freq, max_queue_size, workers, use_multiprocessing)\u001b[0m\n\u001b[1;32m   1382\u001b[0m                 _r=1):\n\u001b[1;32m   1383\u001b[0m               \u001b[0mcallbacks\u001b[0m\u001b[0;34m.\u001b[0m\u001b[0mon_train_batch_begin\u001b[0m\u001b[0;34m(\u001b[0m\u001b[0mstep\u001b[0m\u001b[0;34m)\u001b[0m\u001b[0;34m\u001b[0m\u001b[0;34m\u001b[0m\u001b[0m\n\u001b[0;32m-> 1384\u001b[0;31m               \u001b[0mtmp_logs\u001b[0m \u001b[0;34m=\u001b[0m \u001b[0mself\u001b[0m\u001b[0;34m.\u001b[0m\u001b[0mtrain_function\u001b[0m\u001b[0;34m(\u001b[0m\u001b[0miterator\u001b[0m\u001b[0;34m)\u001b[0m\u001b[0;34m\u001b[0m\u001b[0;34m\u001b[0m\u001b[0m\n\u001b[0m\u001b[1;32m   1385\u001b[0m               \u001b[0;32mif\u001b[0m \u001b[0mdata_handler\u001b[0m\u001b[0;34m.\u001b[0m\u001b[0mshould_sync\u001b[0m\u001b[0;34m:\u001b[0m\u001b[0;34m\u001b[0m\u001b[0;34m\u001b[0m\u001b[0m\n\u001b[1;32m   1386\u001b[0m                 \u001b[0mcontext\u001b[0m\u001b[0;34m.\u001b[0m\u001b[0masync_wait\u001b[0m\u001b[0;34m(\u001b[0m\u001b[0;34m)\u001b[0m\u001b[0;34m\u001b[0m\u001b[0;34m\u001b[0m\u001b[0m\n",
            "\u001b[0;32m/usr/local/lib/python3.7/dist-packages/tensorflow/python/util/traceback_utils.py\u001b[0m in \u001b[0;36merror_handler\u001b[0;34m(*args, **kwargs)\u001b[0m\n\u001b[1;32m    148\u001b[0m     \u001b[0mfiltered_tb\u001b[0m \u001b[0;34m=\u001b[0m \u001b[0;32mNone\u001b[0m\u001b[0;34m\u001b[0m\u001b[0;34m\u001b[0m\u001b[0m\n\u001b[1;32m    149\u001b[0m     \u001b[0;32mtry\u001b[0m\u001b[0;34m:\u001b[0m\u001b[0;34m\u001b[0m\u001b[0;34m\u001b[0m\u001b[0m\n\u001b[0;32m--> 150\u001b[0;31m       \u001b[0;32mreturn\u001b[0m \u001b[0mfn\u001b[0m\u001b[0;34m(\u001b[0m\u001b[0;34m*\u001b[0m\u001b[0margs\u001b[0m\u001b[0;34m,\u001b[0m \u001b[0;34m**\u001b[0m\u001b[0mkwargs\u001b[0m\u001b[0;34m)\u001b[0m\u001b[0;34m\u001b[0m\u001b[0;34m\u001b[0m\u001b[0m\n\u001b[0m\u001b[1;32m    151\u001b[0m     \u001b[0;32mexcept\u001b[0m \u001b[0mException\u001b[0m \u001b[0;32mas\u001b[0m \u001b[0me\u001b[0m\u001b[0;34m:\u001b[0m\u001b[0;34m\u001b[0m\u001b[0;34m\u001b[0m\u001b[0m\n\u001b[1;32m    152\u001b[0m       \u001b[0mfiltered_tb\u001b[0m \u001b[0;34m=\u001b[0m \u001b[0m_process_traceback_frames\u001b[0m\u001b[0;34m(\u001b[0m\u001b[0me\u001b[0m\u001b[0;34m.\u001b[0m\u001b[0m__traceback__\u001b[0m\u001b[0;34m)\u001b[0m\u001b[0;34m\u001b[0m\u001b[0;34m\u001b[0m\u001b[0m\n",
            "\u001b[0;32m/usr/local/lib/python3.7/dist-packages/tensorflow/python/eager/def_function.py\u001b[0m in \u001b[0;36m__call__\u001b[0;34m(self, *args, **kwds)\u001b[0m\n\u001b[1;32m    913\u001b[0m \u001b[0;34m\u001b[0m\u001b[0m\n\u001b[1;32m    914\u001b[0m       \u001b[0;32mwith\u001b[0m \u001b[0mOptionalXlaContext\u001b[0m\u001b[0;34m(\u001b[0m\u001b[0mself\u001b[0m\u001b[0;34m.\u001b[0m\u001b[0m_jit_compile\u001b[0m\u001b[0;34m)\u001b[0m\u001b[0;34m:\u001b[0m\u001b[0;34m\u001b[0m\u001b[0;34m\u001b[0m\u001b[0m\n\u001b[0;32m--> 915\u001b[0;31m         \u001b[0mresult\u001b[0m \u001b[0;34m=\u001b[0m \u001b[0mself\u001b[0m\u001b[0;34m.\u001b[0m\u001b[0m_call\u001b[0m\u001b[0;34m(\u001b[0m\u001b[0;34m*\u001b[0m\u001b[0margs\u001b[0m\u001b[0;34m,\u001b[0m \u001b[0;34m**\u001b[0m\u001b[0mkwds\u001b[0m\u001b[0;34m)\u001b[0m\u001b[0;34m\u001b[0m\u001b[0;34m\u001b[0m\u001b[0m\n\u001b[0m\u001b[1;32m    916\u001b[0m \u001b[0;34m\u001b[0m\u001b[0m\n\u001b[1;32m    917\u001b[0m       \u001b[0mnew_tracing_count\u001b[0m \u001b[0;34m=\u001b[0m \u001b[0mself\u001b[0m\u001b[0;34m.\u001b[0m\u001b[0mexperimental_get_tracing_count\u001b[0m\u001b[0;34m(\u001b[0m\u001b[0;34m)\u001b[0m\u001b[0;34m\u001b[0m\u001b[0;34m\u001b[0m\u001b[0m\n",
            "\u001b[0;32m/usr/local/lib/python3.7/dist-packages/tensorflow/python/eager/def_function.py\u001b[0m in \u001b[0;36m_call\u001b[0;34m(self, *args, **kwds)\u001b[0m\n\u001b[1;32m    945\u001b[0m       \u001b[0;31m# In this case we have created variables on the first call, so we run the\u001b[0m\u001b[0;34m\u001b[0m\u001b[0;34m\u001b[0m\u001b[0;34m\u001b[0m\u001b[0m\n\u001b[1;32m    946\u001b[0m       \u001b[0;31m# defunned version which is guaranteed to never create variables.\u001b[0m\u001b[0;34m\u001b[0m\u001b[0;34m\u001b[0m\u001b[0;34m\u001b[0m\u001b[0m\n\u001b[0;32m--> 947\u001b[0;31m       \u001b[0;32mreturn\u001b[0m \u001b[0mself\u001b[0m\u001b[0;34m.\u001b[0m\u001b[0m_stateless_fn\u001b[0m\u001b[0;34m(\u001b[0m\u001b[0;34m*\u001b[0m\u001b[0margs\u001b[0m\u001b[0;34m,\u001b[0m \u001b[0;34m**\u001b[0m\u001b[0mkwds\u001b[0m\u001b[0;34m)\u001b[0m  \u001b[0;31m# pylint: disable=not-callable\u001b[0m\u001b[0;34m\u001b[0m\u001b[0;34m\u001b[0m\u001b[0m\n\u001b[0m\u001b[1;32m    948\u001b[0m     \u001b[0;32melif\u001b[0m \u001b[0mself\u001b[0m\u001b[0;34m.\u001b[0m\u001b[0m_stateful_fn\u001b[0m \u001b[0;32mis\u001b[0m \u001b[0;32mnot\u001b[0m \u001b[0;32mNone\u001b[0m\u001b[0;34m:\u001b[0m\u001b[0;34m\u001b[0m\u001b[0;34m\u001b[0m\u001b[0m\n\u001b[1;32m    949\u001b[0m       \u001b[0;31m# Release the lock early so that multiple threads can perform the call\u001b[0m\u001b[0;34m\u001b[0m\u001b[0;34m\u001b[0m\u001b[0;34m\u001b[0m\u001b[0m\n",
            "\u001b[0;32m/usr/local/lib/python3.7/dist-packages/tensorflow/python/eager/function.py\u001b[0m in \u001b[0;36m__call__\u001b[0;34m(self, *args, **kwargs)\u001b[0m\n\u001b[1;32m   2955\u001b[0m        filtered_flat_args) = self._maybe_define_function(args, kwargs)\n\u001b[1;32m   2956\u001b[0m     return graph_function._call_flat(\n\u001b[0;32m-> 2957\u001b[0;31m         filtered_flat_args, captured_inputs=graph_function.captured_inputs)  # pylint: disable=protected-access\n\u001b[0m\u001b[1;32m   2958\u001b[0m \u001b[0;34m\u001b[0m\u001b[0m\n\u001b[1;32m   2959\u001b[0m   \u001b[0;34m@\u001b[0m\u001b[0mproperty\u001b[0m\u001b[0;34m\u001b[0m\u001b[0;34m\u001b[0m\u001b[0m\n",
            "\u001b[0;32m/usr/local/lib/python3.7/dist-packages/tensorflow/python/eager/function.py\u001b[0m in \u001b[0;36m_call_flat\u001b[0;34m(self, args, captured_inputs, cancellation_manager)\u001b[0m\n\u001b[1;32m   1852\u001b[0m       \u001b[0;31m# No tape is watching; skip to running the function.\u001b[0m\u001b[0;34m\u001b[0m\u001b[0;34m\u001b[0m\u001b[0;34m\u001b[0m\u001b[0m\n\u001b[1;32m   1853\u001b[0m       return self._build_call_outputs(self._inference_function.call(\n\u001b[0;32m-> 1854\u001b[0;31m           ctx, args, cancellation_manager=cancellation_manager))\n\u001b[0m\u001b[1;32m   1855\u001b[0m     forward_backward = self._select_forward_and_backward_functions(\n\u001b[1;32m   1856\u001b[0m         \u001b[0margs\u001b[0m\u001b[0;34m,\u001b[0m\u001b[0;34m\u001b[0m\u001b[0;34m\u001b[0m\u001b[0m\n",
            "\u001b[0;32m/usr/local/lib/python3.7/dist-packages/tensorflow/python/eager/function.py\u001b[0m in \u001b[0;36mcall\u001b[0;34m(self, ctx, args, cancellation_manager)\u001b[0m\n\u001b[1;32m    502\u001b[0m               \u001b[0minputs\u001b[0m\u001b[0;34m=\u001b[0m\u001b[0margs\u001b[0m\u001b[0;34m,\u001b[0m\u001b[0;34m\u001b[0m\u001b[0;34m\u001b[0m\u001b[0m\n\u001b[1;32m    503\u001b[0m               \u001b[0mattrs\u001b[0m\u001b[0;34m=\u001b[0m\u001b[0mattrs\u001b[0m\u001b[0;34m,\u001b[0m\u001b[0;34m\u001b[0m\u001b[0;34m\u001b[0m\u001b[0m\n\u001b[0;32m--> 504\u001b[0;31m               ctx=ctx)\n\u001b[0m\u001b[1;32m    505\u001b[0m         \u001b[0;32melse\u001b[0m\u001b[0;34m:\u001b[0m\u001b[0;34m\u001b[0m\u001b[0;34m\u001b[0m\u001b[0m\n\u001b[1;32m    506\u001b[0m           outputs = execute.execute_with_cancellation(\n",
            "\u001b[0;32m/usr/local/lib/python3.7/dist-packages/tensorflow/python/eager/execute.py\u001b[0m in \u001b[0;36mquick_execute\u001b[0;34m(op_name, num_outputs, inputs, attrs, ctx, name)\u001b[0m\n\u001b[1;32m     53\u001b[0m     \u001b[0mctx\u001b[0m\u001b[0;34m.\u001b[0m\u001b[0mensure_initialized\u001b[0m\u001b[0;34m(\u001b[0m\u001b[0;34m)\u001b[0m\u001b[0;34m\u001b[0m\u001b[0;34m\u001b[0m\u001b[0m\n\u001b[1;32m     54\u001b[0m     tensors = pywrap_tfe.TFE_Py_Execute(ctx._handle, device_name, op_name,\n\u001b[0;32m---> 55\u001b[0;31m                                         inputs, attrs, num_outputs)\n\u001b[0m\u001b[1;32m     56\u001b[0m   \u001b[0;32mexcept\u001b[0m \u001b[0mcore\u001b[0m\u001b[0;34m.\u001b[0m\u001b[0m_NotOkStatusException\u001b[0m \u001b[0;32mas\u001b[0m \u001b[0me\u001b[0m\u001b[0;34m:\u001b[0m\u001b[0;34m\u001b[0m\u001b[0;34m\u001b[0m\u001b[0m\n\u001b[1;32m     57\u001b[0m     \u001b[0;32mif\u001b[0m \u001b[0mname\u001b[0m \u001b[0;32mis\u001b[0m \u001b[0;32mnot\u001b[0m \u001b[0;32mNone\u001b[0m\u001b[0;34m:\u001b[0m\u001b[0;34m\u001b[0m\u001b[0;34m\u001b[0m\u001b[0m\n",
            "\u001b[0;31mKeyboardInterrupt\u001b[0m: "
          ]
        }
      ],
      "source": [
        "model.compile(optimizer=opt, \n",
        "              loss=keras.losses.BinaryCrossentropy(from_logits=False), \n",
        "              metrics=[keras.metrics.BinaryAccuracy(threshold=.8)]\n",
        "              )\n",
        "\n",
        "hist = model.fit(Xtrain, y_train, validation_data=(Xtest, y_test), epochs=15, \n",
        "                   batch_size=50, verbose=1)\n",
        "\n",
        "keras.backend.clear_session()"
      ]
    },
    {
      "cell_type": "code",
      "execution_count": null,
      "metadata": {
        "colab": {
          "base_uri": "https://localhost:8080/",
          "height": 169
        },
        "id": "SJ45y0EzkFcA",
        "outputId": "7d031f4a-7c81-4772-db77-103cf411e243"
      },
      "outputs": [
        {
          "ename": "NameError",
          "evalue": "ignored",
          "output_type": "error",
          "traceback": [
            "\u001b[0;31m---------------------------------------------------------------------------\u001b[0m",
            "\u001b[0;31mNameError\u001b[0m                                 Traceback (most recent call last)",
            "\u001b[0;32m<ipython-input-23-4aba349f1512>\u001b[0m in \u001b[0;36m<module>\u001b[0;34m\u001b[0m\n\u001b[0;32m----> 1\u001b[0;31m \u001b[0mplot\u001b[0m\u001b[0;34m(\u001b[0m\u001b[0mhist\u001b[0m\u001b[0;34m)\u001b[0m\u001b[0;34m\u001b[0m\u001b[0;34m\u001b[0m\u001b[0m\n\u001b[0m",
            "\u001b[0;31mNameError\u001b[0m: name 'hist' is not defined"
          ]
        }
      ],
      "source": [
        "plot(hist)"
      ]
    },
    {
      "cell_type": "code",
      "execution_count": null,
      "metadata": {
        "colab": {
          "base_uri": "https://localhost:8080/"
        },
        "id": "2GSI5ghneDsP",
        "outputId": "9c3c17ad-edb2-478a-d12e-a150c2264469"
      },
      "outputs": [
        {
          "name": "stdout",
          "output_type": "stream",
          "text": [
            "Model: \"model\"\n",
            "_________________________________________________________________\n",
            " Layer (type)                Output Shape              Param #   \n",
            "=================================================================\n",
            " input_1 (InputLayer)        [(None, 2500)]            0         \n",
            "                                                                 \n",
            " embedding (Embedding)       (None, 2500, 50)          500000    \n",
            "                                                                 \n",
            " dropout (Dropout)           (None, 2500, 50)          0         \n",
            "                                                                 \n",
            " batch_normalization (BatchN  (None, 2500, 50)         200       \n",
            " ormalization)                                                   \n",
            "                                                                 \n",
            " conv1d (Conv1D)             (None, 2498, 32)          4832      \n",
            "                                                                 \n",
            " max_pooling1d (MaxPooling1D  (None, 1249, 32)         0         \n",
            " )                                                               \n",
            "                                                                 \n",
            " dropout_1 (Dropout)         (None, 1249, 32)          0         \n",
            "                                                                 \n",
            " batch_normalization_1 (Batc  (None, 1249, 32)         128       \n",
            " hNormalization)                                                 \n",
            "                                                                 \n",
            " conv1d_1 (Conv1D)           (None, 1247, 64)          6208      \n",
            "                                                                 \n",
            " max_pooling1d_1 (MaxPooling  (None, 623, 64)          0         \n",
            " 1D)                                                             \n",
            "                                                                 \n",
            " dropout_2 (Dropout)         (None, 623, 64)           0         \n",
            "                                                                 \n",
            " batch_normalization_2 (Batc  (None, 623, 64)          256       \n",
            " hNormalization)                                                 \n",
            "                                                                 \n",
            " flatten (Flatten)           (None, 39872)             0         \n",
            "                                                                 \n",
            " dense (Dense)               (None, 1)                 39873     \n",
            "                                                                 \n",
            "=================================================================\n",
            "Total params: 551,497\n",
            "Trainable params: 551,205\n",
            "Non-trainable params: 292\n",
            "_________________________________________________________________\n"
          ]
        }
      ],
      "source": [
        "keras.backend.clear_session()\n",
        "\n",
        "opt = keras.optimizers.Adam(learning_rate=.00005)\n",
        "dropout_rate=.5\n",
        "\n",
        "input = keras.layers.Input(shape=(2500,))\n",
        "\n",
        "embed = keras.layers.Embedding(10000, 50, input_length=2500)(input)\n",
        "drop1 = keras.layers.Dropout(rate=dropout_rate)(embed)\n",
        "BN1 = keras.layers.BatchNormalization()(drop1)\n",
        "\n",
        "conv1 = keras.layers.Conv1D(filters=32, kernel_size=3, activation='relu')(BN1)\n",
        "max1 = keras.layers.MaxPooling1D()(conv1)\n",
        "drop2 = keras.layers.Dropout(rate=dropout_rate)(max1)\n",
        "BN2 = keras.layers.BatchNormalization()(drop2)\n",
        "\n",
        "conv2 = keras.layers.Conv1D(filters=64, kernel_size=3, activation='relu')(BN2)\n",
        "max2 = keras.layers.MaxPooling1D()(conv2)\n",
        "drop3 = keras.layers.Dropout(rate=dropout_rate)(max2)\n",
        "BN3 = keras.layers.BatchNormalization()(drop3)\n",
        "\n",
        "flat = keras.layers.Flatten()(BN3)\n",
        "\n",
        "output = keras.layers.Dense(1, activation='linear')(flat)\n",
        "\n",
        "\n",
        "model = keras.Model(inputs=input, outputs=output)\n",
        "\n",
        "model.summary()"
      ]
    },
    {
      "cell_type": "code",
      "execution_count": null,
      "metadata": {
        "colab": {
          "base_uri": "https://localhost:8080/"
        },
        "id": "cVIyDsnVf0Wi",
        "outputId": "29334a7a-29a8-4f7b-cc88-695995ff5b7b"
      },
      "outputs": [
        {
          "name": "stdout",
          "output_type": "stream",
          "text": [
            "Epoch 1/50\n",
            "196/196 [==============================] - 319s 2s/step - loss: 0.8885 - binary_accuracy: 0.4995 - val_loss: 0.6952 - val_binary_accuracy: 0.5000\n",
            "Epoch 2/50\n",
            "196/196 [==============================] - 316s 2s/step - loss: 0.8674 - binary_accuracy: 0.5046 - val_loss: 0.7329 - val_binary_accuracy: 0.5033\n",
            "Epoch 3/50\n",
            "196/196 [==============================] - 314s 2s/step - loss: 0.8586 - binary_accuracy: 0.5051 - val_loss: 0.7389 - val_binary_accuracy: 0.5110\n",
            "Epoch 4/50\n",
            "196/196 [==============================] - 316s 2s/step - loss: 0.8486 - binary_accuracy: 0.5029 - val_loss: 0.7247 - val_binary_accuracy: 0.5253\n",
            "Epoch 5/50\n",
            "196/196 [==============================] - 316s 2s/step - loss: 0.8341 - binary_accuracy: 0.5064 - val_loss: 0.7283 - val_binary_accuracy: 0.5400\n",
            "Epoch 6/50\n",
            "196/196 [==============================] - 316s 2s/step - loss: 0.8144 - binary_accuracy: 0.5101 - val_loss: 0.7608 - val_binary_accuracy: 0.5102\n",
            "Epoch 7/50\n",
            "196/196 [==============================] - 316s 2s/step - loss: 0.7985 - binary_accuracy: 0.5142 - val_loss: 0.7210 - val_binary_accuracy: 0.5790\n",
            "Epoch 8/50\n",
            "196/196 [==============================] - 317s 2s/step - loss: 0.7888 - binary_accuracy: 0.5170 - val_loss: 0.7361 - val_binary_accuracy: 0.5647\n",
            "Epoch 9/50\n",
            "196/196 [==============================] - 317s 2s/step - loss: 0.7608 - binary_accuracy: 0.5315 - val_loss: 0.7550 - val_binary_accuracy: 0.5481\n",
            "Epoch 10/50\n",
            "196/196 [==============================] - 318s 2s/step - loss: 0.7339 - binary_accuracy: 0.5518 - val_loss: 0.7500 - val_binary_accuracy: 0.5687\n",
            "Epoch 11/50\n",
            "196/196 [==============================] - 316s 2s/step - loss: 0.6898 - binary_accuracy: 0.5838 - val_loss: 0.7408 - val_binary_accuracy: 0.6013\n",
            "Epoch 12/50\n",
            "196/196 [==============================] - 316s 2s/step - loss: 0.6403 - binary_accuracy: 0.6271 - val_loss: 0.7727 - val_binary_accuracy: 0.6048\n",
            "Epoch 13/50\n",
            "196/196 [==============================] - 315s 2s/step - loss: 0.5744 - binary_accuracy: 0.6846 - val_loss: 0.8395 - val_binary_accuracy: 0.6003\n",
            "Epoch 14/50\n",
            "196/196 [==============================] - 315s 2s/step - loss: 0.5100 - binary_accuracy: 0.7367 - val_loss: 0.7795 - val_binary_accuracy: 0.6522\n",
            "Epoch 15/50\n",
            "196/196 [==============================] - 315s 2s/step - loss: 0.4523 - binary_accuracy: 0.7763 - val_loss: 0.6903 - val_binary_accuracy: 0.7085\n",
            "Epoch 16/50\n",
            "196/196 [==============================] - 315s 2s/step - loss: 0.4212 - binary_accuracy: 0.8009 - val_loss: 0.5215 - val_binary_accuracy: 0.7903\n",
            "Epoch 17/50\n",
            "196/196 [==============================] - 314s 2s/step - loss: 0.3933 - binary_accuracy: 0.8172 - val_loss: 0.5278 - val_binary_accuracy: 0.7931\n",
            "Epoch 18/50\n",
            "196/196 [==============================] - 313s 2s/step - loss: 0.3665 - binary_accuracy: 0.8355 - val_loss: 0.5524 - val_binary_accuracy: 0.7862\n",
            "Epoch 19/50\n",
            "196/196 [==============================] - 314s 2s/step - loss: 0.3498 - binary_accuracy: 0.8446 - val_loss: 0.5083 - val_binary_accuracy: 0.8051\n",
            "Epoch 20/50\n",
            "196/196 [==============================] - 314s 2s/step - loss: 0.3350 - binary_accuracy: 0.8522 - val_loss: 0.4683 - val_binary_accuracy: 0.8239\n",
            "Epoch 21/50\n",
            "196/196 [==============================] - 315s 2s/step - loss: 0.3223 - binary_accuracy: 0.8594 - val_loss: 0.4181 - val_binary_accuracy: 0.8459\n",
            "Epoch 22/50\n",
            "196/196 [==============================] - 314s 2s/step - loss: 0.3118 - binary_accuracy: 0.8664 - val_loss: 0.4251 - val_binary_accuracy: 0.8432\n",
            "Epoch 23/50\n",
            "196/196 [==============================] - 313s 2s/step - loss: 0.2999 - binary_accuracy: 0.8717 - val_loss: 0.3834 - val_binary_accuracy: 0.8606\n",
            "Epoch 24/50\n",
            "196/196 [==============================] - 314s 2s/step - loss: 0.2886 - binary_accuracy: 0.8772 - val_loss: 0.3468 - val_binary_accuracy: 0.8717\n",
            "Epoch 25/50\n",
            "196/196 [==============================] - 314s 2s/step - loss: 0.2777 - binary_accuracy: 0.8828 - val_loss: 0.3127 - val_binary_accuracy: 0.8825\n",
            "Epoch 26/50\n",
            "196/196 [==============================] - 314s 2s/step - loss: 0.2677 - binary_accuracy: 0.8866 - val_loss: 0.3118 - val_binary_accuracy: 0.8838\n",
            "Epoch 27/50\n",
            "196/196 [==============================] - 315s 2s/step - loss: 0.2607 - binary_accuracy: 0.8872 - val_loss: 0.3128 - val_binary_accuracy: 0.8836\n",
            "Epoch 28/50\n",
            "196/196 [==============================] - 315s 2s/step - loss: 0.2524 - binary_accuracy: 0.8948 - val_loss: 0.3149 - val_binary_accuracy: 0.8834\n",
            "Epoch 29/50\n",
            "196/196 [==============================] - 313s 2s/step - loss: 0.2477 - binary_accuracy: 0.8954 - val_loss: 0.3265 - val_binary_accuracy: 0.8806\n",
            "Epoch 30/50\n",
            "196/196 [==============================] - 316s 2s/step - loss: 0.2421 - binary_accuracy: 0.9003 - val_loss: 0.2899 - val_binary_accuracy: 0.8874\n",
            "Epoch 31/50\n",
            "196/196 [==============================] - 315s 2s/step - loss: 0.2331 - binary_accuracy: 0.9032 - val_loss: 0.2846 - val_binary_accuracy: 0.8877\n",
            "Epoch 32/50\n",
            "196/196 [==============================] - 315s 2s/step - loss: 0.2300 - binary_accuracy: 0.9028 - val_loss: 0.2862 - val_binary_accuracy: 0.8879\n",
            "Epoch 33/50\n",
            "196/196 [==============================] - 313s 2s/step - loss: 0.2258 - binary_accuracy: 0.9060 - val_loss: 0.2952 - val_binary_accuracy: 0.8884\n",
            "Epoch 34/50\n",
            "196/196 [==============================] - 315s 2s/step - loss: 0.2197 - binary_accuracy: 0.9077 - val_loss: 0.2813 - val_binary_accuracy: 0.8892\n",
            "Epoch 35/50\n",
            "196/196 [==============================] - 318s 2s/step - loss: 0.2121 - binary_accuracy: 0.9133 - val_loss: 0.2829 - val_binary_accuracy: 0.8890\n",
            "Epoch 36/50\n",
            "196/196 [==============================] - 317s 2s/step - loss: 0.2145 - binary_accuracy: 0.9118 - val_loss: 0.2765 - val_binary_accuracy: 0.8863\n",
            "Epoch 37/50\n",
            "196/196 [==============================] - 318s 2s/step - loss: 0.2002 - binary_accuracy: 0.9176 - val_loss: 0.2808 - val_binary_accuracy: 0.8763\n",
            "Epoch 38/50\n",
            "196/196 [==============================] - 317s 2s/step - loss: 0.2002 - binary_accuracy: 0.9195 - val_loss: 0.3020 - val_binary_accuracy: 0.8872\n",
            "Epoch 39/50\n",
            "196/196 [==============================] - 317s 2s/step - loss: 0.1960 - binary_accuracy: 0.9194 - val_loss: 0.2819 - val_binary_accuracy: 0.8888\n",
            "Epoch 40/50\n",
            "196/196 [==============================] - 316s 2s/step - loss: 0.1967 - binary_accuracy: 0.9198 - val_loss: 0.2786 - val_binary_accuracy: 0.8863\n",
            "Epoch 41/50\n",
            "196/196 [==============================] - 316s 2s/step - loss: 0.1916 - binary_accuracy: 0.9226 - val_loss: 0.2814 - val_binary_accuracy: 0.8871\n",
            "Epoch 42/50\n",
            "196/196 [==============================] - 317s 2s/step - loss: 0.1864 - binary_accuracy: 0.9213 - val_loss: 0.2806 - val_binary_accuracy: 0.8847\n",
            "Epoch 43/50\n",
            "196/196 [==============================] - 316s 2s/step - loss: 0.1835 - binary_accuracy: 0.9252 - val_loss: 0.2835 - val_binary_accuracy: 0.8851\n",
            "Epoch 44/50\n",
            "196/196 [==============================] - 314s 2s/step - loss: 0.1766 - binary_accuracy: 0.9284 - val_loss: 0.2850 - val_binary_accuracy: 0.8855\n",
            "Epoch 45/50\n",
            "196/196 [==============================] - 316s 2s/step - loss: 0.1797 - binary_accuracy: 0.9269 - val_loss: 0.2856 - val_binary_accuracy: 0.8852\n",
            "Epoch 46/50\n",
            "196/196 [==============================] - 316s 2s/step - loss: 0.1736 - binary_accuracy: 0.9284 - val_loss: 0.2877 - val_binary_accuracy: 0.8846\n",
            "Epoch 47/50\n",
            "196/196 [==============================] - 314s 2s/step - loss: 0.1681 - binary_accuracy: 0.9320 - val_loss: 0.2902 - val_binary_accuracy: 0.8797\n",
            "Epoch 48/50\n",
            "196/196 [==============================] - 315s 2s/step - loss: 0.1680 - binary_accuracy: 0.9327 - val_loss: 0.2897 - val_binary_accuracy: 0.8833\n",
            "Epoch 49/50\n",
            "196/196 [==============================] - 313s 2s/step - loss: 0.1610 - binary_accuracy: 0.9342 - val_loss: 0.2945 - val_binary_accuracy: 0.8853\n",
            "Epoch 50/50\n",
            "196/196 [==============================] - 314s 2s/step - loss: 0.1607 - binary_accuracy: 0.9361 - val_loss: 0.2969 - val_binary_accuracy: 0.8848\n"
          ]
        }
      ],
      "source": [
        "model.compile(optimizer=opt, \n",
        "              loss=keras.losses.BinaryCrossentropy(from_logits=True), \n",
        "              metrics=[keras.metrics.BinaryAccuracy()]\n",
        "              )\n",
        "\n",
        "hist = model.fit(Xtrain, y_train, validation_data=(Xtest, y_test), epochs=50, \n",
        "                   batch_size=128, verbose=1)\n",
        "\n",
        "keras.backend.clear_session()"
      ]
    },
    {
      "cell_type": "code",
      "execution_count": null,
      "metadata": {
        "colab": {
          "base_uri": "https://localhost:8080/",
          "height": 369
        },
        "id": "f8qmeFGQk2H7",
        "outputId": "4a57fbb0-6517-4f97-93e8-9ac7d9bc8d41"
      },
      "outputs": [
        {
          "data": {
            "image/png": "[encoded data removed]",
            "text/plain": [
              "<Figure size 864x360 with 2 Axes>"
            ]
          },
          "metadata": {
            "needs_background": "light"
          },
          "output_type": "display_data"
        }
      ],
      "source": [
        "plot(hist)"
      ]
    }
  ],
  "metadata": {
    "colab": {
      "collapsed_sections": [],
      "provenance": []
    },
    "kernelspec": {
      "display_name": "Python 3.9.12 ('base')",
      "language": "python",
      "name": "python3"
    },
    "language_info": {
      "name": "python",
      "version": "3.9.12"
    },
    "vscode": {
      "interpreter": {
        "hash": "b045fddb768a69d708aeb44bac4815a8765073d6505277d1278f194b80f63e22"
      }
    }
  },
  "nbformat": 4,
  "nbformat_minor": 0
}
