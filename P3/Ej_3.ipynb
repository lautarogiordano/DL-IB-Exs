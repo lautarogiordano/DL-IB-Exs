{
 "cells": [
  {
   "cell_type": "markdown",
   "metadata": {},
   "source": [
    "El objetivo de este problema consiste en implementar una red neuronal que permita clasificar\\\n",
    "la revisiones realizadas en IMDB como positivas o negativas. Para ello vamos a trabajar con\\\n",
    "los datos que provee la librería keras (datasets.imbd.load_data(num_words=10000)).\\\n",
    "Los datos se encuentran codificados según el diccionario imdb.get_word_index(), donde\\\n",
    "cada palabra esta codificada con un número. Antes de poder trabajar con los datos es nece-\\\n",
    "sario preprocesar los mismos de forma similar a cómo se hizo con la BD mnist. Analizar el\\\n",
    "rendimiento de la red propuesta, y en caso de overfitting estudie el impacto que tienen las\\\n",
    "distintas variantes de regularización vistas en clase para mejorar la generalización de la red\\\n",
    "(𝐿2, BN y Drop out)."
   ]
  },
  {
   "cell_type": "code",
   "execution_count": 1,
   "metadata": {},
   "outputs": [],
   "source": [
    "import numpy as np\n",
    "import pandas as pd\n",
    "from tensorflow import keras\n",
    "from matplotlib import pyplot as plt\n",
    "\n",
    "%matplotlib inline"
   ]
  },
  {
   "cell_type": "code",
   "execution_count": 39,
   "metadata": {},
   "outputs": [],
   "source": [
    "(x_train, y_train), (x_test, y_test) = keras.datasets.imdb.load_data(num_words=10000)\n",
    "\n",
    "word_index = keras.datasets.imdb.get_word_index()"
   ]
  },
  {
   "cell_type": "code",
   "execution_count": 48,
   "metadata": {},
   "outputs": [
    {
     "name": "stdout",
     "output_type": "stream",
     "text": [
      "['it', 'is', 'in', 'of', 'a', 'br', 'the', 'and', 'to']\n"
     ]
    }
   ],
   "source": [
    "top_values = [i for i in word_index if word_index[i]<10]\n",
    "print(top_values)"
   ]
  },
  {
   "cell_type": "code",
   "execution_count": 68,
   "metadata": {},
   "outputs": [
    {
     "name": "stdout",
     "output_type": "stream",
     "text": [
      "the as on there plot she's iii film that for find that saw better just is along wrong silly awesome or play this you doing was one in own that successful are make and old plot gets unfortunately of on was although except value omar that with her do they gets for that with timing really way that is played character i i what poor set but is along 100 studio on film is missing br received fact to is mercifully br fabulous and them powers is tapes br enjoys indicate good women show to one good played i i was plain film because avoid for of totally it time do period it couple in college in viewers get br of my to of material it yet br out more\n"
     ]
    }
   ],
   "source": [
    "def get_word(word_index, idx):\n",
    "    l = [word for word in word_index if word_index[word] == idx]\n",
    "    return l[0]\n",
    "\n",
    "#Como las reviews ya vienen ordenadas por index, no puedo imprimir el texto,\n",
    "#Solo una secuenca de palabras ordenadas por frecuencia de aparicion\n",
    "def print_review(review, word_index):\n",
    "    streview = []\n",
    "    for idx in review:\n",
    "        streview.append(get_word(word_index, idx))\n",
    "    print(' '.join(streview))\n",
    "    return None\n",
    "\n",
    "print_review(x_train[9], word_index)"
   ]
  },
  {
   "cell_type": "code",
   "execution_count": 91,
   "metadata": {},
   "outputs": [
    {
     "data": {
      "text/plain": [
       "array([[0., 4., 0., 1., 1., 1., 1., 0., 0., 2.]])"
      ]
     },
     "execution_count": 91,
     "metadata": {},
     "output_type": "execute_result"
    }
   ],
   "source": [
    "X = [1, 3, 4, 1, 1, 1, 5, 6, 9, 9]\n",
    "d = {x:X.count(x) for x in X}\n",
    "data = np.zeros((1, 10))\n",
    "data[0, list(d.keys())]+=list(d.values())\n",
    "data"
   ]
  },
  {
   "cell_type": "code",
   "execution_count": 92,
   "metadata": {},
   "outputs": [],
   "source": [
    "def preprocess(X, num_words=10000):\n",
    "    m = len(X)\n",
    "    \n",
    "    data = np.zeros((m, num_words), dtype=float)\n",
    "\n",
    "    for i, review in enumerate(X):\n",
    "        d = {idx:review.count(idx) for idx in review}\n",
    "        data[i, list(d.keys())] += list(d.values())\n",
    "    \n",
    "    return data"
   ]
  },
  {
   "cell_type": "code",
   "execution_count": 93,
   "metadata": {},
   "outputs": [
    {
     "data": {
      "text/plain": [
       "(25000, 10000)"
      ]
     },
     "execution_count": 93,
     "metadata": {},
     "output_type": "execute_result"
    }
   ],
   "source": [
    "Xtrain = preprocess(x_train)\n",
    "Xtrain.shape"
   ]
  },
  {
   "cell_type": "code",
   "execution_count": 95,
   "metadata": {},
   "outputs": [
    {
     "data": {
      "text/plain": [
       "(25000, 10000)"
      ]
     },
     "execution_count": 95,
     "metadata": {},
     "output_type": "execute_result"
    }
   ],
   "source": [
    "Xtest = preprocess(x_test)\n",
    "Xtest.shape"
   ]
  },
  {
   "cell_type": "markdown",
   "metadata": {},
   "source": [
    "Una vez preprocesados los datos, vamos a implementar una red neuronal de 2 capas ocultas de 30 neuronas cada una"
   ]
  },
  {
   "cell_type": "code",
   "execution_count": 105,
   "metadata": {},
   "outputs": [
    {
     "name": "stdout",
     "output_type": "stream",
     "text": [
      "Model: \"model_3\"\n",
      "_________________________________________________________________\n",
      " Layer (type)                Output Shape              Param #   \n",
      "=================================================================\n",
      " input_4 (InputLayer)        [(None, 10000)]           0         \n",
      "                                                                 \n",
      " dense_9 (Dense)             (None, 10)                100010    \n",
      "                                                                 \n",
      " dense_10 (Dense)            (None, 25)                275       \n",
      "                                                                 \n",
      " dense_11 (Dense)            (None, 1)                 26        \n",
      "                                                                 \n",
      "=================================================================\n",
      "Total params: 100,311\n",
      "Trainable params: 100,311\n",
      "Non-trainable params: 0\n",
      "_________________________________________________________________\n"
     ]
    }
   ],
   "source": [
    "opt = keras.optimizers.Adam(learning_rate=.0001)\n",
    "\n",
    "input = keras.layers.Input(shape=(10000,))\n",
    "l1 = keras.layers.Dense(10, activation='relu', use_bias=True, kernel_regularizer=keras.regularizers.L2(0))(input)\n",
    "l2 = keras.layers.Dense(25, activation='relu', use_bias=True, kernel_regularizer=keras.regularizers.L2(0))(l1)\n",
    "output = keras.layers.Dense(1, activation='linear', use_bias=True)(l2)\n",
    "\n",
    "model = keras.Model(inputs=input, outputs=output)\n",
    "\n",
    "model.summary()"
   ]
  },
  {
   "cell_type": "code",
   "execution_count": 106,
   "metadata": {},
   "outputs": [
    {
     "name": "stdout",
     "output_type": "stream",
     "text": [
      "Epoch 1/2\n",
      "13/13 - 47s - loss: 0.6838 - binary_accuracy: 0.5038 - val_loss: 0.6763 - val_binary_accuracy: 0.5030 - 47s/epoch - 4s/step\n",
      "Epoch 2/2\n",
      "13/13 - 2s - loss: 0.6666 - binary_accuracy: 0.5117 - val_loss: 0.6608 - val_binary_accuracy: 0.5159 - 2s/epoch - 173ms/step\n"
     ]
    }
   ],
   "source": [
    "model.compile(optimizer=opt, loss=keras.losses.BinaryCrossentropy(from_logits=True), \n",
    "              metrics=[keras.metrics.BinaryAccuracy(threshold=.8)])\n",
    "hist3 = model.fit(Xtrain, y_train, validation_data=(Xtest, y_test), epochs=2, \n",
    "                  batch_size=2048, verbose=2)"
   ]
  }
 ],
 "metadata": {
  "kernelspec": {
   "display_name": "Python 3.9.12 ('base')",
   "language": "python",
   "name": "python3"
  },
  "language_info": {
   "codemirror_mode": {
    "name": "ipython",
    "version": 3
   },
   "file_extension": ".py",
   "mimetype": "text/x-python",
   "name": "python",
   "nbconvert_exporter": "python",
   "pygments_lexer": "ipython3",
   "version": "3.9.12"
  },
  "orig_nbformat": 4,
  "vscode": {
   "interpreter": {
    "hash": "b045fddb768a69d708aeb44bac4815a8765073d6505277d1278f194b80f63e22"
   }
  }
 },
 "nbformat": 4,
 "nbformat_minor": 2
}
