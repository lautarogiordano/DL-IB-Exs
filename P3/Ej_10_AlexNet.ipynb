{
  "nbformat": 4,
  "nbformat_minor": 0,
  "metadata": {
    "colab": {
      "provenance": [],
      "collapsed_sections": []
    },
    "kernelspec": {
      "name": "python3",
      "display_name": "Python 3"
    },
    "language_info": {
      "name": "python"
    },
    "accelerator": "GPU"
  },
  "cells": [
    {
      "cell_type": "code",
      "source": [
        "import numpy as np\n",
        "import tensorflow as tf\n",
        "from tensorflow import keras\n",
        "from keras import layers\n",
        "from matplotlib import pyplot as plt"
      ],
      "metadata": {
        "id": "D7yOEwRMsoTV"
      },
      "execution_count": 1,
      "outputs": []
    },
    {
      "cell_type": "code",
      "execution_count": 2,
      "metadata": {
        "id": "zbLYy437rNBz"
      },
      "outputs": [],
      "source": [
        "(x_train, y_train), (x_test, y_test) = keras.datasets.cifar10.load_data()\n",
        "\n",
        "assert x_train.shape == (50000, 32, 32, 3)\n",
        "assert x_test.shape == (10000, 32, 32, 3)\n",
        "assert y_train.shape == (50000, 1)\n",
        "assert y_test.shape == (10000, 1)"
      ]
    },
    {
      "cell_type": "code",
      "source": [
        "#Aumentacion de datos\n",
        "data_augmentation = keras.Sequential(\n",
        "    [\n",
        "        layers.RandomFlip(\"horizontal\"),\n",
        "        layers.RandomRotation(factor=(-0.2, 0.2)),\n",
        "        #layers.RandomZoom(.1),\n",
        "        layers.RandomTranslation(height_factor=(-0.2, 0.2), \n",
        "                                 width_factor=(-0.2, 0.2)),\n",
        "    ]\n",
        ")\n",
        "\n",
        "# Create a tf.data pipeline of augmented images (and their labels)\n",
        "train_dataset = tf.data.Dataset.from_tensor_slices((x_train, y_train))\n",
        "train_dataset = train_dataset.batch(32).map(lambda x, y: (data_augmentation(x), y))\n"
      ],
      "metadata": {
        "id": "yIUjVYV3vNN5"
      },
      "execution_count": 3,
      "outputs": []
    },
    {
      "cell_type": "code",
      "source": [
        "plt.imshow(data_augmentation(x_train[60]).numpy().astype('uint8'))"
      ],
      "metadata": {
        "colab": {
          "base_uri": "https://localhost:8080/",
          "height": 284
        },
        "id": "7CIUfFILZYjN",
        "outputId": "d301811d-ec71-4b01-cac1-1974eb59c0d1"
      },
      "execution_count": 5,
      "outputs": [
        {
          "output_type": "execute_result",
          "data": {
            "text/plain": [
              "<matplotlib.image.AxesImage at 0x7f268c128310>"
            ]
          },
          "metadata": {},
          "execution_count": 5
        },
        {
          "output_type": "display_data",
          "data": {
            "text/plain": [
              "<Figure size 432x288 with 1 Axes>"
            ],
            "image/png": "[encoded data removed]"
          },
          "metadata": {
            "needs_background": "light"
          }
        }
      ]
    },
    {
      "cell_type": "code",
      "source": [
        "def plot(hist):\n",
        "    fig, (ax1, ax2) = plt.subplots(nrows=1, ncols=2, figsize=(11,4))\n",
        "    ax1.plot(hist.history['loss'], label='CCE')\n",
        "    ax1.plot(hist.history['val_loss'], label='val_CCE')\n",
        "    ax1.set_xlabel('Epocas', fontsize=15)\n",
        "    ax1.set_ylabel('Loss', fontsize=15)\n",
        "    ax1.legend(loc='best')\n",
        "\n",
        "    ax2.plot(hist.history['sparse_categorical_accuracy'], label='acc')\n",
        "    ax2.plot(hist.history['val_sparse_categorical_accuracy'], label='val_acc')\n",
        "    ax2.set_xlabel('Epocas', fontsize=15)\n",
        "    ax2.set_ylabel('Accuracy', fontsize=15)\n",
        "    ax2.legend(loc='best')\n",
        "\n",
        "    fig.tight_layout()\n",
        "    plt.show()\n",
        "    return None"
      ],
      "metadata": {
        "id": "wLtUzyXwaPDt"
      },
      "execution_count": 6,
      "outputs": []
    },
    {
      "cell_type": "markdown",
      "source": [
        "Red tipo AlexNet"
      ],
      "metadata": {
        "id": "JZj8uajIuNAS"
      }
    },
    {
      "cell_type": "code",
      "source": [
        "keras.backend.clear_session()\n",
        "\n",
        "reg = keras.regularizers.L2(l2=1e-3)\n",
        "drop_r = 0.5\n",
        "\n",
        "model = keras.models.Sequential(name='AlexNet')\n",
        "\n",
        "#Capas convolucionales\n",
        "\n",
        "model.add(keras.layers.Input(shape=(32,32,3)))\n",
        "model.add(keras.layers.Rescaling(1.0 / 255))\n",
        "\n",
        "model.add(keras.layers.Conv2D(128, 3, strides=2, activation='relu', padding='same'))\n",
        "model.add(keras.layers.BatchNormalization())\n",
        "model.add(keras.layers.MaxPooling2D(pool_size=2, strides=2))\n",
        "\n",
        "model.add(keras.layers.Conv2D(128, 3, strides=1, activation='relu', padding='same'))\n",
        "model.add(keras.layers.BatchNormalization())\n",
        "model.add(keras.layers.MaxPooling2D(pool_size=2, strides=2))\n",
        "\n",
        "model.add(keras.layers.Conv2D(352, 3, strides=1, activation='relu', padding='same'))\n",
        "model.add(keras.layers.BatchNormalization())\n",
        "model.add(keras.layers.Conv2D(352, 3, strides=1, activation='relu', padding='same'))\n",
        "model.add(keras.layers.BatchNormalization())\n",
        "model.add(keras.layers.Conv2D(256, 3, strides=1, activation='relu', padding='same'))\n",
        "model.add(keras.layers.BatchNormalization())\n",
        "model.add(keras.layers.MaxPooling2D(pool_size=3, strides=1))\n",
        "model.add(keras.layers.Flatten())\n",
        "model.add(keras.layers.Dropout(rate=drop_r))\n",
        "\n",
        "\n",
        "#Capas densas\n",
        "\n",
        "model.add(keras.layers.Dense(2048, activation='relu', kernel_regularizer=reg))\n",
        "model.add(keras.layers.Dropout(rate=drop_r))\n",
        "model.add(keras.layers.Dense(2048, activation='relu', kernel_regularizer=reg))\n",
        "model.add(keras.layers.Dropout(rate=drop_r))\n",
        "model.add(keras.layers.Dense(10, activation='sigmoid', kernel_regularizer=reg))\n",
        "\n",
        "model.summary()"
      ],
      "metadata": {
        "id": "B8SjAKc2uPgA",
        "colab": {
          "base_uri": "https://localhost:8080/"
        },
        "outputId": "7f510684-1104-4cff-a1f6-184729a817e5"
      },
      "execution_count": 23,
      "outputs": [
        {
          "output_type": "stream",
          "name": "stdout",
          "text": [
            "Model: \"AlexNet\"\n",
            "_________________________________________________________________\n",
            " Layer (type)                Output Shape              Param #   \n",
            "=================================================================\n",
            " rescaling (Rescaling)       (None, 32, 32, 3)         0         \n",
            "                                                                 \n",
            " conv2d (Conv2D)             (None, 16, 16, 128)       3584      \n",
            "                                                                 \n",
            " batch_normalization (BatchN  (None, 16, 16, 128)      512       \n",
            " ormalization)                                                   \n",
            "                                                                 \n",
            " max_pooling2d (MaxPooling2D  (None, 8, 8, 128)        0         \n",
            " )                                                               \n",
            "                                                                 \n",
            " conv2d_1 (Conv2D)           (None, 8, 8, 128)         147584    \n",
            "                                                                 \n",
            " batch_normalization_1 (Batc  (None, 8, 8, 128)        512       \n",
            " hNormalization)                                                 \n",
            "                                                                 \n",
            " max_pooling2d_1 (MaxPooling  (None, 4, 4, 128)        0         \n",
            " 2D)                                                             \n",
            "                                                                 \n",
            " conv2d_2 (Conv2D)           (None, 4, 4, 352)         405856    \n",
            "                                                                 \n",
            " batch_normalization_2 (Batc  (None, 4, 4, 352)        1408      \n",
            " hNormalization)                                                 \n",
            "                                                                 \n",
            " conv2d_3 (Conv2D)           (None, 4, 4, 352)         1115488   \n",
            "                                                                 \n",
            " batch_normalization_3 (Batc  (None, 4, 4, 352)        1408      \n",
            " hNormalization)                                                 \n",
            "                                                                 \n",
            " conv2d_4 (Conv2D)           (None, 4, 4, 256)         811264    \n",
            "                                                                 \n",
            " batch_normalization_4 (Batc  (None, 4, 4, 256)        1024      \n",
            " hNormalization)                                                 \n",
            "                                                                 \n",
            " max_pooling2d_2 (MaxPooling  (None, 2, 2, 256)        0         \n",
            " 2D)                                                             \n",
            "                                                                 \n",
            " flatten (Flatten)           (None, 1024)              0         \n",
            "                                                                 \n",
            " dropout (Dropout)           (None, 1024)              0         \n",
            "                                                                 \n",
            " dense (Dense)               (None, 2048)              2099200   \n",
            "                                                                 \n",
            " dropout_1 (Dropout)         (None, 2048)              0         \n",
            "                                                                 \n",
            " dense_1 (Dense)             (None, 2048)              4196352   \n",
            "                                                                 \n",
            " dropout_2 (Dropout)         (None, 2048)              0         \n",
            "                                                                 \n",
            " dense_2 (Dense)             (None, 10)                20490     \n",
            "                                                                 \n",
            "=================================================================\n",
            "Total params: 8,804,682\n",
            "Trainable params: 8,802,250\n",
            "Non-trainable params: 2,432\n",
            "_________________________________________________________________\n"
          ]
        }
      ]
    },
    {
      "cell_type": "code",
      "source": [
        "def scheduler(epoch, lr):\n",
        "  if epoch==10 or epoch == 25 or epoch == 50 or epoch == 75:\n",
        "    return lr/3\n",
        "  else:\n",
        "    return lr\n",
        "\n",
        "\n",
        "callbacks_list=[\n",
        "    keras.callbacks.LearningRateScheduler(\n",
        "    scheduler, verbose=0\n",
        "    )\n",
        "]"
      ],
      "metadata": {
        "id": "S_nYYzq6jJLH"
      },
      "execution_count": 24,
      "outputs": []
    },
    {
      "cell_type": "code",
      "source": [
        "opt = keras.optimizers.Adam(learning_rate=.0003)\n",
        "\n",
        "\n",
        "model.compile(optimizer=opt, loss='sparse_categorical_crossentropy',\n",
        "              metrics=['sparse_categorical_accuracy'])\n",
        "\n",
        "hist = model.fit(train_dataset, validation_data=(x_test, y_test), \n",
        "                 callbacks=callbacks_list, epochs=100, verbose=1)"
      ],
      "metadata": {
        "colab": {
          "base_uri": "https://localhost:8080/"
        },
        "id": "Ef7QDczeaKPD",
        "outputId": "05e43630-6d05-47ba-bd35-053e76a7d769"
      },
      "execution_count": 25,
      "outputs": [
        {
          "output_type": "stream",
          "name": "stdout",
          "text": [
            "Epoch 1/100\n",
            "1563/1563 [==============================] - 33s 19ms/step - loss: 4.8741 - sparse_categorical_accuracy: 0.2759 - val_loss: 3.8800 - val_sparse_categorical_accuracy: 0.3551 - lr: 3.0000e-04\n",
            "Epoch 2/100\n",
            "1563/1563 [==============================] - 27s 17ms/step - loss: 3.1651 - sparse_categorical_accuracy: 0.3949 - val_loss: 2.4543 - val_sparse_categorical_accuracy: 0.4547 - lr: 3.0000e-04\n",
            "Epoch 3/100\n",
            "1563/1563 [==============================] - 28s 18ms/step - loss: 2.2105 - sparse_categorical_accuracy: 0.4511 - val_loss: 1.8636 - val_sparse_categorical_accuracy: 0.4963 - lr: 3.0000e-04\n",
            "Epoch 4/100\n",
            "1563/1563 [==============================] - 29s 19ms/step - loss: 1.7990 - sparse_categorical_accuracy: 0.4834 - val_loss: 1.6422 - val_sparse_categorical_accuracy: 0.5186 - lr: 3.0000e-04\n",
            "Epoch 5/100\n",
            "1563/1563 [==============================] - 28s 18ms/step - loss: 1.6086 - sparse_categorical_accuracy: 0.5129 - val_loss: 1.5995 - val_sparse_categorical_accuracy: 0.5120 - lr: 3.0000e-04\n",
            "Epoch 6/100\n",
            "1563/1563 [==============================] - 30s 19ms/step - loss: 1.5039 - sparse_categorical_accuracy: 0.5400 - val_loss: 1.5482 - val_sparse_categorical_accuracy: 0.5161 - lr: 3.0000e-04\n",
            "Epoch 7/100\n",
            "1563/1563 [==============================] - 30s 19ms/step - loss: 1.4236 - sparse_categorical_accuracy: 0.5598 - val_loss: 1.2961 - val_sparse_categorical_accuracy: 0.5996 - lr: 3.0000e-04\n",
            "Epoch 8/100\n",
            "1563/1563 [==============================] - 28s 18ms/step - loss: 1.3691 - sparse_categorical_accuracy: 0.5737 - val_loss: 1.4238 - val_sparse_categorical_accuracy: 0.5480 - lr: 3.0000e-04\n",
            "Epoch 9/100\n",
            "1563/1563 [==============================] - 27s 18ms/step - loss: 1.3274 - sparse_categorical_accuracy: 0.5888 - val_loss: 1.3795 - val_sparse_categorical_accuracy: 0.5666 - lr: 3.0000e-04\n",
            "Epoch 10/100\n",
            "1563/1563 [==============================] - 28s 18ms/step - loss: 1.2841 - sparse_categorical_accuracy: 0.6025 - val_loss: 1.3137 - val_sparse_categorical_accuracy: 0.5870 - lr: 3.0000e-04\n",
            "Epoch 11/100\n",
            "1563/1563 [==============================] - 27s 17ms/step - loss: 1.1556 - sparse_categorical_accuracy: 0.6411 - val_loss: 1.1519 - val_sparse_categorical_accuracy: 0.6390 - lr: 1.0000e-04\n",
            "Epoch 12/100\n",
            "1563/1563 [==============================] - 27s 17ms/step - loss: 1.0987 - sparse_categorical_accuracy: 0.6562 - val_loss: 1.1368 - val_sparse_categorical_accuracy: 0.6485 - lr: 1.0000e-04\n",
            "Epoch 13/100\n",
            "1563/1563 [==============================] - 28s 18ms/step - loss: 1.0686 - sparse_categorical_accuracy: 0.6624 - val_loss: 1.0325 - val_sparse_categorical_accuracy: 0.6765 - lr: 1.0000e-04\n",
            "Epoch 14/100\n",
            "1563/1563 [==============================] - 29s 19ms/step - loss: 1.0415 - sparse_categorical_accuracy: 0.6708 - val_loss: 1.0261 - val_sparse_categorical_accuracy: 0.6744 - lr: 1.0000e-04\n",
            "Epoch 15/100\n",
            "1563/1563 [==============================] - 29s 19ms/step - loss: 1.0166 - sparse_categorical_accuracy: 0.6763 - val_loss: 1.0078 - val_sparse_categorical_accuracy: 0.6793 - lr: 1.0000e-04\n",
            "Epoch 16/100\n",
            "1563/1563 [==============================] - 29s 18ms/step - loss: 0.9970 - sparse_categorical_accuracy: 0.6810 - val_loss: 1.0610 - val_sparse_categorical_accuracy: 0.6679 - lr: 1.0000e-04\n",
            "Epoch 17/100\n",
            "1563/1563 [==============================] - 30s 19ms/step - loss: 0.9844 - sparse_categorical_accuracy: 0.6856 - val_loss: 1.0185 - val_sparse_categorical_accuracy: 0.6753 - lr: 1.0000e-04\n",
            "Epoch 18/100\n",
            "1563/1563 [==============================] - 29s 19ms/step - loss: 0.9671 - sparse_categorical_accuracy: 0.6908 - val_loss: 0.9625 - val_sparse_categorical_accuracy: 0.6934 - lr: 1.0000e-04\n",
            "Epoch 19/100\n",
            "1563/1563 [==============================] - 27s 17ms/step - loss: 0.9524 - sparse_categorical_accuracy: 0.6943 - val_loss: 0.9688 - val_sparse_categorical_accuracy: 0.6912 - lr: 1.0000e-04\n",
            "Epoch 20/100\n",
            "1563/1563 [==============================] - 27s 17ms/step - loss: 0.9460 - sparse_categorical_accuracy: 0.6970 - val_loss: 0.9958 - val_sparse_categorical_accuracy: 0.6858 - lr: 1.0000e-04\n",
            "Epoch 21/100\n",
            "1563/1563 [==============================] - 30s 19ms/step - loss: 0.9306 - sparse_categorical_accuracy: 0.7037 - val_loss: 1.0147 - val_sparse_categorical_accuracy: 0.6793 - lr: 1.0000e-04\n",
            "Epoch 22/100\n",
            "1563/1563 [==============================] - 29s 19ms/step - loss: 0.9195 - sparse_categorical_accuracy: 0.7037 - val_loss: 0.9779 - val_sparse_categorical_accuracy: 0.6947 - lr: 1.0000e-04\n",
            "Epoch 23/100\n",
            "1563/1563 [==============================] - 27s 17ms/step - loss: 0.9096 - sparse_categorical_accuracy: 0.7104 - val_loss: 1.0047 - val_sparse_categorical_accuracy: 0.6843 - lr: 1.0000e-04\n",
            "Epoch 24/100\n",
            "1563/1563 [==============================] - 28s 18ms/step - loss: 0.9069 - sparse_categorical_accuracy: 0.7107 - val_loss: 0.9890 - val_sparse_categorical_accuracy: 0.6882 - lr: 1.0000e-04\n",
            "Epoch 25/100\n",
            "1563/1563 [==============================] - 28s 18ms/step - loss: 0.8827 - sparse_categorical_accuracy: 0.7205 - val_loss: 0.9378 - val_sparse_categorical_accuracy: 0.7026 - lr: 1.0000e-04\n",
            "Epoch 26/100\n",
            "1563/1563 [==============================] - 27s 18ms/step - loss: 0.8480 - sparse_categorical_accuracy: 0.7295 - val_loss: 0.9083 - val_sparse_categorical_accuracy: 0.7146 - lr: 3.3333e-05\n",
            "Epoch 27/100\n",
            "1563/1563 [==============================] - 28s 18ms/step - loss: 0.8306 - sparse_categorical_accuracy: 0.7339 - val_loss: 0.8982 - val_sparse_categorical_accuracy: 0.7144 - lr: 3.3333e-05\n",
            "Epoch 28/100\n",
            "1563/1563 [==============================] - 29s 18ms/step - loss: 0.8198 - sparse_categorical_accuracy: 0.7363 - val_loss: 0.8859 - val_sparse_categorical_accuracy: 0.7172 - lr: 3.3333e-05\n",
            "Epoch 29/100\n",
            "1563/1563 [==============================] - 29s 19ms/step - loss: 0.8132 - sparse_categorical_accuracy: 0.7397 - val_loss: 0.8680 - val_sparse_categorical_accuracy: 0.7233 - lr: 3.3333e-05\n",
            "Epoch 30/100\n",
            "1563/1563 [==============================] - 30s 19ms/step - loss: 0.8041 - sparse_categorical_accuracy: 0.7428 - val_loss: 0.8574 - val_sparse_categorical_accuracy: 0.7275 - lr: 3.3333e-05\n",
            "Epoch 31/100\n",
            "1563/1563 [==============================] - 29s 19ms/step - loss: 0.8037 - sparse_categorical_accuracy: 0.7398 - val_loss: 0.8842 - val_sparse_categorical_accuracy: 0.7194 - lr: 3.3333e-05\n",
            "Epoch 32/100\n",
            "1563/1563 [==============================] - 28s 18ms/step - loss: 0.7902 - sparse_categorical_accuracy: 0.7453 - val_loss: 0.8690 - val_sparse_categorical_accuracy: 0.7207 - lr: 3.3333e-05\n",
            "Epoch 33/100\n",
            "1563/1563 [==============================] - 27s 17ms/step - loss: 0.7868 - sparse_categorical_accuracy: 0.7459 - val_loss: 0.8660 - val_sparse_categorical_accuracy: 0.7225 - lr: 3.3333e-05\n",
            "Epoch 34/100\n",
            "1563/1563 [==============================] - 28s 18ms/step - loss: 0.7797 - sparse_categorical_accuracy: 0.7480 - val_loss: 0.8289 - val_sparse_categorical_accuracy: 0.7335 - lr: 3.3333e-05\n",
            "Epoch 35/100\n",
            "1563/1563 [==============================] - 27s 18ms/step - loss: 0.7750 - sparse_categorical_accuracy: 0.7489 - val_loss: 0.8420 - val_sparse_categorical_accuracy: 0.7302 - lr: 3.3333e-05\n",
            "Epoch 36/100\n",
            "1563/1563 [==============================] - 30s 19ms/step - loss: 0.7721 - sparse_categorical_accuracy: 0.7495 - val_loss: 0.8673 - val_sparse_categorical_accuracy: 0.7222 - lr: 3.3333e-05\n",
            "Epoch 37/100\n",
            "1563/1563 [==============================] - 27s 17ms/step - loss: 0.7666 - sparse_categorical_accuracy: 0.7535 - val_loss: 0.8470 - val_sparse_categorical_accuracy: 0.7265 - lr: 3.3333e-05\n",
            "Epoch 38/100\n",
            "1563/1563 [==============================] - 29s 19ms/step - loss: 0.7654 - sparse_categorical_accuracy: 0.7522 - val_loss: 0.8431 - val_sparse_categorical_accuracy: 0.7282 - lr: 3.3333e-05\n",
            "Epoch 39/100\n",
            "1563/1563 [==============================] - 28s 18ms/step - loss: 0.7567 - sparse_categorical_accuracy: 0.7536 - val_loss: 0.8486 - val_sparse_categorical_accuracy: 0.7315 - lr: 3.3333e-05\n",
            "Epoch 40/100\n",
            "1563/1563 [==============================] - 30s 19ms/step - loss: 0.7537 - sparse_categorical_accuracy: 0.7546 - val_loss: 0.8403 - val_sparse_categorical_accuracy: 0.7360 - lr: 3.3333e-05\n",
            "Epoch 41/100\n",
            "1563/1563 [==============================] - 32s 20ms/step - loss: 0.7516 - sparse_categorical_accuracy: 0.7563 - val_loss: 0.8350 - val_sparse_categorical_accuracy: 0.7353 - lr: 3.3333e-05\n",
            "Epoch 42/100\n",
            "1563/1563 [==============================] - 31s 20ms/step - loss: 0.7454 - sparse_categorical_accuracy: 0.7573 - val_loss: 0.8713 - val_sparse_categorical_accuracy: 0.7259 - lr: 3.3333e-05\n",
            "Epoch 43/100\n",
            "1563/1563 [==============================] - 31s 20ms/step - loss: 0.7432 - sparse_categorical_accuracy: 0.7596 - val_loss: 0.8512 - val_sparse_categorical_accuracy: 0.7332 - lr: 3.3333e-05\n",
            "Epoch 44/100\n",
            "1563/1563 [==============================] - 33s 21ms/step - loss: 0.7339 - sparse_categorical_accuracy: 0.7616 - val_loss: 0.8342 - val_sparse_categorical_accuracy: 0.7413 - lr: 3.3333e-05\n",
            "Epoch 45/100\n",
            "1563/1563 [==============================] - 31s 20ms/step - loss: 0.7351 - sparse_categorical_accuracy: 0.7607 - val_loss: 0.8424 - val_sparse_categorical_accuracy: 0.7362 - lr: 3.3333e-05\n",
            "Epoch 46/100\n",
            "1563/1563 [==============================] - 32s 20ms/step - loss: 0.7272 - sparse_categorical_accuracy: 0.7639 - val_loss: 0.8591 - val_sparse_categorical_accuracy: 0.7285 - lr: 3.3333e-05\n",
            "Epoch 47/100\n",
            "1563/1563 [==============================] - 31s 20ms/step - loss: 0.7285 - sparse_categorical_accuracy: 0.7629 - val_loss: 0.8052 - val_sparse_categorical_accuracy: 0.7452 - lr: 3.3333e-05\n",
            "Epoch 48/100\n",
            "1563/1563 [==============================] - 33s 21ms/step - loss: 0.7238 - sparse_categorical_accuracy: 0.7644 - val_loss: 0.8447 - val_sparse_categorical_accuracy: 0.7353 - lr: 3.3333e-05\n",
            "Epoch 49/100\n",
            "1563/1563 [==============================] - 28s 18ms/step - loss: 0.7260 - sparse_categorical_accuracy: 0.7629 - val_loss: 0.8499 - val_sparse_categorical_accuracy: 0.7322 - lr: 3.3333e-05\n",
            "Epoch 50/100\n",
            "1563/1563 [==============================] - 28s 18ms/step - loss: 0.7131 - sparse_categorical_accuracy: 0.7678 - val_loss: 0.8871 - val_sparse_categorical_accuracy: 0.7275 - lr: 3.3333e-05\n",
            "Epoch 51/100\n",
            "1563/1563 [==============================] - 28s 18ms/step - loss: 0.7030 - sparse_categorical_accuracy: 0.7726 - val_loss: 0.8304 - val_sparse_categorical_accuracy: 0.7377 - lr: 1.1111e-05\n",
            "Epoch 52/100\n",
            "1563/1563 [==============================] - 30s 19ms/step - loss: 0.6911 - sparse_categorical_accuracy: 0.7743 - val_loss: 0.8435 - val_sparse_categorical_accuracy: 0.7373 - lr: 1.1111e-05\n",
            "Epoch 53/100\n",
            "1563/1563 [==============================] - 30s 19ms/step - loss: 0.6878 - sparse_categorical_accuracy: 0.7770 - val_loss: 0.8208 - val_sparse_categorical_accuracy: 0.7431 - lr: 1.1111e-05\n",
            "Epoch 54/100\n",
            "1563/1563 [==============================] - 29s 18ms/step - loss: 0.6921 - sparse_categorical_accuracy: 0.7738 - val_loss: 0.8273 - val_sparse_categorical_accuracy: 0.7399 - lr: 1.1111e-05\n",
            "Epoch 55/100\n",
            "1563/1563 [==============================] - 29s 18ms/step - loss: 0.6896 - sparse_categorical_accuracy: 0.7758 - val_loss: 0.8272 - val_sparse_categorical_accuracy: 0.7404 - lr: 1.1111e-05\n",
            "Epoch 56/100\n",
            "1563/1563 [==============================] - 29s 19ms/step - loss: 0.6846 - sparse_categorical_accuracy: 0.7778 - val_loss: 0.8202 - val_sparse_categorical_accuracy: 0.7431 - lr: 1.1111e-05\n",
            "Epoch 57/100\n",
            "1563/1563 [==============================] - 28s 18ms/step - loss: 0.6879 - sparse_categorical_accuracy: 0.7755 - val_loss: 0.8255 - val_sparse_categorical_accuracy: 0.7423 - lr: 1.1111e-05\n",
            "Epoch 58/100\n",
            "1563/1563 [==============================] - 30s 19ms/step - loss: 0.6883 - sparse_categorical_accuracy: 0.7766 - val_loss: 0.8222 - val_sparse_categorical_accuracy: 0.7437 - lr: 1.1111e-05\n",
            "Epoch 59/100\n",
            "1563/1563 [==============================] - 29s 19ms/step - loss: 0.6813 - sparse_categorical_accuracy: 0.7795 - val_loss: 0.8167 - val_sparse_categorical_accuracy: 0.7423 - lr: 1.1111e-05\n",
            "Epoch 60/100\n",
            "1563/1563 [==============================] - 32s 20ms/step - loss: 0.6829 - sparse_categorical_accuracy: 0.7761 - val_loss: 0.8426 - val_sparse_categorical_accuracy: 0.7368 - lr: 1.1111e-05\n",
            "Epoch 61/100\n",
            "1563/1563 [==============================] - 29s 18ms/step - loss: 0.6829 - sparse_categorical_accuracy: 0.7791 - val_loss: 0.8262 - val_sparse_categorical_accuracy: 0.7384 - lr: 1.1111e-05\n",
            "Epoch 62/100\n",
            "1563/1563 [==============================] - 29s 19ms/step - loss: 0.6753 - sparse_categorical_accuracy: 0.7796 - val_loss: 0.8215 - val_sparse_categorical_accuracy: 0.7408 - lr: 1.1111e-05\n",
            "Epoch 63/100\n",
            "1563/1563 [==============================] - 30s 19ms/step - loss: 0.6701 - sparse_categorical_accuracy: 0.7822 - val_loss: 0.8189 - val_sparse_categorical_accuracy: 0.7426 - lr: 1.1111e-05\n",
            "Epoch 64/100\n",
            "1563/1563 [==============================] - 28s 18ms/step - loss: 0.6732 - sparse_categorical_accuracy: 0.7816 - val_loss: 0.8277 - val_sparse_categorical_accuracy: 0.7392 - lr: 1.1111e-05\n",
            "Epoch 65/100\n",
            "1563/1563 [==============================] - 28s 18ms/step - loss: 0.6726 - sparse_categorical_accuracy: 0.7811 - val_loss: 0.8168 - val_sparse_categorical_accuracy: 0.7439 - lr: 1.1111e-05\n",
            "Epoch 66/100\n",
            "1563/1563 [==============================] - 30s 19ms/step - loss: 0.6733 - sparse_categorical_accuracy: 0.7816 - val_loss: 0.8580 - val_sparse_categorical_accuracy: 0.7326 - lr: 1.1111e-05\n",
            "Epoch 67/100\n",
            "1563/1563 [==============================] - 30s 19ms/step - loss: 0.6685 - sparse_categorical_accuracy: 0.7815 - val_loss: 0.8241 - val_sparse_categorical_accuracy: 0.7412 - lr: 1.1111e-05\n",
            "Epoch 68/100\n",
            "1563/1563 [==============================] - 29s 18ms/step - loss: 0.6678 - sparse_categorical_accuracy: 0.7840 - val_loss: 0.8215 - val_sparse_categorical_accuracy: 0.7407 - lr: 1.1111e-05\n",
            "Epoch 69/100\n",
            "1563/1563 [==============================] - 29s 19ms/step - loss: 0.6648 - sparse_categorical_accuracy: 0.7827 - val_loss: 0.8177 - val_sparse_categorical_accuracy: 0.7448 - lr: 1.1111e-05\n",
            "Epoch 70/100\n",
            "1563/1563 [==============================] - 30s 19ms/step - loss: 0.6676 - sparse_categorical_accuracy: 0.7822 - val_loss: 0.8142 - val_sparse_categorical_accuracy: 0.7440 - lr: 1.1111e-05\n",
            "Epoch 71/100\n",
            "1563/1563 [==============================] - 28s 18ms/step - loss: 0.6634 - sparse_categorical_accuracy: 0.7839 - val_loss: 0.8388 - val_sparse_categorical_accuracy: 0.7385 - lr: 1.1111e-05\n",
            "Epoch 72/100\n",
            "1563/1563 [==============================] - 29s 18ms/step - loss: 0.6644 - sparse_categorical_accuracy: 0.7835 - val_loss: 0.8108 - val_sparse_categorical_accuracy: 0.7428 - lr: 1.1111e-05\n",
            "Epoch 73/100\n",
            "1563/1563 [==============================] - 29s 19ms/step - loss: 0.6574 - sparse_categorical_accuracy: 0.7854 - val_loss: 0.8411 - val_sparse_categorical_accuracy: 0.7365 - lr: 1.1111e-05\n",
            "Epoch 74/100\n",
            "1563/1563 [==============================] - 30s 19ms/step - loss: 0.6507 - sparse_categorical_accuracy: 0.7877 - val_loss: 0.8158 - val_sparse_categorical_accuracy: 0.7449 - lr: 1.1111e-05\n",
            "Epoch 75/100\n",
            "1563/1563 [==============================] - 28s 18ms/step - loss: 0.6511 - sparse_categorical_accuracy: 0.7882 - val_loss: 0.8004 - val_sparse_categorical_accuracy: 0.7473 - lr: 1.1111e-05\n",
            "Epoch 76/100\n",
            "1563/1563 [==============================] - 28s 18ms/step - loss: 0.6511 - sparse_categorical_accuracy: 0.7887 - val_loss: 0.8159 - val_sparse_categorical_accuracy: 0.7448 - lr: 3.7037e-06\n",
            "Epoch 77/100\n",
            "1563/1563 [==============================] - 31s 20ms/step - loss: 0.6486 - sparse_categorical_accuracy: 0.7870 - val_loss: 0.8112 - val_sparse_categorical_accuracy: 0.7436 - lr: 3.7037e-06\n",
            "Epoch 78/100\n",
            "1563/1563 [==============================] - 28s 18ms/step - loss: 0.6466 - sparse_categorical_accuracy: 0.7901 - val_loss: 0.8147 - val_sparse_categorical_accuracy: 0.7438 - lr: 3.7037e-06\n",
            "Epoch 79/100\n",
            "1563/1563 [==============================] - 29s 19ms/step - loss: 0.6530 - sparse_categorical_accuracy: 0.7892 - val_loss: 0.8202 - val_sparse_categorical_accuracy: 0.7431 - lr: 3.7037e-06\n",
            "Epoch 80/100\n",
            "1563/1563 [==============================] - 30s 19ms/step - loss: 0.6494 - sparse_categorical_accuracy: 0.7882 - val_loss: 0.8122 - val_sparse_categorical_accuracy: 0.7449 - lr: 3.7037e-06\n",
            "Epoch 81/100\n",
            "1563/1563 [==============================] - 29s 19ms/step - loss: 0.6457 - sparse_categorical_accuracy: 0.7892 - val_loss: 0.8185 - val_sparse_categorical_accuracy: 0.7446 - lr: 3.7037e-06\n",
            "Epoch 82/100\n",
            "1563/1563 [==============================] - 28s 18ms/step - loss: 0.6461 - sparse_categorical_accuracy: 0.7910 - val_loss: 0.8190 - val_sparse_categorical_accuracy: 0.7443 - lr: 3.7037e-06\n",
            "Epoch 83/100\n",
            "1563/1563 [==============================] - 30s 19ms/step - loss: 0.6477 - sparse_categorical_accuracy: 0.7887 - val_loss: 0.8172 - val_sparse_categorical_accuracy: 0.7433 - lr: 3.7037e-06\n",
            "Epoch 84/100\n",
            "1563/1563 [==============================] - 31s 20ms/step - loss: 0.6486 - sparse_categorical_accuracy: 0.7878 - val_loss: 0.8162 - val_sparse_categorical_accuracy: 0.7466 - lr: 3.7037e-06\n",
            "Epoch 85/100\n",
            "1563/1563 [==============================] - 28s 18ms/step - loss: 0.6438 - sparse_categorical_accuracy: 0.7884 - val_loss: 0.8063 - val_sparse_categorical_accuracy: 0.7468 - lr: 3.7037e-06\n",
            "Epoch 86/100\n",
            "1563/1563 [==============================] - 29s 19ms/step - loss: 0.6451 - sparse_categorical_accuracy: 0.7890 - val_loss: 0.8080 - val_sparse_categorical_accuracy: 0.7465 - lr: 3.7037e-06\n",
            "Epoch 87/100\n",
            "1563/1563 [==============================] - 29s 19ms/step - loss: 0.6450 - sparse_categorical_accuracy: 0.7912 - val_loss: 0.8105 - val_sparse_categorical_accuracy: 0.7465 - lr: 3.7037e-06\n",
            "Epoch 88/100\n",
            "1563/1563 [==============================] - 31s 20ms/step - loss: 0.6431 - sparse_categorical_accuracy: 0.7907 - val_loss: 0.8139 - val_sparse_categorical_accuracy: 0.7468 - lr: 3.7037e-06\n",
            "Epoch 89/100\n",
            "1563/1563 [==============================] - 28s 18ms/step - loss: 0.6396 - sparse_categorical_accuracy: 0.7925 - val_loss: 0.8152 - val_sparse_categorical_accuracy: 0.7444 - lr: 3.7037e-06\n",
            "Epoch 90/100\n",
            "1563/1563 [==============================] - 30s 20ms/step - loss: 0.6404 - sparse_categorical_accuracy: 0.7903 - val_loss: 0.8242 - val_sparse_categorical_accuracy: 0.7445 - lr: 3.7037e-06\n",
            "Epoch 91/100\n",
            "1563/1563 [==============================] - 31s 20ms/step - loss: 0.6433 - sparse_categorical_accuracy: 0.7913 - val_loss: 0.8225 - val_sparse_categorical_accuracy: 0.7445 - lr: 3.7037e-06\n",
            "Epoch 92/100\n",
            "1563/1563 [==============================] - 28s 18ms/step - loss: 0.6506 - sparse_categorical_accuracy: 0.7865 - val_loss: 0.8098 - val_sparse_categorical_accuracy: 0.7473 - lr: 3.7037e-06\n",
            "Epoch 93/100\n",
            "1563/1563 [==============================] - 30s 19ms/step - loss: 0.6385 - sparse_categorical_accuracy: 0.7919 - val_loss: 0.8180 - val_sparse_categorical_accuracy: 0.7463 - lr: 3.7037e-06\n",
            "Epoch 94/100\n",
            "1563/1563 [==============================] - 31s 20ms/step - loss: 0.6425 - sparse_categorical_accuracy: 0.7884 - val_loss: 0.8191 - val_sparse_categorical_accuracy: 0.7454 - lr: 3.7037e-06\n",
            "Epoch 95/100\n",
            "1563/1563 [==============================] - 28s 18ms/step - loss: 0.6406 - sparse_categorical_accuracy: 0.7903 - val_loss: 0.8082 - val_sparse_categorical_accuracy: 0.7475 - lr: 3.7037e-06\n",
            "Epoch 96/100\n",
            "1563/1563 [==============================] - 29s 18ms/step - loss: 0.6434 - sparse_categorical_accuracy: 0.7900 - val_loss: 0.8078 - val_sparse_categorical_accuracy: 0.7470 - lr: 3.7037e-06\n",
            "Epoch 97/100\n",
            "1563/1563 [==============================] - 30s 19ms/step - loss: 0.6354 - sparse_categorical_accuracy: 0.7937 - val_loss: 0.8108 - val_sparse_categorical_accuracy: 0.7476 - lr: 3.7037e-06\n",
            "Epoch 98/100\n",
            "1563/1563 [==============================] - 31s 20ms/step - loss: 0.6364 - sparse_categorical_accuracy: 0.7912 - val_loss: 0.8142 - val_sparse_categorical_accuracy: 0.7469 - lr: 3.7037e-06\n",
            "Epoch 99/100\n",
            "1563/1563 [==============================] - 28s 18ms/step - loss: 0.6362 - sparse_categorical_accuracy: 0.7924 - val_loss: 0.8132 - val_sparse_categorical_accuracy: 0.7468 - lr: 3.7037e-06\n",
            "Epoch 100/100\n",
            "1563/1563 [==============================] - 29s 19ms/step - loss: 0.6379 - sparse_categorical_accuracy: 0.7917 - val_loss: 0.8142 - val_sparse_categorical_accuracy: 0.7470 - lr: 3.7037e-06\n"
          ]
        }
      ]
    },
    {
      "cell_type": "code",
      "source": [
        "plot(hist)"
      ],
      "metadata": {
        "colab": {
          "base_uri": "https://localhost:8080/",
          "height": 297
        },
        "id": "N31Cn-zacFW1",
        "outputId": "43c19445-b2ab-489c-b587-299f57e967a1"
      },
      "execution_count": 26,
      "outputs": [
        {
          "output_type": "display_data",
          "data": {
            "text/plain": [
              "<Figure size 792x288 with 2 Axes>"
            ],
            "image/png": "[encoded data removed]"
          },
          "metadata": {
            "needs_background": "light"
          }
        }
      ]
    }
  ]
}