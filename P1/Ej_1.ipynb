{
 "cells": [
  {
   "cell_type": "markdown",
   "metadata": {},
   "source": []
  },
  {
   "cell_type": "code",
   "execution_count": 1,
   "metadata": {},
   "outputs": [],
   "source": [
    "import numpy as np\n",
    "from scipy import linalg\n",
    "from matplotlib import pyplot as plt\n",
    "from sklearn.decomposition import PCA"
   ]
  },
  {
   "cell_type": "code",
   "execution_count": 2,
   "metadata": {},
   "outputs": [],
   "source": [
    "%matplotlib inline"
   ]
  },
  {
   "cell_type": "code",
   "execution_count": 3,
   "metadata": {},
   "outputs": [],
   "source": [
    "class Model:\n",
    "    #Modelo para regresión lineal y = XW\n",
    "    def __init__(self, NDIM, X, ytrue):\n",
    "        self.NDIM = NDIM\n",
    "        self.X = X\n",
    "        self.y = ytrue\n",
    "\n",
    "        #Defino los parámetros\n",
    "        self.W = np.ones([NDIM+1, 1])\n",
    "\n",
    "    #Resuelvo analíticamente con mínimos cuadrados\n",
    "    def train(self):\n",
    "        assert self.X is not None, 'X está vacío.'\n",
    "\n",
    "        #La solucion es W = (Xt X)^-1 Xt y\n",
    "        self.W = np.dot(np.dot(linalg.inv(np.dot(self.X.T, self.X)), self.X.T), self.y)\n",
    "\n",
    "\n",
    "    def predict(self, X):\n",
    "        return np.dot(X, self.W)\n",
    "    \n",
    "    def error(self, X, ytrue):\n",
    "        assert ytrue.shape[0] is not None, 'y esta vacío.'\n",
    "        return linalg.norm(ytrue - self.predict(X))**2 / ytrue.shape[0]\n"
   ]
  },
  {
   "cell_type": "code",
   "execution_count": 8,
   "metadata": {},
   "outputs": [],
   "source": [
    "#Función para generar datos aleatorios\n",
    "def generar_datos(NDIM, m):\n",
    "    Wtrue = np.random.uniform(-1, 1, NDIM+1)\n",
    "    X = np.random.uniform(-1e8, 1e8, size=(m, NDIM))\n",
    "    X = np.hstack((np.ones([m,1]), X))\n",
    "    noise = np.random.normal(loc= 0, scale=10, size=(m,))\n",
    "\n",
    "    ytrue = np.dot(X, Wtrue) + noise\n",
    "    \n",
    "    return X, ytrue\n"
   ]
  },
  {
   "cell_type": "code",
   "execution_count": 81,
   "metadata": {},
   "outputs": [],
   "source": [
    "def run_model(mindim, maxdim, m):\n",
    "    split = int(.7*m)\n",
    "\n",
    "    error_test = {}\n",
    "\n",
    "    for NDIM in range(mindim, maxdim+1):\n",
    "        Xall, yall = generar_datos(NDIM, m)\n",
    "        Xtrain = Xall[0:split]\n",
    "        ytrain = yall[0:split]\n",
    "        Xtest = Xall[split:]\n",
    "        ytest = yall[split:]\n",
    "\n",
    "        model = Model(NDIM, Xtrain, ytrain)\n",
    "        model.train()\n",
    "\n",
    "        error_test[NDIM] = model.error(Xtest, ytest)\n",
    "        \n",
    "    #    print(\"NDIM: \", NDIM)\n",
    "    #    print(\"Train error: \", model.error(Xtrain, ytrain))\n",
    "    #    print(\"Test error: \", error_test[NDIM])\n",
    "    return error_test\n",
    "        \n"
   ]
  },
  {
   "cell_type": "code",
   "execution_count": 93,
   "metadata": {},
   "outputs": [],
   "source": [
    "error_test = run_model(2, 500, 500)"
   ]
  },
  {
   "cell_type": "code",
   "execution_count": 107,
   "metadata": {},
   "outputs": [
    {
     "data": {
      "image/png": "[encoded data removed]",
      "text/plain": [
       "<Figure size 720x540 with 1 Axes>"
      ]
     },
     "metadata": {
      "needs_background": "light"
     },
     "output_type": "display_data"
    }
   ],
   "source": [
    "#Limpio los datos\n",
    "error_clean = {keys:outliers for keys, outliers in error_test.items() if outliers < 1e4}\n",
    "\n",
    "#Graficamos el error\n",
    "fig = plt.figure(figsize=(10, 7.5))\n",
    "ax = fig.add_subplot(1, 1, 1)\n",
    "lines = ax.plot(error_clean.keys(), error_clean.values())\n",
    "ax.set_xlabel(\"Dimensión\")\n",
    "ax.set_ylabel(\"Error\")\n",
    "\n",
    "plt.show()\n"
   ]
  },
  {
   "cell_type": "code",
   "execution_count": 37,
   "metadata": {},
   "outputs": [
    {
     "name": "stdout",
     "output_type": "stream",
     "text": [
      "(1000, 2)\n"
     ]
    },
    {
     "ename": "ValueError",
     "evalue": "x and y must be the same size",
     "output_type": "error",
     "traceback": [
      "\u001b[1;31m---------------------------------------------------------------------------\u001b[0m",
      "\u001b[1;31mValueError\u001b[0m                                Traceback (most recent call last)",
      "\u001b[1;32mc:\\Users\\Lautaro\\Desktop\\Lautaro\\asd\\2021\\Doctorado\\Materias\\Deep Learning (2020)\\Practicas\\P1\\Ej 1.ipynb Celda 9\u001b[0m in \u001b[0;36m<cell line: 13>\u001b[1;34m()\u001b[0m\n\u001b[0;32m     <a href='vscode-notebook-cell:/c%3A/Users/Lautaro/Desktop/Lautaro/asd/2021/Doctorado/Materias/Deep%20Learning%20%282020%29/Practicas/P1/Ej%201.ipynb#X11sZmlsZQ%3D%3D?line=10'>11</a>\u001b[0m fig \u001b[39m=\u001b[39m plt\u001b[39m.\u001b[39mfigure()\n\u001b[0;32m     <a href='vscode-notebook-cell:/c%3A/Users/Lautaro/Desktop/Lautaro/asd/2021/Doctorado/Materias/Deep%20Learning%20%282020%29/Practicas/P1/Ej%201.ipynb#X11sZmlsZQ%3D%3D?line=11'>12</a>\u001b[0m ax \u001b[39m=\u001b[39m fig\u001b[39m.\u001b[39madd_subplot(\u001b[39m1\u001b[39m, \u001b[39m1\u001b[39m, \u001b[39m1\u001b[39m)\n\u001b[1;32m---> <a href='vscode-notebook-cell:/c%3A/Users/Lautaro/Desktop/Lautaro/asd/2021/Doctorado/Materias/Deep%20Learning%20%282020%29/Practicas/P1/Ej%201.ipynb#X11sZmlsZQ%3D%3D?line=12'>13</a>\u001b[0m ax\u001b[39m.\u001b[39;49mscatter(pca\u001b[39m.\u001b[39;49mcomponents_, yall)\n",
      "File \u001b[1;32mc:\\Users\\Lautaro\\anaconda3\\lib\\site-packages\\matplotlib\\__init__.py:1412\u001b[0m, in \u001b[0;36m_preprocess_data.<locals>.inner\u001b[1;34m(ax, data, *args, **kwargs)\u001b[0m\n\u001b[0;32m   1409\u001b[0m \u001b[39m@functools\u001b[39m\u001b[39m.\u001b[39mwraps(func)\n\u001b[0;32m   1410\u001b[0m \u001b[39mdef\u001b[39;00m \u001b[39minner\u001b[39m(ax, \u001b[39m*\u001b[39margs, data\u001b[39m=\u001b[39m\u001b[39mNone\u001b[39;00m, \u001b[39m*\u001b[39m\u001b[39m*\u001b[39mkwargs):\n\u001b[0;32m   1411\u001b[0m     \u001b[39mif\u001b[39;00m data \u001b[39mis\u001b[39;00m \u001b[39mNone\u001b[39;00m:\n\u001b[1;32m-> 1412\u001b[0m         \u001b[39mreturn\u001b[39;00m func(ax, \u001b[39m*\u001b[39m\u001b[39mmap\u001b[39m(sanitize_sequence, args), \u001b[39m*\u001b[39m\u001b[39m*\u001b[39mkwargs)\n\u001b[0;32m   1414\u001b[0m     bound \u001b[39m=\u001b[39m new_sig\u001b[39m.\u001b[39mbind(ax, \u001b[39m*\u001b[39margs, \u001b[39m*\u001b[39m\u001b[39m*\u001b[39mkwargs)\n\u001b[0;32m   1415\u001b[0m     auto_label \u001b[39m=\u001b[39m (bound\u001b[39m.\u001b[39marguments\u001b[39m.\u001b[39mget(label_namer)\n\u001b[0;32m   1416\u001b[0m                   \u001b[39mor\u001b[39;00m bound\u001b[39m.\u001b[39mkwargs\u001b[39m.\u001b[39mget(label_namer))\n",
      "File \u001b[1;32mc:\\Users\\Lautaro\\anaconda3\\lib\\site-packages\\matplotlib\\axes\\_axes.py:4369\u001b[0m, in \u001b[0;36mAxes.scatter\u001b[1;34m(self, x, y, s, c, marker, cmap, norm, vmin, vmax, alpha, linewidths, edgecolors, plotnonfinite, **kwargs)\u001b[0m\n\u001b[0;32m   4367\u001b[0m y \u001b[39m=\u001b[39m np\u001b[39m.\u001b[39mma\u001b[39m.\u001b[39mravel(y)\n\u001b[0;32m   4368\u001b[0m \u001b[39mif\u001b[39;00m x\u001b[39m.\u001b[39msize \u001b[39m!=\u001b[39m y\u001b[39m.\u001b[39msize:\n\u001b[1;32m-> 4369\u001b[0m     \u001b[39mraise\u001b[39;00m \u001b[39mValueError\u001b[39;00m(\u001b[39m\"\u001b[39m\u001b[39mx and y must be the same size\u001b[39m\u001b[39m\"\u001b[39m)\n\u001b[0;32m   4371\u001b[0m \u001b[39mif\u001b[39;00m s \u001b[39mis\u001b[39;00m \u001b[39mNone\u001b[39;00m:\n\u001b[0;32m   4372\u001b[0m     s \u001b[39m=\u001b[39m (\u001b[39m20\u001b[39m \u001b[39mif\u001b[39;00m rcParams[\u001b[39m'\u001b[39m\u001b[39m_internal.classic_mode\u001b[39m\u001b[39m'\u001b[39m] \u001b[39melse\u001b[39;00m\n\u001b[0;32m   4373\u001b[0m          rcParams[\u001b[39m'\u001b[39m\u001b[39mlines.markersize\u001b[39m\u001b[39m'\u001b[39m] \u001b[39m*\u001b[39m\u001b[39m*\u001b[39m \u001b[39m2.0\u001b[39m)\n",
      "\u001b[1;31mValueError\u001b[0m: x and y must be the same size"
     ]
    },
    {
     "data": {
      "image/png": "[encoded data removed]",
      "text/plain": [
       "<Figure size 432x288 with 1 Axes>"
      ]
     },
     "metadata": {
      "needs_background": "light"
     },
     "output_type": "display_data"
    }
   ],
   "source": [
    "#Hago PCA a los datos reales para plotear la recta\n",
    "from xml.sax import default_parser_list\n",
    "\n",
    "\n",
    "data = (Xall, yall) = generar_datos(10, 1000)\n",
    "\n",
    "pca = PCA(n_components=2)\n",
    "data = pca.fit_transform(*data)\n",
    "print(data.shape)\n",
    "\n",
    "fig = plt.figure()\n",
    "ax = fig.add_subplot(1, 1, 1)\n",
    "ax.scatter(pca.components_, yall)\n"
   ]
  }
 ],
 "metadata": {
  "kernelspec": {
   "display_name": "Python 3.9.12 ('base')",
   "language": "python",
   "name": "python3"
  },
  "language_info": {
   "codemirror_mode": {
    "name": "ipython",
    "version": 3
   },
   "file_extension": ".py",
   "mimetype": "text/x-python",
   "name": "python",
   "nbconvert_exporter": "python",
   "pygments_lexer": "ipython3",
   "version": "3.9.12"
  },
  "orig_nbformat": 4,
  "vscode": {
   "interpreter": {
    "hash": "b045fddb768a69d708aeb44bac4815a8765073d6505277d1278f194b80f63e22"
   }
  }
 },
 "nbformat": 4,
 "nbformat_minor": 2
}
