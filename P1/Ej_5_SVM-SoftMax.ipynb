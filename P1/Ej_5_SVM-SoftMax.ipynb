{
 "cells": [
  {
   "cell_type": "code",
   "execution_count": 1,
   "metadata": {},
   "outputs": [],
   "source": [
    "import numpy as np\n",
    "from scipy import linalg\n",
    "from matplotlib import pyplot as plt"
   ]
  },
  {
   "cell_type": "markdown",
   "metadata": {},
   "source": [
    "Implementación de los clasificadores lineales: SVM y Softmax"
   ]
  },
  {
   "cell_type": "code",
   "execution_count": 2,
   "metadata": {},
   "outputs": [],
   "source": [
    "class LinearClassifier(object):\n",
    "    def __init__(self, k):\n",
    "        #k = número de clases\n",
    "        self.k = k\n",
    "\n",
    "    def load(self, X, y, normalize=False):\n",
    "        self.X = self.clean(X, normalize)\n",
    "        self.y = y\n",
    "        self.s = self.X.shape[1]\n",
    "        self.m = self.X.shape[0]\n",
    "\n",
    "        self.W = np.random.uniform(-1, 1, size=(self.k, self.s))\n",
    "    \n",
    "    def reset(self):\n",
    "        #Reseteo los pesos por si quiero hacer cross-validation\n",
    "        self.W = np.random.uniform(-1, 1, size=(self.k, self.s))\n",
    "\n",
    "\n",
    "    def clean(self, X, normalize):\n",
    "        X_norm = X.reshape(len(X), X[0].size).astype(float)\n",
    "        #Agrego el vector de unos\n",
    "        ones = np.ones((X_norm.shape[0], 1))\n",
    "        X_norm = np.concatenate((ones, X_norm), axis=1)\n",
    "\n",
    "        if normalize:\n",
    "            X_norm /= np.max(X.astype(float))\n",
    "\n",
    "        return X_norm\n",
    "    \n",
    "    def predict(self, X, normalize=False):\n",
    "        if(X.shape[1] != self.X.shape[1]):\n",
    "            X = self.clean(X, normalize)\n",
    "            \n",
    "        return np.dot(self.W, X.T)\n",
    "\n",
    "    def accuracy(self, yguess, ytrue):\n",
    "        return float(np.sum(yguess==ytrue))/float(ytrue.size)\n",
    "\n",
    "    def loss_grads(self, X, y, batch_size, lambda_=.1, *args, **kwargs):\n",
    "        return None\n",
    "    \n",
    "    def train(self, batch_size, epochs=10, alpha=.001, lambda_=.1, verbose=True, epsilon=1e-2):\n",
    "        loss_hist = []\n",
    "\n",
    "        num_batches = int(self.m/batch_size)\n",
    "\n",
    "        for epoch in range(epochs):\n",
    "\n",
    "            for batch in range(num_batches):\n",
    "                loss, grad = self.loss_grads(self.X[batch*batch_size:(batch+1)*batch_size,:], self.y[batch*batch_size:(batch+1)*batch_size], batch_size, lambda_)\n",
    "                self.W += -alpha*grad\n",
    "            \n",
    "            loss_hist.append(loss)\n",
    "\n",
    "            #Condición de estabilidad\n",
    "            if epoch > 2 and abs(loss_hist[-1] - loss_hist[-2]) < epsilon:\n",
    "                break\n",
    "            \n",
    "            if(verbose and epoch%10==0):\n",
    "                print(\"Cost at epoch {}: {:.2f}\".format(epoch, loss))\n",
    "\n",
    "        return loss_hist\n",
    "      \n",
    "        "
   ]
  },
  {
   "cell_type": "code",
   "execution_count": 3,
   "metadata": {},
   "outputs": [],
   "source": [
    "class SVM(LinearClassifier):\n",
    "    def __init__(self, k, delta=1):\n",
    "        super(SVM, self).__init__(k)\n",
    "        self.delta = delta\n",
    "\n",
    "    \n",
    "    def loss_grads(self, X, y, batch_size, lambda_):\n",
    "        #Scores tiene de tamaño k*batch_size\n",
    "        scores = self.predict(X)\n",
    "        idx = np.arange(0, y.size)\n",
    "\n",
    "        resta = scores - scores[y, idx] + self.delta\n",
    "\n",
    "        cost = np.sum(np.maximum(0, resta))/batch_size - self.delta\n",
    "\n",
    "        L2 = linalg.norm(self.W[1:,:])**2\n",
    "        loss = cost + lambda_/2 * L2\n",
    "\n",
    "        grad = np.zeros_like(self.W)\n",
    "        \n",
    "        scores[resta>0] = 1\n",
    "        scores[resta<=0] = 0\n",
    "        #Seteo a 0 el score de y_i en cada columna para no sumarlo en la linea de abajo\n",
    "        scores[y, idx] = 0\n",
    "        scores[y, idx] = -np.sum(scores, axis=0)\n",
    "\n",
    "        #scores*X es una multiplicacion de tipo (k*batch_size)*(batch_size*s) que es lo que quiero obtener\n",
    "        grad = np.dot(scores, X)/batch_size\n",
    "        grad += lambda_*self.W\n",
    "\n",
    "        return loss, grad\n",
    "        \n"
   ]
  },
  {
   "cell_type": "code",
   "execution_count": 4,
   "metadata": {},
   "outputs": [],
   "source": [
    "class SoftMax(LinearClassifier):\n",
    "    def __init__(self, k):\n",
    "        super(SoftMax, self).__init__(k)\n",
    "\n",
    "    def f(self, scores):\n",
    "        C = np.max(scores)\n",
    "        scores -= C\n",
    "        return np.exp(scores)/np.sum(np.exp(scores), axis=0)\n",
    "\n",
    "    \n",
    "    def loss_grads(self, X, y, batch_size, lambda_):\n",
    "        #Scores tiene de tamaño k*batch_size\n",
    "        scores = self.predict(X)\n",
    "        softmax_fun = self.f(scores)\n",
    "        idx = np.arange(0, y.size)\n",
    "\n",
    "        cost = np.sum(-np.log(softmax_fun[y, idx]))/batch_size\n",
    "        \n",
    "        L2 = linalg.norm(self.W[1:,:])**2\n",
    "        loss = cost + lambda_/2 * L2\n",
    "\n",
    "        #le resto la delta\n",
    "        softmax_fun[y, idx] -= 1\n",
    "\n",
    "        grad = np.zeros_like(self.W)\n",
    "\n",
    "        grad = np.dot(softmax_fun, X)/batch_size\n",
    "    \n",
    "        grad += lambda_*self.W\n",
    "\n",
    "        return loss, grad\n",
    "        "
   ]
  },
  {
   "cell_type": "code",
   "execution_count": 59,
   "metadata": {},
   "outputs": [
    {
     "data": {
      "text/plain": [
       "(9.165843124778595,\n",
       " array([[-0.15080992,  2.82124687, -1.22656717, -0.42477943],\n",
       "        [-1.00105709, -0.99296713,  0.14716708,  0.40998766],\n",
       "        [-0.22459018, -2.42187279, -0.42881194, -1.24187111]]))"
      ]
     },
     "execution_count": 59,
     "metadata": {},
     "output_type": "execute_result"
    }
   ],
   "source": [
    "#Testing\n",
    "X = np.array([[1, 1, 0],\n",
    "              [1, 3, 2],\n",
    "              [-1, 0 ,1],\n",
    "              [8, 1, 2]])\n",
    "y = np.array([1, 0, 0, 2])\n",
    "modelo = SoftMax(3)\n",
    "modelo.load(X, y)\n",
    "modelo.W.shape\n",
    "modelo.loss_grads(X, y, 4)"
   ]
  },
  {
   "cell_type": "code",
   "execution_count": 34,
   "metadata": {},
   "outputs": [
    {
     "name": "stdout",
     "output_type": "stream",
     "text": [
      "(4,)\n"
     ]
    },
    {
     "data": {
      "text/plain": [
       "(array([1.81272859, 1.81453935, 1.81439033, 0.81704448]),\n",
       " array([[-0.94940185,  0.58742029, -0.40718563, -0.69193415],\n",
       "        [-0.53509172,  0.63979519, -0.41312201, -0.63708377],\n",
       "        [ 0.90852285,  0.73765613, -0.99216981,  0.05651152]]))"
      ]
     },
     "execution_count": 34,
     "metadata": {},
     "output_type": "execute_result"
    }
   ],
   "source": [
    "modelo.loss_grads(X, y, 4)"
   ]
  },
  {
   "cell_type": "markdown",
   "metadata": {},
   "source": [
    "Probemos fitear el MNIST"
   ]
  },
  {
   "cell_type": "code",
   "execution_count": 227,
   "metadata": {},
   "outputs": [
    {
     "name": "stdout",
     "output_type": "stream",
     "text": [
      "X_train: (60000, 28, 28)\n",
      "Y_train: (60000,)\n",
      "X_test:  (10000, 28, 28)\n",
      "Y_test:  (10000,)\n"
     ]
    }
   ],
   "source": [
    "from keras.datasets import mnist\n",
    "\n",
    "(train_X, train_y), (test_X, test_y) = mnist.load_data()\n",
    " \n",
    "#shape of dataset\n",
    "print('X_train: ' + str(train_X.shape))\n",
    "print('Y_train: ' + str(train_y.shape))\n",
    "print('X_test:  '  + str(test_X.shape))\n",
    "print('Y_test:  '  + str(test_y.shape))"
   ]
  },
  {
   "cell_type": "markdown",
   "metadata": {},
   "source": [
    "Fiteamos primero el modelo SVM"
   ]
  },
  {
   "cell_type": "code",
   "execution_count": 229,
   "metadata": {},
   "outputs": [],
   "source": [
    "model = SVM(10, delta=1)\n",
    "model.load(train_X, train_y, normalize=True)"
   ]
  },
  {
   "cell_type": "code",
   "execution_count": 230,
   "metadata": {},
   "outputs": [
    {
     "name": "stdout",
     "output_type": "stream",
     "text": [
      "Cost at epoch 0: 119.43\n",
      "Cost at epoch 10: 42.40\n",
      "Cost at epoch 20: 16.58\n",
      "Cost at epoch 30: 6.63\n",
      "Cost at epoch 40: 2.80\n",
      "Cost at epoch 50: 1.33\n",
      "Cost at epoch 60: 0.78\n",
      "Cost at epoch 70: 0.57\n"
     ]
    }
   ],
   "source": [
    "loss_hist = model.train(batch_size=128, epochs=100, lambda_=.1, alpha=.001)\n"
   ]
  },
  {
   "cell_type": "code",
   "execution_count": 231,
   "metadata": {},
   "outputs": [
    {
     "name": "stdout",
     "output_type": "stream",
     "text": [
      "Final test accuracy: 90.47%\n"
     ]
    }
   ],
   "source": [
    "preds = np.argmax(model.predict(test_X, normalize=True), axis=0)\n",
    "print(\"Final test accuracy: {:.2f}%\".format(100*model.accuracy(preds, test_y)))\n",
    "\n"
   ]
  },
  {
   "cell_type": "code",
   "execution_count": 232,
   "metadata": {},
   "outputs": [
    {
     "data": {
      "image/png": "[encoded data removed]",
      "text/plain": [
       "<Figure size 432x288 with 1 Axes>"
      ]
     },
     "metadata": {
      "needs_background": "light"
     },
     "output_type": "display_data"
    }
   ],
   "source": [
    "plt.plot(loss_hist);"
   ]
  },
  {
   "cell_type": "markdown",
   "metadata": {},
   "source": [
    "Probemos ahora con el SoftMax"
   ]
  },
  {
   "cell_type": "code",
   "execution_count": 233,
   "metadata": {},
   "outputs": [],
   "source": [
    "modelSM = SoftMax(10)\n",
    "modelSM.load(train_X, train_y, normalize=True)"
   ]
  },
  {
   "cell_type": "code",
   "execution_count": 234,
   "metadata": {},
   "outputs": [
    {
     "name": "stdout",
     "output_type": "stream",
     "text": [
      "Cost at epoch 0: 114.59\n",
      "Cost at epoch 10: 43.28\n",
      "Cost at epoch 20: 17.12\n",
      "Cost at epoch 30: 7.09\n",
      "Cost at epoch 40: 3.22\n",
      "Cost at epoch 50: 1.72\n",
      "Cost at epoch 60: 1.14\n",
      "Cost at epoch 70: 0.92\n",
      "Cost at epoch 80: 0.83\n",
      "Cost at epoch 90: 0.80\n",
      "Cost at epoch 100: 0.78\n",
      "Cost at epoch 110: 0.78\n",
      "Cost at epoch 120: 0.78\n"
     ]
    }
   ],
   "source": [
    "loss_hist_SM = modelSM.train(batch_size=128, epochs=200, alpha=.001, lambda_=.1, epsilon=1e-4)"
   ]
  },
  {
   "cell_type": "code",
   "execution_count": 235,
   "metadata": {},
   "outputs": [
    {
     "name": "stdout",
     "output_type": "stream",
     "text": [
      "Final test accuracy: 86.94%\n"
     ]
    },
    {
     "data": {
      "image/png": "[encoded data removed]",
      "text/plain": [
       "<Figure size 432x288 with 1 Axes>"
      ]
     },
     "metadata": {
      "needs_background": "light"
     },
     "output_type": "display_data"
    }
   ],
   "source": [
    "preds = np.argmax(modelSM.predict(test_X, normalize=True), axis=0)\n",
    "print(\"Final test accuracy: {:.2f}%\".format(100*modelSM.accuracy(preds, test_y)))\n",
    "plt.plot(loss_hist_SM);"
   ]
  },
  {
   "cell_type": "markdown",
   "metadata": {},
   "source": [
    "Fiteando CIFAR10"
   ]
  },
  {
   "cell_type": "code",
   "execution_count": 5,
   "metadata": {},
   "outputs": [
    {
     "name": "stdout",
     "output_type": "stream",
     "text": [
      "Train: X=(50000, 32, 32, 3), y=(50000, 1)\n",
      "Test: X=(10000, 32, 32, 3), y=(10000, 1)\n"
     ]
    }
   ],
   "source": [
    "from keras.datasets import cifar10\n",
    "\n",
    "# load dataset\n",
    "(trainX, trainy), (testX, testy) = cifar10.load_data()\n",
    "\n",
    "# summarize loaded dataset\n",
    "print('Train: X=%s, y=%s' % (trainX.shape, trainy.shape))\n",
    "print('Test: X=%s, y=%s' % (testX.shape, testy.shape))"
   ]
  },
  {
   "cell_type": "code",
   "execution_count": 6,
   "metadata": {},
   "outputs": [
    {
     "name": "stdout",
     "output_type": "stream",
     "text": [
      "(50000,)\n"
     ]
    }
   ],
   "source": [
    "#Esto porque genera problemas\n",
    "trainy = trainy[:,0]\n",
    "testy = testy[:,0]\n",
    "print(trainy.shape)"
   ]
  },
  {
   "cell_type": "code",
   "execution_count": 7,
   "metadata": {},
   "outputs": [],
   "source": [
    "names_dict = {0: 'airplane', 1: 'automobile', 2: 'bird', \n",
    "              3: 'cat', 4: 'deer', 5: 'dog', \n",
    "              6: 'frog', 7: 'horse', 8: 'ship', \n",
    "              9: 'truck'}"
   ]
  },
  {
   "cell_type": "markdown",
   "metadata": {},
   "source": [
    "Fiteando SVM a MNIST"
   ]
  },
  {
   "cell_type": "code",
   "execution_count": 27,
   "metadata": {},
   "outputs": [],
   "source": [
    "cifarSVM = SVM(10, delta=1)\n",
    "cifarSVM.load(trainX, trainy, normalize=True)"
   ]
  },
  {
   "cell_type": "code",
   "execution_count": 17,
   "metadata": {},
   "outputs": [
    {
     "name": "stdout",
     "output_type": "stream",
     "text": [
      "Cost at epoch 0: 118.36\n",
      "Cost at epoch 0: 57.28\n",
      "Cost at epoch 0: 30.82\n",
      "Cost at epoch 0: 18.03\n",
      "Cost at epoch 0: 12.70\n",
      "Cost at epoch 0: 10.95\n",
      "Cost at epoch 0: 8.91\n",
      "Cost at epoch 0: 8.77\n",
      "1.26 s ± 33.9 ms per loop (mean ± std. dev. of 7 runs, 1 loop each)\n"
     ]
    }
   ],
   "source": [
    "%timeit cifarSVM.train(batch_size=128, epochs=1, alpha=.01, lambda_=.1, verbose=True)"
   ]
  },
  {
   "cell_type": "code",
   "execution_count": 28,
   "metadata": {},
   "outputs": [
    {
     "name": "stdout",
     "output_type": "stream",
     "text": [
      "Cost at epoch 0: 430.64\n",
      "Cost at epoch 10: 132.02\n",
      "Cost at epoch 20: 43.21\n",
      "Cost at epoch 30: 16.49\n",
      "Cost at epoch 40: 8.51\n",
      "Cost at epoch 50: 6.06\n",
      "Cost at epoch 60: 5.29\n"
     ]
    }
   ],
   "source": [
    "loss_cifarSVM = cifarSVM.train(batch_size=256, epochs=200, alpha=.003, lambda_=.1, verbose=True)"
   ]
  },
  {
   "cell_type": "code",
   "execution_count": 29,
   "metadata": {},
   "outputs": [
    {
     "name": "stdout",
     "output_type": "stream",
     "text": [
      "Final train accuracy: 36.73%\n",
      " Final test accuracy: 35.09%\n"
     ]
    },
    {
     "data": {
      "image/png": "[encoded data removed]",
      "text/plain": [
       "<Figure size 432x288 with 1 Axes>"
      ]
     },
     "metadata": {
      "needs_background": "light"
     },
     "output_type": "display_data"
    }
   ],
   "source": [
    "predtrain = np.argmax(cifarSVM.predict(trainX, normalize=True), axis=0)\n",
    "predtest = np.argmax(cifarSVM.predict(testX, normalize=True), axis=0)\n",
    "print(\"Final train accuracy: {:.2f}%\\n Final test accuracy: {:.2f}%\".format(100*cifarSVM.accuracy(predtrain, trainy), 100*cifarSVM.accuracy(predtest, testy)))\n",
    "plt.plot(loss_cifarSVM);"
   ]
  },
  {
   "cell_type": "markdown",
   "metadata": {},
   "source": [
    "CIFAR10 + SoftMax"
   ]
  },
  {
   "cell_type": "code",
   "execution_count": 33,
   "metadata": {},
   "outputs": [],
   "source": [
    "cifarSM = SoftMax(10)\n",
    "cifarSM.load(trainX, trainy, normalize=True)"
   ]
  },
  {
   "cell_type": "code",
   "execution_count": 34,
   "metadata": {},
   "outputs": [
    {
     "name": "stdout",
     "output_type": "stream",
     "text": [
      "Cost at epoch 0: 227.44\n",
      "Cost at epoch 10: 124.98\n",
      "Cost at epoch 20: 69.80\n",
      "Cost at epoch 30: 39.35\n",
      "Cost at epoch 40: 22.55\n",
      "Cost at epoch 50: 13.29\n",
      "Cost at epoch 60: 8.17\n",
      "Cost at epoch 70: 5.35\n",
      "Cost at epoch 80: 3.79\n",
      "Cost at epoch 90: 2.92\n",
      "Cost at epoch 100: 2.45\n",
      "Cost at epoch 110: 2.18\n",
      "Cost at epoch 120: 2.03\n",
      "Cost at epoch 130: 1.95\n",
      "Cost at epoch 140: 1.91\n",
      "Cost at epoch 150: 1.88\n",
      "Cost at epoch 160: 1.87\n",
      "Cost at epoch 170: 1.86\n",
      "Cost at epoch 180: 1.86\n",
      "Cost at epoch 190: 1.85\n"
     ]
    }
   ],
   "source": [
    "loss_cifarSM = cifarSM.train(batch_size=256, epochs=200, alpha=.003, lambda_=.05, verbose=True, epsilon=1e-4)"
   ]
  },
  {
   "cell_type": "code",
   "execution_count": 35,
   "metadata": {},
   "outputs": [],
   "source": [
    "predtrain = np.argmax(cifarSM.predict(trainX, normalize=True), axis=0)\n",
    "predtest = np.argmax(cifarSM.predict(testX, normalize=True), axis=0)\n",
    "print(\"Final train accuracy: {:.2f}%\\n Final test accuracy: {:.2f}%\".format(100*cifarSM.accuracy(predtrain, trainy), 100*cifarSM.accuracy(predtest, testy)))\n",
    "plt.plot(loss_cifarSM);"
   ]
  }
 ],
 "metadata": {
  "kernelspec": {
   "display_name": "Python 3.9.12 ('base')",
   "language": "python",
   "name": "python3"
  },
  "language_info": {
   "codemirror_mode": {
    "name": "ipython",
    "version": 3
   },
   "file_extension": ".py",
   "mimetype": "text/x-python",
   "name": "python",
   "nbconvert_exporter": "python",
   "pygments_lexer": "ipython3",
   "version": "3.9.12"
  },
  "orig_nbformat": 4,
  "vscode": {
   "interpreter": {
    "hash": "b045fddb768a69d708aeb44bac4815a8765073d6505277d1278f194b80f63e22"
   }
  }
 },
 "nbformat": 4,
 "nbformat_minor": 2
}
