{
  "cells": [
    {
      "cell_type": "code",
      "execution_count": 1,
      "metadata": {
        "id": "U8oC9jshNTL8"
      },
      "outputs": [],
      "source": [
        "import numpy as np\n",
        "import tensorflow as tf\n",
        "from tensorflow import keras\n",
        "from keras import layers\n",
        "from matplotlib import pyplot as plt\n",
        "from skimage.transform import resize\n",
        "import gc"
      ]
    },
    {
      "cell_type": "code",
      "execution_count": 2,
      "metadata": {
        "id": "bCoxx_WsTN15"
      },
      "outputs": [],
      "source": [
        "(x_train, y_train), (x_test, y_test) = keras.datasets.cifar100.load_data()\n",
        "assert x_train.shape == (50000, 32, 32, 3)\n",
        "assert x_test.shape == (10000, 32, 32, 3)\n",
        "assert y_train.shape == (50000, 1)\n",
        "assert y_test.shape == (10000, 1)"
      ]
    },
    {
      "cell_type": "code",
      "execution_count": 3,
      "metadata": {
        "id": "4vZxEBqIpE6V"
      },
      "outputs": [],
      "source": [
        "data_augmentation = keras.Sequential(\n",
        "    [\n",
        "        tf.keras.layers.RandomFlip(\"horizontal\"),\n",
        "        keras.layers.RandomRotation(factor=(-0.2, 0.2)),\n",
        "        keras.layers.RandomTranslation(height_factor=(-0.2, 0.2), \n",
        "                                       width_factor=(-0.2, 0.2)),\n",
        "    ]\n",
        ")"
      ]
    },
    {
      "cell_type": "code",
      "execution_count": 4,
      "metadata": {
        "id": "MDwdLghVWqvv"
      },
      "outputs": [],
      "source": [
        "#Pre-proceso las imagenes como me pide inception\n",
        "x_train = keras.applications.inception_v3.preprocess_input(x_train)\n",
        "x_test = keras.applications.inception_v3.preprocess_input(x_test)\n",
        "\n",
        "#Creo los datasets y les hago resizing a tamaño (75, 75, 3)\n",
        "train_ds = tf.data.Dataset.from_tensor_slices((x_train, y_train))\n",
        "test_ds = tf.data.Dataset.from_tensor_slices((x_test, y_test))\n",
        "\n",
        "size = (75, 75)\n",
        "batch_size = 32\n",
        "\n",
        "train_ds = train_ds.map(lambda x, y: (tf.image.resize(x, size), y))\n",
        "train_ds = train_ds.cache().batch(batch_size).prefetch(buffer_size=10)\n",
        "\n",
        "test_ds = test_ds.map(lambda x, y: (tf.image.resize(x, size), y))\n",
        "test_ds = test_ds.cache().batch(batch_size).prefetch(buffer_size=10)"
      ]
    },
    {
      "cell_type": "code",
      "execution_count": 5,
      "metadata": {
        "colab": {
          "base_uri": "https://localhost:8080/"
        },
        "id": "D3a5AQLlc6h8",
        "outputId": "6287981a-6d63-42a0-f47f-caf6c061a344"
      },
      "outputs": [
        {
          "data": {
            "text/plain": [
              "(1.0, -1.0)"
            ]
          },
          "execution_count": 5,
          "metadata": {},
          "output_type": "execute_result"
        }
      ],
      "source": [
        "x_test.max(), x_test.min()"
      ]
    },
    {
      "cell_type": "code",
      "execution_count": 17,
      "metadata": {
        "id": "LHFinJBirqj7"
      },
      "outputs": [],
      "source": [
        "def plot(hist):\n",
        "    fig, (ax1, ax2) = plt.subplots(nrows=1, ncols=2, figsize=(11,4))\n",
        "    ax1.plot(hist.history['loss'], label='CCE')\n",
        "    ax1.plot(hist.history['val_loss'], label='val_CCE')\n",
        "    ax1.set_xlabel('Epocas', fontsize=15)\n",
        "    ax1.set_ylabel('Loss', fontsize=15)\n",
        "    ax1.legend(loc='best')\n",
        "\n",
        "    ax2.plot(hist.history['acc'], label='acc')\n",
        "    ax2.plot(hist.history['val_acc'], label='val_acc')\n",
        "    ax2.set_xlabel('Epocas', fontsize=15)\n",
        "    ax2.set_ylabel('Accuracy', fontsize=15)\n",
        "    ax2.legend(loc='best')\n",
        "\n",
        "    fig.tight_layout()\n",
        "    plt.show()\n",
        "    return None"
      ]
    },
    {
      "cell_type": "markdown",
      "metadata": {
        "id": "G3m06jmyTffr"
      },
      "source": [
        "Vamos a tratar de clasificar el cifar100 utilizando los datos pre-entrenados de\\\n",
        "inception (GoogleNet) haciendo transfer-learning:\\\n",
        "https://keras.io/guides/transfer_learning"
      ]
    },
    {
      "cell_type": "code",
      "execution_count": 12,
      "metadata": {
        "id": "5oqQRIY3Tsf8"
      },
      "outputs": [],
      "source": [
        "#Cargamos el modelo base (Inceptionv3)\n",
        "base_model = tf.keras.applications.inception_v3.InceptionV3(\n",
        "    include_top=False,\n",
        "    weights='imagenet',\n",
        "    input_shape=(75, 75, 3),\n",
        ")\n"
      ]
    },
    {
      "cell_type": "code",
      "execution_count": 13,
      "metadata": {
        "colab": {
          "base_uri": "https://localhost:8080/"
        },
        "id": "7txpR8q-ZzGP",
        "outputId": "b372723b-04d7-4d96-de9e-db70f296ca29"
      },
      "outputs": [
        {
          "name": "stdout",
          "output_type": "stream",
          "text": [
            "Model: \"model\"\n",
            "_________________________________________________________________\n",
            " Layer (type)                Output Shape              Param #   \n",
            "=================================================================\n",
            " input_1 (InputLayer)        [(None, 75, 75, 3)]       0         \n",
            "                                                                 \n",
            " sequential (Sequential)     (None, 75, 75, 3)         0         \n",
            "                                                                 \n",
            " inception_v3 (Functional)   (None, 1, 1, 2048)        21802784  \n",
            "                                                                 \n",
            " global_average_pooling2d (G  (None, 2048)             0         \n",
            " lobalAveragePooling2D)                                          \n",
            "                                                                 \n",
            " dropout (Dropout)           (None, 2048)              0         \n",
            "                                                                 \n",
            " dense (Dense)               (None, 1000)              2049000   \n",
            "                                                                 \n",
            " dropout_1 (Dropout)         (None, 1000)              0         \n",
            "                                                                 \n",
            " dense_1 (Dense)             (None, 100)               100100    \n",
            "                                                                 \n",
            "=================================================================\n",
            "Total params: 23,951,884\n",
            "Trainable params: 2,149,100\n",
            "Non-trainable params: 21,802,784\n",
            "_________________________________________________________________\n"
          ]
        }
      ],
      "source": [
        "keras.backend.clear_session()\n",
        "\n",
        "base_model.trainable = False\n",
        "\n",
        "inputs = keras.Input(shape=(75, 75, 3))\n",
        "\n",
        "x = data_augmentation(inputs)\n",
        "\n",
        "x = base_model(x, training=False)\n",
        "x = keras.layers.GlobalAveragePooling2D()(x)\n",
        "x = keras.layers.Dropout(0.4)(x)  # Regularize with dropout\n",
        "x = keras.layers.Dense(1000, activation='relu', \n",
        "                       kernel_regularizer=keras.regularizers.L2(1e-3))(x)\n",
        "x = keras.layers.Dropout(0.4)(x)  # Regularize with dropout\n",
        "outputs = keras.layers.Dense(100, activation='softmax', \n",
        "                             kernel_regularizer=keras.regularizers.L2(1e-3))(x)\n",
        "model = keras.Model(inputs, outputs)\n",
        "\n",
        "model.summary()"
      ]
    },
    {
      "cell_type": "markdown",
      "metadata": {
        "id": "qSRNfBr1qsb5"
      },
      "source": [
        "Primero entrenamos la capa densa que agregamos al final"
      ]
    },
    {
      "cell_type": "code",
      "execution_count": 14,
      "metadata": {
        "id": "k55duYVjp4te"
      },
      "outputs": [],
      "source": [
        "class ClearMemory(tf.keras.callbacks.Callback):\n",
        "    def on_epoch_end(self, epoch, logs=None):\n",
        "        gc.collect()\n",
        "        tf.keras.backend.clear_session()\n",
        "\n",
        "def scheduler(epoch, lr):\n",
        "  if epoch==3 or epoch == 6:\n",
        "    return lr/3\n",
        "  else:\n",
        "    return lr\n",
        "\n",
        "\n",
        "callbacks_list=[\n",
        "    keras.callbacks.LearningRateScheduler(\n",
        "    scheduler, verbose=0\n",
        "    ),\n",
        "    ClearMemory(),\n",
        "    keras.callbacks.EarlyStopping(monitor='val_loss', mode='min', patience=5)\n",
        "]"
      ]
    },
    {
      "cell_type": "code",
      "execution_count": 15,
      "metadata": {
        "colab": {
          "base_uri": "https://localhost:8080/"
        },
        "id": "Qu-DzvCfaqVJ",
        "outputId": "679cc608-d797-419e-db75-ec1c89276ade"
      },
      "outputs": [
        {
          "name": "stdout",
          "output_type": "stream",
          "text": [
            "Epoch 1/10\n",
            "1563/1563 [==============================] - 47s 27ms/step - loss: 4.6280 - acc: 0.1416 - val_loss: 3.7815 - val_acc: 0.2557 - lr: 0.0010\n",
            "Epoch 2/10\n",
            "1563/1563 [==============================] - 40s 25ms/step - loss: 4.1585 - acc: 0.1800 - val_loss: 3.6172 - val_acc: 0.2790 - lr: 0.0010\n",
            "Epoch 3/10\n",
            "1563/1563 [==============================] - 42s 26ms/step - loss: 4.0774 - acc: 0.1861 - val_loss: 3.5908 - val_acc: 0.2826 - lr: 0.0010\n",
            "Epoch 4/10\n",
            "1563/1563 [==============================] - 44s 27ms/step - loss: 3.8326 - acc: 0.2102 - val_loss: 3.2359 - val_acc: 0.3253 - lr: 3.3333e-04\n",
            "Epoch 5/10\n",
            "1563/1563 [==============================] - 39s 24ms/step - loss: 3.6798 - acc: 0.2195 - val_loss: 3.1414 - val_acc: 0.3319 - lr: 3.3333e-04\n",
            "Epoch 6/10\n",
            "1563/1563 [==============================] - 39s 25ms/step - loss: 3.6183 - acc: 0.2238 - val_loss: 3.0852 - val_acc: 0.3352 - lr: 3.3333e-04\n",
            "Epoch 7/10\n",
            "1563/1563 [==============================] - 39s 24ms/step - loss: 3.5233 - acc: 0.2360 - val_loss: 2.9814 - val_acc: 0.3502 - lr: 1.1111e-04\n",
            "Epoch 8/10\n",
            "1563/1563 [==============================] - 39s 24ms/step - loss: 3.4817 - acc: 0.2374 - val_loss: 2.9523 - val_acc: 0.3554 - lr: 1.1111e-04\n",
            "Epoch 9/10\n",
            "1563/1563 [==============================] - 39s 24ms/step - loss: 3.4362 - acc: 0.2443 - val_loss: 2.9188 - val_acc: 0.3543 - lr: 1.1111e-04\n",
            "Epoch 10/10\n",
            "1563/1563 [==============================] - 39s 24ms/step - loss: 3.4209 - acc: 0.2429 - val_loss: 2.8933 - val_acc: 0.3580 - lr: 1.1111e-04\n"
          ]
        }
      ],
      "source": [
        "model.compile(\n",
        "    optimizer=keras.optimizers.Adam(),\n",
        "    loss=keras.losses.SparseCategoricalCrossentropy(from_logits=False, name='loss'),\n",
        "    metrics=[keras.metrics.SparseCategoricalAccuracy(name='acc')],\n",
        ")\n",
        "\n",
        "epochs = 10\n",
        "hist = model.fit(train_ds, epochs=epochs, callbacks=callbacks_list,\n",
        "                 validation_data=test_ds, verbose=1)\n"
      ]
    },
    {
      "cell_type": "code",
      "execution_count": 18,
      "metadata": {
        "colab": {
          "base_uri": "https://localhost:8080/",
          "height": 297
        },
        "id": "uMEAPFgDsKq-",
        "outputId": "d597b6e1-3e8b-4f62-8bdb-44d97a13e789"
      },
      "outputs": [
        {
          "data": {
            "image/png": "[encoded data removed]",
            "text/plain": [
              "<Figure size 792x288 with 2 Axes>"
            ]
          },
          "metadata": {
            "needs_background": "light"
          },
          "output_type": "display_data"
        }
      ],
      "source": [
        "plot(hist)"
      ]
    },
    {
      "cell_type": "markdown",
      "metadata": {
        "id": "aXZT8kWIqveD"
      },
      "source": [
        "Y ahora hacemos una pasada a toda la red (fine-tuning)"
      ]
    },
    {
      "cell_type": "code",
      "execution_count": 20,
      "metadata": {
        "colab": {
          "base_uri": "https://localhost:8080/"
        },
        "id": "6I_Tr68lqqF2",
        "outputId": "34cfe501-7ec6-47d9-c790-c9e02176f6ea"
      },
      "outputs": [
        {
          "name": "stdout",
          "output_type": "stream",
          "text": [
            "Epoch 1/10\n",
            "1563/1563 [==============================] - 105s 62ms/step - loss: 2.9029 - acc: 0.3325 - val_loss: 2.1871 - val_acc: 0.4708 - lr: 1.0000e-05\n",
            "Epoch 2/10\n",
            "1563/1563 [==============================] - 97s 61ms/step - loss: 2.5755 - acc: 0.3934 - val_loss: 2.0248 - val_acc: 0.5174 - lr: 1.0000e-05\n",
            "Epoch 3/10\n",
            "1563/1563 [==============================] - 97s 61ms/step - loss: 2.4096 - acc: 0.4282 - val_loss: 1.8997 - val_acc: 0.5424 - lr: 1.0000e-05\n",
            "Epoch 4/10\n",
            "1563/1563 [==============================] - 97s 61ms/step - loss: 2.2620 - acc: 0.4619 - val_loss: 1.8392 - val_acc: 0.5550 - lr: 3.3333e-06\n",
            "Epoch 5/10\n",
            "1563/1563 [==============================] - 97s 61ms/step - loss: 2.2175 - acc: 0.4699 - val_loss: 1.8027 - val_acc: 0.5633 - lr: 3.3333e-06\n",
            "Epoch 6/10\n",
            "1563/1563 [==============================] - 97s 61ms/step - loss: 2.1821 - acc: 0.4811 - val_loss: 1.7742 - val_acc: 0.5700 - lr: 3.3333e-06\n",
            "Epoch 7/10\n",
            "1563/1563 [==============================] - 97s 61ms/step - loss: 2.1379 - acc: 0.4885 - val_loss: 1.7532 - val_acc: 0.5761 - lr: 1.1111e-06\n",
            "Epoch 8/10\n",
            "1563/1563 [==============================] - 97s 61ms/step - loss: 2.1214 - acc: 0.4928 - val_loss: 1.7439 - val_acc: 0.5783 - lr: 1.1111e-06\n",
            "Epoch 9/10\n",
            "1563/1563 [==============================] - 97s 61ms/step - loss: 2.1019 - acc: 0.5005 - val_loss: 1.7319 - val_acc: 0.5794 - lr: 1.1111e-06\n",
            "Epoch 10/10\n",
            "1563/1563 [==============================] - 100s 63ms/step - loss: 2.0846 - acc: 0.5004 - val_loss: 1.7247 - val_acc: 0.5828 - lr: 1.1111e-06\n"
          ]
        }
      ],
      "source": [
        "# Unfreeze the base_model. Note that it keeps running in inference mode\n",
        "# since we passed `training=False` when calling it. This means that\n",
        "# the batchnorm layers will not update their batch statistics.\n",
        "# This prevents the batchnorm layers from undoing all the training\n",
        "# we've done so far.\n",
        "base_model.trainable = True\n",
        "\n",
        "model.compile(\n",
        "    optimizer=keras.optimizers.Adam(1e-5),\n",
        "    loss=keras.losses.SparseCategoricalCrossentropy(from_logits=False, name='loss'),\n",
        "    metrics=[keras.metrics.SparseCategoricalAccuracy(name='acc')],\n",
        ")\n",
        "\n",
        "epochs = 10\n",
        "hist = model.fit(train_ds, epochs=epochs, callbacks=callbacks_list,\n",
        "                 validation_data=test_ds, verbose=1)\n"
      ]
    },
    {
      "cell_type": "code",
      "execution_count": 21,
      "metadata": {
        "colab": {
          "base_uri": "https://localhost:8080/",
          "height": 297
        },
        "id": "a_2kdt8tyiLF",
        "outputId": "ff20c60d-456a-4d80-f32a-e90e026683ff"
      },
      "outputs": [
        {
          "data": {
            "image/png": "[encoded data removed]",
            "text/plain": [
              "<Figure size 792x288 with 2 Axes>"
            ]
          },
          "metadata": {
            "needs_background": "light"
          },
          "output_type": "display_data"
        }
      ],
      "source": [
        "plot(hist)"
      ]
    }
  ],
  "metadata": {
    "accelerator": "GPU",
    "colab": {
      "provenance": []
    },
    "kernelspec": {
      "display_name": "Python 3.9.12 ('base')",
      "language": "python",
      "name": "python3"
    },
    "language_info": {
      "name": "python",
      "version": "3.9.12"
    },
    "vscode": {
      "interpreter": {
        "hash": "b045fddb768a69d708aeb44bac4815a8765073d6505277d1278f194b80f63e22"
      }
    }
  },
  "nbformat": 4,
  "nbformat_minor": 0
}
