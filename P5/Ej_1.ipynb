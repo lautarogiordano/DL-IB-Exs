{
  "cells": [
    {
      "cell_type": "code",
      "execution_count": 18,
      "metadata": {
        "id": "ypEHPsgVdAZy"
      },
      "outputs": [],
      "source": [
        "import numpy as np\n",
        "from matplotlib import pyplot as plt\n",
        "from matplotlib import image\n",
        "from PIL import UnidentifiedImageError\n",
        "from skimage.transform import resize\n",
        "from sklearn.model_selection import train_test_split\n",
        "import tensorflow as tf\n",
        "from tensorflow import keras\n",
        "from tensorflow.keras import layers\n",
        "import os\n",
        "\n",
        "%matplotlib inline"
      ]
    },
    {
      "cell_type": "markdown",
      "metadata": {
        "id": "HY5IiaoedAaL"
      },
      "source": [
        "Preprocessing del dataset, no hay que volver a correrlo"
      ]
    },
    {
      "cell_type": "code",
      "execution_count": 6,
      "metadata": {
        "colab": {
          "base_uri": "https://localhost:8080/",
          "height": 39
        },
        "id": "EP-cv84cW5GQ",
        "outputId": "562a840a-c50e-4eee-f4db-50ce0bf9ffec"
      },
      "outputs": [
        {
          "data": {
            "text/html": [
              "\n",
              "     <input type=\"file\" id=\"files-2de82bd5-b728-4e4b-935b-442398e0fb88\" name=\"files[]\" multiple disabled\n",
              "        style=\"border:none\" />\n",
              "     <output id=\"result-2de82bd5-b728-4e4b-935b-442398e0fb88\">\n",
              "      Upload widget is only available when the cell has been executed in the\n",
              "      current browser session. Please rerun this cell to enable.\n",
              "      </output>\n",
              "      <script>// Copyright 2017 Google LLC\n",
              "//\n",
              "// Licensed under the Apache License, Version 2.0 (the \"License\");\n",
              "// you may not use this file except in compliance with the License.\n",
              "// You may obtain a copy of the License at\n",
              "//\n",
              "//      http://www.apache.org/licenses/LICENSE-2.0\n",
              "//\n",
              "// Unless required by applicable law or agreed to in writing, software\n",
              "// distributed under the License is distributed on an \"AS IS\" BASIS,\n",
              "// WITHOUT WARRANTIES OR CONDITIONS OF ANY KIND, either express or implied.\n",
              "// See the License for the specific language governing permissions and\n",
              "// limitations under the License.\n",
              "\n",
              "/**\n",
              " * @fileoverview Helpers for google.colab Python module.\n",
              " */\n",
              "(function(scope) {\n",
              "function span(text, styleAttributes = {}) {\n",
              "  const element = document.createElement('span');\n",
              "  element.textContent = text;\n",
              "  for (const key of Object.keys(styleAttributes)) {\n",
              "    element.style[key] = styleAttributes[key];\n",
              "  }\n",
              "  return element;\n",
              "}\n",
              "\n",
              "// Max number of bytes which will be uploaded at a time.\n",
              "const MAX_PAYLOAD_SIZE = 100 * 1024;\n",
              "\n",
              "function _uploadFiles(inputId, outputId) {\n",
              "  const steps = uploadFilesStep(inputId, outputId);\n",
              "  const outputElement = document.getElementById(outputId);\n",
              "  // Cache steps on the outputElement to make it available for the next call\n",
              "  // to uploadFilesContinue from Python.\n",
              "  outputElement.steps = steps;\n",
              "\n",
              "  return _uploadFilesContinue(outputId);\n",
              "}\n",
              "\n",
              "// This is roughly an async generator (not supported in the browser yet),\n",
              "// where there are multiple asynchronous steps and the Python side is going\n",
              "// to poll for completion of each step.\n",
              "// This uses a Promise to block the python side on completion of each step,\n",
              "// then passes the result of the previous step as the input to the next step.\n",
              "function _uploadFilesContinue(outputId) {\n",
              "  const outputElement = document.getElementById(outputId);\n",
              "  const steps = outputElement.steps;\n",
              "\n",
              "  const next = steps.next(outputElement.lastPromiseValue);\n",
              "  return Promise.resolve(next.value.promise).then((value) => {\n",
              "    // Cache the last promise value to make it available to the next\n",
              "    // step of the generator.\n",
              "    outputElement.lastPromiseValue = value;\n",
              "    return next.value.response;\n",
              "  });\n",
              "}\n",
              "\n",
              "/**\n",
              " * Generator function which is called between each async step of the upload\n",
              " * process.\n",
              " * @param {string} inputId Element ID of the input file picker element.\n",
              " * @param {string} outputId Element ID of the output display.\n",
              " * @return {!Iterable<!Object>} Iterable of next steps.\n",
              " */\n",
              "function* uploadFilesStep(inputId, outputId) {\n",
              "  const inputElement = document.getElementById(inputId);\n",
              "  inputElement.disabled = false;\n",
              "\n",
              "  const outputElement = document.getElementById(outputId);\n",
              "  outputElement.innerHTML = '';\n",
              "\n",
              "  const pickedPromise = new Promise((resolve) => {\n",
              "    inputElement.addEventListener('change', (e) => {\n",
              "      resolve(e.target.files);\n",
              "    });\n",
              "  });\n",
              "\n",
              "  const cancel = document.createElement('button');\n",
              "  inputElement.parentElement.appendChild(cancel);\n",
              "  cancel.textContent = 'Cancel upload';\n",
              "  const cancelPromise = new Promise((resolve) => {\n",
              "    cancel.onclick = () => {\n",
              "      resolve(null);\n",
              "    };\n",
              "  });\n",
              "\n",
              "  // Wait for the user to pick the files.\n",
              "  const files = yield {\n",
              "    promise: Promise.race([pickedPromise, cancelPromise]),\n",
              "    response: {\n",
              "      action: 'starting',\n",
              "    }\n",
              "  };\n",
              "\n",
              "  cancel.remove();\n",
              "\n",
              "  // Disable the input element since further picks are not allowed.\n",
              "  inputElement.disabled = true;\n",
              "\n",
              "  if (!files) {\n",
              "    return {\n",
              "      response: {\n",
              "        action: 'complete',\n",
              "      }\n",
              "    };\n",
              "  }\n",
              "\n",
              "  for (const file of files) {\n",
              "    const li = document.createElement('li');\n",
              "    li.append(span(file.name, {fontWeight: 'bold'}));\n",
              "    li.append(span(\n",
              "        `(${file.type || 'n/a'}) - ${file.size} bytes, ` +\n",
              "        `last modified: ${\n",
              "            file.lastModifiedDate ? file.lastModifiedDate.toLocaleDateString() :\n",
              "                                    'n/a'} - `));\n",
              "    const percent = span('0% done');\n",
              "    li.appendChild(percent);\n",
              "\n",
              "    outputElement.appendChild(li);\n",
              "\n",
              "    const fileDataPromise = new Promise((resolve) => {\n",
              "      const reader = new FileReader();\n",
              "      reader.onload = (e) => {\n",
              "        resolve(e.target.result);\n",
              "      };\n",
              "      reader.readAsArrayBuffer(file);\n",
              "    });\n",
              "    // Wait for the data to be ready.\n",
              "    let fileData = yield {\n",
              "      promise: fileDataPromise,\n",
              "      response: {\n",
              "        action: 'continue',\n",
              "      }\n",
              "    };\n",
              "\n",
              "    // Use a chunked sending to avoid message size limits. See b/62115660.\n",
              "    let position = 0;\n",
              "    do {\n",
              "      const length = Math.min(fileData.byteLength - position, MAX_PAYLOAD_SIZE);\n",
              "      const chunk = new Uint8Array(fileData, position, length);\n",
              "      position += length;\n",
              "\n",
              "      const base64 = btoa(String.fromCharCode.apply(null, chunk));\n",
              "      yield {\n",
              "        response: {\n",
              "          action: 'append',\n",
              "          file: file.name,\n",
              "          data: base64,\n",
              "        },\n",
              "      };\n",
              "\n",
              "      let percentDone = fileData.byteLength === 0 ?\n",
              "          100 :\n",
              "          Math.round((position / fileData.byteLength) * 100);\n",
              "      percent.textContent = `${percentDone}% done`;\n",
              "\n",
              "    } while (position < fileData.byteLength);\n",
              "  }\n",
              "\n",
              "  // All done.\n",
              "  yield {\n",
              "    response: {\n",
              "      action: 'complete',\n",
              "    }\n",
              "  };\n",
              "}\n",
              "\n",
              "scope.google = scope.google || {};\n",
              "scope.google.colab = scope.google.colab || {};\n",
              "scope.google.colab._files = {\n",
              "  _uploadFiles,\n",
              "  _uploadFilesContinue,\n",
              "};\n",
              "})(self);\n",
              "</script> "
            ],
            "text/plain": [
              "<IPython.core.display.HTML object>"
            ]
          },
          "metadata": {},
          "output_type": "display_data"
        }
      ],
      "source": [
        "from google.colab import files\n",
        "uploaded = files.upload()"
      ]
    },
    {
      "cell_type": "code",
      "execution_count": 4,
      "metadata": {
        "colab": {
          "base_uri": "https://localhost:8080/",
          "height": 241
        },
        "id": "vEwcxseKdAaa",
        "outputId": "ce98c61a-1536-4ad6-c721-31d12f4ad1c2"
      },
      "outputs": [
        {
          "name": "stderr",
          "output_type": "stream",
          "text": [
            "/home/lautaro/anaconda3/lib/python3.8/site-packages/PIL/TiffImagePlugin.py:793: UserWarning: Truncated File Read\n",
            "  warnings.warn(str(msg))\n"
          ]
        },
        {
          "name": "stdout",
          "output_type": "stream",
          "text": [
            "n_cats: 12496  n_dogs: 12497  data shape: (24993, 50, 50, 3)\n"
          ]
        },
        {
          "data": {
            "image/png": "[encoded data removed]",
            "text/plain": [
              "<Figure size 432x288 with 1 Axes>"
            ]
          },
          "metadata": {
            "needs_background": "light"
          },
          "output_type": "display_data"
        }
      ],
      "source": [
        "pathw = 'C:\\\\Users\\\\Lautaro\\\\Desktop\\\\Lautaro\\\\asd\\\\2021\\\\Doctorado\\\\Materias\\\\Deep Learning (2020)\\\\Datos\\\\CatsvDogs'\n",
        "pathl = '/home/lautaro/Desktop/Workspace/Deep_Learning/Data/CatsvDogs'\n",
        "\n",
        "cats = os.path.join(pathl, 'Cat')\n",
        "dogs = os.path.join(pathl, 'Dog')\n",
        "\n",
        "data = []\n",
        "\n",
        "for cat in os.listdir(cats):\n",
        "    try:\n",
        "        curr_img = image.imread(os.path.join(cats, cat))\n",
        "        res_img = resize(curr_img, (50, 50), anti_aliasing=0)\n",
        "        shape = res_img.shape\n",
        "        if shape == (50,50,3):\n",
        "            data.append(res_img)\n",
        "\n",
        "        #A veces lee imagenes con formato RGBA, saco el ultimo canal (lleno de 1s)\n",
        "        elif shape == (50,50,4):\n",
        "            data.append(res_img[...,:3])\n",
        "\n",
        "    except UnidentifiedImageError:\n",
        "        pass\n",
        "\n",
        "n_cats = len(data)\n",
        "y = np.zeros((n_cats))\n",
        "\n",
        "for dog in os.listdir(dogs):\n",
        "    try:\n",
        "        curr_img = image.imread(os.path.join(dogs, dog))\n",
        "        res_img = resize(curr_img, (50, 50), anti_aliasing=0)\n",
        "        shape = res_img.shape\n",
        "        if shape == (50,50,3):\n",
        "            data.append(res_img)\n",
        "        elif shape == (50,50,4):\n",
        "            data.append(res_img[...,:3])\n",
        "          \n",
        "    except UnidentifiedImageError:\n",
        "        pass\n",
        "        \n",
        "\n",
        "n_dogs = len(data) - n_cats\n",
        "y = np.append(y, np.ones((n_dogs)))\n",
        "\n",
        "data = np.stack(data, axis=0)\n",
        "\n",
        "\n",
        "print('n_cats:', n_cats, ' n_dogs:', n_dogs, ' data shape:', data.shape)\n",
        "plt.imshow(data[143])\n",
        "plt.axis('off');"
      ]
    },
    {
      "cell_type": "code",
      "execution_count": 5,
      "metadata": {
        "id": "Fel-Dy_UWnHq"
      },
      "outputs": [],
      "source": [
        "X_train, X_test, y_train, y_test = train_test_split(data, y, test_size=0.2, random_state=42)"
      ]
    },
    {
      "cell_type": "code",
      "execution_count": 6,
      "metadata": {},
      "outputs": [],
      "source": [
        "save_path = '/home/lautaro/Desktop/Workspace/Deep_Learning/Data/P5/Ej_1'\n",
        "\n",
        "np.save(os.path.join(save_path, 'xtrain.npy'), X_train)\n",
        "np.save(os.path.join(save_path, 'xtest.npy'), X_test)\n",
        "np.save(os.path.join(save_path, 'ytrain.npy'), y_train)\n",
        "np.save(os.path.join(save_path, 'ytest.npy'), y_test)"
      ]
    },
    {
      "cell_type": "code",
      "execution_count": 22,
      "metadata": {
        "id": "ROxE3vD3dAbu"
      },
      "outputs": [
        {
          "ename": "AttributeError",
          "evalue": "module 'tensorflow.keras.layers.experimental' has no attribute 'RandomFlip'",
          "output_type": "error",
          "traceback": [
            "\u001b[0;31m---------------------------------------------------------------------------\u001b[0m",
            "\u001b[0;31mAttributeError\u001b[0m                            Traceback (most recent call last)",
            "\u001b[0;32m<ipython-input-22-28f7fa618c34>\u001b[0m in \u001b[0;36m<module>\u001b[0;34m\u001b[0m\n\u001b[1;32m      2\u001b[0m data_augmentation = keras.Sequential(\n\u001b[1;32m      3\u001b[0m     [\n\u001b[0;32m----> 4\u001b[0;31m         \u001b[0mtf\u001b[0m\u001b[0;34m.\u001b[0m\u001b[0mkeras\u001b[0m\u001b[0;34m.\u001b[0m\u001b[0mlayers\u001b[0m\u001b[0;34m.\u001b[0m\u001b[0mexperimental\u001b[0m\u001b[0;34m.\u001b[0m\u001b[0mRandomFlip\u001b[0m\u001b[0;34m(\u001b[0m\u001b[0;34m\"horizontal\"\u001b[0m\u001b[0;34m)\u001b[0m\u001b[0;34m,\u001b[0m\u001b[0;34m\u001b[0m\u001b[0;34m\u001b[0m\u001b[0m\n\u001b[0m\u001b[1;32m      5\u001b[0m         \u001b[0mkeras\u001b[0m\u001b[0;34m.\u001b[0m\u001b[0mlayers\u001b[0m\u001b[0;34m.\u001b[0m\u001b[0mRandomRotation\u001b[0m\u001b[0;34m(\u001b[0m\u001b[0mfactor\u001b[0m\u001b[0;34m=\u001b[0m\u001b[0;34m(\u001b[0m\u001b[0;34m-\u001b[0m\u001b[0;36m0.2\u001b[0m\u001b[0;34m,\u001b[0m \u001b[0;36m0.2\u001b[0m\u001b[0;34m)\u001b[0m\u001b[0;34m)\u001b[0m\u001b[0;34m,\u001b[0m\u001b[0;34m\u001b[0m\u001b[0;34m\u001b[0m\u001b[0m\n\u001b[1;32m      6\u001b[0m         keras.layers.RandomTranslation(height_factor=(-0.2, 0.2), \n",
            "\u001b[0;31mAttributeError\u001b[0m: module 'tensorflow.keras.layers.experimental' has no attribute 'RandomFlip'"
          ]
        },
        {
          "ename": "",
          "evalue": "",
          "output_type": "error",
          "traceback": [
            "The Kernel crashed while executing code in the the current cell or a previous cell. Please review the code in the cell(s) to identify a possible cause of the failure. Click <a href='https://aka.ms/vscodeJupyterKernelCrash'>here</a> for more info. View Jupyter <a href='command:jupyter.viewOutput'>log</a> for further details."
          ]
        }
      ],
      "source": [
        "#Aumentacion de datos\n",
        "data_augmentation = keras.Sequential(\n",
        "    [\n",
        "        tf.keras.layers.RandomFlip(\"horizontal\"),\n",
        "        keras.layers.RandomRotation(factor=(-0.2, 0.2)),\n",
        "        keras.layers.RandomTranslation(height_factor=(-0.2, 0.2), \n",
        "                                       width_factor=(-0.2, 0.2)),\n",
        "    ]\n",
        ")\n",
        "\n",
        "# Create a tf.data pipeline of augmented images (and their labels)\n",
        "train_dataset = tf.data.Dataset.from_tensor_slices((X_train, y_train))\n",
        "train_dataset = train_dataset.map(lambda x, y: (data_augmentation(x), y),\n",
        "                                  num_parallel_calls=tf.data.AUTOTUNE)\n",
        "train_dataset = train_dataset.batch(128)\n",
        "train_dataset = train_dataset.prefetch(buffer_size=tf.data.AUTOTUNE)"
      ]
    },
    {
      "cell_type": "code",
      "execution_count": null,
      "metadata": {
        "id": "QnU1Fq6CdAcN"
      },
      "outputs": [],
      "source": [
        "def plot(hist):\n",
        "    fig, (ax1, ax2) = plt.subplots(nrows=1, ncols=2, figsize=(11,4))\n",
        "    ax1.plot(hist.history['loss'], label='CCE')\n",
        "    ax1.plot(hist.history['val_loss'], label='val_CCE')\n",
        "    ax1.set_xlabel('Epocas', fontsize=15)\n",
        "    ax1.set_ylabel('Loss', fontsize=15)\n",
        "    ax1.legend(loc='best')\n",
        "\n",
        "    ax2.plot(hist.history['sparse_categorical_accuracy'], label='acc')\n",
        "    ax2.plot(hist.history['val_sparse_categorical_accuracy'], label='val_acc')\n",
        "    ax2.set_xlabel('Epocas', fontsize=15)\n",
        "    ax2.set_ylabel('Accuracy', fontsize=15)\n",
        "    ax2.legend(loc='best')\n",
        "\n",
        "    fig.tight_layout()\n",
        "    plt.show()\n",
        "    return None"
      ]
    },
    {
      "cell_type": "code",
      "execution_count": null,
      "metadata": {
        "id": "l5zuVkF8dAcc"
      },
      "outputs": [],
      "source": [
        "keras.backend.clear_session()\n",
        "\n",
        "reg = keras.regularizers.L2(l2=1e-3)\n",
        "drop_r = 0.4\n",
        "\n",
        "model = keras.models.Sequential(name='AlexNet')\n",
        "\n",
        "#Capas convolucionales\n",
        "\n",
        "model.add(keras.layers.Input(shape=(32,32,3)))\n",
        "model.add(keras.layers.Rescaling(1.0 / 255))\n",
        "\n",
        "model.add(keras.layers.Conv2D(128, 5, strides=1, activation='relu', padding='same'))\n",
        "model.add(keras.layers.MaxPooling2D(pool_size=3, strides=1))\n",
        "\n",
        "model.add(keras.layers.Conv2D(128, 3, strides=1, activation='relu', padding='same'))\n",
        "model.add(keras.layers.BatchNormalization())\n",
        "model.add(keras.layers.MaxPooling2D(pool_size=3, strides=2))\n",
        "\n",
        "model.add(keras.layers.Conv2D(352, 3, strides=2, activation='relu', padding='same'))\n",
        "model.add(keras.layers.BatchNormalization())\n",
        "model.add(keras.layers.Conv2D(352, 3, strides=1, activation='relu', padding='same'))\n",
        "model.add(keras.layers.BatchNormalization())\n",
        "model.add(keras.layers.Conv2D(256, 3, strides=1, activation='relu', padding='same'))\n",
        "model.add(keras.layers.BatchNormalization())\n",
        "model.add(keras.layers.MaxPooling2D(pool_size=3, strides=1))\n",
        "model.add(keras.layers.Flatten())\n",
        "model.add(keras.layers.Dropout(rate=drop_r))\n",
        "\n",
        "\n",
        "#Capas densas\n",
        "\n",
        "model.add(keras.layers.Dense(2048, activation='relu', kernel_regularizer=reg))\n",
        "model.add(keras.layers.Dropout(rate=drop_r))\n",
        "model.add(keras.layers.Dense(2048, activation='relu', kernel_regularizer=reg))\n",
        "model.add(keras.layers.Dropout(rate=drop_r))\n",
        "model.add(keras.layers.Dense(10, activation='softmax', kernel_regularizer=reg))\n",
        "\n",
        "model.summary()"
      ]
    },
    {
      "cell_type": "code",
      "execution_count": 19,
      "metadata": {
        "id": "_XfEtsR2dAcl"
      },
      "outputs": [],
      "source": [
        "class ClearMemory(tf.keras.callbacks.Callback):\n",
        "    def on_epoch_end(self, epoch, logs=None):\n",
        "        gc.collect()\n",
        "        tf.keras.backend.clear_session()\n",
        "\n",
        "def scheduler(epoch, lr):\n",
        "  if epoch==10 or epoch == 25 or epoch == 50 or epoch == 75:\n",
        "    return lr/3\n",
        "  else:\n",
        "    return lr\n",
        "\n",
        "\n",
        "callbacks_list=[\n",
        "    keras.callbacks.LearningRateScheduler(\n",
        "    scheduler, verbose=0\n",
        "    ),\n",
        "    ClearMemory(),\n",
        "    keras.callbacks.EarlyStopping(monitor='val_loss', mode='min', patience=5)\n",
        "]"
      ]
    },
    {
      "cell_type": "code",
      "execution_count": null,
      "metadata": {
        "id": "WajVR4FhdAcp"
      },
      "outputs": [],
      "source": [
        "opt = keras.optimizers.Adam(learning_rate=.0003)\n",
        "\n",
        "\n",
        "model.compile(optimizer=opt, loss='sparse_categorical_crossentropy',\n",
        "              metrics=['sparse_categorical_accuracy'])\n",
        "\n",
        "hist = model.fit(train_dataset, validation_data=(x_test, y_test), \n",
        "                 callbacks=callbacks_list, epochs=100, verbose=1)"
      ]
    }
  ],
  "metadata": {
    "accelerator": "GPU",
    "colab": {
      "collapsed_sections": [],
      "provenance": []
    },
    "kernelspec": {
      "display_name": "Python 3.9.12 ('base')",
      "language": "python",
      "name": "python3"
    },
    "language_info": {
      "codemirror_mode": {
        "name": "ipython",
        "version": 3
      },
      "file_extension": ".py",
      "mimetype": "text/x-python",
      "name": "python",
      "nbconvert_exporter": "python",
      "pygments_lexer": "ipython3",
      "version": "3.9.12"
    },
    "orig_nbformat": 4,
    "vscode": {
      "interpreter": {
        "hash": "b045fddb768a69d708aeb44bac4815a8765073d6505277d1278f194b80f63e22"
      }
    }
  },
  "nbformat": 4,
  "nbformat_minor": 0
}
