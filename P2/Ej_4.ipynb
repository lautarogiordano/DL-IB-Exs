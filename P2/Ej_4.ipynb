{
 "cells": [
  {
   "cell_type": "markdown",
   "metadata": {},
   "source": [
    "Ej. 4) Idem al problema anterior pero ahora que la función de costo sea Categorical Cross-Entropy.\\\n",
    "Esta función de costo puede verse, al igual que para el clasificador lineal SoftMax, como\\\n",
    "aplicar la función softmax seguido de la log-likelihood. Modificar el código anterior para\\\n",
    "que se pueda cambiar la métrica a utilizar (loss_mse o loss_softmax) y lo mismo para el\\\n",
    "cálculo del gradiente (grad_mse o grad_softmax). Analizar los resultados respecto a los\\\n",
    "clasificadores lineales SVM y Softamx como también con la resolución del punto anterior.\\\n",
    "Armar un gráfico aparte para mostrar la precisión de estos cuatro métodos todos juntos\\\n",
    "(sólo para los datos de testing)"
   ]
  },
  {
   "cell_type": "markdown",
   "metadata": {},
   "source": [
    "Ej. 5) Idem al problema anterior pero esta vez que las funciones de activación de la capa oculta\\\n",
    "sean ReLU y las de la capa de salida sean sigmoidal. Al igual que en los problemas anteriores\\\n",
    "armar el grafo, calcular los gradientes, graficar la evolución de la precisión (accuracy) y las\\\n",
    "funciones de costo (mse y categorical cross-entropy) para las distintas épocas tanto para los\\\n",
    "datos de validación como entrenamiento. Discuta que métrica es mejor y porque. Además\\\n",
    "analizar qué pasa si usamos una ReLU + activación lineal en la última capa. Explicar y\\\n",
    "fundamentar si usar una activación lineal en la última capa es mejor o no."
   ]
  },
  {
   "cell_type": "code",
   "execution_count": 2,
   "metadata": {},
   "outputs": [],
   "source": [
    "import numpy as np\n",
    "from scipy import linalg\n",
    "from scipy.special import expit\n",
    "from matplotlib import pyplot as plt\n",
    "from keras.datasets import cifar10"
   ]
  },
  {
   "cell_type": "code",
   "execution_count": 1,
   "metadata": {},
   "outputs": [],
   "source": [
    "names_dict = {0: 'airplane', 1: 'automobile', 2: 'bird', \n",
    "              3: 'cat', 4: 'deer', 5: 'dog', \n",
    "              6: 'frog', 7: 'horse', 8: 'ship', \n",
    "              9: 'truck'}"
   ]
  },
  {
   "cell_type": "code",
   "execution_count": 3,
   "metadata": {},
   "outputs": [],
   "source": [
    "def clean(X):\n",
    "        X_norm = X.reshape(len(X), X[0].size).astype(float)\n",
    "        X_norm -= np.mean(X)\n",
    "        X_norm /= np.std(X).astype(float)\n",
    "        return X_norm"
   ]
  },
  {
   "cell_type": "code",
   "execution_count": 4,
   "metadata": {},
   "outputs": [],
   "source": [
    "def sigmoid(z):\n",
    "    return expit(z)\n",
    "\n",
    "def sigprime(z):\n",
    "    return sigmoid(z)*(1-sigmoid(z))"
   ]
  },
  {
   "cell_type": "code",
   "execution_count": 5,
   "metadata": {},
   "outputs": [],
   "source": [
    "def accuracy(ypred, ytrue):\n",
    "    ypred_idx = np.argmax(ypred, axis=1)\n",
    "\n",
    "    return np.mean(ypred_idx==ytrue)"
   ]
  },
  {
   "cell_type": "code",
   "execution_count": 6,
   "metadata": {},
   "outputs": [],
   "source": [
    "def MSE(yb_pred, yb):\n",
    "    diff = np.copy(yb_pred)\n",
    "    m = yb_pred.shape[0]\n",
    "    idx = np.arange(0, m)\n",
    "    diff[idx, yb] -= 1\n",
    "\n",
    "    return (linalg.norm(diff)**2 / (2*m))\n",
    "\n",
    "def grad_MSE(yb_pred, yb):\n",
    "    diff = np.copy(yb_pred)\n",
    "    m = yb_pred.shape[0]\n",
    "    idx = np.arange(0, m)\n",
    "    diff[idx, yb] -= 1\n",
    "    \n",
    "    return diff/m"
   ]
  },
  {
   "cell_type": "markdown",
   "metadata": {},
   "source": [
    "![backprop](backprop.png)"
   ]
  },
  {
   "cell_type": "code",
   "execution_count": 12,
   "metadata": {},
   "outputs": [],
   "source": [
    "def fit(Xtrain, ytrain, Xtest, ytest, batch_size, metric='MSE', epochs=10, alpha=.001, lambda_= .001):\n",
    "    #Calculo tamaño del batch\n",
    "    #Inicializo variables etc\n",
    "    m = Xtrain.shape[0]\n",
    "    n = Xtrain.shape[1]\n",
    "    n_batches = int(m/batch_size)\n",
    "    grad_metric = \"grad_\"+metric\n",
    "\n",
    "    Xtrain = np.hstack((np.ones((m, 1)), Xtrain))\n",
    "    Xtest = np.hstack((np.ones((Xtest.shape[0], 1)), Xtest))\n",
    "\n",
    "    Xb = np.zeros((batch_size, n), dtype=float)\n",
    "    Xb = np.hstack((np.ones((batch_size, 1)), Xb))\n",
    "    yb = np.zeros((batch_size), dtype=float)\n",
    "    W1 = np.random.uniform(-1e-2, 1e-2, size=(n+1, 100))\n",
    "    W2 = np.random.uniform(-1e-2, 1e-2, size=(101, 10))\n",
    "\n",
    "    loss_train = []\n",
    "    acc_train = []\n",
    "    loss_test = []\n",
    "    acc_test = []\n",
    "\n",
    "    for epoch in range(epochs):\n",
    "        #Shuffle indice datos de training\n",
    "        shuffle = np.random.permutation(m)\n",
    "\n",
    "        Xtrain = Xtrain[shuffle]\n",
    "        ytrain = ytrain[shuffle]\n",
    "        loss=0\n",
    "        #Calculo terminos de regularizacion\n",
    "        L2 = linalg.norm(W1)**2 + linalg.norm(W2)**2\n",
    "\n",
    "        for batch in range(n_batches):\n",
    "            Xb = Xtrain[batch*batch_size : (batch+1)*batch_size, :]\n",
    "            yb = ytrain[batch*batch_size : (batch+1)*batch_size]\n",
    "            \n",
    "            #Forward todo mi batch\n",
    "            z1 = sigmoid(np.dot(Xb, W1))\n",
    "            z1 = np.hstack((np.ones((batch_size, 1)), z1))\n",
    "            yb_pred = np.dot(z1, W2)\n",
    "\n",
    "            #Calculo loss con la metrica elegida\n",
    "            loss += globals()[metric](yb_pred, yb) + (lambda_/2) * L2\n",
    "\n",
    "            #Calculo grads:\n",
    "            #grad de la funcion de loss\n",
    "            grad = globals()[grad_metric](yb_pred, yb)\n",
    "\n",
    "            #Layer 2\n",
    "            gradW2 = np.dot(z1.T, grad) #S1 tiene la columna de unos\n",
    "            grad = np.dot(grad, W2.T)\n",
    "            grad = grad[:, 1:]  \n",
    "\n",
    "            #Layer 1\n",
    "            grad_sig = sigprime(np.dot(Xb, W1))\n",
    "            grad = grad * grad_sig  #Producto elemento a elemento\n",
    "            gradW1 = np.dot(Xb.T, grad) #Xb incluye columna de 1s\n",
    "            \n",
    "            W1 -= alpha*(gradW1 + lambda_ * W1)\n",
    "            W2 -= alpha*(gradW2 + lambda_ * W2)\n",
    "        \n",
    "        #Calculo loss y accuracy\n",
    "        loss_train.append(loss/n_batches)\n",
    "        acc_train.append(accuracy(yb_pred, yb))\n",
    "        \n",
    "        z1t = sigmoid(np.dot(Xtest, W1))\n",
    "        z1t = np.hstack((np.ones((Xtest.shape[0], 1)), z1t))\n",
    "        ybt_pred = np.dot(z1t, W2)\n",
    "        loss_test.append(globals()[metric](ybt_pred, ytest) + (lambda_/2) * L2)\n",
    "        acc_test.append(accuracy(ybt_pred, ytest))\n",
    "        \n",
    "        if epoch%10 == 0:\n",
    "            print(\"Train loss of epoch {}: {:.6f}, Train accuracy: {:.2f}%\".format(epoch, loss_train[-1], 100*acc_train[-1]))\n",
    "    return loss_train, loss_test, acc_train, acc_test\n",
    "\n",
    "\n"
   ]
  },
  {
   "cell_type": "code",
   "execution_count": 13,
   "metadata": {},
   "outputs": [
    {
     "name": "stdout",
     "output_type": "stream",
     "text": [
      "Train: X=(50000, 3072), y=(50000,)\n",
      "Test: X=(10000, 3072), y=(10000,)\n"
     ]
    }
   ],
   "source": [
    "(Xtrain, ytrain), (Xtest, ytest) = cifar10.load_data()\n",
    "\n",
    "ytrain = ytrain[:,0]\n",
    "ytest = ytest[:,0]\n",
    "\n",
    "Xtrain = clean(Xtrain)\n",
    "Xtest = clean(Xtest)\n",
    "# summarize loaded dataset\n",
    "print('Train: X=%s, y=%s' % (Xtrain.shape, ytrain.shape))\n",
    "print('Test: X=%s, y=%s' % (Xtest.shape, ytest.shape))"
   ]
  },
  {
   "cell_type": "code",
   "execution_count": 14,
   "metadata": {},
   "outputs": [
    {
     "name": "stdout",
     "output_type": "stream",
     "text": [
      "Train loss of epoch 0: 0.513325, Train accuracy: 18.00%\n",
      "Train loss of epoch 10: 0.492046, Train accuracy: 24.00%\n",
      "Train loss of epoch 20: 0.483307, Train accuracy: 28.00%\n",
      "Train loss of epoch 30: 0.477000, Train accuracy: 34.00%\n",
      "Train loss of epoch 40: 0.472184, Train accuracy: 22.00%\n",
      "Train loss of epoch 50: 0.468410, Train accuracy: 24.00%\n",
      "Train loss of epoch 60: 0.465370, Train accuracy: 40.00%\n",
      "Train loss of epoch 70: 0.462810, Train accuracy: 38.00%\n",
      "Train loss of epoch 80: 0.460548, Train accuracy: 24.00%\n",
      "Train loss of epoch 90: 0.458501, Train accuracy: 28.00%\n",
      "Train loss of epoch 100: 0.456621, Train accuracy: 34.00%\n",
      "Train loss of epoch 110: 0.454877, Train accuracy: 30.00%\n",
      "Train loss of epoch 120: 0.453254, Train accuracy: 28.00%\n",
      "Train loss of epoch 130: 0.451723, Train accuracy: 28.00%\n",
      "Train loss of epoch 140: 0.450271, Train accuracy: 34.00%\n",
      "Train loss of epoch 150: 0.448881, Train accuracy: 32.00%\n",
      "Train loss of epoch 160: 0.447547, Train accuracy: 46.00%\n",
      "Train loss of epoch 170: 0.446263, Train accuracy: 48.00%\n",
      "Train loss of epoch 180: 0.445026, Train accuracy: 30.00%\n",
      "Train loss of epoch 190: 0.443830, Train accuracy: 28.00%\n",
      "Train loss of epoch 200: 0.442678, Train accuracy: 34.00%\n",
      "Train loss of epoch 210: 0.441562, Train accuracy: 40.00%\n",
      "Train loss of epoch 220: 0.440477, Train accuracy: 38.00%\n",
      "Train loss of epoch 230: 0.439433, Train accuracy: 34.00%\n",
      "Train loss of epoch 240: 0.438421, Train accuracy: 32.00%\n",
      "Train loss of epoch 250: 0.437442, Train accuracy: 28.00%\n",
      "Train loss of epoch 260: 0.436488, Train accuracy: 42.00%\n",
      "Train loss of epoch 270: 0.435571, Train accuracy: 44.00%\n",
      "Train loss of epoch 280: 0.434675, Train accuracy: 32.00%\n",
      "Train loss of epoch 290: 0.433811, Train accuracy: 44.00%\n"
     ]
    }
   ],
   "source": [
    "(loss_train, loss_test, acc_train, acc_test) = fit(Xtrain, ytrain, Xtest, ytest, batch_size=50, metric=\"MSE\", epochs=300, alpha=1e-4, lambda_=.01)"
   ]
  },
  {
   "cell_type": "code",
   "execution_count": 16,
   "metadata": {},
   "outputs": [
    {
     "data": {
      "text/plain": [
       "0.3751"
      ]
     },
     "execution_count": 16,
     "metadata": {},
     "output_type": "execute_result"
    },
    {
     "data": {
      "image/png": "[encoded data removed]",
      "text/plain": [
       "<Figure size 432x288 with 1 Axes>"
      ]
     },
     "metadata": {
      "needs_background": "light"
     },
     "output_type": "display_data"
    }
   ],
   "source": [
    "plt.plot(loss_train);\n",
    "#plt.plot(loss_test)\n",
    "acc_test[-1]"
   ]
  }
 ],
 "metadata": {
  "kernelspec": {
   "display_name": "Python 3.8.8 ('base')",
   "language": "python",
   "name": "python3"
  },
  "language_info": {
   "codemirror_mode": {
    "name": "ipython",
    "version": 3
   },
   "file_extension": ".py",
   "mimetype": "text/x-python",
   "name": "python",
   "nbconvert_exporter": "python",
   "pygments_lexer": "ipython3",
   "version": "3.8.8"
  },
  "orig_nbformat": 4,
  "vscode": {
   "interpreter": {
    "hash": "3159170d9fcce935f4a2f5b40d38978387b4f643b035d22b78e982df0db07ec7"
   }
  }
 },
 "nbformat": 4,
 "nbformat_minor": 2
}
