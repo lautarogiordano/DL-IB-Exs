{
 "cells": [
  {
   "cell_type": "markdown",
   "metadata": {},
   "source": [
    "Ej. 4) Idem al problema anterior pero ahora que la función de costo sea Categorical Cross-Entropy.\\\n",
    "Esta función de costo puede verse, al igual que para el clasificador lineal SoftMax, como\\\n",
    "aplicar la función softmax seguido de la log-likelihood. Modificar el código anterior para\\\n",
    "que se pueda cambiar la métrica a utilizar (loss_mse o loss_softmax) y lo mismo para el\\\n",
    "cálculo del gradiente (grad_mse o grad_softmax). Analizar los resultados respecto a los\\\n",
    "clasificadores lineales SVM y Softamx como también con la resolución del punto anterior.\\\n",
    "Armar un gráfico aparte para mostrar la precisión de estos cuatro métodos todos juntos\\\n",
    "(sólo para los datos de testing)"
   ]
  },
  {
   "cell_type": "markdown",
   "metadata": {},
   "source": [
    "Ej. 5) Idem al problema anterior pero esta vez que las funciones de activación de la capa oculta\\\n",
    "sean ReLU y las de la capa de salida sean sigmoidal. Al igual que en los problemas anteriores\\\n",
    "armar el grafo, calcular los gradientes, graficar la evolución de la precisión (accuracy) y las\\\n",
    "funciones de costo (mse y categorical cross-entropy) para las distintas épocas tanto para los\\\n",
    "datos de validación como entrenamiento. Discuta que métrica es mejor y porque. Además\\\n",
    "analizar qué pasa si usamos una ReLU + activación lineal en la última capa. Explicar y\\\n",
    "fundamentar si usar una activación lineal en la última capa es mejor o no."
   ]
  },
  {
   "cell_type": "code",
   "execution_count": 1,
   "metadata": {},
   "outputs": [],
   "source": [
    "import numpy as np\n",
    "from scipy import linalg\n",
    "from scipy.special import expit\n",
    "from matplotlib import pyplot as plt\n",
    "from keras.datasets import cifar10"
   ]
  },
  {
   "cell_type": "code",
   "execution_count": 2,
   "metadata": {},
   "outputs": [],
   "source": [
    "names_dict = {0: 'airplane', 1: 'automobile', 2: 'bird', \n",
    "              3: 'cat', 4: 'deer', 5: 'dog', \n",
    "              6: 'frog', 7: 'horse', 8: 'ship', \n",
    "              9: 'truck'}"
   ]
  },
  {
   "cell_type": "code",
   "execution_count": 3,
   "metadata": {},
   "outputs": [],
   "source": [
    "def clean(X):\n",
    "        X_norm = X.reshape(len(X), X[0].size).astype(float)\n",
    "        X_norm -= np.mean(X)\n",
    "        X_norm /= np.std(X).astype(float)\n",
    "        return X_norm"
   ]
  },
  {
   "cell_type": "code",
   "execution_count": 8,
   "metadata": {},
   "outputs": [],
   "source": [
    "def sigmoid(z):\n",
    "    return expit(z)\n",
    "\n",
    "def sigmoid_prime(z):\n",
    "    return sigmoid(z)*(1-sigmoid(z))\n",
    "\n",
    "def RELU(z):\n",
    "    return np.maximum(0, z)\n",
    "\n",
    "def RELU_prime(z):\n",
    "    return 1*(RELU(z).astype(bool))\n",
    "\n",
    "def lineal(z):\n",
    "    return z\n",
    "\n",
    "def lineal_prime(z):\n",
    "    return 1"
   ]
  },
  {
   "cell_type": "code",
   "execution_count": 5,
   "metadata": {},
   "outputs": [],
   "source": [
    "def softmax_fun(z):\n",
    "    C = np.max(z)\n",
    "    z -= C\n",
    "    return np.exp(z)/np.sum(np.exp(z), axis=0)\n",
    "\n",
    "def CCE(yb_pred, yb, delta=1):\n",
    "    \"\"\"Función de Categorical Cross Entropy\"\"\"\n",
    "    m = yb_pred.shape[0]\n",
    "    idx = np.arange(0, yb_pred.shape[0])\n",
    "    SM = softmax_fun(yb_pred)\n",
    "\n",
    "    cost = np.sum(-np.log(SM[idx, yb]))/m\n",
    "\n",
    "    return cost\n",
    "\n",
    "def grad_CCE(yb_pred, yb, delta=1):\n",
    "    m = yb_pred.shape[0]\n",
    "    idx = np.arange(m)\n",
    "    SM = softmax_fun(yb_pred)\n",
    "    SM[idx, yb] -= 1\n",
    "\n",
    "    return SM"
   ]
  },
  {
   "cell_type": "code",
   "execution_count": 6,
   "metadata": {},
   "outputs": [],
   "source": [
    "def accuracy(ypred, ytrue):\n",
    "    ypred_idx = np.argmax(ypred, axis=1)\n",
    "\n",
    "    return np.mean(ypred_idx==ytrue)"
   ]
  },
  {
   "cell_type": "code",
   "execution_count": 7,
   "metadata": {},
   "outputs": [],
   "source": [
    "def MSE(yb_pred, yb):\n",
    "    diff = np.copy(yb_pred)\n",
    "    m = yb_pred.shape[0]\n",
    "    idx = np.arange(0, m)\n",
    "    diff[idx, yb] -= 1\n",
    "\n",
    "    return (linalg.norm(diff)**2 / (2*m))\n",
    "\n",
    "def grad_MSE(yb_pred, yb):\n",
    "    diff = np.copy(yb_pred)\n",
    "    m = yb_pred.shape[0]\n",
    "    idx = np.arange(0, m)\n",
    "    diff[idx, yb] -= 1\n",
    "    \n",
    "    return diff/m"
   ]
  },
  {
   "cell_type": "markdown",
   "metadata": {},
   "source": [
    "![backprop](backprop.png)"
   ]
  },
  {
   "cell_type": "code",
   "execution_count": 10,
   "metadata": {},
   "outputs": [],
   "source": [
    "def fit(Xtrain, ytrain, Xtest, ytest, batch_size, metric=MSE, layer1=sigmoid, \n",
    "        layer2=lineal, epochs=10, alpha=.001, lambda_= .001):\n",
    "    \n",
    "    #Calculo tamaño del batch\n",
    "    #Inicializo variables etc\n",
    "    m = Xtrain.shape[0]\n",
    "    n = Xtrain.shape[1]\n",
    "    n_batches = int(m/batch_size)\n",
    "\n",
    "\n",
    "    grad_metric = \"grad_\"+str(metric.__name__)\n",
    "    layer1_prime = str(layer1.__name__)+\"_prime\"\n",
    "    layer2_prime = str(layer2.__name__)+\"_prime\"\n",
    "\n",
    "    Xtrain = np.hstack((np.ones((m, 1)), Xtrain))\n",
    "    Xtest = np.hstack((np.ones((Xtest.shape[0], 1)), Xtest))\n",
    "\n",
    "    Xb = np.zeros((batch_size, n), dtype=float)\n",
    "    Xb = np.hstack((np.ones((batch_size, 1)), Xb))\n",
    "    yb = np.zeros((batch_size), dtype=float)\n",
    "    W1 = np.random.uniform(-1e-2, 1e-2, size=(n+1, 100))\n",
    "    W2 = np.random.uniform(-1e-2, 1e-2, size=(101, 10))\n",
    "\n",
    "    loss_train = []\n",
    "    loss_test = []\n",
    "    acc_test = []\n",
    "\n",
    "    for epoch in range(epochs):\n",
    "        #Shuffle indice datos de training\n",
    "        shuffle = np.random.permutation(m)\n",
    "\n",
    "        Xtrain = Xtrain[shuffle]\n",
    "        ytrain = ytrain[shuffle]\n",
    "        loss=0\n",
    "        #Calculo terminos de regularizacion\n",
    "        L2 = linalg.norm(W1)**2 + linalg.norm(W2)**2\n",
    "\n",
    "        for batch in range(n_batches):\n",
    "            Xb = Xtrain[batch*batch_size : (batch+1)*batch_size, :]\n",
    "            yb = ytrain[batch*batch_size : (batch+1)*batch_size]\n",
    "            \n",
    "            #Forward todo mi batch\n",
    "            z1 = layer1(np.dot(Xb, W1))\n",
    "            z1 = np.hstack((np.ones((batch_size, 1)), z1))\n",
    "            z2 = np.dot(z1, W2)\n",
    "            yb_pred = layer2(z2)\n",
    "\n",
    "            #Calculo loss con la metrica elegida\n",
    "            loss += metric(yb_pred, yb) + (lambda_/2) * L2\n",
    "\n",
    "            #Calculo grads:\n",
    "            #grad de la funcion de loss\n",
    "            grad = globals()[grad_metric](yb_pred, yb)\n",
    "\n",
    "            #Layer 2\n",
    "            grad = grad * globals()[layer2_prime](z2)\n",
    "            gradW2 = np.dot(z1.T, grad) #S1 tiene la columna de unos\n",
    "            grad = np.dot(grad, W2.T)\n",
    "            grad = grad[:, 1:]  \n",
    "\n",
    "            #Layer 1\n",
    "            grad_sig = globals()[layer1_prime](np.dot(Xb, W1))\n",
    "            grad = grad * grad_sig  #Producto elemento a elemento\n",
    "            gradW1 = np.dot(Xb.T, grad) #Xb incluye columna de 1s\n",
    "            \n",
    "            W1 -= alpha*(gradW1 + lambda_ * W1)\n",
    "            W2 -= alpha*(gradW2 + lambda_ * W2)\n",
    "        \n",
    "        #Calculo loss y accuracy\n",
    "        loss_train.append(loss/n_batches)\n",
    "        \n",
    "        z1t = layer1(np.dot(Xtest, W1))\n",
    "        z1t = np.hstack((np.ones((Xtest.shape[0], 1)), z1t))\n",
    "        ybt_pred = layer2(np.dot(z1t, W2))\n",
    "        loss_test.append(globals()[metric](ybt_pred, ytest) + (lambda_/2) * L2)\n",
    "        acc_test.append(accuracy(ybt_pred, ytest))\n",
    "        \n",
    "        if epoch%10 == 0:\n",
    "            print(\"Train loss of epoch {}: {:.6f}, Test accuracy: {:.2f}%\".format(epoch, loss_train[-1], 100*acc_test[-1]))\n",
    "    return loss_train, loss_test, acc_test\n",
    "\n",
    "\n"
   ]
  },
  {
   "cell_type": "code",
   "execution_count": 11,
   "metadata": {},
   "outputs": [
    {
     "name": "stdout",
     "output_type": "stream",
     "text": [
      "Train: X=(50000, 3072), y=(50000,)\n",
      "Test: X=(10000, 3072), y=(10000,)\n"
     ]
    }
   ],
   "source": [
    "(Xtrain, ytrain), (Xtest, ytest) = cifar10.load_data()\n",
    "\n",
    "ytrain = ytrain[:,0]\n",
    "ytest = ytest[:,0]\n",
    "\n",
    "Xtrain = clean(Xtrain)\n",
    "Xtest = clean(Xtest)\n",
    "# summarize loaded dataset\n",
    "print('Train: X=%s, y=%s' % (Xtrain.shape, ytrain.shape))\n",
    "print('Test: X=%s, y=%s' % (Xtest.shape, ytest.shape))"
   ]
  },
  {
   "cell_type": "code",
   "execution_count": 12,
   "metadata": {},
   "outputs": [],
   "source": [
    "(loss_train_3, loss_test_3, acc_test_3) = fit(Xtrain, ytrain, Xtest, ytest, batch_size=50, \n",
    "                                              metric=MSE, layer1=sigmoid, layer2=lineal, \n",
    "                                              epochs=10, alpha=1e-3, lambda_=.01)"
   ]
  },
  {
   "cell_type": "code",
   "execution_count": 15,
   "metadata": {},
   "outputs": [
    {
     "data": {
      "text/plain": [
       "0.433"
      ]
     },
     "execution_count": 15,
     "metadata": {},
     "output_type": "execute_result"
    },
    {
     "data": {
      "image/png": "[encoded data removed]",
      "text/plain": [
       "<Figure size 432x288 with 1 Axes>"
      ]
     },
     "metadata": {
      "needs_background": "light"
     },
     "output_type": "display_data"
    }
   ],
   "source": [
    "plt.plot(loss_train_3);\n",
    "plt.plot(loss_train_3)\n",
    "acc_test_3[-1]"
   ]
  },
  {
   "cell_type": "code",
   "execution_count": 17,
   "metadata": {},
   "outputs": [
    {
     "data": {
      "text/plain": [
       "[<matplotlib.lines.Line2D at 0x7f4fea1d1be0>]"
      ]
     },
     "execution_count": 17,
     "metadata": {},
     "output_type": "execute_result"
    },
    {
     "data": {
      "image/png": "[encoded data removed]",
      "text/plain": [
       "<Figure size 432x288 with 1 Axes>"
      ]
     },
     "metadata": {
      "needs_background": "light"
     },
     "output_type": "display_data"
    }
   ],
   "source": [
    "plt.plot(acc_test_3)"
   ]
  }
 ],
 "metadata": {
  "kernelspec": {
   "display_name": "Python 3.9.12 ('base')",
   "language": "python",
   "name": "python3"
  },
  "language_info": {
   "codemirror_mode": {
    "name": "ipython",
    "version": 3
   },
   "file_extension": ".py",
   "mimetype": "text/x-python",
   "name": "python",
   "nbconvert_exporter": "python",
   "pygments_lexer": "ipython3",
   "version": "3.9.12"
  },
  "orig_nbformat": 4,
  "vscode": {
   "interpreter": {
    "hash": "b045fddb768a69d708aeb44bac4815a8765073d6505277d1278f194b80f63e22"
   }
  }
 },
 "nbformat": 4,
 "nbformat_minor": 2
}
