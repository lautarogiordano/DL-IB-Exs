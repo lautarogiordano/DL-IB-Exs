{
 "cells": [
  {
   "cell_type": "code",
   "execution_count": 1,
   "metadata": {},
   "outputs": [],
   "source": [
    "import numpy as np\n",
    "from matplotlib import pyplot as plt\n",
    "from my_keras import *\n",
    "from keras.datasets import cifar10"
   ]
  },
  {
   "cell_type": "code",
   "execution_count": 3,
   "metadata": {},
   "outputs": [
    {
     "name": "stdout",
     "output_type": "stream",
     "text": [
      "Train: X=(50000, 32, 32, 3), y=(50000, 1)\n",
      "Test: X=(10000, 32, 32, 3), y=(10000, 1)\n"
     ]
    }
   ],
   "source": [
    "names_dict = {0: 'airplane', 1: 'automobile', 2: 'bird', \n",
    "              3: 'cat', 4: 'deer', 5: 'dog', \n",
    "              6: 'frog', 7: 'horse', 8: 'ship', \n",
    "              9: 'truck'}\n",
    "              \n",
    "(Xtrain, ytrain), (Xtest, ytest) = cifar10.load_data()\n",
    "\n",
    "\n",
    "# summarize loaded dataset\n",
    "print('Train: X=%s, y=%s' % (Xtrain.shape, ytrain.shape))\n",
    "print('Test: X=%s, y=%s' % (Xtest.shape, ytest.shape))"
   ]
  },
  {
   "cell_type": "code",
   "execution_count": 4,
   "metadata": {},
   "outputs": [],
   "source": [
    "def process(X):\n",
    "    X_norm = X.reshape(len(X), X[0].size).astype(float)\n",
    "    X_norm -= np.mean(X)\n",
    "    X_norm /= np.std(X).astype(float)\n",
    "    X_norm = np.hstack((np.ones((X_norm.shape[0], 1)), X_norm))\n",
    "    return X_norm"
   ]
  },
  {
   "cell_type": "code",
   "execution_count": 5,
   "metadata": {},
   "outputs": [
    {
     "name": "stdout",
     "output_type": "stream",
     "text": [
      "(50000, 3073)\n"
     ]
    }
   ],
   "source": [
    "Xtrain_n = process(Xtrain)\n",
    "Xtest_n = process(Xtest)\n",
    "\n",
    "testdata = [Xtest_n, ytest]\n",
    "\n",
    "print(Xtrain_n.shape)"
   ]
  },
  {
   "cell_type": "code",
   "execution_count": 6,
   "metadata": {},
   "outputs": [
    {
     "name": "stdout",
     "output_type": "stream",
     "text": [
      "Layer 0: <class 'my_keras.layers.Input'>, neurons: 3073\n",
      "Layer 1: <class 'my_keras.layers.Dense'>, neurons: 100\n",
      "Layer 2: <class 'my_keras.layers.Dense'>, neurons: 100\n",
      "Layer 3: <class 'my_keras.layers.LastLayer'>, neurons: 10\n"
     ]
    }
   ],
   "source": [
    "reg1 = regularizers.L2(lambda_=.01)\n",
    "reg2 = regularizers.L2(lambda_=.01)\n",
    "reg3 = regularizers.L2(lambda_=.01)\n",
    "\n",
    "model = models.Network()\n",
    "\n",
    "model.add(layers.Input(Xtrain_n.shape[1], reg=reg1), scale=.01)\n",
    "model.add(layers.Dense(100, activation=activations.sigmoid(), reg=reg2), scale=.01)\n",
    "model.add(layers.Dense(100, activation=activations.sigmoid(),reg=reg3), scale=.01)\n",
    "model.add(layers.LastLayer(10, activation=activations.linear()))\n",
    "model.printLayers()"
   ]
  },
  {
   "cell_type": "code",
   "execution_count": 8,
   "metadata": {},
   "outputs": [
    {
     "ename": "KeyboardInterrupt",
     "evalue": "",
     "output_type": "error",
     "traceback": [
      "\u001b[1;31m---------------------------------------------------------------------------\u001b[0m",
      "\u001b[1;31mKeyboardInterrupt\u001b[0m                         Traceback (most recent call last)",
      "\u001b[1;32mc:\\Users\\Lautaro\\Desktop\\Lautaro\\asd\\2021\\Doctorado\\Materias\\Deep Learning (2020)\\Practicas\\Mias\\P2\\Ej_8.ipynb Celda 6\u001b[0m in \u001b[0;36m<cell line: 1>\u001b[1;34m()\u001b[0m\n\u001b[1;32m----> <a href='vscode-notebook-cell:/c%3A/Users/Lautaro/Desktop/Lautaro/asd/2021/Doctorado/Materias/Deep%20Learning%20%282020%29/Practicas/Mias/P2/Ej_8.ipynb#W5sZmlsZQ%3D%3D?line=0'>1</a>\u001b[0m model\u001b[39m.\u001b[39;49mfit(Xtrain_n, ytrain, loss\u001b[39m=\u001b[39;49mlosses\u001b[39m.\u001b[39;49mMSE_XOR(), opt\u001b[39m=\u001b[39;49moptimizers\u001b[39m.\u001b[39;49mSGD(alpha\u001b[39m=\u001b[39;49m\u001b[39m.05\u001b[39;49m), testdata\u001b[39m=\u001b[39;49mtestdata,\n\u001b[0;32m      <a href='vscode-notebook-cell:/c%3A/Users/Lautaro/Desktop/Lautaro/asd/2021/Doctorado/Materias/Deep%20Learning%20%282020%29/Practicas/Mias/P2/Ej_8.ipynb#W5sZmlsZQ%3D%3D?line=1'>2</a>\u001b[0m           epochs\u001b[39m=\u001b[39;49m\u001b[39m10\u001b[39;49m, batch_size\u001b[39m=\u001b[39;49m\u001b[39m100\u001b[39;49m)\n",
      "File \u001b[1;32mc:\\Users\\Lautaro\\Desktop\\Lautaro\\asd\\2021\\Doctorado\\Materias\\Deep Learning (2020)\\Practicas\\Mias\\P2\\my_keras\\models.py:94\u001b[0m, in \u001b[0;36mNetwork.fit\u001b[1;34m(self, X, y, loss, opt, testdata, epochs, batch_size)\u001b[0m\n\u001b[0;32m     91\u001b[0m loss_hist \u001b[39m=\u001b[39m []\n\u001b[0;32m     93\u001b[0m \u001b[39mfor\u001b[39;00m epoch \u001b[39min\u001b[39;00m \u001b[39mrange\u001b[39m(epochs):\n\u001b[1;32m---> 94\u001b[0m     loss_hist\u001b[39m.\u001b[39mappend(\u001b[39mself\u001b[39;49m\u001b[39m.\u001b[39;49mopt(X, y, \u001b[39mself\u001b[39;49m, loss, batch_size))\n\u001b[0;32m     95\u001b[0m     \u001b[39mif\u001b[39;00m epochs \u001b[39m>\u001b[39m \u001b[39m10\u001b[39m \u001b[39mand\u001b[39;00m epoch \u001b[39m%\u001b[39m \u001b[39mint\u001b[39m(epochs\u001b[39m/\u001b[39m\u001b[39m10\u001b[39m) \u001b[39m==\u001b[39m \u001b[39m0\u001b[39m:\n\u001b[0;32m     96\u001b[0m         \u001b[39mif\u001b[39;00m testdata \u001b[39mis\u001b[39;00m \u001b[39mnot\u001b[39;00m \u001b[39mNone\u001b[39;00m:\n",
      "File \u001b[1;32mc:\\Users\\Lautaro\\Desktop\\Lautaro\\asd\\2021\\Doctorado\\Materias\\Deep Learning (2020)\\Practicas\\Mias\\P2\\my_keras\\optimizers.py:25\u001b[0m, in \u001b[0;36mSGD.__call__\u001b[1;34m(self, X, y, model, loss, batch_size)\u001b[0m\n\u001b[0;32m     23\u001b[0m n_batches \u001b[39m=\u001b[39m \u001b[39mint\u001b[39m(m\u001b[39m/\u001b[39mbatch_size)\n\u001b[0;32m     24\u001b[0m shuffle \u001b[39m=\u001b[39m np\u001b[39m.\u001b[39mrandom\u001b[39m.\u001b[39mpermutation(m)\n\u001b[1;32m---> 25\u001b[0m X \u001b[39m=\u001b[39m X[shuffle]\n\u001b[0;32m     26\u001b[0m y \u001b[39m=\u001b[39m y[shuffle]\n\u001b[0;32m     28\u001b[0m loss_epoch \u001b[39m=\u001b[39m \u001b[39m0\u001b[39m\n",
      "\u001b[1;31mKeyboardInterrupt\u001b[0m: "
     ]
    }
   ],
   "source": [
    "model.fit(Xtrain_n, ytrain, loss=losses.MSE_XOR(), opt=optimizers.SGD(alpha=.05), testdata=testdata,\n",
    "          epochs=10, batch_size=100)"
   ]
  }
 ],
 "metadata": {
  "kernelspec": {
   "display_name": "Python 3.9.12 ('base')",
   "language": "python",
   "name": "python3"
  },
  "language_info": {
   "codemirror_mode": {
    "name": "ipython",
    "version": 3
   },
   "file_extension": ".py",
   "mimetype": "text/x-python",
   "name": "python",
   "nbconvert_exporter": "python",
   "pygments_lexer": "ipython3",
   "version": "3.9.12"
  },
  "orig_nbformat": 4,
  "vscode": {
   "interpreter": {
    "hash": "b045fddb768a69d708aeb44bac4815a8765073d6505277d1278f194b80f63e22"
   }
  }
 },
 "nbformat": 4,
 "nbformat_minor": 2
}
