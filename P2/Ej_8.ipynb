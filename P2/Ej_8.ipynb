{
 "cells": [
  {
   "cell_type": "code",
   "execution_count": 1,
   "metadata": {},
   "outputs": [],
   "source": [
    "import numpy as np\n",
    "from matplotlib import pyplot as plt\n",
    "from my_keras import *\n",
    "from keras.datasets import cifar10"
   ]
  },
  {
   "cell_type": "code",
   "execution_count": 2,
   "metadata": {},
   "outputs": [
    {
     "name": "stdout",
     "output_type": "stream",
     "text": [
      "Train: X=(50000, 32, 32, 3), y=(50000, 1)\n",
      "Test: X=(10000, 32, 32, 3), y=(10000, 1)\n"
     ]
    }
   ],
   "source": [
    "names_dict = {0: 'airplane', 1: 'automobile', 2: 'bird', \n",
    "              3: 'cat', 4: 'deer', 5: 'dog', \n",
    "              6: 'frog', 7: 'horse', 8: 'ship', \n",
    "              9: 'truck'}\n",
    "              \n",
    "(Xtrain, ytrain), (Xtest, ytest) = cifar10.load_data()\n",
    "\n",
    "\n",
    "# summarize loaded dataset\n",
    "print('Train: X=%s, y=%s' % (Xtrain.shape, ytrain.shape))\n",
    "print('Test: X=%s, y=%s' % (Xtest.shape, ytest.shape))"
   ]
  },
  {
   "cell_type": "code",
   "execution_count": 3,
   "metadata": {},
   "outputs": [],
   "source": [
    "def process(X):\n",
    "    X_norm = X.reshape(len(X), X[0].size).astype(float)\n",
    "    X_norm -= np.mean(X)\n",
    "    X_norm /= np.std(X).astype(float)\n",
    "    X_norm = np.hstack((np.ones((X_norm.shape[0], 1)), X_norm)).astype(float)\n",
    "    return X_norm"
   ]
  },
  {
   "cell_type": "code",
   "execution_count": 4,
   "metadata": {},
   "outputs": [
    {
     "ename": "",
     "evalue": "",
     "output_type": "error",
     "traceback": [
      "\u001b[1;31mCanceled future for execute_request message before replies were done"
     ]
    },
    {
     "ename": "",
     "evalue": "",
     "output_type": "error",
     "traceback": [
      "The Kernel crashed while executing code in the the current cell or a previous cell. Please review the code in the cell(s) to identify a possible cause of the failure. Click <a href='https://aka.ms/vscodeJupyterKernelCrash'>here</a> for more info. View Jupyter <a href='command:jupyter.viewOutput'>log</a> for further details."
     ]
    }
   ],
   "source": [
    "Xtrain_n = process(Xtrain)"
   ]
  },
  {
   "cell_type": "code",
   "execution_count": 4,
   "metadata": {},
   "outputs": [
    {
     "ename": "",
     "evalue": "",
     "output_type": "error",
     "traceback": [
      "\u001b[1;31mCanceled future for execute_request message before replies were done"
     ]
    },
    {
     "ename": "",
     "evalue": "",
     "output_type": "error",
     "traceback": [
      "The Kernel crashed while executing code in the the current cell or a previous cell. Please review the code in the cell(s) to identify a possible cause of the failure. Click <a href='https://aka.ms/vscodeJupyterKernelCrash'>here</a> for more info. View Jupyter <a href='command:jupyter.viewOutput'>log</a> for further details."
     ]
    }
   ],
   "source": [
    "\n",
    "Xtest_n = process(Xtest)\n",
    "\n",
    "testdata = [Xtest_n, ytest]\n",
    "\n",
    "print(Xtrain_n.shape, ytrain.shape)"
   ]
  },
  {
   "cell_type": "code",
   "execution_count": null,
   "metadata": {},
   "outputs": [
    {
     "name": "stdout",
     "output_type": "stream",
     "text": [
      "Layer 0: <class 'my_keras.layers.Input'>, neurons: 3073\n",
      "Layer 1: <class 'my_keras.layers.Dense'>, neurons: 100\n",
      "Layer 2: <class 'my_keras.layers.Dense'>, neurons: 100\n",
      "Layer 3: <class 'my_keras.layers.LastLayer'>, neurons: 10\n"
     ]
    }
   ],
   "source": [
    "reg1 = regularizers.L2(lambda_=0.01)\n",
    "reg2 = regularizers.L2(lambda_=0.01)\n",
    "reg3 = regularizers.L2(lambda_=0.01)\n",
    "\n",
    "model = models.Network()\n",
    "\n",
    "model.add(layers.Input(Xtrain_n.shape[1], reg=reg1), scale=.01)\n",
    "model.add(layers.Dense(100, activation=activations.RELU(), reg=reg2), scale=.01)\n",
    "model.add(layers.Dense(100, activation=activations.RELU(),reg=reg3), scale=.01)\n",
    "model.add(layers.LastLayer(10, activation=activations.linear()))\n",
    "model.printLayers()"
   ]
  },
  {
   "cell_type": "code",
   "execution_count": null,
   "metadata": {},
   "outputs": [
    {
     "name": "stdout",
     "output_type": "stream",
     "text": [
      "Epoch 0, Train loss: 0.5006\n",
      " Accuracy test: 14.77\n",
      "Epoch 5, Train loss: 0.4228\n",
      " Accuracy test: 34.34\n",
      "Epoch 10, Train loss: 0.3892\n",
      " Accuracy test: 41.20\n",
      "Epoch 15, Train loss: 0.3745\n",
      " Accuracy test: 45.12\n",
      "Epoch 20, Train loss: 0.3660\n",
      " Accuracy test: 47.86\n",
      "Epoch 25, Train loss: 0.3605\n",
      " Accuracy test: 49.41\n",
      "Epoch 30, Train loss: 0.3571\n",
      " Accuracy test: 50.20\n",
      "Epoch 35, Train loss: 0.3551\n",
      " Accuracy test: 50.30\n",
      "Epoch 40, Train loss: 0.3536\n",
      " Accuracy test: 50.99\n",
      "Epoch 45, Train loss: 0.3525\n",
      " Accuracy test: 51.15\n"
     ]
    }
   ],
   "source": [
    "loss_hist = model.fit(Xtrain_n, ytrain, loss=losses.MSE_img(), opt=optimizers.SGD(alpha=.01), \n",
    "                      metric=metrics.acc_img, testdata=testdata, epochs=20, batch_size=50)"
   ]
  },
  {
   "cell_type": "code",
   "execution_count": 7,
   "metadata": {},
   "outputs": [
    {
     "name": "stdout",
     "output_type": "stream",
     "text": [
      "56.538 51.629999999999995\n"
     ]
    },
    {
     "data": {
      "image/png": "[encoded data removed]",
      "text/plain": [
       "<Figure size 432x288 with 1 Axes>"
      ]
     },
     "metadata": {
      "needs_background": "light"
     },
     "output_type": "display_data"
    }
   ],
   "source": [
    "plt.plot(loss_hist)\n",
    "print(100*metrics.acc_img(model.predict(Xtrain_n), ytrain), \n",
    "      100*metrics.acc_img(model.predict(Xtest_n), ytest))\n"
   ]
  }
 ],
 "metadata": {
  "kernelspec": {
   "display_name": "Python 3.8.8 ('base')",
   "language": "python",
   "name": "python3"
  },
  "language_info": {
   "codemirror_mode": {
    "name": "ipython",
    "version": 3
   },
   "file_extension": ".py",
   "mimetype": "text/x-python",
   "name": "python",
   "nbconvert_exporter": "python",
   "pygments_lexer": "ipython3",
   "version": "3.8.8"
  },
  "orig_nbformat": 4,
  "vscode": {
   "interpreter": {
    "hash": "3159170d9fcce935f4a2f5b40d38978387b4f643b035d22b78e982df0db07ec7"
   }
  }
 },
 "nbformat": 4,
 "nbformat_minor": 2
}
