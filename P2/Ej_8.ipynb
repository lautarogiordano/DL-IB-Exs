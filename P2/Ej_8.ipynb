{
 "cells": [
  {
   "cell_type": "code",
   "execution_count": 1,
   "metadata": {},
   "outputs": [],
   "source": [
    "import numpy as np\n",
    "from matplotlib import pyplot as plt\n",
    "from my_keras import *\n",
    "from keras.datasets import cifar10"
   ]
  },
  {
   "cell_type": "code",
   "execution_count": 2,
   "metadata": {},
   "outputs": [
    {
     "name": "stdout",
     "output_type": "stream",
     "text": [
      "Train: X=(50000, 32, 32, 3), y=(50000, 1)\n",
      "Test: X=(10000, 32, 32, 3), y=(10000, 1)\n"
     ]
    }
   ],
   "source": [
    "names_dict = {0: 'airplane', 1: 'automobile', 2: 'bird', \n",
    "              3: 'cat', 4: 'deer', 5: 'dog', \n",
    "              6: 'frog', 7: 'horse', 8: 'ship', \n",
    "              9: 'truck'}\n",
    "              \n",
    "(Xtrain, ytrain), (Xtest, ytest) = cifar10.load_data()\n",
    "\n",
    "\n",
    "# summarize loaded dataset\n",
    "print('Train: X=%s, y=%s' % (Xtrain.shape, ytrain.shape))\n",
    "print('Test: X=%s, y=%s' % (Xtest.shape, ytest.shape))"
   ]
  },
  {
   "cell_type": "code",
   "execution_count": 3,
   "metadata": {},
   "outputs": [],
   "source": [
    "def process(X):\n",
    "    X_norm = X.reshape(len(X), X[0].size).astype(float)\n",
    "    X_norm -= np.mean(X)\n",
    "    X_norm /= np.std(X).astype(float)\n",
    "    X_norm = np.hstack((np.ones((X_norm.shape[0], 1)), X_norm)).astype(float)\n",
    "    return X_norm"
   ]
  },
  {
   "cell_type": "code",
   "execution_count": 4,
   "metadata": {},
   "outputs": [
    {
     "name": "stdout",
     "output_type": "stream",
     "text": [
      "(50000, 3073) (50000, 1)\n"
     ]
    }
   ],
   "source": [
    "Xtrain_n = process(Xtrain)\n",
    "Xtest_n = process(Xtest)\n",
    "\n",
    "testdata = [Xtest_n, ytest]\n",
    "\n",
    "print(Xtrain_n.shape, ytrain.shape)"
   ]
  },
  {
   "cell_type": "code",
   "execution_count": 7,
   "metadata": {},
   "outputs": [
    {
     "name": "stdout",
     "output_type": "stream",
     "text": [
      "Layer 0: <class 'my_keras.layers.Input'>, neurons: 3073\n",
      "Layer 1: <class 'my_keras.layers.Dense'>, neurons: 100\n",
      "Layer 2: <class 'my_keras.layers.Dense'>, neurons: 100\n",
      "Layer 3: <class 'my_keras.layers.LastLayer'>, neurons: 10\n"
     ]
    }
   ],
   "source": [
    "reg1 = regularizers.L2(lambda_=0.01)\n",
    "reg2 = regularizers.L2(lambda_=0.01)\n",
    "reg3 = regularizers.L2(lambda_=0.01)\n",
    "\n",
    "model = models.Network()\n",
    "\n",
    "model.add(layers.Input(Xtrain_n.shape[1], reg=reg1), scale=.01)\n",
    "model.add(layers.Dense(100, activation=activations.sigmoid(), reg=reg2), scale=.01)\n",
    "model.add(layers.Dense(100, activation=activations.sigmoid(),reg=reg3), scale=.01)\n",
    "model.add(layers.LastLayer(10, activation=activations.linear()))\n",
    "model.printLayers()"
   ]
  },
  {
   "cell_type": "code",
   "execution_count": 25,
   "metadata": {},
   "outputs": [
    {
     "data": {
      "text/plain": [
       "-1170.3779277987928"
      ]
     },
     "execution_count": 25,
     "metadata": {},
     "output_type": "execute_result"
    }
   ],
   "source": [
    "model.forward(Xtrain_n[0:1])\n",
    "pred = model.layers[2].S[0:1]\n",
    "los = losses.MSE_img()\n",
    "los(pred, ytrain[0:1])\n",
    "#los.gradient(pred, ytrain[0])\n"
   ]
  },
  {
   "cell_type": "code",
   "execution_count": 8,
   "metadata": {},
   "outputs": [
    {
     "name": "stdout",
     "output_type": "stream",
     "text": [
      "Epoch 0, Train loss: 0.5035\n",
      " Accuracy test: 10.00\n",
      "Epoch 5, Train loss: 0.4977\n",
      " Accuracy test: 10.00\n",
      "Epoch 10, Train loss: 0.4931\n",
      " Accuracy test: 10.00\n",
      "Epoch 15, Train loss: 0.4891\n",
      " Accuracy test: 10.00\n",
      "Epoch 20, Train loss: 0.4853\n",
      " Accuracy test: 10.00\n",
      "Epoch 25, Train loss: 0.4820\n",
      " Accuracy test: 10.00\n",
      "Epoch 30, Train loss: 0.4790\n",
      " Accuracy test: 10.00\n",
      "Epoch 35, Train loss: 0.4762\n",
      " Accuracy test: 10.00\n",
      "Epoch 40, Train loss: 0.4737\n",
      " Accuracy test: 10.00\n",
      "Epoch 45, Train loss: 0.4715\n",
      " Accuracy test: 10.00\n"
     ]
    }
   ],
   "source": [
    "loss_hist = model.fit(Xtrain_n, ytrain, loss=losses.MSE_img(), opt=optimizers.SGD(alpha=.001), \n",
    "                      metric=metrics.acc_img, testdata=testdata, epochs=50, batch_size=50)"
   ]
  },
  {
   "cell_type": "code",
   "execution_count": 10,
   "metadata": {},
   "outputs": [
    {
     "data": {
      "text/plain": [
       "array([[0.09493331, 0.09785845, 0.10150243, 0.09699781, 0.1007738 ,\n",
       "        0.10294714, 0.10380126, 0.09823913, 0.09210241, 0.11043389],\n",
       "       [0.09510128, 0.09788072, 0.10146531, 0.09691803, 0.10066661,\n",
       "        0.10287184, 0.10368733, 0.09820423, 0.09226648, 0.11052942],\n",
       "       [0.09523295, 0.0978982 , 0.10142768, 0.09684966, 0.10057506,\n",
       "        0.10270891, 0.10358419, 0.09825093, 0.09247303, 0.11071541],\n",
       "       [0.09490212, 0.09787126, 0.10150977, 0.09701807, 0.1007863 ,\n",
       "        0.10294082, 0.10381746, 0.09823349, 0.09207687, 0.11041651],\n",
       "       [0.09507587, 0.09786249, 0.10146568, 0.09692877, 0.10066808,\n",
       "        0.10283344, 0.1036879 , 0.09825298, 0.09224991, 0.11058993],\n",
       "       [0.09493959, 0.09786426, 0.10148174, 0.09694881, 0.10072418,\n",
       "        0.10285949, 0.10376375, 0.09825296, 0.09213802, 0.11048878],\n",
       "       [0.09503125, 0.09787834, 0.10151872, 0.09694522, 0.10073091,\n",
       "        0.10286754, 0.1037432 , 0.09823472, 0.09217962, 0.11047038],\n",
       "       [0.09500826, 0.09784347, 0.10146425, 0.09696047, 0.10071944,\n",
       "        0.10291481, 0.10374893, 0.09827076, 0.09215759, 0.11046177],\n",
       "       [0.09519825, 0.09787098, 0.10144456, 0.09690582, 0.10061539,\n",
       "        0.10284874, 0.10364594, 0.09821194, 0.09236584, 0.11058414],\n",
       "       [0.09499388, 0.09789247, 0.10147981, 0.09695272, 0.10072919,\n",
       "        0.10283801, 0.1037522 , 0.0982929 , 0.09215678, 0.11056453]])"
      ]
     },
     "execution_count": 10,
     "metadata": {},
     "output_type": "execute_result"
    }
   ],
   "source": [
    "model.predict(Xtrain_n[0:10])"
   ]
  },
  {
   "cell_type": "code",
   "execution_count": 9,
   "metadata": {},
   "outputs": [
    {
     "name": "stdout",
     "output_type": "stream",
     "text": [
      "10.0 10.0\n"
     ]
    },
    {
     "data": {
      "image/png": "[encoded data removed]",
      "text/plain": [
       "<Figure size 432x288 with 1 Axes>"
      ]
     },
     "metadata": {
      "needs_background": "light"
     },
     "output_type": "display_data"
    }
   ],
   "source": [
    "plt.plot(loss_hist)\n",
    "print(100*metrics.acc_img(model.predict(Xtrain_n), ytrain), \n",
    "      100*metrics.acc_img(model.predict(Xtest_n), ytest))\n"
   ]
  },
  {
   "cell_type": "code",
   "execution_count": null,
   "metadata": {},
   "outputs": [],
   "source": []
  }
 ],
 "metadata": {
  "kernelspec": {
   "display_name": "Python 3.9.12 ('base')",
   "language": "python",
   "name": "python3"
  },
  "language_info": {
   "codemirror_mode": {
    "name": "ipython",
    "version": 3
   },
   "file_extension": ".py",
   "mimetype": "text/x-python",
   "name": "python",
   "nbconvert_exporter": "python",
   "pygments_lexer": "ipython3",
   "version": "3.9.12"
  },
  "orig_nbformat": 4,
  "vscode": {
   "interpreter": {
    "hash": "b045fddb768a69d708aeb44bac4815a8765073d6505277d1278f194b80f63e22"
   }
  }
 },
 "nbformat": 4,
 "nbformat_minor": 2
}
