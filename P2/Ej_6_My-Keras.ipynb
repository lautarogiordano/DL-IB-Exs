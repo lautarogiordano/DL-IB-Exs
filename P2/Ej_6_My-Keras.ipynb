{
 "cells": [
  {
   "cell_type": "code",
   "execution_count": 2,
   "metadata": {},
   "outputs": [],
   "source": [
    "import numpy as np\n",
    "from matplotlib import pyplot as plt\n",
    "from my_keras import activations, models, losses, metrics, regularizers, layers, optimizers"
   ]
  },
  {
   "cell_type": "code",
   "execution_count": 3,
   "metadata": {},
   "outputs": [
    {
     "name": "stdout",
     "output_type": "stream",
     "text": [
      "(4, 3) (4, 1)\n"
     ]
    }
   ],
   "source": [
    "X_train = np.array([[-1, -1],\n",
    "                    [-1, 1],\n",
    "                    [1, -1],\n",
    "                    [1, 1]], dtype=float)\n",
    "\n",
    "y_train = np.array([[-1], [1], [1], [-1]], dtype=float)\n",
    "\n",
    "X_train = np.hstack((np.ones((X_train.shape[0], 1)), X_train))\n",
    "\n",
    "n_features = X_train.shape[1]\n",
    "\n",
    "print(X_train.shape, y_train.shape)"
   ]
  },
  {
   "cell_type": "markdown",
   "metadata": {},
   "source": [
    "Arquitectua 1\\\n",
    "![circuito 1](img/61.png)"
   ]
  },
  {
   "cell_type": "code",
   "execution_count": 3,
   "metadata": {},
   "outputs": [],
   "source": [
    "model = models.Network()\n",
    "\n",
    "reg = regularizers.L2(lambda_=0) "
   ]
  },
  {
   "cell_type": "code",
   "execution_count": 4,
   "metadata": {},
   "outputs": [
    {
     "name": "stdout",
     "output_type": "stream",
     "text": [
      "Layer 0: <class 'my_keras.layers.Input'>\n",
      "Layer 1: <class 'my_keras.layers.Dense'>\n",
      "Layer 2: <class 'my_keras.layers.LastLayer'>\n"
     ]
    }
   ],
   "source": [
    "model.add(layers.Input(n_features, reg=reg))\n",
    "model.add(layers.Dense(2, activation=activations.tanh(), reg=reg), scale=1)\n",
    "model.add(layers.LastLayer(1, activation=activations.tanh()), scale=1)\n",
    "model.printLayers()"
   ]
  },
  {
   "cell_type": "code",
   "execution_count": 5,
   "metadata": {},
   "outputs": [
    {
     "name": "stdout",
     "output_type": "stream",
     "text": [
      "Epoch: 0, Train loss: 0.6173076785000271\n",
      "Epoch: 5000, Train loss: 0.3706719807556353\n",
      "Epoch: 10000, Train loss: 0.5019790845666735\n",
      "Epoch: 15000, Train loss: 0.0013297875860519847\n",
      "Epoch: 20000, Train loss: 0.00030076535255825574\n",
      "Epoch: 25000, Train loss: 0.00016990525457977862\n",
      "Epoch: 30000, Train loss: 0.00011832422990425606\n",
      "Epoch: 35000, Train loss: 9.077079341454163e-05\n",
      "Epoch: 40000, Train loss: 7.364499504483421e-05\n",
      "Epoch: 45000, Train loss: 6.197577474890219e-05\n"
     ]
    }
   ],
   "source": [
    "model.fit(X_train, y_train, loss=losses.MSE_XOR(), \n",
    "          opt=optimizers.SGD(alpha=.1), epochs=5000, batch_size=None)"
   ]
  },
  {
   "cell_type": "code",
   "execution_count": 6,
   "metadata": {},
   "outputs": [
    {
     "data": {
      "text/plain": [
       "array([[-0.99087594],\n",
       "       [ 0.9882353 ],\n",
       "       [ 0.9888992 ],\n",
       "       [-0.9908761 ]])"
      ]
     },
     "execution_count": 6,
     "metadata": {},
     "output_type": "execute_result"
    }
   ],
   "source": [
    "acc = metrics.acc_XOR(model.predict(X_train), y_train)\n",
    "acc\n",
    "model.predict(X_train)"
   ]
  },
  {
   "cell_type": "code",
   "execution_count": 22,
   "metadata": {},
   "outputs": [
    {
     "name": "stdout",
     "output_type": "stream",
     "text": [
      "Layer 0: <class 'my_keras.layers.Input'>\n",
      "Layer 1: <class 'my_keras.layers.Dense'>\n",
      "Layer 2: <class 'my_keras.layers.LastLayer'>\n"
     ]
    }
   ],
   "source": [
    "#Que pasa si le doy solo 2 ejemplos de train?\n",
    "\n",
    "X_train2 = X_train[2:, :]\n",
    "y_train2 = y_train[2:]\n",
    "\n",
    "model = models.Network()\n",
    "\n",
    "reg = regularizers.L2(lambda_=0.001) \n",
    "\n",
    "model.add(layers.Input(n_features, reg=reg))\n",
    "model.add(layers.Dense(2, activation=activations.tanh(), reg=reg), scale=1)\n",
    "model.add(layers.LastLayer(1, activation=activations.tanh()), scale=1)\n",
    "model.printLayers()"
   ]
  },
  {
   "cell_type": "code",
   "execution_count": 23,
   "metadata": {},
   "outputs": [
    {
     "name": "stdout",
     "output_type": "stream",
     "text": [
      "Epoch: 0, Train loss: 0.8019135614019528\n",
      "Epoch: 2000, Train loss: 0.012419431229082758\n",
      "Epoch: 4000, Train loss: 0.012698591301795407\n",
      "Epoch: 6000, Train loss: 0.012986366798615218\n",
      "Epoch: 8000, Train loss: 0.013146039633448531\n",
      "Epoch: 10000, Train loss: 0.013229086257784385\n",
      "Epoch: 12000, Train loss: 0.013271755652194302\n",
      "Epoch: 14000, Train loss: 0.013293603153676132\n",
      "Epoch: 16000, Train loss: 0.013304769083482609\n",
      "Epoch: 18000, Train loss: 0.013310468131408784\n"
     ]
    }
   ],
   "source": [
    "model.fit(X_train, y_train, loss=losses.MSE_XOR(), \n",
    "          opt=optimizers.SGD(alpha=.1), epochs=20000, batch_size=None)"
   ]
  },
  {
   "cell_type": "code",
   "execution_count": 26,
   "metadata": {},
   "outputs": [
    {
     "data": {
      "text/plain": [
       "array([[-0.92526526],\n",
       "       [ 0.91251755]])"
      ]
     },
     "execution_count": 26,
     "metadata": {},
     "output_type": "execute_result"
    }
   ],
   "source": [
    "#los aprende!\n",
    "model.predict(X_train[0:2,:])"
   ]
  },
  {
   "cell_type": "markdown",
   "metadata": {},
   "source": [
    "Arquitectura 2\\\n",
    "![circuito 2](img/62.png)"
   ]
  },
  {
   "cell_type": "code",
   "execution_count": 29,
   "metadata": {},
   "outputs": [
    {
     "name": "stdout",
     "output_type": "stream",
     "text": [
      "Layer 0: <class 'my_keras.layers.Input'>\n",
      "Layer 1: <class 'my_keras.layers.Dense'>\n",
      "Layer 2: <class 'my_keras.layers.ConcatInput'>\n",
      "Layer 3: <class 'my_keras.layers.Dense'>\n",
      "Layer 4: <class 'my_keras.layers.LastLayer'>\n"
     ]
    }
   ],
   "source": [
    "model2 = models.Network()\n",
    "reg2 = regularizers.L2(lambda_=0)\n",
    "\n",
    "model2.add(layers.Input(n_features, reg=reg2))\n",
    "model2.add(layers.Dense(1, activation=activations.tanh(), reg=reg2), scale=1)\n",
    "model2.add(layers.ConcatInput(1, 1, n_features))\n",
    "model2.add(layers.Dense(3, activation=activations.tanh(), reg=reg2), scale=1)\n",
    "model2.add(layers.LastLayer(1, activation=activations.linear()), scale=1)\n",
    "model2.printLayers()"
   ]
  },
  {
   "cell_type": "code",
   "execution_count": 30,
   "metadata": {},
   "outputs": [
    {
     "name": "stdout",
     "output_type": "stream",
     "text": [
      "Epoch: 0, Train loss: 0.8399831542171221\n",
      "Epoch: 5000, Train loss: 0.00043432265752976534\n",
      "Epoch: 10000, Train loss: 4.72943921515984e-08\n",
      "Epoch: 15000, Train loss: 5.1611722476061575e-12\n",
      "Epoch: 20000, Train loss: 5.632447252520965e-16\n",
      "Epoch: 25000, Train loss: 6.146784533588108e-20\n",
      "Epoch: 30000, Train loss: 6.713404048673036e-24\n",
      "Epoch: 35000, Train loss: 4.8308609240570355e-27\n",
      "Epoch: 40000, Train loss: 4.8308609240570355e-27\n",
      "Epoch: 45000, Train loss: 4.8308609240570355e-27\n"
     ]
    }
   ],
   "source": [
    "model2.fit(X_train, y_train, loss=losses.MSE_XOR(), \n",
    "          opt=optimizers.SGD(alpha=.01), epochs=50000, batch_size=None)"
   ]
  },
  {
   "cell_type": "code",
   "execution_count": 31,
   "metadata": {},
   "outputs": [
    {
     "data": {
      "text/plain": [
       "array([[-1.],\n",
       "       [ 1.],\n",
       "       [ 1.],\n",
       "       [-1.]])"
      ]
     },
     "execution_count": 31,
     "metadata": {},
     "output_type": "execute_result"
    }
   ],
   "source": [
    "acc = metrics.acc_XOR(model2.predict(X_train), y_train)\n",
    "acc\n",
    "model2.predict(X_train)"
   ]
  }
 ],
 "metadata": {
  "kernelspec": {
   "display_name": "Python 3.9.12 ('base')",
   "language": "python",
   "name": "python3"
  },
  "language_info": {
   "codemirror_mode": {
    "name": "ipython",
    "version": 3
   },
   "file_extension": ".py",
   "mimetype": "text/x-python",
   "name": "python",
   "nbconvert_exporter": "python",
   "pygments_lexer": "ipython3",
   "version": "3.9.12"
  },
  "orig_nbformat": 4,
  "vscode": {
   "interpreter": {
    "hash": "b045fddb768a69d708aeb44bac4815a8765073d6505277d1278f194b80f63e22"
   }
  }
 },
 "nbformat": 4,
 "nbformat_minor": 2
}
