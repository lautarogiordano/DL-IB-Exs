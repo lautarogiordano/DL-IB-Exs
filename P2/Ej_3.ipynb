{
 "cells": [
  {
   "cell_type": "markdown",
   "metadata": {},
   "source": [
    "Implementar una red neuronal (sin POO) de dos capas totalmente conectadas para resolver\\\n",
    "el problema de CIFAR-10. Las 100 neuronas de la primer capa tienen como función de ac-\\\n",
    "tivación a la función sigmoidal. La segunda capa es la de salida y esta formada por 10\\\n",
    "neuronas con una activación lineal. Como función de costo utilizar MSE y agregue un ter-\\\n",
    "mino de regularización L2."
   ]
  },
  {
   "cell_type": "code",
   "execution_count": 1,
   "metadata": {},
   "outputs": [],
   "source": [
    "import numpy as np\n",
    "from scipy import linalg\n",
    "from matplotlib import pyplot as plt\n",
    "from keras.datasets import cifar10"
   ]
  },
  {
   "cell_type": "code",
   "execution_count": 2,
   "metadata": {},
   "outputs": [
    {
     "name": "stdout",
     "output_type": "stream",
     "text": [
      "Train: X=(50000, 32, 32, 3), y=(50000,)\n",
      "Test: X=(10000, 32, 32, 3), y=(10000,)\n"
     ]
    }
   ],
   "source": [
    "(Xtrain, ytrain), (Xtest, ytest) = cifar10.load_data()\n",
    "\n",
    "ytrain = ytrain[:,0]\n",
    "ytest = ytest[:,0]\n",
    "\n",
    "# summarize loaded dataset\n",
    "print('Train: X=%s, y=%s' % (Xtrain.shape, ytrain.shape))\n",
    "print('Test: X=%s, y=%s' % (Xtest.shape, ytest.shape))"
   ]
  },
  {
   "cell_type": "code",
   "execution_count": 3,
   "metadata": {},
   "outputs": [],
   "source": [
    "names_dict = {0: 'airplane', 1: 'automobile', 2: 'bird', \n",
    "              3: 'cat', 4: 'deer', 5: 'dog', \n",
    "              6: 'frog', 7: 'horse', 8: 'ship', \n",
    "              9: 'truck'}"
   ]
  },
  {
   "cell_type": "code",
   "execution_count": 4,
   "metadata": {},
   "outputs": [],
   "source": [
    "def clean(X):\n",
    "        X_norm = X.reshape(len(X), X[0].size).astype(float)\n",
    "        X_norm -= np.mean(X)\n",
    "        X_norm /= np.std(X).astype(float)\n",
    "        return X_norm"
   ]
  },
  {
   "cell_type": "code",
   "execution_count": 5,
   "metadata": {},
   "outputs": [],
   "source": [
    "def sigmoid(z):\n",
    "    return 1/(1 + np.exp(-z))\n",
    "\n",
    "def sigprime(z):\n",
    "    return sigmoid(z)*(1-sigmoid(z))"
   ]
  },
  {
   "cell_type": "code",
   "execution_count": 6,
   "metadata": {},
   "outputs": [
    {
     "name": "stdout",
     "output_type": "stream",
     "text": [
      "(50000, 3072)\n"
     ]
    }
   ],
   "source": [
    "Xtrain_n = clean(Xtrain)\n",
    "Xtest_n = clean(Xtest)\n",
    "\n",
    "print(Xtrain_n.shape)"
   ]
  },
  {
   "cell_type": "code",
   "execution_count": 10,
   "metadata": {},
   "outputs": [],
   "source": [
    "#Acá van todas las variables del sistema. Las voy a dejar como variables globales por esta vez\n",
    "def Init():\n",
    "    global s, y, a, z, W1, b1, W2, b2, grads1, grads2, gradb1, gradb2, grads\n",
    "    s = Xtrain_n[0].size\n",
    "    y = np.zeros([10,1], dtype=float)\n",
    "    a = np.zeros([100, 1], dtype=float)\n",
    "    z = np.zeros_like(a)\n",
    "    W1 = np.random.uniform(-1, 1, size=(s, 100))\n",
    "    b1 = np.random.uniform(-1, 1)\n",
    "    W2 = np.random.uniform(-1, 1, size=(100, 10))\n",
    "    b2 = np.random.uniform(-1, 1)\n",
    "    #Hago un array de arrays para los gradientes\n",
    "    grads1 = np.zeros_like(W1)\n",
    "    grads2 = np.zeros_like(W2)\n",
    "    gradb1 = np.array([0], dtype=float)\n",
    "    gradb2 = np.array([0], dtype=float)\n",
    "    grads = np.array([grads1, grads2, gradb1, gradb2], dtype=object)\n",
    "    \n",
    "Init()"
   ]
  },
  {
   "cell_type": "code",
   "execution_count": 11,
   "metadata": {},
   "outputs": [],
   "source": [
    "def forward(x):\n",
    "    global a, y, z    \n",
    "    z = np.dot(W1.T, x) + b1\n",
    "    a = sigmoid(z)\n",
    "    y = np.dot(W2.T, a) + b2"
   ]
  },
  {
   "cell_type": "code",
   "execution_count": 12,
   "metadata": {},
   "outputs": [],
   "source": [
    "def loss_function(yex, ytrue):\n",
    "    diff = np.copy(yex)\n",
    "    # ya que ytrue funciona como índice, le resto 1 a yex[ytrue]\n",
    "    diff[ytrue] -= 1\n",
    "    return linalg.norm(diff)**2, diff\n"
   ]
  },
  {
   "cell_type": "code",
   "execution_count": 57,
   "metadata": {},
   "outputs": [],
   "source": [
    "def gradient(x, diff):\n",
    "    #diff es el vector (y - ytrue)\n",
    "    global grads, z, a\n",
    "    aux = np.zeros_like(W2)\n",
    "    sprim = sigprime(z)\n",
    "    #for i in range(10):\n",
    "    #    aux[:,i] = W2[:,i] * sprim\n",
    "        \n",
    "    grads[0] = np.outer(x, np.dot(W2, diff)*sprim)\n",
    "    grads[1] = np.outer(a, diff.T)\n",
    "    grads[2] = np.dot(np.dot(sprim.T, W2), diff)\n",
    "    grads[3] = np.sum(diff)\n",
    "\n",
    "    return grads"
   ]
  },
  {
   "cell_type": "code",
   "execution_count": 37,
   "metadata": {},
   "outputs": [],
   "source": [
    "def update_weights(grads, alpha=.01):\n",
    "    global W1, W2, b1, b2\n",
    "    W1 -= alpha * grads[0]\n",
    "    W2 -= alpha * grads[1]\n",
    "    b1 -= alpha * grads[2]\n",
    "    b2 -= alpha * grads[3]\n",
    "    "
   ]
  },
  {
   "cell_type": "code",
   "execution_count": 72,
   "metadata": {},
   "outputs": [
    {
     "data": {
      "text/plain": [
       "-0.1836271741037749"
      ]
     },
     "execution_count": 72,
     "metadata": {},
     "output_type": "execute_result"
    }
   ],
   "source": [
    "#pruebas\n",
    "loss = np.array(0, dtype=float)\n",
    "gradaux = np.zeros_like(grads)\n",
    "example = Xtrain_n[0:50,:]\n",
    "\n",
    "for i in range(50):\n",
    "    forward(example[i,:])\n",
    "    (aux, diff) = loss_function(y, ytrain[0])\n",
    "    loss += aux\n",
    "    gradaux += gradient(example[i,:], diff)\n",
    "#Falta aplicar regularización\n",
    "loss /= (2*50)\n",
    "gradaux /= 50\n",
    "update_weights(gradaux, alpha=.05)\n",
    "gradaux[1][0,0]\n"
   ]
  },
  {
   "cell_type": "code",
   "execution_count": 16,
   "metadata": {},
   "outputs": [],
   "source": [
    "def predict(x):\n",
    "    return forward(x)\n",
    "\n",
    "def accuracy(y, ytrue):\n",
    "    return float(np.sum(y==ytrue))/float(len(ytrue))"
   ]
  },
  {
   "cell_type": "code",
   "execution_count": null,
   "metadata": {},
   "outputs": [],
   "source": [
    "# Algoritmo de entrenamiento\n",
    "\n",
    "# para epoca en epocas\n",
    "    # grads=loss=0\n",
    "    # para ejemplo en batch\n",
    "    #   forward(ejemplo)\n",
    "    #   loss+=(ejemplo)\n",
    "    #   grads+=grads(ejemplo)\n",
    "    # loss += L2\n",
    "    # grads += reg\n",
    "    # update weights\n",
    " "
   ]
  },
  {
   "cell_type": "code",
   "execution_count": 82,
   "metadata": {},
   "outputs": [
    {
     "name": "stdout",
     "output_type": "stream",
     "text": [
      "0 67.23093051363198\n",
      "1 40.736650317694576\n",
      "2 34.16041463065594\n",
      "3 29.806346528865152\n",
      "4 28.19673070232996\n",
      "5 25.833164348735373\n",
      "6 25.073786787743323\n",
      "7 23.275657046115064\n",
      "8 22.945226505949815\n",
      "9 21.911073601585947\n"
     ]
    }
   ],
   "source": [
    "m = Xtrain_n.shape[0]\n",
    "batch_size = 1000\n",
    "n_batches = int(m/batch_size)\n",
    "epochs = 10\n",
    "lambda_ = .1\n",
    "\n",
    "loss = np.array(0, dtype=float)\n",
    "gradaux = np.zeros_like(grads)\n",
    "\n",
    "Init()\n",
    "for epoch in range(epochs):\n",
    "    for batch in range(1):\n",
    "        loss = 0\n",
    "        gradaux = 0\n",
    "        example = Xtrain_n[batch*batch_size:(1+batch)*batch_size,:]\n",
    "        yexample = ytrain[batch*batch_size:(1+batch)*batch_size]\n",
    "\n",
    "        for i in range(batch_size):\n",
    "            forward(example[i,:])\n",
    "            (aux, diff) = loss_function(y, yexample[i])\n",
    "            loss += aux\n",
    "            gradaux += gradient(example[i,:], diff)\n",
    "        #regularización\n",
    "        L2 = linalg.norm(W1)**2 + linalg.norm(W2)**2\n",
    "        L2G = linalg.norm(W1) + linalg.norm(W2)\n",
    "\n",
    "        loss += lambda_ * L2/2\n",
    "        loss /= (2*batch_size)\n",
    "\n",
    "        gradaux += lambda_ * L2G\n",
    "        gradaux /= batch_size\n",
    "        \n",
    "        update_weights(gradaux, alpha=.05)\n",
    "\n",
    "    print(epoch, loss)\n",
    "\n"
   ]
  },
  {
   "cell_type": "code",
   "execution_count": 88,
   "metadata": {},
   "outputs": [
    {
     "name": "stdout",
     "output_type": "stream",
     "text": [
      "Train accuracy:  11.1\n",
      "Test accuracy:  11.3\n"
     ]
    }
   ],
   "source": [
    "#testeamos un poco\n",
    "ytrguess = []\n",
    "yguess = []\n",
    "size = 1000\n",
    "for i in range(size):\n",
    "    predict(Xtrain_n[i,:])\n",
    "    ytrguess.append(np.argmax(y))\n",
    "    predict(Xtest_n[i,:])\n",
    "    yguess.append(np.argmax(y))\n",
    "    \n",
    "print(\"Train accuracy: \",100*accuracy(ytrguess, ytrain[0:size]))\n",
    "print(\"Test accuracy: \",100*accuracy(yguess, ytest[0:size]))"
   ]
  }
 ],
 "metadata": {
  "kernelspec": {
   "display_name": "Python 3.9.12 ('base')",
   "language": "python",
   "name": "python3"
  },
  "language_info": {
   "codemirror_mode": {
    "name": "ipython",
    "version": 3
   },
   "file_extension": ".py",
   "mimetype": "text/x-python",
   "name": "python",
   "nbconvert_exporter": "python",
   "pygments_lexer": "ipython3",
   "version": "3.9.12"
  },
  "orig_nbformat": 4,
  "vscode": {
   "interpreter": {
    "hash": "b045fddb768a69d708aeb44bac4815a8765073d6505277d1278f194b80f63e22"
   }
  }
 },
 "nbformat": 4,
 "nbformat_minor": 2
}
