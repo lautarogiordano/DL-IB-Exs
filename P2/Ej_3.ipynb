{
 "cells": [
  {
   "cell_type": "markdown",
   "metadata": {},
   "source": [
    "Implementar una red neuronal (sin POO) de dos capas totalmente conectadas para resolver\\\n",
    "el problema de CIFAR-10. Las 100 neuronas de la primer capa tienen como función de ac-\\\n",
    "tivación a la función sigmoidal. La segunda capa es la de salida y esta formada por 10\\\n",
    "neuronas con una activación lineal. Como función de costo utilizar MSE y agregue un ter-\\\n",
    "mino de regularización L2."
   ]
  },
  {
   "cell_type": "code",
   "execution_count": null,
   "metadata": {},
   "outputs": [],
   "source": [
    "#Este programa está bien feo, pero funciona. Mi \"error\" es que calculé\n",
    "#los gradientes sin hacer backprop, sino de la manera tradicional.\n",
    "#El ej. 4 es igual pero con otra función de loss, así que voy a implementarlo\n",
    "#con backprop"
   ]
  },
  {
   "cell_type": "code",
   "execution_count": 1,
   "metadata": {},
   "outputs": [],
   "source": [
    "import numpy as np\n",
    "from scipy import linalg\n",
    "from scipy.special import expit\n",
    "from matplotlib import pyplot as plt\n",
    "from keras.datasets import cifar10"
   ]
  },
  {
   "cell_type": "code",
   "execution_count": 2,
   "metadata": {},
   "outputs": [
    {
     "name": "stdout",
     "output_type": "stream",
     "text": [
      "Train: X=(50000, 32, 32, 3), y=(50000,)\n",
      "Test: X=(10000, 32, 32, 3), y=(10000,)\n"
     ]
    }
   ],
   "source": [
    "(Xtrain, ytrain), (Xtest, ytest) = cifar10.load_data()\n",
    "\n",
    "ytrain = ytrain[:,0]\n",
    "ytest = ytest[:,0]\n",
    "\n",
    "# summarize loaded dataset\n",
    "print('Train: X=%s, y=%s' % (Xtrain.shape, ytrain.shape))\n",
    "print('Test: X=%s, y=%s' % (Xtest.shape, ytest.shape))"
   ]
  },
  {
   "cell_type": "code",
   "execution_count": 3,
   "metadata": {},
   "outputs": [],
   "source": [
    "names_dict = {0: 'airplane', 1: 'automobile', 2: 'bird', \n",
    "              3: 'cat', 4: 'deer', 5: 'dog', \n",
    "              6: 'frog', 7: 'horse', 8: 'ship', \n",
    "              9: 'truck'}"
   ]
  },
  {
   "cell_type": "code",
   "execution_count": 4,
   "metadata": {},
   "outputs": [],
   "source": [
    "def clean(X):\n",
    "        X_norm = X.reshape(len(X), X[0].size).astype(float)\n",
    "        X_norm -= np.mean(X)\n",
    "        X_norm /= np.std(X).astype(float)\n",
    "        return X_norm"
   ]
  },
  {
   "cell_type": "code",
   "execution_count": 5,
   "metadata": {},
   "outputs": [],
   "source": [
    "def sigmoid(z):\n",
    "    return expit(z)\n",
    "\n",
    "def sigprime(z):\n",
    "    return sigmoid(z)*(1-sigmoid(z))"
   ]
  },
  {
   "cell_type": "code",
   "execution_count": 6,
   "metadata": {},
   "outputs": [
    {
     "name": "stdout",
     "output_type": "stream",
     "text": [
      "(50000, 3072)\n"
     ]
    }
   ],
   "source": [
    "Xtrain_n = clean(Xtrain)\n",
    "Xtest_n = clean(Xtest)\n",
    "\n",
    "print(Xtrain_n.shape)"
   ]
  },
  {
   "cell_type": "code",
   "execution_count": 7,
   "metadata": {},
   "outputs": [],
   "source": [
    "#Acá van todas las variables del sistema. Las voy a dejar como variables globales por esta vez\n",
    "def Init():\n",
    "    global s, y, a, z, W1, b1, W2, b2, grads1, grads2, gradb1, gradb2, grads\n",
    "    s = Xtrain_n[0].size\n",
    "    y = np.zeros([10,1], dtype=float)\n",
    "    a = np.zeros([100, 1], dtype=float)\n",
    "    z = np.zeros_like(a)\n",
    "    W1 = np.random.uniform(-.01, .01, size=(s, 100))\n",
    "    b1 = np.random.uniform(-.01, .01)\n",
    "    W2 = np.random.uniform(-.01, .01, size=(100, 10))\n",
    "    b2 = np.random.uniform(-.01, .01)\n",
    "    #Hago un array de arrays para los gradientes\n",
    "    grads1 = np.zeros_like(W1)\n",
    "    grads2 = np.zeros_like(W2)\n",
    "    gradb1 = np.array([0], dtype=float)\n",
    "    gradb2 = np.array([0], dtype=float)\n",
    "    grads = np.array([grads1, grads2, gradb1, gradb2], dtype=object)\n",
    "    \n",
    "Init()"
   ]
  },
  {
   "cell_type": "code",
   "execution_count": 8,
   "metadata": {},
   "outputs": [],
   "source": [
    "def forward(x):\n",
    "    global a, y, z    \n",
    "    z = np.dot(W1.T, x) + b1\n",
    "    a = sigmoid(z)\n",
    "    y = np.dot(W2.T, a) + b2"
   ]
  },
  {
   "cell_type": "code",
   "execution_count": 9,
   "metadata": {},
   "outputs": [],
   "source": [
    "def loss_function(yex, ytrue):\n",
    "    diff = np.copy(yex)\n",
    "    # ya que ytrue funciona como índice, le resto 1 a yex[ytrue]\n",
    "    diff[ytrue] -= 1\n",
    "    return linalg.norm(diff)**2, diff\n"
   ]
  },
  {
   "cell_type": "code",
   "execution_count": 10,
   "metadata": {},
   "outputs": [],
   "source": [
    "def gradient(x, diff):\n",
    "    #diff es el vector (y - ytrue)\n",
    "    global grads, z, a\n",
    "    #aux = np.zeros_like(W2)\n",
    "    sprim = sigprime(z)\n",
    "    #for i in range(10):\n",
    "    #    aux[:,i] = W2[:,i] * sprim\n",
    "        \n",
    "    grads[0] = np.outer(x, np.dot(W2, diff)*sprim)\n",
    "    grads[1] = np.outer(a, diff.T)\n",
    "    grads[2] = np.dot(np.dot(sprim.T, W2), diff)\n",
    "    grads[3] = np.sum(diff)\n",
    "\n",
    "    return grads"
   ]
  },
  {
   "cell_type": "code",
   "execution_count": 11,
   "metadata": {},
   "outputs": [],
   "source": [
    "def update_weights(grads, alpha=.01):\n",
    "    global W1, W2, b1, b2\n",
    "    W1 -= alpha * grads[0]\n",
    "    W2 -= alpha * grads[1]\n",
    "    b1 -= alpha * grads[2]\n",
    "    b2 -= alpha * grads[3]\n",
    "    "
   ]
  },
  {
   "cell_type": "code",
   "execution_count": 12,
   "metadata": {},
   "outputs": [],
   "source": [
    "def predict(x):\n",
    "    return forward(x)\n",
    "\n",
    "def accuracy(y, ytrue):\n",
    "    return float(np.sum(y==ytrue))/float(len(ytrue))"
   ]
  },
  {
   "cell_type": "code",
   "execution_count": 51,
   "metadata": {},
   "outputs": [
    {
     "name": "stdout",
     "output_type": "stream",
     "text": [
      "0 0.3632994513876484\n",
      "1 0.3629355451999875\n",
      "2 0.3625784296165847\n",
      "3 0.3622256382111378\n",
      "4 0.36187671770572316\n",
      "5 0.36153148048553735\n",
      "6 0.36118981442186554\n",
      "7 0.36085163921710295\n",
      "8 0.3605168890977037\n",
      "9 0.3601855042281617\n",
      "10 0.359857426249079\n",
      "11 0.35953259602885307\n",
      "12 0.35921095264595665\n",
      "13 0.35889243306022683\n",
      "14 0.35857697216754586\n",
      "15 0.3582645030625258\n",
      "16 0.3579549574066691\n",
      "17 0.3576482658409772\n",
      "18 0.35734435840620843\n",
      "19 0.3570431649486423\n",
      "20 0.3567446154982671\n",
      "21 0.3564486406120678\n",
      "22 0.3561551716787575\n",
      "23 0.3558641411836645\n",
      "24 0.35557548293396485\n",
      "25 0.3552891322455157\n",
      "26 0.3550050260932159\n",
      "27 0.354723103227402\n",
      "28 0.3544433042592598\n",
      "29 0.3541655717186173\n",
      "30 0.3538898500878148\n",
      "31 0.35361608581551046\n",
      "32 0.35334422731436177\n",
      "33 0.35307422494639956\n",
      "34 0.35280603099959723\n",
      "35 0.3525395996587423\n",
      "36 0.3522748869731344\n",
      "37 0.35201185082294045\n",
      "38 0.3517504508854496\n",
      "39 0.35149064860170715\n",
      "40 0.3512324071434521\n",
      "41 0.3509756913797779\n",
      "42 0.3507204678425283\n",
      "43 0.35046670468925456\n",
      "44 0.35021437166243635\n",
      "45 0.34996344004378044\n",
      "46 0.3497138826026169\n",
      "47 0.3494656735377076\n",
      "48 0.3492187884122213\n",
      "49 0.3489732040820981\n",
      "50 0.34872889861844397\n",
      "51 0.34848585122514436\n",
      "52 0.34824404215317256\n",
      "53 0.3480034526134561\n",
      "54 0.34776406469030197\n",
      "55 0.34752586125745544\n",
      "56 0.3472888258988084\n",
      "57 0.3470529428355534\n",
      "58 0.3468181968612741\n",
      "59 0.3465845732861097\n",
      "60 0.3463520578906394\n",
      "61 0.346120636889712\n",
      "62 0.34589029690597656\n",
      "63 0.34566102495248036\n",
      "64 0.3454328084233399\n",
      "65 0.3452056350912166\n",
      "66 0.34497949311018755\n",
      "67 0.344754371022455\n",
      "68 0.34453025776737084\n",
      "69 0.34430714269128715\n",
      "70 0.34408501555689475\n",
      "71 0.34386386655085244\n",
      "72 0.34364368628874287\n",
      "73 0.34342446581659314\n",
      "74 0.34320619660845164\n",
      "75 0.3429888705597163\n",
      "76 0.3427724799761306\n",
      "77 0.34255701755856505\n",
      "78 0.3423424763838517\n",
      "79 0.342128849882095\n",
      "80 0.3419161318109671\n",
      "81 0.3417043162275929\n",
      "82 0.3414933974586665\n",
      "83 0.3412833700694416\n",
      "84 0.34107422883227856\n",
      "85 0.3408659686953418\n",
      "86 0.34065858475203875\n",
      "87 0.3404520722117283\n",
      "88 0.3402464263721371\n",
      "89 0.34004164259386943\n",
      "90 0.3398377162773234\n",
      "91 0.3396346428422152\n",
      "92 0.33943241770990845\n",
      "93 0.3392310362886063\n",
      "94 0.33903049396145585\n",
      "95 0.33883078607753697\n",
      "96 0.3386319079456481\n",
      "97 0.3384338548308127\n",
      "98 0.33823662195331683\n",
      "99 0.33804020449015443\n"
     ]
    }
   ],
   "source": [
    "m = Xtrain_n.shape[0]\n",
    "batch_size = 2000\n",
    "n_batches = int(m/batch_size)\n",
    "epochs = 100\n",
    "lambda_ = 0.01\n",
    "alpha =.05\n",
    "\n",
    "loss = np.array(0, dtype=float)\n",
    "gradaux = np.zeros_like(grads)\n",
    "loss_hist = []\n",
    "\n",
    "#Init()\n",
    "for epoch in range(epochs):\n",
    "    for batch in range(n_batches):\n",
    "        loss = 0\n",
    "        gradaux = 0\n",
    "        example = Xtrain_n[batch*batch_size:(1+batch)*batch_size,:]\n",
    "        yexample = ytrain[batch*batch_size:(1+batch)*batch_size]\n",
    "\n",
    "        for i in range(batch_size):\n",
    "            forward(example[i,:])\n",
    "            (aux, diff) = loss_function(y, yexample[i])\n",
    "            loss += aux\n",
    "            gradaux += gradient(example[i,:], diff)\n",
    "        #regularización\n",
    "        L2 = linalg.norm(W1)**2 + linalg.norm(W2)**2\n",
    "\n",
    "        loss += lambda_ * L2/(2*alpha)\n",
    "        loss /= (2*batch_size)\n",
    "\n",
    "        gradaux[0] += lambda_ * W1/alpha\n",
    "        gradaux[1] += lambda_ * W2/alpha\n",
    "        gradaux /= batch_size\n",
    "        \n",
    "        update_weights(gradaux, alpha)\n",
    "        loss_hist.append(loss)\n",
    "\n",
    "    print(epoch, loss)\n",
    "\n"
   ]
  },
  {
   "cell_type": "code",
   "execution_count": 52,
   "metadata": {},
   "outputs": [
    {
     "data": {
      "text/plain": [
       "[<matplotlib.lines.Line2D at 0x7ff7f285e910>]"
      ]
     },
     "execution_count": 52,
     "metadata": {},
     "output_type": "execute_result"
    },
    {
     "data": {
      "image/png": "[encoded data removed]",
      "text/plain": [
       "<Figure size 432x288 with 1 Axes>"
      ]
     },
     "metadata": {
      "needs_background": "light"
     },
     "output_type": "display_data"
    }
   ],
   "source": [
    "plt.plot(loss_hist)"
   ]
  },
  {
   "cell_type": "code",
   "execution_count": 53,
   "metadata": {},
   "outputs": [
    {
     "name": "stdout",
     "output_type": "stream",
     "text": [
      "Train accuracy:  50.066\n",
      "Test accuracy:  47.15\n"
     ]
    }
   ],
   "source": [
    "#testeamos un poco\n",
    "ytrguess = []\n",
    "yguess = []\n",
    "size = 50000\n",
    "for i in range(size):\n",
    "    predict(Xtrain_n[i,:])\n",
    "    ytrguess.append(np.argmax(y))\n",
    "    if i < 10000:\n",
    "        predict(Xtest_n[i,:])\n",
    "        yguess.append(np.argmax(y))\n",
    "    \n",
    "print(\"Train accuracy: \",100*accuracy(ytrguess, ytrain[0:size]))\n",
    "print(\"Test accuracy: \",100*accuracy(yguess, ytest[0:size]))"
   ]
  }
 ],
 "metadata": {
  "kernelspec": {
   "display_name": "Python 3.8.8 ('base')",
   "language": "python",
   "name": "python3"
  },
  "language_info": {
   "codemirror_mode": {
    "name": "ipython",
    "version": 3
   },
   "file_extension": ".py",
   "mimetype": "text/x-python",
   "name": "python",
   "nbconvert_exporter": "python",
   "pygments_lexer": "ipython3",
   "version": "3.8.8"
  },
  "orig_nbformat": 4,
  "vscode": {
   "interpreter": {
    "hash": "3159170d9fcce935f4a2f5b40d38978387b4f643b035d22b78e982df0db07ec7"
   }
  }
 },
 "nbformat": 4,
 "nbformat_minor": 2
}
