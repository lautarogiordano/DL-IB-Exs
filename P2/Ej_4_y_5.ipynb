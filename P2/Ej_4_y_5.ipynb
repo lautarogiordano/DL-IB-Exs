{
 "cells": [
  {
   "cell_type": "markdown",
   "metadata": {},
   "source": [
    "Ej. 4) Idem al problema anterior pero ahora que la función de costo sea Categorical Cross-Entropy.\\\n",
    "Esta función de costo puede verse, al igual que para el clasificador lineal SoftMax, como\\\n",
    "aplicar la función softmax seguido de la log-likelihood. Modificar el código anterior para\\\n",
    "que se pueda cambiar la métrica a utilizar (loss_mse o loss_softmax) y lo mismo para el\\\n",
    "cálculo del gradiente (grad_mse o grad_softmax). Analizar los resultados respecto a los\\\n",
    "clasificadores lineales SVM y Softamx como también con la resolución del punto anterior.\\\n",
    "Armar un gráfico aparte para mostrar la precisión de estos cuatro métodos todos juntos\\\n",
    "(sólo para los datos de testing)"
   ]
  },
  {
   "cell_type": "markdown",
   "metadata": {},
   "source": [
    "Ej. 5) Idem al problema anterior pero esta vez que las funciones de activación de la capa oculta\\\n",
    "sean ReLU y las de la capa de salida sean sigmoidal. Al igual que en los problemas anteriores\\\n",
    "armar el grafo, calcular los gradientes, graficar la evolución de la precisión (accuracy) y las\\\n",
    "funciones de costo (mse y categorical cross-entropy) para las distintas épocas tanto para los\\\n",
    "datos de validación como entrenamiento. Discuta que métrica es mejor y porque. Además\\\n",
    "analizar qué pasa si usamos una ReLU + activación lineal en la última capa. Explicar y\\\n",
    "fundamentar si usar una activación lineal en la última capa es mejor o no."
   ]
  },
  {
   "cell_type": "code",
   "execution_count": 1,
   "metadata": {},
   "outputs": [],
   "source": [
    "import numpy as np\n",
    "from scipy import linalg\n",
    "from scipy.special import expit\n",
    "from matplotlib import pyplot as plt\n",
    "from keras.datasets import cifar10"
   ]
  },
  {
   "cell_type": "code",
   "execution_count": 2,
   "metadata": {},
   "outputs": [],
   "source": [
    "names_dict = {0: 'airplane', 1: 'automobile', 2: 'bird', \n",
    "              3: 'cat', 4: 'deer', 5: 'dog', \n",
    "              6: 'frog', 7: 'horse', 8: 'ship', \n",
    "              9: 'truck'}"
   ]
  },
  {
   "cell_type": "code",
   "execution_count": 3,
   "metadata": {},
   "outputs": [],
   "source": [
    "def clean(X):\n",
    "        X_norm = X.reshape(len(X), X[0].size).astype(float)\n",
    "        X_norm -= np.mean(X)\n",
    "        X_norm /= np.std(X).astype(float)\n",
    "        return X_norm"
   ]
  },
  {
   "cell_type": "code",
   "execution_count": 4,
   "metadata": {},
   "outputs": [],
   "source": [
    "def sigmoid(z):\n",
    "    return expit(z)\n",
    "\n",
    "def sigmoid_prime(z):\n",
    "    return sigmoid(z)*(1-sigmoid(z))\n",
    "\n",
    "def RELU(z):\n",
    "    return np.maximum(0, z)\n",
    "\n",
    "def RELU_prime(z):\n",
    "    return 1*(RELU(z).astype(bool))\n",
    "\n",
    "def lineal(z):\n",
    "    return z\n",
    "\n",
    "def lineal_prime(z):\n",
    "    return 1"
   ]
  },
  {
   "cell_type": "code",
   "execution_count": 5,
   "metadata": {},
   "outputs": [],
   "source": [
    "def softmax_fun(z):\n",
    "    z -= 0.5*z.max()\n",
    "    \n",
    "    return np.exp(z)*(1.0/np.sum(np.exp(z), axis=0))\n",
    "\n",
    "def CCE(yb_pred, yb):\n",
    "    \"\"\"Función de Categorical Cross Entropy\"\"\"\n",
    "    m = yb_pred.shape[0]\n",
    "    idx = np.arange(m)\n",
    "    \n",
    "    #cost = -np.sum(np.log(yb_pred[idx, yb]))/m\n",
    "    SM = softmax_fun(yb_pred)\n",
    "\n",
    "    #A ver si funciona esta maña\n",
    "    reg = np.where(SM > 1e-10, SM, 1e-10)\n",
    "    \n",
    "    cost = np.sum(-np.log(reg[idx, yb]))/m\n",
    "\n",
    "    return cost\n",
    "\n",
    "def grad_CCE(yb_pred, yb):\n",
    "    m = yb_pred.shape[0]\n",
    "    idx = np.arange(m)\n",
    "    SM = softmax_fun(yb_pred)\n",
    "    SM[idx, yb] -= 1\n",
    "\n",
    "    return SM/m"
   ]
  },
  {
   "cell_type": "code",
   "execution_count": 6,
   "metadata": {},
   "outputs": [
    {
     "data": {
      "text/plain": [
       "array([1.0e-10, 2.5e-01, 2.5e-01, 5.0e-01])"
      ]
     },
     "execution_count": 6,
     "metadata": {},
     "output_type": "execute_result"
    }
   ],
   "source": [
    "prob = np.random.randint(5, size=4) /4\n",
    "np.where(prob > 1e-10, prob, 1e-10)"
   ]
  },
  {
   "cell_type": "code",
   "execution_count": 7,
   "metadata": {},
   "outputs": [],
   "source": [
    "def accuracy(ypred, ytrue):\n",
    "    ypred_idx = np.argmax(ypred, axis=1)\n",
    "\n",
    "    return np.mean(ypred_idx==ytrue)"
   ]
  },
  {
   "cell_type": "code",
   "execution_count": 8,
   "metadata": {},
   "outputs": [],
   "source": [
    "def MSE(yb_pred, yb):\n",
    "    diff = np.copy(yb_pred)\n",
    "    m = yb_pred.shape[0]\n",
    "    idx = np.arange(0, m)\n",
    "    diff[idx, yb] -= 1\n",
    "\n",
    "    return (linalg.norm(diff)**2 / (2*m))\n",
    "\n",
    "def grad_MSE(yb_pred, yb):\n",
    "    diff = np.copy(yb_pred)\n",
    "    m = yb_pred.shape[0]\n",
    "    idx = np.arange(0, m)\n",
    "    diff[idx, yb] -= 1\n",
    "    \n",
    "    return diff/m"
   ]
  },
  {
   "cell_type": "markdown",
   "metadata": {},
   "source": [
    "![backprop](img/backprop.png)"
   ]
  },
  {
   "cell_type": "code",
   "execution_count": 9,
   "metadata": {},
   "outputs": [],
   "source": [
    "def fit(Xtrain, ytrain, Xtest, ytest, batch_size, metric=MSE, layer1=sigmoid, \n",
    "        layer2=lineal, epochs=10, alpha=.001, lambda_= .001):\n",
    "    \n",
    "    #Calculo tamaño del batch\n",
    "    #Inicializo variables etc\n",
    "    m = Xtrain.shape[0]\n",
    "    n = Xtrain.shape[1]\n",
    "    n_batches = int(m/batch_size)\n",
    "\n",
    "\n",
    "    grad_metric = \"grad_\"+str(metric.__name__)\n",
    "    layer1_prime = str(layer1.__name__)+\"_prime\"\n",
    "    layer2_prime = str(layer2.__name__)+\"_prime\"\n",
    "\n",
    "    Xtrain = np.hstack((np.ones((m, 1)), Xtrain))\n",
    "    Xtest = np.hstack((np.ones((Xtest.shape[0], 1)), Xtest))\n",
    "\n",
    "    Xb = np.zeros((batch_size, n), dtype=float)\n",
    "    Xb = np.hstack((np.ones((batch_size, 1)), Xb))\n",
    "    yb = np.zeros((batch_size), dtype=float)\n",
    "    W1 = np.random.uniform(-1e-2, 1e-2, size=(n+1, 100))\n",
    "    W2 = np.random.uniform(-1e-2, 1e-2, size=(101, 10))\n",
    "\n",
    "    loss_train = []\n",
    "    loss_test = []\n",
    "    acc_test = []\n",
    "\n",
    "    for epoch in range(epochs):\n",
    "        #Shuffle indice datos de training\n",
    "        shuffle = np.random.permutation(m)\n",
    "\n",
    "        Xtrain = Xtrain[shuffle]\n",
    "        ytrain = ytrain[shuffle]\n",
    "        loss=0\n",
    "        #Calculo terminos de regularizacion\n",
    "        L2 = linalg.norm(W1)**2 + linalg.norm(W2)**2\n",
    "\n",
    "        for batch in range(n_batches):\n",
    "            Xb = Xtrain[batch*batch_size : (batch+1)*batch_size, :]\n",
    "            yb = ytrain[batch*batch_size : (batch+1)*batch_size]\n",
    "            \n",
    "            #Forward todo mi batch\n",
    "            z1 = layer1(np.dot(Xb, W1))\n",
    "            z1 = np.hstack((np.ones((batch_size, 1)), z1))\n",
    "            z2 = np.dot(z1, W2)\n",
    "            yb_pred = layer2(z2)\n",
    "\n",
    "            #Calculo loss con la metrica elegida\n",
    "            loss += metric(yb_pred, yb) + (lambda_/2) * L2\n",
    "\n",
    "            #Calculo grads:\n",
    "            #grad de la funcion de loss\n",
    "            grad = globals()[grad_metric](yb_pred, yb)\n",
    "\n",
    "            #Layer 2\n",
    "            grad = grad * globals()[layer2_prime](z2)\n",
    "            gradW2 = np.dot(z1.T, grad) #S1 tiene la columna de unos\n",
    "            grad = np.dot(grad, W2.T)\n",
    "            grad = grad[:, 1:]  \n",
    "\n",
    "            #Layer 1\n",
    "            grad_sig = globals()[layer1_prime](np.dot(Xb, W1))\n",
    "            grad = grad * grad_sig  #Producto elemento a elemento\n",
    "            gradW1 = np.dot(Xb.T, grad) #Xb incluye columna de 1s\n",
    "            \n",
    "            W1 -= alpha*(gradW1 + lambda_ * W1)\n",
    "            W2 -= alpha*(gradW2 + lambda_ * W2)\n",
    "        \n",
    "        #Calculo loss y accuracy\n",
    "        loss_train.append(loss/n_batches)\n",
    "        \n",
    "        z1t = layer1(np.dot(Xtest, W1))\n",
    "        z1t = np.hstack((np.ones((Xtest.shape[0], 1)), z1t))\n",
    "        ybt_pred = layer2(np.dot(z1t, W2))\n",
    "        loss_test.append(metric(ybt_pred, ytest) + (lambda_/2) * L2)\n",
    "        acc_test.append(accuracy(ybt_pred, ytest))\n",
    "        \n",
    "        if epoch%10 == 0:\n",
    "            print(\"Train loss of epoch {}: {:.6f}, Test accuracy: {:.2f}%\".format(epoch, loss_train[-1], 100*acc_test[-1]))\n",
    "    return loss_train, loss_test, acc_test\n",
    "\n",
    "\n"
   ]
  },
  {
   "cell_type": "code",
   "execution_count": 10,
   "metadata": {},
   "outputs": [
    {
     "name": "stdout",
     "output_type": "stream",
     "text": [
      "Train: X=(50000, 3072), y=(50000,)\n",
      "Test: X=(10000, 3072), y=(10000,)\n"
     ]
    }
   ],
   "source": [
    "(Xtrain, ytrain), (Xtest, ytest) = cifar10.load_data()\n",
    "\n",
    "ytrain = ytrain[:,0]\n",
    "ytest = ytest[:,0]\n",
    "\n",
    "Xtrain = clean(Xtrain)\n",
    "Xtest = clean(Xtest)\n",
    "# summarize loaded dataset\n",
    "print('Train: X=%s, y=%s' % (Xtrain.shape, ytrain.shape))\n",
    "print('Test: X=%s, y=%s' % (Xtest.shape, ytest.shape))"
   ]
  },
  {
   "cell_type": "code",
   "execution_count": 11,
   "metadata": {},
   "outputs": [
    {
     "name": "stdout",
     "output_type": "stream",
     "text": [
      "Train loss of epoch 0: 0.499088, Test accuracy: 21.56%\n",
      "Train loss of epoch 10: 0.456252, Test accuracy: 32.81%\n",
      "Train loss of epoch 20: 0.442706, Test accuracy: 36.41%\n",
      "Train loss of epoch 30: 0.433169, Test accuracy: 37.55%\n",
      "Train loss of epoch 40: 0.426014, Test accuracy: 38.85%\n",
      "Train loss of epoch 50: 0.420392, Test accuracy: 39.01%\n",
      "Train loss of epoch 60: 0.415887, Test accuracy: 39.59%\n",
      "Train loss of epoch 70: 0.412167, Test accuracy: 39.80%\n",
      "Train loss of epoch 80: 0.409144, Test accuracy: 40.14%\n",
      "Train loss of epoch 90: 0.406612, Test accuracy: 40.24%\n",
      "Train loss of epoch 100: 0.404538, Test accuracy: 40.50%\n",
      "Train loss of epoch 110: 0.402812, Test accuracy: 40.61%\n",
      "Train loss of epoch 120: 0.401380, Test accuracy: 40.67%\n",
      "Train loss of epoch 130: 0.400185, Test accuracy: 41.12%\n",
      "Train loss of epoch 140: 0.399182, Test accuracy: 40.91%\n",
      "Train loss of epoch 150: 0.398358, Test accuracy: 41.23%\n",
      "Train loss of epoch 160: 0.397646, Test accuracy: 41.09%\n",
      "Train loss of epoch 170: 0.397053, Test accuracy: 41.08%\n",
      "Train loss of epoch 180: 0.396546, Test accuracy: 41.40%\n",
      "Train loss of epoch 190: 0.396094, Test accuracy: 41.48%\n"
     ]
    }
   ],
   "source": [
    "#Ej 3\n",
    "(loss_train_3, loss_test_3, acc_test_3) = fit(Xtrain, ytrain, Xtest, ytest, batch_size=50, \n",
    "                                              metric=MSE, layer1=sigmoid, layer2=lineal, \n",
    "                                              epochs=200, alpha=1e-3, lambda_=.01)"
   ]
  },
  {
   "cell_type": "code",
   "execution_count": 13,
   "metadata": {},
   "outputs": [
    {
     "ename": "",
     "evalue": "",
     "output_type": "error",
     "traceback": [
      "\u001b[1;31mCanceled future for execute_request message before replies were done"
     ]
    },
    {
     "ename": "",
     "evalue": "",
     "output_type": "error",
     "traceback": [
      "The Kernel crashed while executing code in the the current cell or a previous cell. Please review the code in the cell(s) to identify a possible cause of the failure. Click <a href='https://aka.ms/vscodeJupyterKernelCrash'>here</a> for more info. View Jupyter <a href='command:jupyter.viewOutput'>log</a> for further details."
     ]
    }
   ],
   "source": [
    "#Ej 4\n",
    "(loss_train_4, loss_test_4, acc_test_4) = fit(Xtrain, ytrain, Xtest, ytest, batch_size=50, \n",
    "                                              metric=CCE, layer1=lineal, layer2=lineal, \n",
    "                                              epochs=200, alpha=1e-3, lambda_=.01)"
   ]
  },
  {
   "cell_type": "code",
   "execution_count": 15,
   "metadata": {},
   "outputs": [
    {
     "name": "stdout",
     "output_type": "stream",
     "text": [
      "Train loss of epoch 0: 0.994202, Test accuracy: 19.19%\n",
      "Train loss of epoch 10: 0.498847, Test accuracy: 26.38%\n",
      "Train loss of epoch 20: 0.472620, Test accuracy: 30.03%\n",
      "Train loss of epoch 30: 0.455761, Test accuracy: 33.30%\n",
      "Train loss of epoch 40: 0.443550, Test accuracy: 35.35%\n",
      "Train loss of epoch 50: 0.434659, Test accuracy: 36.67%\n",
      "Train loss of epoch 60: 0.427674, Test accuracy: 38.01%\n",
      "Train loss of epoch 70: 0.421987, Test accuracy: 38.84%\n",
      "Train loss of epoch 80: 0.417330, Test accuracy: 39.61%\n",
      "Train loss of epoch 90: 0.413518, Test accuracy: 40.36%\n",
      "Train loss of epoch 100: 0.410380, Test accuracy: 41.10%\n",
      "Train loss of epoch 110: 0.407795, Test accuracy: 41.59%\n",
      "Train loss of epoch 120: 0.405655, Test accuracy: 42.19%\n",
      "Train loss of epoch 130: 0.403896, Test accuracy: 42.56%\n",
      "Train loss of epoch 140: 0.402419, Test accuracy: 42.80%\n",
      "Train loss of epoch 150: 0.401182, Test accuracy: 43.02%\n",
      "Train loss of epoch 160: 0.400140, Test accuracy: 43.39%\n",
      "Train loss of epoch 170: 0.399246, Test accuracy: 43.70%\n",
      "Train loss of epoch 180: 0.398470, Test accuracy: 43.92%\n",
      "Train loss of epoch 190: 0.397817, Test accuracy: 44.18%\n"
     ]
    }
   ],
   "source": [
    "#Ej 5a (Voy a usar solo metrica MSE)\n",
    "(loss_train_5a, loss_test_5a, acc_test_5a) = fit(Xtrain, ytrain, Xtest, ytest, batch_size=50, \n",
    "                                              metric=MSE, layer1=RELU, layer2=sigmoid, \n",
    "                                              epochs=200, alpha=1e-3, lambda_=.01)"
   ]
  },
  {
   "cell_type": "code",
   "execution_count": 16,
   "metadata": {},
   "outputs": [
    {
     "name": "stdout",
     "output_type": "stream",
     "text": [
      "Train loss of epoch 0: 0.496641, Test accuracy: 27.55%\n",
      "Train loss of epoch 10: 0.418433, Test accuracy: 42.16%\n",
      "Train loss of epoch 20: 0.397802, Test accuracy: 45.36%\n",
      "Train loss of epoch 30: 0.384229, Test accuracy: 47.06%\n",
      "Train loss of epoch 40: 0.373945, Test accuracy: 48.41%\n",
      "Train loss of epoch 50: 0.366048, Test accuracy: 48.89%\n",
      "Train loss of epoch 60: 0.359737, Test accuracy: 49.48%\n",
      "Train loss of epoch 70: 0.354665, Test accuracy: 49.84%\n",
      "Train loss of epoch 80: 0.350547, Test accuracy: 50.16%\n",
      "Train loss of epoch 90: 0.347191, Test accuracy: 50.23%\n",
      "Train loss of epoch 100: 0.344428, Test accuracy: 50.55%\n",
      "Train loss of epoch 110: 0.342116, Test accuracy: 50.49%\n",
      "Train loss of epoch 120: 0.340171, Test accuracy: 50.47%\n",
      "Train loss of epoch 130: 0.338584, Test accuracy: 50.87%\n",
      "Train loss of epoch 140: 0.337235, Test accuracy: 50.76%\n",
      "Train loss of epoch 150: 0.336070, Test accuracy: 51.13%\n",
      "Train loss of epoch 160: 0.335109, Test accuracy: 51.46%\n",
      "Train loss of epoch 170: 0.334264, Test accuracy: 51.38%\n",
      "Train loss of epoch 180: 0.333556, Test accuracy: 51.78%\n",
      "Train loss of epoch 190: 0.332968, Test accuracy: 51.58%\n"
     ]
    }
   ],
   "source": [
    "#Ej 5b (Voy a usar solo metrica MSE)\n",
    "(loss_train_5b, loss_test_5b, acc_test_5b) = fit(Xtrain, ytrain, Xtest, ytest, batch_size=50, \n",
    "                                              metric=MSE, layer1=RELU, layer2=lineal, \n",
    "                                              epochs=200, alpha=1e-3, lambda_=.01)"
   ]
  },
  {
   "cell_type": "code",
   "execution_count": 18,
   "metadata": {},
   "outputs": [
    {
     "data": {
      "text/plain": [
       "0.4169"
      ]
     },
     "execution_count": 18,
     "metadata": {},
     "output_type": "execute_result"
    },
    {
     "data": {
      "image/png": "[encoded data removed]",
      "text/plain": [
       "<Figure size 432x288 with 1 Axes>"
      ]
     },
     "metadata": {
      "needs_background": "light"
     },
     "output_type": "display_data"
    }
   ],
   "source": [
    "plt.plot(acc_test_5a);\n",
    "plt.plot(acc_test_5b)\n",
    "acc_test_3[-1]"
   ]
  },
  {
   "cell_type": "code",
   "execution_count": null,
   "metadata": {},
   "outputs": [
    {
     "data": {
      "text/plain": [
       "[<matplotlib.lines.Line2D at 0x7f991091c850>]"
      ]
     },
     "execution_count": 13,
     "metadata": {},
     "output_type": "execute_result"
    },
    {
     "data": {
      "image/png": "[encoded data removed]",
      "text/plain": [
       "<Figure size 432x288 with 1 Axes>"
      ]
     },
     "metadata": {
      "needs_background": "light"
     },
     "output_type": "display_data"
    }
   ],
   "source": [
    "plt.plot(acc_test_3)"
   ]
  }
 ],
 "metadata": {
  "kernelspec": {
   "display_name": "Python 3.9.12 ('base')",
   "language": "python",
   "name": "python3"
  },
  "language_info": {
   "codemirror_mode": {
    "name": "ipython",
    "version": 3
   },
   "file_extension": ".py",
   "mimetype": "text/x-python",
   "name": "python",
   "nbconvert_exporter": "python",
   "pygments_lexer": "ipython3",
   "version": "3.9.12"
  },
  "orig_nbformat": 4,
  "vscode": {
   "interpreter": {
    "hash": "b045fddb768a69d708aeb44bac4815a8765073d6505277d1278f194b80f63e22"
   }
  }
 },
 "nbformat": 4,
 "nbformat_minor": 2
}
