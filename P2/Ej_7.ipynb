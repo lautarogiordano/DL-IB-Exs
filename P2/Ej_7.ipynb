{
 "cells": [
  {
   "cell_type": "code",
   "execution_count": 97,
   "metadata": {},
   "outputs": [],
   "source": [
    "import numpy as np\n",
    "from matplotlib import pyplot as plt\n",
    "import itertools\n",
    "from my_keras import *"
   ]
  },
  {
   "cell_type": "code",
   "execution_count": 187,
   "metadata": {},
   "outputs": [
    {
     "name": "stdout",
     "output_type": "stream",
     "text": [
      "(3686, 13) (3686, 1) (410, 13) (410, 1)\n"
     ]
    },
    {
     "data": {
      "text/plain": [
       "array([[ 1],\n",
       "       [-1],\n",
       "       [-1],\n",
       "       [ 1],\n",
       "       [-1]])"
      ]
     },
     "execution_count": 187,
     "metadata": {},
     "output_type": "execute_result"
    }
   ],
   "source": [
    "N = 12\n",
    "m = 2**N\n",
    "N_prime = 50\n",
    "\n",
    "X_train = np.array([x for x in itertools.product([-1, 1], repeat=N)])\n",
    "y_train = np.prod(X_train, axis=1).reshape(m, 1)\n",
    "X_train = np.hstack((np.ones((X_train.shape[0], 1)), X_train))\n",
    "\n",
    "X_test = X_train[-m//10:]\n",
    "y_test = y_train[-m//10:]\n",
    "X_train = X_train[:-m//10]\n",
    "y_train = y_train[:-m//10]\n",
    "\n",
    "n_features = X_train.shape[1]\n",
    "\n",
    "print(X_train.shape, y_train.shape, X_test.shape, y_test.shape)\n",
    "y_train[0:5]"
   ]
  },
  {
   "cell_type": "code",
   "execution_count": 190,
   "metadata": {},
   "outputs": [
    {
     "name": "stdout",
     "output_type": "stream",
     "text": [
      "Layer 0: <class 'my_keras.layers.Input'>, neurons: 13\n",
      "Layer 1: <class 'my_keras.layers.Dense'>, neurons: 50\n",
      "Layer 2: <class 'my_keras.layers.LastLayer'>, neurons: 1\n"
     ]
    }
   ],
   "source": [
    "model = models.Network()\n",
    "\n",
    "reg1 = regularizers.L2(lambda_=1e-4)\n",
    "reg2 = regularizers.L2(lambda_=1e-4)\n",
    "\n",
    "model.add(layers.Input(n_features, reg=reg1), scale=1)\n",
    "model.add(layers.Dense(N_prime, activation=activations.tanh(), reg=reg2), scale=1)\n",
    "model.add(layers.LastLayer(1, activation=activations.tanh()))\n",
    "model.printLayers()"
   ]
  },
  {
   "cell_type": "code",
   "execution_count": 191,
   "metadata": {},
   "outputs": [
    {
     "name": "stdout",
     "output_type": "stream",
     "text": [
      "Epoch 0, Train loss: 9.0817\n",
      "Epoch 1000, Train loss: 0.4343\n",
      "Epoch 2000, Train loss: 0.2565\n",
      "Epoch 3000, Train loss: 0.2132\n",
      "Epoch 4000, Train loss: 0.1978\n",
      "Epoch 5000, Train loss: 0.1909\n",
      "Epoch 6000, Train loss: 0.1866\n",
      "Epoch 7000, Train loss: 0.1848\n",
      "Epoch 8000, Train loss: 0.1830\n",
      "Epoch 9000, Train loss: 0.1787\n"
     ]
    }
   ],
   "source": [
    "loss_hist = model.fit(X_train, y_train, loss=losses.MSE_XOR(), opt=optimizers.SGD(alpha=.1), \n",
    "          epochs=int(10000), batch_size=200)"
   ]
  },
  {
   "cell_type": "code",
   "execution_count": 192,
   "metadata": {},
   "outputs": [
    {
     "data": {
      "text/plain": [
       "(95.71351058057515, 91.70731707317074)"
      ]
     },
     "execution_count": 192,
     "metadata": {},
     "output_type": "execute_result"
    },
    {
     "data": {
      "image/png": "[encoded data removed]",
      "text/plain": [
       "<Figure size 432x288 with 1 Axes>"
      ]
     },
     "metadata": {
      "needs_background": "light"
     },
     "output_type": "display_data"
    }
   ],
   "source": [
    "plt.plot(loss_hist)\n",
    "100*metrics.acc_XOR(model.predict(X_train), y_train), 100*metrics.acc_XOR(model.predict(X_test), y_test)"
   ]
  }
 ],
 "metadata": {
  "kernelspec": {
   "display_name": "Python 3.9.12 ('base')",
   "language": "python",
   "name": "python3"
  },
  "language_info": {
   "codemirror_mode": {
    "name": "ipython",
    "version": 3
   },
   "file_extension": ".py",
   "mimetype": "text/x-python",
   "name": "python",
   "nbconvert_exporter": "python",
   "pygments_lexer": "ipython3",
   "version": "3.9.12"
  },
  "orig_nbformat": 4,
  "vscode": {
   "interpreter": {
    "hash": "b045fddb768a69d708aeb44bac4815a8765073d6505277d1278f194b80f63e22"
   }
  }
 },
 "nbformat": 4,
 "nbformat_minor": 2
}
