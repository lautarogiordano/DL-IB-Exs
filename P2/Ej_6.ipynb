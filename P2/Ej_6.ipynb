{
 "cells": [
  {
   "cell_type": "markdown",
   "metadata": {},
   "source": [
    "![ej6](img/ej6.png)"
   ]
  },
  {
   "cell_type": "code",
   "execution_count": 1,
   "metadata": {},
   "outputs": [],
   "source": [
    "import numpy as np\n",
    "from matplotlib import pyplot as plt\n",
    "from my_keras import activations, models, losses, metrics, regularizers, layers, optimizers"
   ]
  },
  {
   "cell_type": "code",
   "execution_count": 27,
   "metadata": {},
   "outputs": [
    {
     "name": "stdout",
     "output_type": "stream",
     "text": [
      "(4, 3) (4, 1)\n"
     ]
    }
   ],
   "source": [
    "X_train = np.array([[-1, -1],\n",
    "                    [-1, 1],\n",
    "                    [1, -1],\n",
    "                    [1, 1]], dtype=float)\n",
    "\n",
    "y_train = np.array([[-1], [1], [1], [-1]], dtype=float)\n",
    "\n",
    "X_train = np.hstack((np.ones((X_train.shape[0], 1)), X_train))\n",
    "\n",
    "print(X_train.shape, y_train.shape)"
   ]
  },
  {
   "cell_type": "code",
   "execution_count": 28,
   "metadata": {},
   "outputs": [],
   "source": [
    "n_features = X_train.shape[1]\n",
    "model = models.Network()\n",
    "\n",
    "reg = regularizers.L2(lambda_=0) "
   ]
  },
  {
   "cell_type": "code",
   "execution_count": 29,
   "metadata": {},
   "outputs": [
    {
     "name": "stdout",
     "output_type": "stream",
     "text": [
      "Layer 0: <class 'my_keras.layers.Input'>\n",
      "Layer 1: <class 'my_keras.layers.Dense'>\n",
      "Layer 2: <class 'my_keras.layers.LastLayer'>\n"
     ]
    }
   ],
   "source": [
    "model.add(layers.Input(n_features, reg=reg))\n",
    "model.add(layers.Dense(2, activation=activations.tanh(), reg=reg), scale=1)\n",
    "model.add(layers.LastLayer(1, activation=activations.tanh()), scale=1)\n",
    "model.printLayers()"
   ]
  },
  {
   "cell_type": "code",
   "execution_count": 30,
   "metadata": {},
   "outputs": [
    {
     "name": "stdout",
     "output_type": "stream",
     "text": [
      "Epoch: 0, Train loss: 0.6058763446603652\n",
      "Epoch: 1000, Train loss: 0.004681210291233696\n",
      "Epoch: 2000, Train loss: 0.0020031197893378453\n",
      "Epoch: 3000, Train loss: 0.0012582162303697495\n",
      "Epoch: 4000, Train loss: 0.0009131477306671111\n",
      "Epoch: 5000, Train loss: 0.0007151079647221528\n",
      "Epoch: 6000, Train loss: 0.0005869567774251012\n",
      "Epoch: 7000, Train loss: 0.0004973815202422181\n",
      "Epoch: 8000, Train loss: 0.0004313067635838345\n",
      "Epoch: 9000, Train loss: 0.00038059073127429897\n"
     ]
    }
   ],
   "source": [
    "model.fit(X_train, y_train, loss=losses.MSE_XOR(), \n",
    "          opt=optimizers.SGD(alpha=.1), epochs=10000, batch_size=None)"
   ]
  },
  {
   "cell_type": "code",
   "execution_count": 32,
   "metadata": {},
   "outputs": [
    {
     "data": {
      "text/plain": [
       "1.0"
      ]
     },
     "execution_count": 32,
     "metadata": {},
     "output_type": "execute_result"
    }
   ],
   "source": [
    "acc = metrics.acc_XOR(model.predict(X_train), y_train)\n",
    "acc"
   ]
  }
 ],
 "metadata": {
  "kernelspec": {
   "display_name": "Python 3.9.12 ('base')",
   "language": "python",
   "name": "python3"
  },
  "language_info": {
   "codemirror_mode": {
    "name": "ipython",
    "version": 3
   },
   "file_extension": ".py",
   "mimetype": "text/x-python",
   "name": "python",
   "nbconvert_exporter": "python",
   "pygments_lexer": "ipython3",
   "version": "3.9.12"
  },
  "orig_nbformat": 4,
  "vscode": {
   "interpreter": {
    "hash": "b045fddb768a69d708aeb44bac4815a8765073d6505277d1278f194b80f63e22"
   }
  }
 },
 "nbformat": 4,
 "nbformat_minor": 2
}
