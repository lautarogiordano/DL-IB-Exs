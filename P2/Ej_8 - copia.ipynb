{
 "cells": [
  {
   "cell_type": "code",
   "execution_count": 1,
   "metadata": {},
   "outputs": [],
   "source": [
    "import numpy as np\n",
    "from matplotlib import pyplot as plt\n",
    "from my_keras import *\n",
    "from keras.datasets import cifar10"
   ]
  },
  {
   "cell_type": "code",
   "execution_count": 2,
   "metadata": {},
   "outputs": [
    {
     "name": "stdout",
     "output_type": "stream",
     "text": [
      "Train: X=(50000, 32, 32, 3), y=(50000, 1)\n",
      "Test: X=(10000, 32, 32, 3), y=(10000, 1)\n"
     ]
    }
   ],
   "source": [
    "names_dict = {0: 'airplane', 1: 'automobile', 2: 'bird', \n",
    "              3: 'cat', 4: 'deer', 5: 'dog', \n",
    "              6: 'frog', 7: 'horse', 8: 'ship', \n",
    "              9: 'truck'}\n",
    "              \n",
    "(Xtrain, ytrain), (Xtest, ytest) = cifar10.load_data()\n",
    "\n",
    "\n",
    "# summarize loaded dataset\n",
    "print('Train: X=%s, y=%s' % (Xtrain.shape, ytrain.shape))\n",
    "print('Test: X=%s, y=%s' % (Xtest.shape, ytest.shape))"
   ]
  },
  {
   "cell_type": "code",
   "execution_count": 3,
   "metadata": {},
   "outputs": [],
   "source": [
    "def process(X):\n",
    "    X_norm = X.reshape(len(X), X[0].size).astype(float)\n",
    "    X_norm -= np.mean(X)\n",
    "    X_norm /= np.std(X)\n",
    "    #X_norm = np.hstack((np.ones((X_norm.shape[0], 1)), X_norm)).astype(float)\n",
    "    return X_norm"
   ]
  },
  {
   "cell_type": "code",
   "execution_count": 4,
   "metadata": {},
   "outputs": [
    {
     "name": "stdout",
     "output_type": "stream",
     "text": [
      "(50000, 3072) (50000, 1)\n"
     ]
    }
   ],
   "source": [
    "Xtrain_n = process(Xtrain)\n",
    "Xtest_n = process(Xtest)\n",
    "\n",
    "testdata = [Xtest_n, ytest]\n",
    "\n",
    "print(Xtrain_n.shape, ytrain.shape)"
   ]
  },
  {
   "cell_type": "code",
   "execution_count": 8,
   "metadata": {},
   "outputs": [
    {
     "name": "stdout",
     "output_type": "stream",
     "text": [
      "Layer 0: <class 'my_keras.layers2.Input'>, neurons: 3072\n",
      "Layer 1: <class 'my_keras.layers2.Dense'>, neurons: 100\n",
      "Layer 2: <class 'my_keras.layers2.Dense'>, neurons: 100\n",
      "Layer 3: <class 'my_keras.layers2.Dense'>, neurons: 10\n"
     ]
    }
   ],
   "source": [
    "reg1 = regularizers.L2(lambda_=0.01)\n",
    "reg2 = regularizers.L2(lambda_=0.01)\n",
    "reg3 = regularizers.L2(lambda_=0.01)\n",
    "\n",
    "model = models2.Network()\n",
    "\n",
    "model.add(layers2.Input(Xtrain_n.shape[1]))\n",
    "model.add(layers2.Dense(3072, 100, activation=activations.sigmoid(), reg=reg1), scale=1)\n",
    "model.add(layers2.Dense(100, 100, activation=activations.sigmoid(),reg=reg2), scale=1)\n",
    "model.add(layers2.Dense(100, 10, activation=activations.linear(),reg=reg3), scale=.1)\n",
    "model.printLayers()"
   ]
  },
  {
   "cell_type": "markdown",
   "metadata": {},
   "source": [
    "Debugging"
   ]
  },
  {
   "cell_type": "code",
   "execution_count": 19,
   "metadata": {},
   "outputs": [],
   "source": [
    "yb_pred = model.forward(Xtrain_n[0:10,:])\n",
    "ytrue = ytrain[0:10]\n"
   ]
  },
  {
   "cell_type": "code",
   "execution_count": 26,
   "metadata": {},
   "outputs": [
    {
     "data": {
      "text/plain": [
       "array([0.11429995, 0.07612693, 0.15424863, 0.08991349, 0.08486158,\n",
       "       0.06732908, 0.08758196, 0.12049344, 0.09925921, 0.1055628 ])"
      ]
     },
     "execution_count": 26,
     "metadata": {},
     "output_type": "execute_result"
    }
   ],
   "source": [
    "yb_pred[1,:]"
   ]
  },
  {
   "cell_type": "code",
   "execution_count": 31,
   "metadata": {},
   "outputs": [
    {
     "data": {
      "text/plain": [
       "array([ 0.00186057, -0.00493747,  0.00687714,  0.00186556, -0.00066914,\n",
       "        0.0038537 , -0.00265879, -0.00459368,  0.0028279 ,  0.00332276,\n",
       "       -0.00048725, -0.00172156,  0.0061445 , -0.00582068, -0.00311978,\n",
       "        0.00081883,  0.00104447,  0.00150712,  0.00467226, -0.00476064,\n",
       "        0.00493139, -0.00282329, -0.00367341,  0.00034028, -0.00494267,\n",
       "        0.00018841,  0.00208042,  0.00061467,  0.00311382,  0.00151655,\n",
       "        0.00011952,  0.0012578 , -0.0037466 , -0.00139676, -0.00706372,\n",
       "       -0.00366129, -0.00616675,  0.00483708,  0.00234445,  0.00481707,\n",
       "       -0.00669016, -0.0040329 , -0.00226148, -0.00378999, -0.00515295,\n",
       "        0.00395519,  0.00486388,  0.00031991, -0.0031743 , -0.00169396,\n",
       "        0.00190817, -0.0048594 , -0.00271808, -0.00325529, -0.00433853,\n",
       "       -0.00105508,  0.00443437,  0.00370678, -0.00431911,  0.00611647,\n",
       "       -0.00043637, -0.00383416,  0.00108607, -0.00176175, -0.00626907,\n",
       "        0.00121644, -0.00478092,  0.0026564 , -0.00012511, -0.00579624,\n",
       "       -0.0049055 ,  0.00573893, -0.00169837,  0.00211032,  0.00348522,\n",
       "        0.00650786, -0.00313242,  0.00142123,  0.00162439,  0.00632578,\n",
       "       -0.00396188, -0.0057146 ,  0.00066248,  0.00499009, -0.00684187,\n",
       "       -0.0067814 , -0.00384333,  0.0060019 , -0.00408974, -0.00258957,\n",
       "       -0.0040843 ,  0.00638181,  0.00212006,  0.00637522,  0.00673552,\n",
       "        0.00225041,  0.00425286,  0.00206186, -0.00588838, -0.00228331])"
      ]
     },
     "execution_count": 31,
     "metadata": {},
     "output_type": "execute_result"
    }
   ],
   "source": [
    "model.layers[1].W[0,:]"
   ]
  },
  {
   "cell_type": "code",
   "execution_count": 96,
   "metadata": {},
   "outputs": [
    {
     "data": {
      "text/plain": [
       "0.9977181036427625"
      ]
     },
     "execution_count": 96,
     "metadata": {},
     "output_type": "execute_result"
    }
   ],
   "source": [
    "lossy = losses.MSE_img()\n",
    "lossy(yb_pred, ytrue)\n"
   ]
  },
  {
   "cell_type": "code",
   "execution_count": 120,
   "metadata": {},
   "outputs": [
    {
     "data": {
      "text/plain": [
       "array([ 0.99729174,  0.99759259,  0.99761771,  0.99764621,  0.99778361,\n",
       "        0.99744966, -0.00213476,  0.96577349,  0.9973367 ,  0.97989648])"
      ]
     },
     "execution_count": 120,
     "metadata": {},
     "output_type": "execute_result"
    }
   ],
   "source": [
    "yb_pred[0]\n",
    "diff[0]"
   ]
  },
  {
   "cell_type": "markdown",
   "metadata": {},
   "source": [
    "Fitting"
   ]
  },
  {
   "cell_type": "code",
   "execution_count": 9,
   "metadata": {},
   "outputs": [
    {
     "name": "stdout",
     "output_type": "stream",
     "text": [
      "Epoch 0, Train loss: 0.5015\n",
      " Accuracy test: 10.00\n",
      "Epoch 5, Train loss: 0.4812\n",
      " Accuracy test: 10.00\n",
      "Epoch 10, Train loss: 0.4692\n",
      " Accuracy test: 10.00\n",
      "Epoch 15, Train loss: 0.4620\n",
      " Accuracy test: 13.41\n",
      "Epoch 20, Train loss: 0.4575\n",
      " Accuracy test: 10.00\n",
      "Epoch 25, Train loss: 0.4548\n",
      " Accuracy test: 10.00\n",
      "Epoch 30, Train loss: 0.4532\n",
      " Accuracy test: 10.00\n",
      "Epoch 35, Train loss: 0.4519\n",
      " Accuracy test: 10.00\n",
      "Epoch 40, Train loss: 0.4492\n",
      " Accuracy test: 14.72\n",
      "Epoch 45, Train loss: 0.4406\n",
      " Accuracy test: 16.56\n"
     ]
    }
   ],
   "source": [
    "loss_hist = model.fit(Xtrain_n, ytrain, loss=losses.MSE_img(), opt=optimizers.SGD(alpha=.01), \n",
    "                      metric=metrics.acc_img, testdata=testdata, epochs=50, batch_size=100)"
   ]
  },
  {
   "cell_type": "code",
   "execution_count": 18,
   "metadata": {},
   "outputs": [
    {
     "data": {
      "text/plain": [
       "array([1, 1, 1, 1, 1, 1, 1, 1, 1, 1])"
      ]
     },
     "execution_count": 18,
     "metadata": {},
     "output_type": "execute_result"
    }
   ],
   "source": [
    "yb_pred = model.predict(Xtrain_n[0:10])\n",
    "np.argmax(yb_pred, axis=1)"
   ]
  },
  {
   "cell_type": "code",
   "execution_count": 10,
   "metadata": {},
   "outputs": [
    {
     "name": "stdout",
     "output_type": "stream",
     "text": [
      "18.236 18.45\n"
     ]
    },
    {
     "data": {
      "image/png": "[encoded data removed]",
      "text/plain": [
       "<Figure size 432x288 with 1 Axes>"
      ]
     },
     "metadata": {
      "needs_background": "light"
     },
     "output_type": "display_data"
    }
   ],
   "source": [
    "plt.plot(loss_hist)\n",
    "print(100*metrics.acc_img(model.forward(Xtrain_n), ytrain), \n",
    "      100*metrics.acc_img(model.predict(Xtest_n), ytest))\n"
   ]
  },
  {
   "cell_type": "code",
   "execution_count": null,
   "metadata": {},
   "outputs": [],
   "source": []
  }
 ],
 "metadata": {
  "kernelspec": {
   "display_name": "Python 3.8.8 ('base')",
   "language": "python",
   "name": "python3"
  },
  "language_info": {
   "codemirror_mode": {
    "name": "ipython",
    "version": 3
   },
   "file_extension": ".py",
   "mimetype": "text/x-python",
   "name": "python",
   "nbconvert_exporter": "python",
   "pygments_lexer": "ipython3",
   "version": "3.8.8"
  },
  "orig_nbformat": 4,
  "vscode": {
   "interpreter": {
    "hash": "3159170d9fcce935f4a2f5b40d38978387b4f643b035d22b78e982df0db07ec7"
   }
  }
 },
 "nbformat": 4,
 "nbformat_minor": 2
}
