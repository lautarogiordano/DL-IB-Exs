{
 "cells": [
  {
   "cell_type": "code",
   "execution_count": 2,
   "metadata": {},
   "outputs": [],
   "source": [
    "import numpy as np\n",
    "from matplotlib import pyplot as plt\n",
    "from my_keras import *\n",
    "from keras.datasets import cifar10"
   ]
  },
  {
   "cell_type": "code",
   "execution_count": 3,
   "metadata": {},
   "outputs": [
    {
     "name": "stdout",
     "output_type": "stream",
     "text": [
      "Train: X=(50000, 32, 32, 3), y=(50000, 1)\n",
      "Test: X=(10000, 32, 32, 3), y=(10000, 1)\n"
     ]
    }
   ],
   "source": [
    "names_dict = {0: 'airplane', 1: 'automobile', 2: 'bird', \n",
    "              3: 'cat', 4: 'deer', 5: 'dog', \n",
    "              6: 'frog', 7: 'horse', 8: 'ship', \n",
    "              9: 'truck'}\n",
    "              \n",
    "(Xtrain, ytrain), (Xtest, ytest) = cifar10.load_data()\n",
    "\n",
    "\n",
    "# summarize loaded dataset\n",
    "print('Train: X=%s, y=%s' % (Xtrain.shape, ytrain.shape))\n",
    "print('Test: X=%s, y=%s' % (Xtest.shape, ytest.shape))"
   ]
  },
  {
   "cell_type": "code",
   "execution_count": 4,
   "metadata": {},
   "outputs": [],
   "source": [
    "def process(X):\n",
    "    X_norm = X.reshape(len(X), X[0].size).astype(float)\n",
    "    X_norm -= np.mean(X)\n",
    "    X_norm /= np.std(X).astype(float)\n",
    "    #X_norm = np.hstack((np.ones((X_norm.shape[0], 1)), X_norm)).astype(float)\n",
    "    return X_norm"
   ]
  },
  {
   "cell_type": "code",
   "execution_count": 5,
   "metadata": {},
   "outputs": [
    {
     "name": "stdout",
     "output_type": "stream",
     "text": [
      "(50000, 3072) (50000, 1)\n"
     ]
    }
   ],
   "source": [
    "Xtrain_n = process(Xtrain)\n",
    "Xtest_n = process(Xtest)\n",
    "\n",
    "testdata = [Xtest_n, ytest]\n",
    "\n",
    "print(Xtrain_n.shape, ytrain.shape)"
   ]
  },
  {
   "cell_type": "code",
   "execution_count": 12,
   "metadata": {},
   "outputs": [
    {
     "name": "stdout",
     "output_type": "stream",
     "text": [
      "Layer 0: <class 'my_keras.layers2.Input'>, neurons: 3072\n",
      "Layer 1: <class 'my_keras.layers2.Dense'>, neurons: 100\n",
      "Layer 2: <class 'my_keras.layers2.Dense'>, neurons: 50\n",
      "Layer 3: <class 'my_keras.layers2.Dense'>, neurons: 10\n"
     ]
    }
   ],
   "source": [
    "reg1 = regularizers.L2(lambda_=0.01)\n",
    "reg2 = regularizers.L2(lambda_=0.01)\n",
    "reg3 = regularizers.L2(lambda_=0.01)\n",
    "\n",
    "model = models2.Network()\n",
    "\n",
    "model.add(layers2.Input(Xtrain_n.shape[1]))\n",
    "model.add(layers2.Dense(3072, 100, activation=activations.RELU(), reg=reg1), scale=.01)\n",
    "model.add(layers2.Dense(100, 50, activation=activations.RELU(),reg=reg2), scale=.01)\n",
    "model.add(layers2.Dense(50, 10, activation=activations.linear(),reg=reg3), scale=.1)\n",
    "model.printLayers()"
   ]
  },
  {
   "cell_type": "markdown",
   "metadata": {},
   "source": [
    "Debugging"
   ]
  },
  {
   "cell_type": "code",
   "execution_count": 80,
   "metadata": {},
   "outputs": [],
   "source": [
    "yb_pred = model.forward(Xtrain_n[0:10,:])\n",
    "ytrue = ytrain[0:10]\n"
   ]
  },
  {
   "cell_type": "code",
   "execution_count": 77,
   "metadata": {},
   "outputs": [
    {
     "data": {
      "text/plain": [
       "(10, 1)"
      ]
     },
     "execution_count": 77,
     "metadata": {},
     "output_type": "execute_result"
    }
   ],
   "source": [
    "\n",
    "till = 2\n",
    "pred = yb_pred[0:till]\n",
    "\n",
    "metrics.MSE_i(yb_pred[0:till], ytrue[0:till])\n",
    "ytrue.shape"
   ]
  },
  {
   "cell_type": "code",
   "execution_count": 119,
   "metadata": {},
   "outputs": [
    {
     "data": {
      "text/plain": [
       "4.445700106495329"
      ]
     },
     "execution_count": 119,
     "metadata": {},
     "output_type": "execute_result"
    }
   ],
   "source": [
    "diff = np.copy(yb_pred)\n",
    "m = diff.shape[0]\n",
    "idx = np.arange(0, m)\n",
    "ys = ytrue[:,0]\n",
    "diff[idx, ytrue[:,0]] -= 1\n",
    "\n",
    "np.linalg.norm(diff)**2 / (2*m)"
   ]
  },
  {
   "cell_type": "code",
   "execution_count": 96,
   "metadata": {},
   "outputs": [
    {
     "data": {
      "text/plain": [
       "0.9977181036427625"
      ]
     },
     "execution_count": 96,
     "metadata": {},
     "output_type": "execute_result"
    }
   ],
   "source": [
    "lossy = losses.MSE_img()\n",
    "lossy(yb_pred, ytrue)\n"
   ]
  },
  {
   "cell_type": "code",
   "execution_count": 120,
   "metadata": {},
   "outputs": [
    {
     "data": {
      "text/plain": [
       "array([ 0.99729174,  0.99759259,  0.99761771,  0.99764621,  0.99778361,\n",
       "        0.99744966, -0.00213476,  0.96577349,  0.9973367 ,  0.97989648])"
      ]
     },
     "execution_count": 120,
     "metadata": {},
     "output_type": "execute_result"
    }
   ],
   "source": [
    "yb_pred[0]\n",
    "diff[0]"
   ]
  },
  {
   "cell_type": "markdown",
   "metadata": {},
   "source": [
    "Fitting"
   ]
  },
  {
   "cell_type": "code",
   "execution_count": 13,
   "metadata": {},
   "outputs": [
    {
     "name": "stdout",
     "output_type": "stream",
     "text": [
      "Epoch 0, Train loss: 0.5242\n",
      " Accuracy test: 10.00\n",
      "Epoch 2, Train loss: 0.5003\n",
      " Accuracy test: 12.23\n",
      "Epoch 4, Train loss: 0.4979\n",
      " Accuracy test: 14.89\n",
      "Epoch 6, Train loss: 0.4959\n",
      " Accuracy test: 18.90\n",
      "Epoch 8, Train loss: 0.4939\n",
      " Accuracy test: 20.94\n",
      "Epoch 10, Train loss: 0.4917\n",
      " Accuracy test: 18.62\n",
      "Epoch 12, Train loss: 0.4886\n",
      " Accuracy test: 19.25\n",
      "Epoch 14, Train loss: 0.4830\n",
      " Accuracy test: 17.61\n",
      "Epoch 16, Train loss: 0.4763\n",
      " Accuracy test: 19.65\n",
      "Epoch 18, Train loss: 0.4716\n",
      " Accuracy test: 18.25\n"
     ]
    }
   ],
   "source": [
    "loss_hist = model.fit(Xtrain_n, ytrain, loss=losses.MSE_img(), opt=optimizers.SGD(alpha=.001), \n",
    "                      metric=metrics.acc_img, testdata=testdata, epochs=20, batch_size=50)"
   ]
  },
  {
   "cell_type": "code",
   "execution_count": 27,
   "metadata": {},
   "outputs": [
    {
     "data": {
      "text/plain": [
       "4.180615453607106"
      ]
     },
     "execution_count": 27,
     "metadata": {},
     "output_type": "execute_result"
    }
   ],
   "source": []
  },
  {
   "cell_type": "code",
   "execution_count": 14,
   "metadata": {},
   "outputs": [
    {
     "name": "stdout",
     "output_type": "stream",
     "text": [
      "18.508 18.32\n"
     ]
    },
    {
     "data": {
      "image/png": "[encoded data removed]",
      "text/plain": [
       "<Figure size 432x288 with 1 Axes>"
      ]
     },
     "metadata": {
      "needs_background": "light"
     },
     "output_type": "display_data"
    }
   ],
   "source": [
    "plt.plot(loss_hist)\n",
    "print(100*metrics.acc_img(model.forward(Xtrain_n), ytrain), \n",
    "      100*metrics.acc_img(model.predict(Xtest_n), ytest))\n"
   ]
  },
  {
   "cell_type": "code",
   "execution_count": null,
   "metadata": {},
   "outputs": [],
   "source": []
  }
 ],
 "metadata": {
  "kernelspec": {
   "display_name": "Python 3.9.12 ('base')",
   "language": "python",
   "name": "python3"
  },
  "language_info": {
   "codemirror_mode": {
    "name": "ipython",
    "version": 3
   },
   "file_extension": ".py",
   "mimetype": "text/x-python",
   "name": "python",
   "nbconvert_exporter": "python",
   "pygments_lexer": "ipython3",
   "version": "3.9.12"
  },
  "orig_nbformat": 4,
  "vscode": {
   "interpreter": {
    "hash": "b045fddb768a69d708aeb44bac4815a8765073d6505277d1278f194b80f63e22"
   }
  }
 },
 "nbformat": 4,
 "nbformat_minor": 2
}
