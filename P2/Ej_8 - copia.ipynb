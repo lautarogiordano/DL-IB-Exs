{
 "cells": [
  {
   "cell_type": "code",
   "execution_count": 1,
   "metadata": {},
   "outputs": [],
   "source": [
    "import numpy as np\n",
    "from matplotlib import pyplot as plt\n",
    "from my_keras import *\n",
    "from keras.datasets import cifar10"
   ]
  },
  {
   "cell_type": "code",
   "execution_count": 2,
   "metadata": {},
   "outputs": [
    {
     "name": "stdout",
     "output_type": "stream",
     "text": [
      "Train: X=(50000, 32, 32, 3), y=(50000, 1)\n",
      "Test: X=(10000, 32, 32, 3), y=(10000, 1)\n"
     ]
    }
   ],
   "source": [
    "names_dict = {0: 'airplane', 1: 'automobile', 2: 'bird', \n",
    "              3: 'cat', 4: 'deer', 5: 'dog', \n",
    "              6: 'frog', 7: 'horse', 8: 'ship', \n",
    "              9: 'truck'}\n",
    "              \n",
    "(Xtrain, ytrain), (Xtest, ytest) = cifar10.load_data()\n",
    "\n",
    "\n",
    "# summarize loaded dataset\n",
    "print('Train: X=%s, y=%s' % (Xtrain.shape, ytrain.shape))\n",
    "print('Test: X=%s, y=%s' % (Xtest.shape, ytest.shape))"
   ]
  },
  {
   "cell_type": "code",
   "execution_count": 3,
   "metadata": {},
   "outputs": [],
   "source": [
    "def process(X):\n",
    "    X_norm = X.reshape(len(X), X[0].size).astype(float)\n",
    "    X_norm -= np.mean(X)\n",
    "    X_norm /= np.std(X).astype(float)\n",
    "    #X_norm = np.hstack((np.ones((X_norm.shape[0], 1)), X_norm)).astype(float)\n",
    "    return X_norm"
   ]
  },
  {
   "cell_type": "code",
   "execution_count": 4,
   "metadata": {},
   "outputs": [
    {
     "name": "stdout",
     "output_type": "stream",
     "text": [
      "(50000, 3072) (50000, 1)\n"
     ]
    }
   ],
   "source": [
    "Xtrain_n = process(Xtrain)\n",
    "Xtest_n = process(Xtest)\n",
    "\n",
    "testdata = [Xtest_n, ytest]\n",
    "\n",
    "print(Xtrain_n.shape, ytrain.shape)"
   ]
  },
  {
   "cell_type": "code",
   "execution_count": 5,
   "metadata": {},
   "outputs": [
    {
     "name": "stdout",
     "output_type": "stream",
     "text": [
      "Layer 0: <class 'my_keras.layers2.Input'>, neurons: 3072\n",
      "Layer 1: <class 'my_keras.layers2.Dense'>, neurons: 100\n",
      "Layer 2: <class 'my_keras.layers2.Dense'>, neurons: 10\n"
     ]
    }
   ],
   "source": [
    "reg1 = regularizers.L2(lambda_=0.01)\n",
    "reg2 = regularizers.L2(lambda_=0.01)\n",
    "reg3 = regularizers.L2(lambda_=0.01)\n",
    "\n",
    "model = models2.Network()\n",
    "\n",
    "model.add(layers2.Input(Xtrain_n.shape[1]))\n",
    "model.add(layers2.Dense(3072, 100, activation=activations.sigmoid(), reg=reg1), scale=.01)\n",
    "model.add(layers2.Dense(100, 10, activation=activations.sigmoid(),reg=reg2), scale=.01)\n",
    "model.printLayers()"
   ]
  },
  {
   "cell_type": "code",
   "execution_count": 6,
   "metadata": {},
   "outputs": [
    {
     "data": {
      "text/plain": [
       "array([[0.64987621, 0.47478916, 0.61493125, 0.39012236, 0.5576118 ,\n",
       "        0.42205731, 0.50304076, 0.56011769, 0.57361812, 0.45519566,\n",
       "        0.55956313, 0.43928686, 0.41630772, 0.62243779, 0.58616471,\n",
       "        0.47459918, 0.499515  , 0.49574157, 0.51297235, 0.53967868,\n",
       "        0.52132281, 0.40069219, 0.44199204, 0.57388915, 0.3611546 ,\n",
       "        0.60365868, 0.47378353, 0.41799474, 0.4742932 , 0.53320877,\n",
       "        0.58151368, 0.3925632 , 0.54663473, 0.45268344, 0.45723761,\n",
       "        0.50306899, 0.52240709, 0.40614584, 0.53659118, 0.45947162,\n",
       "        0.52874326, 0.34307435, 0.48382366, 0.57802371, 0.51397838,\n",
       "        0.52487788, 0.50273016, 0.48376878, 0.48022611, 0.52819496,\n",
       "        0.4705915 , 0.47679101, 0.56692369, 0.52189343, 0.58334909,\n",
       "        0.56096107, 0.52621434, 0.46939463, 0.465032  , 0.50108631,\n",
       "        0.57905794, 0.49006969, 0.68229301, 0.54931473, 0.54471447,\n",
       "        0.51425807, 0.41431838, 0.56456357, 0.56214548, 0.46036865,\n",
       "        0.52232929, 0.4619264 , 0.60109674, 0.49586906, 0.36696121,\n",
       "        0.62382371, 0.41599483, 0.55055564, 0.50044707, 0.48582152,\n",
       "        0.32585726, 0.49809955, 0.54420684, 0.4644509 , 0.53753634,\n",
       "        0.49586486, 0.41731579, 0.44162525, 0.56878424, 0.49310951,\n",
       "        0.43542304, 0.51148785, 0.51649958, 0.5875257 , 0.4999579 ,\n",
       "        0.46319507, 0.49525845, 0.44094687, 0.49737279, 0.55424407],\n",
       "       [0.44034583, 0.45355429, 0.48599265, 0.53195813, 0.49967543,\n",
       "        0.51317507, 0.49127072, 0.4265161 , 0.46923907, 0.50951449,\n",
       "        0.47002799, 0.50071824, 0.62791266, 0.47304466, 0.52636397,\n",
       "        0.49715875, 0.57911306, 0.65567562, 0.51009378, 0.38826759,\n",
       "        0.46959372, 0.54850246, 0.54304337, 0.44731084, 0.49001331,\n",
       "        0.54096581, 0.38530051, 0.43862604, 0.50869963, 0.52435273,\n",
       "        0.46703091, 0.54865501, 0.5901028 , 0.3912676 , 0.68288018,\n",
       "        0.45742772, 0.49863132, 0.45102054, 0.50917882, 0.42832014,\n",
       "        0.48957312, 0.57570051, 0.4577376 , 0.70416655, 0.50415392,\n",
       "        0.38590203, 0.42934766, 0.47504548, 0.58025495, 0.55552602,\n",
       "        0.40898148, 0.62099296, 0.40769967, 0.48454373, 0.44902096,\n",
       "        0.45307845, 0.55081651, 0.62611105, 0.54778334, 0.39895996,\n",
       "        0.45640846, 0.51269671, 0.49918923, 0.48674775, 0.50298547,\n",
       "        0.44007626, 0.43077692, 0.38551172, 0.52655227, 0.33983829,\n",
       "        0.57685768, 0.4369908 , 0.61019407, 0.46778545, 0.47882928,\n",
       "        0.60875992, 0.48417005, 0.65125011, 0.26884745, 0.50000318,\n",
       "        0.40843207, 0.5509632 , 0.62523317, 0.6194692 , 0.43878446,\n",
       "        0.53347621, 0.56287862, 0.56542924, 0.49233997, 0.59719251,\n",
       "        0.43096956, 0.55623585, 0.33646971, 0.54514174, 0.3858693 ,\n",
       "        0.56915433, 0.50428728, 0.46941814, 0.53553153, 0.51428905],\n",
       "       [0.48158199, 0.47672683, 0.35991449, 0.47859935, 0.62939929,\n",
       "        0.51271144, 0.44425024, 0.4731972 , 0.44995719, 0.44500944,\n",
       "        0.23253404, 0.53335702, 0.69383474, 0.38907017, 0.43484451,\n",
       "        0.60322293, 0.57462869, 0.57455513, 0.55395738, 0.4784323 ,\n",
       "        0.53382384, 0.66402444, 0.45969006, 0.34911952, 0.47149488,\n",
       "        0.30828391, 0.48875343, 0.37904474, 0.37139615, 0.57705001,\n",
       "        0.51225068, 0.57752684, 0.44105728, 0.5142714 , 0.61660367,\n",
       "        0.42347121, 0.5188246 , 0.3360043 , 0.57701412, 0.47073929,\n",
       "        0.55694194, 0.58138695, 0.49609833, 0.35365888, 0.57246052,\n",
       "        0.4887971 , 0.52103709, 0.51558351, 0.66239471, 0.50773295,\n",
       "        0.49264725, 0.51904918, 0.30821595, 0.39559345, 0.67606673,\n",
       "        0.39129532, 0.46875522, 0.37290282, 0.40983617, 0.50377645,\n",
       "        0.50501808, 0.37790417, 0.55193281, 0.50537141, 0.66389135,\n",
       "        0.50817666, 0.63216304, 0.37539711, 0.50751051, 0.61316854,\n",
       "        0.4983429 , 0.57053938, 0.32244687, 0.35201266, 0.53539481,\n",
       "        0.58477607, 0.55885614, 0.4774742 , 0.48263109, 0.71560527,\n",
       "        0.6594212 , 0.40298314, 0.53629746, 0.50933252, 0.57384852,\n",
       "        0.49751271, 0.69817716, 0.3805009 , 0.54090936, 0.50590179,\n",
       "        0.75946002, 0.67313529, 0.65874828, 0.37682517, 0.51350702,\n",
       "        0.49794977, 0.47683432, 0.41883004, 0.48443981, 0.46371575],\n",
       "       [0.5630496 , 0.54595058, 0.52066921, 0.34805179, 0.48169264,\n",
       "        0.5516655 , 0.54409109, 0.58957241, 0.60536582, 0.45516067,\n",
       "        0.47667365, 0.41070838, 0.49772384, 0.62184704, 0.54279605,\n",
       "        0.50892802, 0.52135665, 0.44378491, 0.52360854, 0.58571389,\n",
       "        0.4959137 , 0.4703703 , 0.47250291, 0.57571196, 0.4074359 ,\n",
       "        0.69558337, 0.37221942, 0.47691209, 0.50189033, 0.56857883,\n",
       "        0.41461333, 0.40661918, 0.51051859, 0.48982137, 0.48610886,\n",
       "        0.42251984, 0.57579267, 0.47197419, 0.48750071, 0.44473227,\n",
       "        0.50142008, 0.45626573, 0.55897112, 0.43862941, 0.52836229,\n",
       "        0.6186462 , 0.49979383, 0.45545469, 0.46199365, 0.61333545,\n",
       "        0.40619524, 0.43891294, 0.57075553, 0.53136145, 0.50313039,\n",
       "        0.56177669, 0.49646039, 0.45955846, 0.60934826, 0.47424952,\n",
       "        0.63613204, 0.55804763, 0.54420437, 0.62672411, 0.50337566,\n",
       "        0.46399961, 0.44456849, 0.57413924, 0.4799373 , 0.4188532 ,\n",
       "        0.47066005, 0.37705387, 0.6086072 , 0.52470426, 0.3899449 ,\n",
       "        0.58097891, 0.37404292, 0.51171794, 0.57385239, 0.46851876,\n",
       "        0.4035085 , 0.47286957, 0.40781397, 0.55512831, 0.54852393,\n",
       "        0.44163812, 0.38800258, 0.5245254 , 0.52637554, 0.51932412,\n",
       "        0.4158284 , 0.51027843, 0.55722291, 0.51819193, 0.54474504,\n",
       "        0.50428906, 0.5128677 , 0.48055847, 0.4344896 , 0.57431741],\n",
       "       [0.36285001, 0.49284337, 0.46568402, 0.5647218 , 0.34733035,\n",
       "        0.62608633, 0.46254415, 0.47527311, 0.4958079 , 0.49955608,\n",
       "        0.42127679, 0.57801587, 0.5862522 , 0.42638466, 0.48415442,\n",
       "        0.4868872 , 0.48620468, 0.48477608, 0.59418048, 0.37728706,\n",
       "        0.47108161, 0.67640751, 0.4965935 , 0.52034682, 0.40799311,\n",
       "        0.49673296, 0.41038982, 0.46217741, 0.44247096, 0.62926666,\n",
       "        0.3457164 , 0.47990964, 0.39531239, 0.46167449, 0.54473661,\n",
       "        0.37006973, 0.53905586, 0.50423705, 0.49170276, 0.48827268,\n",
       "        0.46099019, 0.6522521 , 0.66494238, 0.44393357, 0.42641104,\n",
       "        0.54679881, 0.60464005, 0.52625453, 0.43761224, 0.51868812,\n",
       "        0.36450234, 0.45294785, 0.37607292, 0.40413274, 0.55658592,\n",
       "        0.45524639, 0.44616152, 0.41000964, 0.62009246, 0.50416128,\n",
       "        0.58505472, 0.3779442 , 0.60865445, 0.4840871 , 0.46471083,\n",
       "        0.50191809, 0.53164658, 0.46790684, 0.42528189, 0.51653371,\n",
       "        0.45730601, 0.39617948, 0.62507336, 0.44001406, 0.45419957,\n",
       "        0.47008419, 0.38837972, 0.56637377, 0.43726127, 0.53377846,\n",
       "        0.43282514, 0.60007283, 0.55723198, 0.5109694 , 0.46545583,\n",
       "        0.57871591, 0.49163453, 0.54791753, 0.6188551 , 0.38364098,\n",
       "        0.47243005, 0.48362959, 0.516632  , 0.57678894, 0.43610356,\n",
       "        0.5778521 , 0.57728143, 0.44585813, 0.47228169, 0.5684279 ],\n",
       "       [0.58403196, 0.66029   , 0.52648342, 0.49534106, 0.57198874,\n",
       "        0.4816998 , 0.49294298, 0.66958873, 0.46381075, 0.55590272,\n",
       "        0.45986638, 0.55563663, 0.5861283 , 0.62681925, 0.53848092,\n",
       "        0.52943292, 0.44598357, 0.31343338, 0.54169976, 0.59761647,\n",
       "        0.40747878, 0.47636002, 0.41412863, 0.48416964, 0.38914161,\n",
       "        0.56923335, 0.38939738, 0.39529774, 0.43607572, 0.65650889,\n",
       "        0.50085849, 0.59931998, 0.48682289, 0.53727404, 0.40890153,\n",
       "        0.49156113, 0.54572414, 0.31982587, 0.52532108, 0.37481701,\n",
       "        0.44314977, 0.39660037, 0.36100387, 0.42062725, 0.5521195 ,\n",
       "        0.68549809, 0.50260422, 0.32690651, 0.62477359, 0.61366308,\n",
       "        0.5472592 , 0.56056689, 0.5591021 , 0.52916892, 0.7488649 ,\n",
       "        0.54465796, 0.61747054, 0.38255014, 0.55999363, 0.56719648,\n",
       "        0.530152  , 0.51844012, 0.70075536, 0.58544575, 0.69466201,\n",
       "        0.57403231, 0.4359603 , 0.56222889, 0.60953857, 0.517963  ,\n",
       "        0.49794545, 0.41144065, 0.614187  , 0.44735194, 0.46031846,\n",
       "        0.63421805, 0.38622868, 0.49730842, 0.55736948, 0.51421817,\n",
       "        0.40956808, 0.48793251, 0.5326185 , 0.57822727, 0.54134398,\n",
       "        0.46435107, 0.40654736, 0.40835286, 0.70353846, 0.54290338,\n",
       "        0.44957277, 0.56682015, 0.50898189, 0.47876829, 0.51021744,\n",
       "        0.513399  , 0.51870575, 0.39303583, 0.48847611, 0.45996672],\n",
       "       [0.56790304, 0.50364106, 0.56826244, 0.39695231, 0.51319551,\n",
       "        0.45308675, 0.57045721, 0.48962182, 0.58360767, 0.41607273,\n",
       "        0.47516182, 0.45963633, 0.57428932, 0.51755627, 0.51469843,\n",
       "        0.41641979, 0.59208461, 0.38887793, 0.64764375, 0.55102908,\n",
       "        0.45537727, 0.47492494, 0.48002154, 0.521501  , 0.43144468,\n",
       "        0.48323338, 0.55967193, 0.50090677, 0.42117937, 0.47995621,\n",
       "        0.52903446, 0.53718141, 0.51539854, 0.38401707, 0.54400406,\n",
       "        0.5739207 , 0.48501398, 0.49565301, 0.48972282, 0.46971515,\n",
       "        0.5461546 , 0.39634958, 0.39732691, 0.59910381, 0.59575982,\n",
       "        0.4766084 , 0.35588669, 0.46079699, 0.57501604, 0.49224783,\n",
       "        0.56582576, 0.44395001, 0.58208393, 0.49812509, 0.57216995,\n",
       "        0.44445756, 0.512117  , 0.49881683, 0.46207237, 0.45505608,\n",
       "        0.59695372, 0.48921231, 0.47337904, 0.44900745, 0.61381903,\n",
       "        0.41004352, 0.4501572 , 0.46973715, 0.49903975, 0.5054849 ,\n",
       "        0.57735673, 0.45955794, 0.556129  , 0.54854518, 0.53751488,\n",
       "        0.46088096, 0.55335561, 0.48297488, 0.54679999, 0.5250306 ,\n",
       "        0.61242003, 0.54253774, 0.52629871, 0.53520784, 0.39816635,\n",
       "        0.51904236, 0.52881813, 0.46377262, 0.63068121, 0.54941871,\n",
       "        0.45725127, 0.51900705, 0.51048485, 0.54887189, 0.41997794,\n",
       "        0.5238433 , 0.46361977, 0.50395011, 0.43076367, 0.57838823],\n",
       "       [0.61288312, 0.48094867, 0.42090328, 0.56283745, 0.50368148,\n",
       "        0.44575356, 0.46299453, 0.40344518, 0.51168824, 0.61835618,\n",
       "        0.58695066, 0.48404162, 0.49799027, 0.50986872, 0.62242489,\n",
       "        0.46777917, 0.441182  , 0.36801405, 0.46924163, 0.4925162 ,\n",
       "        0.40137742, 0.47949287, 0.4958145 , 0.54729933, 0.52817898,\n",
       "        0.58609327, 0.6427644 , 0.41096343, 0.61932549, 0.53206699,\n",
       "        0.44749482, 0.55616293, 0.48490006, 0.49103695, 0.53586394,\n",
       "        0.54429751, 0.46744754, 0.35805714, 0.46621101, 0.45921964,\n",
       "        0.55238284, 0.42104602, 0.3581663 , 0.49475142, 0.4316994 ,\n",
       "        0.61350749, 0.4201483 , 0.40006983, 0.50538962, 0.46319894,\n",
       "        0.57673319, 0.41065262, 0.60820919, 0.55054365, 0.42633563,\n",
       "        0.60257552, 0.51139338, 0.39453475, 0.53498861, 0.55290975,\n",
       "        0.39684392, 0.54691809, 0.51205497, 0.52749315, 0.52589706,\n",
       "        0.43375957, 0.42994047, 0.45899819, 0.57199607, 0.52805113,\n",
       "        0.45814051, 0.43771978, 0.49920604, 0.51049327, 0.41309522,\n",
       "        0.51081513, 0.42626855, 0.44822745, 0.6695319 , 0.58014588,\n",
       "        0.53629296, 0.61527611, 0.58835047, 0.61054359, 0.43165313,\n",
       "        0.57396654, 0.49040093, 0.48082833, 0.58193888, 0.4484619 ,\n",
       "        0.42653342, 0.45792053, 0.3884369 , 0.48020003, 0.54917767,\n",
       "        0.50558617, 0.47016257, 0.46629165, 0.48410562, 0.50736566],\n",
       "       [0.42162401, 0.38523775, 0.51165839, 0.46105317, 0.50994116,\n",
       "        0.36687132, 0.55579777, 0.44759665, 0.45076445, 0.58130647,\n",
       "        0.39800468, 0.50054964, 0.48953563, 0.55682385, 0.50732977,\n",
       "        0.46336926, 0.54555286, 0.51192057, 0.50240084, 0.50114805,\n",
       "        0.51530107, 0.57525066, 0.58106542, 0.46125745, 0.450672  ,\n",
       "        0.34078751, 0.64526671, 0.50783507, 0.44181527, 0.41654795,\n",
       "        0.69417976, 0.62667572, 0.54052511, 0.45668075, 0.54913551,\n",
       "        0.4248074 , 0.53613446, 0.5600444 , 0.45953424, 0.69318541,\n",
       "        0.55518367, 0.59401491, 0.52165871, 0.50389327, 0.46459179,\n",
       "        0.34049897, 0.53238039, 0.77240032, 0.44299222, 0.42739112,\n",
       "        0.55426332, 0.48592455, 0.38325481, 0.48612947, 0.47747024,\n",
       "        0.34790975, 0.50171435, 0.64191621, 0.30686389, 0.55280502,\n",
       "        0.51195968, 0.34563265, 0.37093591, 0.36593397, 0.40843353,\n",
       "        0.43443067, 0.45644122, 0.4220411 , 0.42993551, 0.49395999,\n",
       "        0.60671308, 0.69250074, 0.45475201, 0.36865503, 0.61795341,\n",
       "        0.28694069, 0.65893036, 0.53001106, 0.52888117, 0.58895408,\n",
       "        0.50226144, 0.54869693, 0.54388949, 0.4990784 , 0.37348156,\n",
       "        0.59371965, 0.65964419, 0.50806089, 0.41214851, 0.4116384 ,\n",
       "        0.5941178 , 0.45974462, 0.46541769, 0.45779091, 0.47996815,\n",
       "        0.58715029, 0.54385535, 0.45545043, 0.44166066, 0.53611388],\n",
       "       [0.47479656, 0.62743713, 0.43902555, 0.50036929, 0.47242866,\n",
       "        0.61884501, 0.43890757, 0.58284317, 0.45665475, 0.55468571,\n",
       "        0.45754573, 0.57311509, 0.58686027, 0.51472159, 0.52603666,\n",
       "        0.38232898, 0.56022604, 0.40153464, 0.52840782, 0.48287788,\n",
       "        0.48979216, 0.56211564, 0.48110191, 0.47945747, 0.27836482,\n",
       "        0.6300726 , 0.31944471, 0.47792248, 0.44493408, 0.76700809,\n",
       "        0.28578321, 0.41412198, 0.44920587, 0.63325986, 0.54825628,\n",
       "        0.44584597, 0.61833679, 0.38721918, 0.51092288, 0.55515631,\n",
       "        0.5706042 , 0.46254692, 0.60539662, 0.37869946, 0.50603502,\n",
       "        0.60659124, 0.55025845, 0.34962571, 0.53397702, 0.56054641,\n",
       "        0.57490933, 0.34442829, 0.47583548, 0.62011498, 0.63340757,\n",
       "        0.58849389, 0.52775801, 0.41481476, 0.67426353, 0.50411758,\n",
       "        0.63065005, 0.45422115, 0.59214846, 0.65921444, 0.57111856,\n",
       "        0.50013874, 0.56336144, 0.45133329, 0.60565322, 0.43830927,\n",
       "        0.43152697, 0.27157468, 0.58616229, 0.51696743, 0.34057952,\n",
       "        0.53227571, 0.36877863, 0.33030646, 0.5979956 , 0.58269755,\n",
       "        0.58532701, 0.5816814 , 0.32436139, 0.52962338, 0.54121774,\n",
       "        0.49600286, 0.5725657 , 0.37710579, 0.60959366, 0.53464696,\n",
       "        0.50346977, 0.57560817, 0.59355287, 0.32492142, 0.53535254,\n",
       "        0.52612605, 0.48347631, 0.48592834, 0.48032432, 0.62685309]])"
      ]
     },
     "execution_count": 6,
     "metadata": {},
     "output_type": "execute_result"
    }
   ],
   "source": [
    "model.layers[1].forward(Xtrain_n[0:10])"
   ]
  },
  {
   "cell_type": "code",
   "execution_count": 25,
   "metadata": {},
   "outputs": [
    {
     "data": {
      "text/plain": [
       "-1170.3779277987928"
      ]
     },
     "execution_count": 25,
     "metadata": {},
     "output_type": "execute_result"
    }
   ],
   "source": [
    "model.forward(Xtrain_n[0:1])\n",
    "pred = model.layers[2].S[0:1]\n",
    "los = losses.MSE_img()\n",
    "los(pred, ytrain[0:1])\n",
    "#los.gradient(pred, ytrain[0])\n"
   ]
  },
  {
   "cell_type": "code",
   "execution_count": 7,
   "metadata": {},
   "outputs": [
    {
     "name": "stdout",
     "output_type": "stream",
     "text": [
      "Epoch 0, Train loss: 0.0846\n",
      " Accuracy test: 10.43\n",
      "Epoch 2, Train loss: 0.0867\n",
      " Accuracy test: 10.37\n",
      "Epoch 4, Train loss: 0.0883\n",
      " Accuracy test: 10.35\n",
      "Epoch 6, Train loss: 0.0895\n",
      " Accuracy test: 10.19\n",
      "Epoch 8, Train loss: 0.0905\n",
      " Accuracy test: 10.10\n",
      "Epoch 10, Train loss: 0.0913\n",
      " Accuracy test: 9.99\n",
      "Epoch 12, Train loss: 0.0929\n",
      " Accuracy test: 10.11\n"
     ]
    },
    {
     "ename": "KeyboardInterrupt",
     "evalue": "",
     "output_type": "error",
     "traceback": [
      "\u001b[0;31m---------------------------------------------------------------------------\u001b[0m",
      "\u001b[0;31mKeyboardInterrupt\u001b[0m                         Traceback (most recent call last)",
      "\u001b[0;32m<ipython-input-7-9d4499e6b5d1>\u001b[0m in \u001b[0;36m<module>\u001b[0;34m\u001b[0m\n\u001b[0;32m----> 1\u001b[0;31m loss_hist = model.fit(Xtrain_n, ytrain, loss=losses.MSE_img(), opt=optimizers.SGD(alpha=.001), \n\u001b[0m\u001b[1;32m      2\u001b[0m                       metric=metrics.acc_img, testdata=testdata, epochs=20, batch_size=100)\n",
      "\u001b[0;32m~/Desktop/Workspace/Deep_Learning/Practicas/DL-IB-Exs/P2/my_keras/models2.py\u001b[0m in \u001b[0;36mfit\u001b[0;34m(self, X, y, loss, opt, metric, testdata, epochs, batch_size)\u001b[0m\n\u001b[1;32m     85\u001b[0m \u001b[0;34m\u001b[0m\u001b[0m\n\u001b[1;32m     86\u001b[0m         \u001b[0;32mfor\u001b[0m \u001b[0mepoch\u001b[0m \u001b[0;32min\u001b[0m \u001b[0mrange\u001b[0m\u001b[0;34m(\u001b[0m\u001b[0mepochs\u001b[0m\u001b[0;34m)\u001b[0m\u001b[0;34m:\u001b[0m\u001b[0;34m\u001b[0m\u001b[0;34m\u001b[0m\u001b[0m\n\u001b[0;32m---> 87\u001b[0;31m             \u001b[0mloss_hist\u001b[0m\u001b[0;34m.\u001b[0m\u001b[0mappend\u001b[0m\u001b[0;34m(\u001b[0m\u001b[0mself\u001b[0m\u001b[0;34m.\u001b[0m\u001b[0mopt\u001b[0m\u001b[0;34m(\u001b[0m\u001b[0mX\u001b[0m\u001b[0;34m,\u001b[0m \u001b[0my\u001b[0m\u001b[0;34m,\u001b[0m \u001b[0mself\u001b[0m\u001b[0;34m,\u001b[0m \u001b[0mloss\u001b[0m\u001b[0;34m,\u001b[0m \u001b[0mbatch_size\u001b[0m\u001b[0;34m)\u001b[0m\u001b[0;34m)\u001b[0m\u001b[0;34m\u001b[0m\u001b[0;34m\u001b[0m\u001b[0m\n\u001b[0m\u001b[1;32m     88\u001b[0m             \u001b[0;32mif\u001b[0m \u001b[0mepochs\u001b[0m \u001b[0;34m>\u001b[0m \u001b[0;36m10\u001b[0m \u001b[0;32mand\u001b[0m \u001b[0mepoch\u001b[0m \u001b[0;34m%\u001b[0m \u001b[0mint\u001b[0m\u001b[0;34m(\u001b[0m\u001b[0mepochs\u001b[0m\u001b[0;34m/\u001b[0m\u001b[0;36m10\u001b[0m\u001b[0;34m)\u001b[0m \u001b[0;34m==\u001b[0m \u001b[0;36m0\u001b[0m\u001b[0;34m:\u001b[0m\u001b[0;34m\u001b[0m\u001b[0;34m\u001b[0m\u001b[0m\n\u001b[1;32m     89\u001b[0m                 \u001b[0;32mif\u001b[0m \u001b[0mtestdata\u001b[0m \u001b[0;32mis\u001b[0m \u001b[0;32mnot\u001b[0m \u001b[0;32mNone\u001b[0m\u001b[0;34m:\u001b[0m\u001b[0;34m\u001b[0m\u001b[0;34m\u001b[0m\u001b[0m\n",
      "\u001b[0;32m~/Desktop/Workspace/Deep_Learning/Practicas/DL-IB-Exs/P2/my_keras/optimizers.py\u001b[0m in \u001b[0;36m__call__\u001b[0;34m(self, X, y, model, loss, batch_size)\u001b[0m\n\u001b[1;32m     32\u001b[0m             \u001b[0myb\u001b[0m \u001b[0;34m=\u001b[0m \u001b[0my\u001b[0m\u001b[0;34m[\u001b[0m\u001b[0mbatch\u001b[0m\u001b[0;34m*\u001b[0m\u001b[0mbatch_size\u001b[0m\u001b[0;34m:\u001b[0m\u001b[0;34m(\u001b[0m\u001b[0mbatch\u001b[0m\u001b[0;34m+\u001b[0m\u001b[0;36m1\u001b[0m\u001b[0;34m)\u001b[0m\u001b[0;34m*\u001b[0m\u001b[0mbatch_size\u001b[0m\u001b[0;34m]\u001b[0m\u001b[0;34m\u001b[0m\u001b[0;34m\u001b[0m\u001b[0m\n\u001b[1;32m     33\u001b[0m \u001b[0;34m\u001b[0m\u001b[0m\n\u001b[0;32m---> 34\u001b[0;31m             \u001b[0myb_pred\u001b[0m \u001b[0;34m=\u001b[0m \u001b[0mmodel\u001b[0m\u001b[0;34m.\u001b[0m\u001b[0mforward\u001b[0m\u001b[0;34m(\u001b[0m\u001b[0mXb\u001b[0m\u001b[0;34m)\u001b[0m\u001b[0;34m\u001b[0m\u001b[0;34m\u001b[0m\u001b[0m\n\u001b[0m\u001b[1;32m     35\u001b[0m \u001b[0;34m\u001b[0m\u001b[0m\n\u001b[1;32m     36\u001b[0m             \u001b[0mloss_epoch\u001b[0m \u001b[0;34m+=\u001b[0m \u001b[0mmodel\u001b[0m\u001b[0;34m.\u001b[0m\u001b[0mbackward\u001b[0m\u001b[0;34m(\u001b[0m\u001b[0mXb\u001b[0m\u001b[0;34m,\u001b[0m \u001b[0myb\u001b[0m\u001b[0;34m,\u001b[0m \u001b[0mloss\u001b[0m\u001b[0;34m)\u001b[0m\u001b[0;34m\u001b[0m\u001b[0;34m\u001b[0m\u001b[0m\n",
      "\u001b[0;32m~/Desktop/Workspace/Deep_Learning/Practicas/DL-IB-Exs/P2/my_keras/models2.py\u001b[0m in \u001b[0;36mforward\u001b[0;34m(self, Xb, up_to)\u001b[0m\n\u001b[1;32m     34\u001b[0m                     \u001b[0mS\u001b[0m \u001b[0;34m=\u001b[0m \u001b[0mself\u001b[0m\u001b[0;34m.\u001b[0m\u001b[0mlayers\u001b[0m\u001b[0;34m[\u001b[0m\u001b[0mlayer\u001b[0m\u001b[0;34m]\u001b[0m\u001b[0;34m.\u001b[0m\u001b[0mforward\u001b[0m\u001b[0;34m(\u001b[0m\u001b[0mXb\u001b[0m\u001b[0;34m,\u001b[0m \u001b[0mS\u001b[0m\u001b[0;34m)\u001b[0m\u001b[0;34m\u001b[0m\u001b[0;34m\u001b[0m\u001b[0m\n\u001b[1;32m     35\u001b[0m                 \u001b[0;32melse\u001b[0m\u001b[0;34m:\u001b[0m\u001b[0;34m\u001b[0m\u001b[0;34m\u001b[0m\u001b[0m\n\u001b[0;32m---> 36\u001b[0;31m                     \u001b[0mS\u001b[0m \u001b[0;34m=\u001b[0m \u001b[0mself\u001b[0m\u001b[0;34m.\u001b[0m\u001b[0mlayers\u001b[0m\u001b[0;34m[\u001b[0m\u001b[0mlayer\u001b[0m\u001b[0;34m]\u001b[0m\u001b[0;34m.\u001b[0m\u001b[0mforward\u001b[0m\u001b[0;34m(\u001b[0m\u001b[0mS\u001b[0m\u001b[0;34m)\u001b[0m\u001b[0;34m\u001b[0m\u001b[0;34m\u001b[0m\u001b[0m\n\u001b[0m\u001b[1;32m     37\u001b[0m \u001b[0;34m\u001b[0m\u001b[0m\n\u001b[1;32m     38\u001b[0m         \u001b[0;32mreturn\u001b[0m \u001b[0mS\u001b[0m\u001b[0;34m\u001b[0m\u001b[0;34m\u001b[0m\u001b[0m\n",
      "\u001b[0;32m~/Desktop/Workspace/Deep_Learning/Practicas/DL-IB-Exs/P2/my_keras/layers2.py\u001b[0m in \u001b[0;36mforward\u001b[0;34m(self, Sprev)\u001b[0m\n\u001b[1;32m     55\u001b[0m     \u001b[0;32mdef\u001b[0m \u001b[0mforward\u001b[0m\u001b[0;34m(\u001b[0m\u001b[0mself\u001b[0m\u001b[0;34m,\u001b[0m \u001b[0mSprev\u001b[0m\u001b[0;34m)\u001b[0m\u001b[0;34m:\u001b[0m\u001b[0;34m\u001b[0m\u001b[0;34m\u001b[0m\u001b[0m\n\u001b[1;32m     56\u001b[0m         \u001b[0mSprevio\u001b[0m \u001b[0;34m=\u001b[0m \u001b[0mnp\u001b[0m\u001b[0;34m.\u001b[0m\u001b[0mhstack\u001b[0m\u001b[0;34m(\u001b[0m\u001b[0;34m(\u001b[0m\u001b[0mnp\u001b[0m\u001b[0;34m.\u001b[0m\u001b[0mones\u001b[0m\u001b[0;34m(\u001b[0m\u001b[0;34m(\u001b[0m\u001b[0mSprev\u001b[0m\u001b[0;34m.\u001b[0m\u001b[0mshape\u001b[0m\u001b[0;34m[\u001b[0m\u001b[0;36m0\u001b[0m\u001b[0;34m]\u001b[0m\u001b[0;34m,\u001b[0m \u001b[0;36m1\u001b[0m\u001b[0;34m)\u001b[0m\u001b[0;34m)\u001b[0m\u001b[0;34m,\u001b[0m \u001b[0mSprev\u001b[0m\u001b[0;34m)\u001b[0m\u001b[0;34m)\u001b[0m\u001b[0;34m\u001b[0m\u001b[0;34m\u001b[0m\u001b[0m\n\u001b[0;32m---> 57\u001b[0;31m         \u001b[0mself\u001b[0m\u001b[0;34m.\u001b[0m\u001b[0my\u001b[0m \u001b[0;34m=\u001b[0m \u001b[0mnp\u001b[0m\u001b[0;34m.\u001b[0m\u001b[0mdot\u001b[0m\u001b[0;34m(\u001b[0m\u001b[0mSprevio\u001b[0m\u001b[0;34m,\u001b[0m \u001b[0mself\u001b[0m\u001b[0;34m.\u001b[0m\u001b[0mW\u001b[0m\u001b[0;34m)\u001b[0m\u001b[0;34m\u001b[0m\u001b[0;34m\u001b[0m\u001b[0m\n\u001b[0m\u001b[1;32m     58\u001b[0m         \u001b[0mself\u001b[0m\u001b[0;34m.\u001b[0m\u001b[0mS\u001b[0m \u001b[0;34m=\u001b[0m \u001b[0mself\u001b[0m\u001b[0;34m.\u001b[0m\u001b[0mactivation\u001b[0m\u001b[0;34m(\u001b[0m\u001b[0mself\u001b[0m\u001b[0;34m.\u001b[0m\u001b[0my\u001b[0m\u001b[0;34m)\u001b[0m\u001b[0;34m\u001b[0m\u001b[0;34m\u001b[0m\u001b[0m\n\u001b[1;32m     59\u001b[0m         \u001b[0;32mreturn\u001b[0m \u001b[0mself\u001b[0m\u001b[0;34m.\u001b[0m\u001b[0mS\u001b[0m\u001b[0;34m\u001b[0m\u001b[0;34m\u001b[0m\u001b[0m\n",
      "\u001b[0;32m<__array_function__ internals>\u001b[0m in \u001b[0;36mdot\u001b[0;34m(*args, **kwargs)\u001b[0m\n",
      "\u001b[0;31mKeyboardInterrupt\u001b[0m: "
     ]
    }
   ],
   "source": [
    "loss_hist = model.fit(Xtrain_n, ytrain, loss=losses.MSE_img(), opt=optimizers.SGD(alpha=.001), \n",
    "                      metric=metrics.acc_img, testdata=testdata, epochs=20, batch_size=100)"
   ]
  },
  {
   "cell_type": "code",
   "execution_count": null,
   "metadata": {},
   "outputs": [],
   "source": []
  },
  {
   "cell_type": "code",
   "execution_count": null,
   "metadata": {},
   "outputs": [
    {
     "data": {
      "text/plain": [
       "array([[ 2.63518956e-03,  4.43008610e-04,  2.32399639e-03, ...,\n",
       "         8.85124166e-04,  2.60605594e-03,  5.73648587e-04],\n",
       "       [-1.54371139e-04, -3.94958108e-04,  7.98150223e-04, ...,\n",
       "         2.56055863e-04, -8.48537182e-04,  7.75700747e-05],\n",
       "       [ 9.47214680e-04, -6.42951648e-05, -2.84484968e-04, ...,\n",
       "        -1.17979976e-04,  1.35478683e-03,  9.87858088e-04],\n",
       "       ...,\n",
       "       [ 4.42185719e-04,  7.89967056e-04,  1.26746709e-03, ...,\n",
       "         3.12508249e-04,  6.65931970e-04,  1.04949274e-03],\n",
       "       [ 1.17649214e-03,  7.91376767e-04, -5.24682169e-04, ...,\n",
       "        -1.15297209e-03,  3.20626098e-04, -1.05722395e-03],\n",
       "       [-6.81906537e-04, -4.06267391e-04,  6.89493368e-04, ...,\n",
       "         7.32166339e-05, -1.02744134e-03, -3.00618236e-04]])"
      ]
     },
     "execution_count": 12,
     "metadata": {},
     "output_type": "execute_result"
    }
   ],
   "source": [
    "model.layers[1].W"
   ]
  },
  {
   "cell_type": "code",
   "execution_count": 7,
   "metadata": {},
   "outputs": [
    {
     "name": "stdout",
     "output_type": "stream",
     "text": [
      "10.712000000000002 10.780000000000001\n"
     ]
    },
    {
     "data": {
      "image/png": "[encoded data removed]",
      "text/plain": [
       "<Figure size 432x288 with 1 Axes>"
      ]
     },
     "metadata": {
      "needs_background": "light"
     },
     "output_type": "display_data"
    }
   ],
   "source": [
    "plt.plot(loss_hist)\n",
    "print(100*metrics.acc_img(model.predict(Xtrain_n), ytrain), \n",
    "      100*metrics.acc_img(model.predict(Xtest_n), ytest))\n"
   ]
  },
  {
   "cell_type": "code",
   "execution_count": null,
   "metadata": {},
   "outputs": [],
   "source": []
  }
 ],
 "metadata": {
  "kernelspec": {
   "display_name": "Python 3.8.8 ('base')",
   "language": "python",
   "name": "python3"
  },
  "language_info": {
   "codemirror_mode": {
    "name": "ipython",
    "version": 3
   },
   "file_extension": ".py",
   "mimetype": "text/x-python",
   "name": "python",
   "nbconvert_exporter": "python",
   "pygments_lexer": "ipython3",
   "version": "3.8.8"
  },
  "orig_nbformat": 4,
  "vscode": {
   "interpreter": {
    "hash": "3159170d9fcce935f4a2f5b40d38978387b4f643b035d22b78e982df0db07ec7"
   }
  }
 },
 "nbformat": 4,
 "nbformat_minor": 2
}
